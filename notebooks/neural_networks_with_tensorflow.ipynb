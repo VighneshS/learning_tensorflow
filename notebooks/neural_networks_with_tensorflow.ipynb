{
 "cells": [
  {
   "cell_type": "markdown",
   "source": [
    "# Neural Networks with TensorFlow"
   ],
   "metadata": {
    "collapsed": false
   },
   "id": "c15edba4c573674f"
  },
  {
   "cell_type": "markdown",
   "source": [
    "## Regression Problems\n",
    "import numpy as np\n",
    "import numpy as np\n",
    "import pandas as pd\n",
    "import pandas as pd\n",
    "import matplotlib.pyplot as plt\n",
    "import matplotlib.pyplot as plt\n",
    "import tensorflow as tf\n",
    "import tensorflow as tf\n",
    "* How `much/many`:\n",
    "    * will my house sell for?\n",
    "    * people will buy this app?\n",
    "    * will my health insurance be?\n",
    "    * should I save each week for fuel?\n",
    "* Other types of problems where we can turn them into regression problems like:\n",
    "    * How can I predict the co-ordinate of the points where the boxes should be for an object detection problem?\n",
    "\n",
    "Estimating the relationship between a `dependent variables` (often called as the `outcome variable`) and one or more `independent variables` (often called as `predictors`, `covariates`, or `features`)"
   ],
   "metadata": {
    "collapsed": false
   },
   "id": "dad7ffece82c32a1"
  },
  {
   "cell_type": "markdown",
   "source": [
    "### What we're going to cover\n",
    "* Architecture of a neural network regression model.\n",
    "* Input shapes and output shapes of a regression model (features & labels)\n",
    "* Creating custom data to view and fit\n",
    "* Steps in modelling\n",
    "    * Creating a model.\n",
    "    * Compiling a model.\n",
    "    * Fitting a model.\n",
    "    * Evaluating a model.\n",
    "* Different Evaluation methods.\n",
    "* Saving & Loading models."
   ],
   "metadata": {
    "collapsed": false
   },
   "id": "568688916dd0c327"
  },
  {
   "cell_type": "markdown",
   "source": [
    "### Regression inputs and outputs\n",
    "#### Inputs\n",
    "Independent variables (features/co-variates/predictors):\n",
    "* \\# of bedrooms.\n",
    "* \\# of bathrooms.\n",
    "* \\# of garages.\n",
    "\n",
    "[bedroom, bathroom, garage]\n",
    "Shape = [3] (can be many more...)\n",
    "\n",
    "#### Numerical encoding\n",
    "[\n",
    "[0, 0, 0, 1],\n",
    "[0, 1, 0, 0],\n",
    "[0, 1, 0, 0],\n",
    "...\n",
    "]\n",
    "\n",
    "#### ML Algorithm\n",
    "Often already exists, if not, we can build one.\n",
    "\n",
    "#### Outputs\n",
    "Predicted output (Offer price for the house).\n",
    "\n",
    "Predicted outputs come from learning patterns and relationships between many examples of dependent an independent variables.\n",
    "\n",
    "[9999999]\n",
    "Shape = [1]\n",
    "\n",
    "Usually the shape of the output(outcome) for a regression problem is 1."
   ],
   "metadata": {
    "collapsed": false
   },
   "id": "33004fef10672ab3"
  },
  {
   "cell_type": "markdown",
   "source": [
    "### Anatomy of a Neural Network for a Regression problem\n",
    "* Input layer\n",
    "* Hidden layer(s)\n",
    "* Neurons / hidden layer\n",
    "* Output layer\n",
    "* Hidden activation\n",
    "* Output activation\n",
    "* Loss Function\n",
    "* Optimizer"
   ],
   "metadata": {
    "collapsed": false
   },
   "id": "947d9599612f155a"
  },
  {
   "cell_type": "markdown",
   "source": [
    "### Let's write code"
   ],
   "metadata": {
    "collapsed": false
   },
   "id": "692db1932d79abd"
  },
  {
   "cell_type": "code",
   "execution_count": 1,
   "outputs": [
    {
     "name": "stdout",
     "output_type": "stream",
     "text": [
      "2.13.0\n"
     ]
    }
   ],
   "source": [
    "import tensorflow as tf\n",
    "\n",
    "print(tf.__version__)"
   ],
   "metadata": {
    "collapsed": false,
    "ExecuteTime": {
     "end_time": "2023-09-09T22:12:22.571118Z",
     "start_time": "2023-09-09T22:12:18.306740Z"
    }
   },
   "id": "6a69f2a23356bf3b"
  },
  {
   "cell_type": "markdown",
   "source": [
    "#### Let's Create data to view and fit"
   ],
   "metadata": {
    "collapsed": false
   },
   "id": "b841084dd58a6f84"
  },
  {
   "cell_type": "code",
   "execution_count": 2,
   "outputs": [
    {
     "data": {
      "text/plain": "<matplotlib.collections.PathCollection at 0x169c39a20>"
     },
     "execution_count": 2,
     "metadata": {},
     "output_type": "execute_result"
    },
    {
     "data": {
      "text/plain": "<Figure size 640x480 with 1 Axes>",
      "image/png": "[encoded data removed]"
     },
     "metadata": {},
     "output_type": "display_data"
    }
   ],
   "source": [
    "import matplotlib.pyplot as plt\n",
    "import numpy as np\n",
    "\n",
    "# Create features\n",
    "X = np.array([-7., -4., -1., 2., 5., 8., 11., 14.])\n",
    "\n",
    "# Create labels\n",
    "y = np.array([3., 6., 9., 12., 15., 18., 21., 24.])\n",
    "\n",
    "# Visualize it\n",
    "plt.scatter(X, y)"
   ],
   "metadata": {
    "collapsed": false,
    "ExecuteTime": {
     "end_time": "2023-09-09T22:12:22.886112Z",
     "start_time": "2023-09-09T22:12:22.567183Z"
    }
   },
   "id": "75843361fa021061"
  },
  {
   "cell_type": "code",
   "execution_count": 3,
   "outputs": [
    {
     "data": {
      "text/plain": "array([ True,  True,  True,  True,  True,  True,  True,  True])"
     },
     "execution_count": 3,
     "metadata": {},
     "output_type": "execute_result"
    }
   ],
   "source": [
    "y == X + 10"
   ],
   "metadata": {
    "collapsed": false,
    "ExecuteTime": {
     "end_time": "2023-09-09T22:12:22.891121Z",
     "start_time": "2023-09-09T22:12:22.886800Z"
    }
   },
   "id": "ea9e5b193a031b32"
  },
  {
   "cell_type": "markdown",
   "source": [
    "#### Input & Output shapes"
   ],
   "metadata": {
    "collapsed": false
   },
   "id": "1629b8b11dd985e4"
  },
  {
   "cell_type": "code",
   "execution_count": 4,
   "outputs": [
    {
     "name": "stderr",
     "output_type": "stream",
     "text": [
      "2023-09-09 17:12:22.894376: I metal_plugin/src/device/metal_device.cc:1154] Metal device set to: Apple M1\n",
      "2023-09-09 17:12:22.894407: I metal_plugin/src/device/metal_device.cc:296] systemMemory: 8.00 GB\n",
      "2023-09-09 17:12:22.894413: I metal_plugin/src/device/metal_device.cc:313] maxCacheSize: 2.67 GB\n",
      "2023-09-09 17:12:22.895054: I tensorflow/core/common_runtime/pluggable_device/pluggable_device_factory.cc:303] Could not identify NUMA node of platform GPU ID 0, defaulting to 0. Your kernel may not have been built with NUMA support.\n",
      "2023-09-09 17:12:22.895695: I tensorflow/core/common_runtime/pluggable_device/pluggable_device_factory.cc:269] Created TensorFlow device (/job:localhost/replica:0/task:0/device:GPU:0 with 0 MB memory) -> physical PluggableDevice (device: 0, name: METAL, pci bus id: <undefined>)\n"
     ]
    },
    {
     "data": {
      "text/plain": "(<tf.Tensor: shape=(3,), dtype=string, numpy=array([b'bedroom', b'bathroom', b'garage'], dtype=object)>,\n <tf.Tensor: shape=(1,), dtype=int32, numpy=array([999999], dtype=int32)>)"
     },
     "execution_count": 4,
     "metadata": {},
     "output_type": "execute_result"
    }
   ],
   "source": [
    "# Create a demo tensor for our housing price prediction problem\n",
    "house_info = tf.constant([\"bedroom\", \"bathroom\", \"garage\"])\n",
    "house_price = tf.constant([999999])\n",
    "house_info, house_price"
   ],
   "metadata": {
    "collapsed": false,
    "ExecuteTime": {
     "end_time": "2023-09-09T22:12:22.942949Z",
     "start_time": "2023-09-09T22:12:22.890071Z"
    }
   },
   "id": "5480d76671233821"
  },
  {
   "cell_type": "code",
   "execution_count": 5,
   "outputs": [
    {
     "data": {
      "text/plain": "(-7.0, 3.0)"
     },
     "execution_count": 5,
     "metadata": {},
     "output_type": "execute_result"
    }
   ],
   "source": [
    "X[0], y[0]"
   ],
   "metadata": {
    "collapsed": false,
    "ExecuteTime": {
     "end_time": "2023-09-09T22:12:22.943141Z",
     "start_time": "2023-09-09T22:12:22.939249Z"
    }
   },
   "id": "6267bc2ddecac5c9"
  },
  {
   "cell_type": "code",
   "execution_count": 6,
   "outputs": [
    {
     "data": {
      "text/plain": "(-4.0, 6.0)"
     },
     "execution_count": 6,
     "metadata": {},
     "output_type": "execute_result"
    }
   ],
   "source": [
    "X[1], y[1]"
   ],
   "metadata": {
    "collapsed": false,
    "ExecuteTime": {
     "end_time": "2023-09-09T22:12:22.948024Z",
     "start_time": "2023-09-09T22:12:22.941955Z"
    }
   },
   "id": "5e7e7ad82e3692a"
  },
  {
   "cell_type": "code",
   "execution_count": 7,
   "outputs": [
    {
     "data": {
      "text/plain": "((), ())"
     },
     "execution_count": 7,
     "metadata": {},
     "output_type": "execute_result"
    }
   ],
   "source": [
    "input_shape = X[0].shape\n",
    "output_shape = y[0].shape\n",
    "input_shape, output_shape"
   ],
   "metadata": {
    "collapsed": false,
    "ExecuteTime": {
     "end_time": "2023-09-09T22:12:22.952431Z",
     "start_time": "2023-09-09T22:12:22.945308Z"
    }
   },
   "id": "fa96b436c7da16b"
  },
  {
   "cell_type": "code",
   "execution_count": 8,
   "outputs": [
    {
     "data": {
      "text/plain": "0"
     },
     "execution_count": 8,
     "metadata": {},
     "output_type": "execute_result"
    }
   ],
   "source": [
    "X[0].ndim"
   ],
   "metadata": {
    "collapsed": false,
    "ExecuteTime": {
     "end_time": "2023-09-09T22:12:22.953388Z",
     "start_time": "2023-09-09T22:12:22.948448Z"
    }
   },
   "id": "c062702990f076f5"
  },
  {
   "cell_type": "code",
   "execution_count": 9,
   "outputs": [
    {
     "data": {
      "text/plain": "(-7.0, 3.0)"
     },
     "execution_count": 9,
     "metadata": {},
     "output_type": "execute_result"
    }
   ],
   "source": [
    "X[0], y[0]"
   ],
   "metadata": {
    "collapsed": false,
    "ExecuteTime": {
     "end_time": "2023-09-09T22:12:22.956866Z",
     "start_time": "2023-09-09T22:12:22.951680Z"
    }
   },
   "id": "6998146e04f1759d"
  },
  {
   "cell_type": "markdown",
   "source": [
    "***Note:*** We are going to use one X value to predict one y value"
   ],
   "metadata": {
    "collapsed": false
   },
   "id": "80a9919c83c77944"
  },
  {
   "cell_type": "markdown",
   "source": [
    "Since the inputs and outputs are scalars we need to expand them while training like:\n",
    "```\n",
    "tf.expand_dims(X, axis=-1)\n",
    "```"
   ],
   "metadata": {
    "collapsed": false
   },
   "id": "7a4d73ec9403114"
  },
  {
   "cell_type": "code",
   "execution_count": 10,
   "outputs": [
    {
     "data": {
      "text/plain": "(<tf.Tensor: shape=(8,), dtype=float32, numpy=array([-7., -4., -1.,  2.,  5.,  8., 11., 14.], dtype=float32)>,\n <tf.Tensor: shape=(8,), dtype=float32, numpy=array([ 3.,  6.,  9., 12., 15., 18., 21., 24.], dtype=float32)>)"
     },
     "execution_count": 10,
     "metadata": {},
     "output_type": "execute_result"
    }
   ],
   "source": [
    "# Turn our numpy arrays to tensors\n",
    "# X = tf.constant(X)\n",
    "# y = tf.constant(y)\n",
    "X = tf.cast(tf.constant(X), dtype=tf.float32)\n",
    "y = tf.cast(tf.constant(y), dtype=tf.float32)\n",
    "X, y"
   ],
   "metadata": {
    "collapsed": false,
    "ExecuteTime": {
     "end_time": "2023-09-09T22:12:23.024754Z",
     "start_time": "2023-09-09T22:12:22.964180Z"
    }
   },
   "id": "d96edc147d5a3da8"
  },
  {
   "cell_type": "code",
   "execution_count": 11,
   "outputs": [
    {
     "data": {
      "text/plain": "<tf.Tensor: shape=(8, 1), dtype=float32, numpy=\narray([[-7.],\n       [-4.],\n       [-1.],\n       [ 2.],\n       [ 5.],\n       [ 8.],\n       [11.],\n       [14.]], dtype=float32)>"
     },
     "execution_count": 11,
     "metadata": {},
     "output_type": "execute_result"
    }
   ],
   "source": [
    "X_expanded = tf.expand_dims(X, axis=-1)\n",
    "X_expanded"
   ],
   "metadata": {
    "collapsed": false,
    "ExecuteTime": {
     "end_time": "2023-09-09T22:12:23.025405Z",
     "start_time": "2023-09-09T22:12:22.975918Z"
    }
   },
   "id": "e6857b37fd7196bc"
  },
  {
   "cell_type": "code",
   "execution_count": 12,
   "outputs": [
    {
     "data": {
      "text/plain": "(TensorShape([]), TensorShape([]))"
     },
     "execution_count": 12,
     "metadata": {},
     "output_type": "execute_result"
    }
   ],
   "source": [
    "input_shape = X[0].shape\n",
    "output_shape = y[0].shape\n",
    "input_shape, output_shape"
   ],
   "metadata": {
    "collapsed": false,
    "ExecuteTime": {
     "end_time": "2023-09-09T22:12:23.089936Z",
     "start_time": "2023-09-09T22:12:22.982570Z"
    }
   },
   "id": "5c579ea5f33b41a3"
  },
  {
   "cell_type": "code",
   "execution_count": 13,
   "outputs": [
    {
     "data": {
      "text/plain": "<matplotlib.collections.PathCollection at 0x169e8a470>"
     },
     "execution_count": 13,
     "metadata": {},
     "output_type": "execute_result"
    },
    {
     "data": {
      "text/plain": "<Figure size 640x480 with 1 Axes>",
      "image/png": "[encoded data removed]"
     },
     "metadata": {},
     "output_type": "display_data"
    }
   ],
   "source": [
    "plt.scatter(X, y)"
   ],
   "metadata": {
    "collapsed": false,
    "ExecuteTime": {
     "end_time": "2023-09-09T22:12:23.150748Z",
     "start_time": "2023-09-09T22:12:23.092004Z"
    }
   },
   "id": "83a0feb3000bfd7f"
  },
  {
   "cell_type": "markdown",
   "source": [
    "#### Steps in modelling with TensorFlow\n",
    "1. ***Creating a model*** - define the i/p's and o/p's layers, as well as the hidden layers of the deep learning model.\n",
    "2. ***Compiling the model*** - define the loss function (in other words, the function which tell our model how wrong is its prediction from the actual) and the optimizer (tells our model how to improve the patterns its learning) and evaluation metrics (what we can use to interpret the performance of our model).\n",
    "3. Fitting the model - letting the model try to find patterns between X & y (features and labels)."
   ],
   "metadata": {
    "collapsed": false
   },
   "id": "55bcd8d8a8fe2575"
  },
  {
   "cell_type": "code",
   "execution_count": 14,
   "outputs": [
    {
     "name": "stdout",
     "output_type": "stream",
     "text": [
      "Epoch 1/5\n",
      "1/1 [==============================] - 0s 248ms/step - loss: 8.2531 - mae: 8.2531\n",
      "Epoch 2/5\n",
      "1/1 [==============================] - 0s 9ms/step - loss: 8.1206 - mae: 8.1206\n",
      "Epoch 3/5\n",
      "1/1 [==============================] - 0s 8ms/step - loss: 7.9881 - mae: 7.9881\n",
      "Epoch 4/5\n",
      "1/1 [==============================] - 0s 7ms/step - loss: 7.8556 - mae: 7.8556\n",
      "Epoch 5/5\n",
      "1/1 [==============================] - 0s 8ms/step - loss: 7.7231 - mae: 7.7231\n"
     ]
    },
    {
     "name": "stderr",
     "output_type": "stream",
     "text": [
      "2023-09-09 17:12:23.419710: I tensorflow/core/grappler/optimizers/custom_graph_optimizer_registry.cc:114] Plugin optimizer for device_type GPU is enabled.\n"
     ]
    },
    {
     "data": {
      "text/plain": "<keras.src.callbacks.History at 0x16b578f10>"
     },
     "execution_count": 14,
     "metadata": {},
     "output_type": "execute_result"
    }
   ],
   "source": [
    "# Set random seed\n",
    "tf.random.set_seed(42)\n",
    "\n",
    "# Create the model using the Sequential API\n",
    "model = tf.keras.Sequential([\n",
    "    tf.keras.layers.Dense(1)\n",
    "])\n",
    "\n",
    "# Compile the model\n",
    "model.compile(loss=tf.keras.losses.mae,  # Mean Absolute Error\n",
    "              optimizer=\"SGD\",  # Stochastic Gradient Decent\n",
    "              metrics=[\"mae\"])\n",
    "\n",
    "# Fit the model\n",
    "model.fit(X_expanded, y, epochs=5)"
   ],
   "metadata": {
    "collapsed": false,
    "ExecuteTime": {
     "end_time": "2023-09-09T22:12:23.586455Z",
     "start_time": "2023-09-09T22:12:23.154263Z"
    }
   },
   "id": "acc351145fc8a697"
  },
  {
   "cell_type": "code",
   "execution_count": 15,
   "outputs": [
    {
     "data": {
      "text/plain": "(<tf.Tensor: shape=(8,), dtype=float32, numpy=array([-7., -4., -1.,  2.,  5.,  8., 11., 14.], dtype=float32)>,\n <tf.Tensor: shape=(8,), dtype=float32, numpy=array([ 3.,  6.,  9., 12., 15., 18., 21., 24.], dtype=float32)>)"
     },
     "execution_count": 15,
     "metadata": {},
     "output_type": "execute_result"
    }
   ],
   "source": [
    "X, y"
   ],
   "metadata": {
    "collapsed": false,
    "ExecuteTime": {
     "end_time": "2023-09-09T22:12:23.593130Z",
     "start_time": "2023-09-09T22:12:23.581024Z"
    }
   },
   "id": "3e8726d1c329fb9e"
  },
  {
   "cell_type": "code",
   "execution_count": 16,
   "outputs": [
    {
     "name": "stdout",
     "output_type": "stream",
     "text": [
      "1/1 [==============================] - 0s 45ms/step\n"
     ]
    },
    {
     "name": "stderr",
     "output_type": "stream",
     "text": [
      "2023-09-09 17:12:23.637651: I tensorflow/core/grappler/optimizers/custom_graph_optimizer_registry.cc:114] Plugin optimizer for device_type GPU is enabled.\n"
     ]
    },
    {
     "data": {
      "text/plain": "array([[28.509912]], dtype=float32)"
     },
     "execution_count": 16,
     "metadata": {},
     "output_type": "execute_result"
    }
   ],
   "source": [
    "# Make a prediction using the model\n",
    "y_pred = model.predict([17.0])\n",
    "y_pred"
   ],
   "metadata": {
    "collapsed": false,
    "ExecuteTime": {
     "end_time": "2023-09-09T22:12:23.655457Z",
     "start_time": "2023-09-09T22:12:23.586569Z"
    }
   },
   "id": "ed4acb137202f81c"
  },
  {
   "cell_type": "code",
   "execution_count": 17,
   "outputs": [
    {
     "data": {
      "text/plain": "array([[44.620613]], dtype=float32)"
     },
     "execution_count": 17,
     "metadata": {},
     "output_type": "execute_result"
    }
   ],
   "source": [
    "# Adding the loss. still it is off\n",
    "y_pred + 16.1107"
   ],
   "metadata": {
    "collapsed": false,
    "ExecuteTime": {
     "end_time": "2023-09-09T22:12:23.658879Z",
     "start_time": "2023-09-09T22:12:23.654303Z"
    }
   },
   "id": "d8b5880d504d9223"
  },
  {
   "cell_type": "markdown",
   "source": [
    "#### Steps to improve model performance\n",
    "\n",
    "We can improve our model by altering the steps we took to create a model.\n",
    "\n",
    "1. Creating a model - we might add more layers increase the number of hidden units/neurons within each of the hidden layers, change the activation function of each layer.\n",
    "2. Compiling the model - we can change the optimizers/loss functions or even change the ***learning rate*** of the optimizer.\n",
    "3. Fitting the model - here we might fit a model for more epochs (leaving it training for longer trials) or on more data (give the model more examples to learn from)"
   ],
   "metadata": {
    "collapsed": false
   },
   "id": "c551fb5a793b396"
  },
  {
   "cell_type": "code",
   "execution_count": 18,
   "outputs": [
    {
     "name": "stdout",
     "output_type": "stream",
     "text": [
      "Epoch 1/100\n"
     ]
    },
    {
     "name": "stderr",
     "output_type": "stream",
     "text": [
      "2023-09-09 17:12:23.790613: I tensorflow/core/grappler/optimizers/custom_graph_optimizer_registry.cc:114] Plugin optimizer for device_type GPU is enabled.\n"
     ]
    },
    {
     "name": "stdout",
     "output_type": "stream",
     "text": [
      "1/1 [==============================] - 0s 138ms/step - loss: 17.9425 - mae: 17.9425\n",
      "Epoch 2/100\n",
      "1/1 [==============================] - 0s 8ms/step - loss: 17.6612 - mae: 17.6612\n",
      "Epoch 3/100\n",
      "1/1 [==============================] - 0s 9ms/step - loss: 17.3800 - mae: 17.3800\n",
      "Epoch 4/100\n",
      "1/1 [==============================] - 0s 7ms/step - loss: 17.0987 - mae: 17.0987\n",
      "Epoch 5/100\n",
      "1/1 [==============================] - 0s 6ms/step - loss: 16.8175 - mae: 16.8175\n",
      "Epoch 6/100\n",
      "1/1 [==============================] - 0s 8ms/step - loss: 16.5362 - mae: 16.5362\n",
      "Epoch 7/100\n",
      "1/1 [==============================] - 0s 8ms/step - loss: 16.2550 - mae: 16.2550\n",
      "Epoch 8/100\n",
      "1/1 [==============================] - 0s 7ms/step - loss: 15.9737 - mae: 15.9737\n",
      "Epoch 9/100\n",
      "1/1 [==============================] - 0s 11ms/step - loss: 15.6925 - mae: 15.6925\n",
      "Epoch 10/100\n",
      "1/1 [==============================] - 0s 8ms/step - loss: 15.4112 - mae: 15.4112\n",
      "Epoch 11/100\n",
      "1/1 [==============================] - 0s 8ms/step - loss: 15.1300 - mae: 15.1300\n",
      "Epoch 12/100\n",
      "1/1 [==============================] - 0s 10ms/step - loss: 14.8579 - mae: 14.8579\n",
      "Epoch 13/100\n",
      "1/1 [==============================] - 0s 9ms/step - loss: 14.7254 - mae: 14.7254\n",
      "Epoch 14/100\n",
      "1/1 [==============================] - 0s 9ms/step - loss: 14.5929 - mae: 14.5929\n",
      "Epoch 15/100\n",
      "1/1 [==============================] - 0s 7ms/step - loss: 14.4604 - mae: 14.4604\n",
      "Epoch 16/100\n",
      "1/1 [==============================] - 0s 8ms/step - loss: 14.3279 - mae: 14.3279\n",
      "Epoch 17/100\n",
      "1/1 [==============================] - 0s 7ms/step - loss: 14.1954 - mae: 14.1954\n",
      "Epoch 18/100\n",
      "1/1 [==============================] - 0s 7ms/step - loss: 14.0629 - mae: 14.0629\n",
      "Epoch 19/100\n",
      "1/1 [==============================] - 0s 7ms/step - loss: 13.9304 - mae: 13.9304\n",
      "Epoch 20/100\n",
      "1/1 [==============================] - 0s 8ms/step - loss: 13.7979 - mae: 13.7979\n",
      "Epoch 21/100\n",
      "1/1 [==============================] - 0s 7ms/step - loss: 13.6654 - mae: 13.6654\n",
      "Epoch 22/100\n",
      "1/1 [==============================] - 0s 7ms/step - loss: 13.5329 - mae: 13.5329\n",
      "Epoch 23/100\n",
      "1/1 [==============================] - 0s 7ms/step - loss: 13.4004 - mae: 13.4004\n",
      "Epoch 24/100\n",
      "1/1 [==============================] - 0s 8ms/step - loss: 13.2679 - mae: 13.2679\n",
      "Epoch 25/100\n",
      "1/1 [==============================] - 0s 8ms/step - loss: 13.1354 - mae: 13.1354\n",
      "Epoch 26/100\n",
      "1/1 [==============================] - 0s 8ms/step - loss: 13.0029 - mae: 13.0029\n",
      "Epoch 27/100\n",
      "1/1 [==============================] - 0s 8ms/step - loss: 12.8704 - mae: 12.8704\n",
      "Epoch 28/100\n",
      "1/1 [==============================] - 0s 8ms/step - loss: 12.7379 - mae: 12.7379\n",
      "Epoch 29/100\n",
      "1/1 [==============================] - 0s 8ms/step - loss: 12.6054 - mae: 12.6054\n",
      "Epoch 30/100\n",
      "1/1 [==============================] - 0s 7ms/step - loss: 12.4729 - mae: 12.4729\n",
      "Epoch 31/100\n",
      "1/1 [==============================] - 0s 8ms/step - loss: 12.3404 - mae: 12.3404\n",
      "Epoch 32/100\n",
      "1/1 [==============================] - 0s 7ms/step - loss: 12.2079 - mae: 12.2079\n",
      "Epoch 33/100\n",
      "1/1 [==============================] - 0s 8ms/step - loss: 12.0754 - mae: 12.0754\n",
      "Epoch 34/100\n",
      "1/1 [==============================] - 0s 8ms/step - loss: 11.9429 - mae: 11.9429\n",
      "Epoch 35/100\n",
      "1/1 [==============================] - 0s 7ms/step - loss: 11.8104 - mae: 11.8104\n",
      "Epoch 36/100\n",
      "1/1 [==============================] - 0s 7ms/step - loss: 11.6779 - mae: 11.6779\n",
      "Epoch 37/100\n",
      "1/1 [==============================] - 0s 8ms/step - loss: 11.5454 - mae: 11.5454\n",
      "Epoch 38/100\n",
      "1/1 [==============================] - 0s 7ms/step - loss: 11.4129 - mae: 11.4129\n",
      "Epoch 39/100\n",
      "1/1 [==============================] - 0s 7ms/step - loss: 11.2804 - mae: 11.2804\n",
      "Epoch 40/100\n",
      "1/1 [==============================] - 0s 8ms/step - loss: 11.1479 - mae: 11.1479\n",
      "Epoch 41/100\n",
      "1/1 [==============================] - 0s 13ms/step - loss: 11.0154 - mae: 11.0154\n",
      "Epoch 42/100\n",
      "1/1 [==============================] - 0s 8ms/step - loss: 10.8829 - mae: 10.8829\n",
      "Epoch 43/100\n",
      "1/1 [==============================] - 0s 12ms/step - loss: 10.7504 - mae: 10.7504\n",
      "Epoch 44/100\n",
      "1/1 [==============================] - 0s 10ms/step - loss: 10.6179 - mae: 10.6179\n",
      "Epoch 45/100\n",
      "1/1 [==============================] - 0s 8ms/step - loss: 10.4854 - mae: 10.4854\n",
      "Epoch 46/100\n",
      "1/1 [==============================] - 0s 8ms/step - loss: 10.3529 - mae: 10.3529\n",
      "Epoch 47/100\n",
      "1/1 [==============================] - 0s 7ms/step - loss: 10.2204 - mae: 10.2204\n",
      "Epoch 48/100\n",
      "1/1 [==============================] - 0s 8ms/step - loss: 10.0879 - mae: 10.0879\n",
      "Epoch 49/100\n",
      "1/1 [==============================] - 0s 8ms/step - loss: 9.9554 - mae: 9.9554\n",
      "Epoch 50/100\n",
      "1/1 [==============================] - 0s 7ms/step - loss: 9.8229 - mae: 9.8229\n",
      "Epoch 51/100\n",
      "1/1 [==============================] - 0s 7ms/step - loss: 9.6904 - mae: 9.6904\n",
      "Epoch 52/100\n",
      "1/1 [==============================] - 0s 8ms/step - loss: 9.5579 - mae: 9.5579\n",
      "Epoch 53/100\n",
      "1/1 [==============================] - 0s 7ms/step - loss: 9.4254 - mae: 9.4254\n",
      "Epoch 54/100\n",
      "1/1 [==============================] - 0s 7ms/step - loss: 9.2929 - mae: 9.2929\n",
      "Epoch 55/100\n",
      "1/1 [==============================] - 0s 8ms/step - loss: 9.1604 - mae: 9.1604\n",
      "Epoch 56/100\n",
      "1/1 [==============================] - 0s 7ms/step - loss: 9.0279 - mae: 9.0279\n",
      "Epoch 57/100\n",
      "1/1 [==============================] - 0s 8ms/step - loss: 8.8954 - mae: 8.8954\n",
      "Epoch 58/100\n",
      "1/1 [==============================] - 0s 9ms/step - loss: 8.7629 - mae: 8.7629\n",
      "Epoch 59/100\n",
      "1/1 [==============================] - 0s 8ms/step - loss: 8.6304 - mae: 8.6304\n",
      "Epoch 60/100\n",
      "1/1 [==============================] - 0s 11ms/step - loss: 8.4979 - mae: 8.4979\n",
      "Epoch 61/100\n",
      "1/1 [==============================] - 0s 9ms/step - loss: 8.3654 - mae: 8.3654\n",
      "Epoch 62/100\n",
      "1/1 [==============================] - 0s 8ms/step - loss: 8.2329 - mae: 8.2329\n",
      "Epoch 63/100\n",
      "1/1 [==============================] - 0s 9ms/step - loss: 8.1004 - mae: 8.1004\n",
      "Epoch 64/100\n",
      "1/1 [==============================] - 0s 9ms/step - loss: 7.9679 - mae: 7.9679\n",
      "Epoch 65/100\n",
      "1/1 [==============================] - 0s 9ms/step - loss: 7.8354 - mae: 7.8354\n",
      "Epoch 66/100\n",
      "1/1 [==============================] - 0s 8ms/step - loss: 7.7029 - mae: 7.7029\n",
      "Epoch 67/100\n",
      "1/1 [==============================] - 0s 7ms/step - loss: 7.5704 - mae: 7.5704\n",
      "Epoch 68/100\n",
      "1/1 [==============================] - 0s 12ms/step - loss: 7.4379 - mae: 7.4379\n",
      "Epoch 69/100\n",
      "1/1 [==============================] - 0s 8ms/step - loss: 7.3054 - mae: 7.3054\n",
      "Epoch 70/100\n",
      "1/1 [==============================] - 0s 9ms/step - loss: 7.1729 - mae: 7.1729\n",
      "Epoch 71/100\n",
      "1/1 [==============================] - 0s 8ms/step - loss: 7.0404 - mae: 7.0404\n",
      "Epoch 72/100\n",
      "1/1 [==============================] - 0s 8ms/step - loss: 6.9881 - mae: 6.9881\n",
      "Epoch 73/100\n",
      "1/1 [==============================] - 0s 7ms/step - loss: 6.9825 - mae: 6.9825\n",
      "Epoch 74/100\n",
      "1/1 [==============================] - 0s 8ms/step - loss: 6.9769 - mae: 6.9769\n",
      "Epoch 75/100\n",
      "1/1 [==============================] - 0s 8ms/step - loss: 6.9713 - mae: 6.9713\n",
      "Epoch 76/100\n",
      "1/1 [==============================] - 0s 6ms/step - loss: 6.9656 - mae: 6.9656\n",
      "Epoch 77/100\n",
      "1/1 [==============================] - 0s 8ms/step - loss: 6.9600 - mae: 6.9600\n",
      "Epoch 78/100\n",
      "1/1 [==============================] - 0s 8ms/step - loss: 6.9544 - mae: 6.9544\n",
      "Epoch 79/100\n",
      "1/1 [==============================] - 0s 6ms/step - loss: 6.9488 - mae: 6.9488\n",
      "Epoch 80/100\n",
      "1/1 [==============================] - 0s 8ms/step - loss: 6.9431 - mae: 6.9431\n",
      "Epoch 81/100\n",
      "1/1 [==============================] - 0s 7ms/step - loss: 6.9375 - mae: 6.9375\n",
      "Epoch 82/100\n",
      "1/1 [==============================] - 0s 7ms/step - loss: 6.9319 - mae: 6.9319\n",
      "Epoch 83/100\n",
      "1/1 [==============================] - 0s 9ms/step - loss: 6.9263 - mae: 6.9263\n",
      "Epoch 84/100\n",
      "1/1 [==============================] - 0s 9ms/step - loss: 6.9206 - mae: 6.9206\n",
      "Epoch 85/100\n",
      "1/1 [==============================] - 0s 8ms/step - loss: 6.9150 - mae: 6.9150\n",
      "Epoch 86/100\n",
      "1/1 [==============================] - 0s 8ms/step - loss: 6.9094 - mae: 6.9094\n",
      "Epoch 87/100\n",
      "1/1 [==============================] - 0s 8ms/step - loss: 6.9038 - mae: 6.9038\n",
      "Epoch 88/100\n",
      "1/1 [==============================] - 0s 7ms/step - loss: 6.8981 - mae: 6.8981\n",
      "Epoch 89/100\n",
      "1/1 [==============================] - 0s 7ms/step - loss: 6.8925 - mae: 6.8925\n",
      "Epoch 90/100\n",
      "1/1 [==============================] - 0s 8ms/step - loss: 6.8869 - mae: 6.8869\n",
      "Epoch 91/100\n",
      "1/1 [==============================] - 0s 7ms/step - loss: 6.8813 - mae: 6.8813\n",
      "Epoch 92/100\n",
      "1/1 [==============================] - 0s 6ms/step - loss: 6.8756 - mae: 6.8756\n",
      "Epoch 93/100\n",
      "1/1 [==============================] - 0s 8ms/step - loss: 6.8700 - mae: 6.8700\n",
      "Epoch 94/100\n",
      "1/1 [==============================] - 0s 8ms/step - loss: 6.8644 - mae: 6.8644\n",
      "Epoch 95/100\n",
      "1/1 [==============================] - 0s 7ms/step - loss: 6.8588 - mae: 6.8588\n",
      "Epoch 96/100\n",
      "1/1 [==============================] - 0s 8ms/step - loss: 6.8531 - mae: 6.8531\n",
      "Epoch 97/100\n",
      "1/1 [==============================] - 0s 7ms/step - loss: 6.8475 - mae: 6.8475\n",
      "Epoch 98/100\n",
      "1/1 [==============================] - 0s 6ms/step - loss: 6.8419 - mae: 6.8419\n",
      "Epoch 99/100\n",
      "1/1 [==============================] - 0s 7ms/step - loss: 6.8363 - mae: 6.8363\n",
      "Epoch 100/100\n",
      "1/1 [==============================] - 0s 8ms/step - loss: 6.8306 - mae: 6.8306\n"
     ]
    },
    {
     "data": {
      "text/plain": "<keras.src.callbacks.History at 0x16cf10670>"
     },
     "execution_count": 18,
     "metadata": {},
     "output_type": "execute_result"
    }
   ],
   "source": [
    "tf.random.set_seed(42)\n",
    "# Let's rebuild our model\n",
    "# Create a model\n",
    "model = tf.keras.Sequential([\n",
    "    tf.keras.layers.Dense(1)\n",
    "])\n",
    "\n",
    "# Compile the model\n",
    "model.compile(loss=tf.keras.losses.mae,\n",
    "              optimizer=\"SGD\",\n",
    "              metrics=[\"mae\"])\n",
    "\n",
    "# Fit the model\n",
    "model.fit(X_expanded, y, epochs=100)"
   ],
   "metadata": {
    "collapsed": false,
    "ExecuteTime": {
     "end_time": "2023-09-09T22:12:24.859341Z",
     "start_time": "2023-09-09T22:12:23.671680Z"
    }
   },
   "id": "e022577ab0c34593"
  },
  {
   "cell_type": "code",
   "execution_count": 19,
   "outputs": [
    {
     "data": {
      "text/plain": "(<tf.Tensor: shape=(8,), dtype=float32, numpy=array([-7., -4., -1.,  2.,  5.,  8., 11., 14.], dtype=float32)>,\n <tf.Tensor: shape=(8,), dtype=float32, numpy=array([ 3.,  6.,  9., 12., 15., 18., 21., 24.], dtype=float32)>)"
     },
     "execution_count": 19,
     "metadata": {},
     "output_type": "execute_result"
    }
   ],
   "source": [
    "X, y"
   ],
   "metadata": {
    "collapsed": false,
    "ExecuteTime": {
     "end_time": "2023-09-09T22:12:24.860217Z",
     "start_time": "2023-09-09T22:12:24.835749Z"
    }
   },
   "id": "98c54175e6fd277"
  },
  {
   "cell_type": "code",
   "execution_count": 20,
   "outputs": [
    {
     "name": "stdout",
     "output_type": "stream",
     "text": [
      "1/1 [==============================] - 0s 31ms/step\n"
     ]
    },
    {
     "name": "stderr",
     "output_type": "stream",
     "text": [
      "2023-09-09 17:12:24.878570: I tensorflow/core/grappler/optimizers/custom_graph_optimizer_registry.cc:114] Plugin optimizer for device_type GPU is enabled.\n"
     ]
    },
    {
     "data": {
      "text/plain": "array([[29.603796]], dtype=float32)"
     },
     "execution_count": 20,
     "metadata": {},
     "output_type": "execute_result"
    }
   ],
   "source": [
    "model.predict([17.])  # much closer reduced error by 3 off"
   ],
   "metadata": {
    "collapsed": false,
    "ExecuteTime": {
     "end_time": "2023-09-09T22:12:24.932023Z",
     "start_time": "2023-09-09T22:12:24.838582Z"
    }
   },
   "id": "b710caffa0d27f88"
  },
  {
   "cell_type": "code",
   "execution_count": 21,
   "outputs": [
    {
     "name": "stderr",
     "output_type": "stream",
     "text": [
      "WARNING:absl:At this time, the v2.11+ optimizer `tf.keras.optimizers.Adam` runs slowly on M1/M2 Macs, please use the legacy Keras optimizer instead, located at `tf.keras.optimizers.legacy.Adam`.\n",
      "WARNING:absl:There is a known slowdown when using v2.11+ Keras optimizers on M1/M2 Macs. Falling back to the legacy Keras optimizer, i.e., `tf.keras.optimizers.legacy.Adam`.\n"
     ]
    },
    {
     "name": "stdout",
     "output_type": "stream",
     "text": [
      "Epoch 1/100\n",
      "1/1 [==============================] - 0s 390ms/step - loss: 14.0701 - mae: 14.0701\n",
      "Epoch 2/100\n",
      "1/1 [==============================] - 0s 9ms/step - loss: 13.1270 - mae: 13.1270\n",
      "Epoch 3/100\n",
      "1/1 [==============================] - 0s 9ms/step - loss: 12.1863 - mae: 12.1863\n",
      "Epoch 4/100\n",
      "1/1 [==============================] - 0s 8ms/step - loss: 11.2427 - mae: 11.2427\n",
      "Epoch 5/100\n",
      "1/1 [==============================] - 0s 9ms/step - loss: 10.2907 - mae: 10.2907\n",
      "Epoch 6/100\n",
      "1/1 [==============================] - 0s 8ms/step - loss: 9.3240 - mae: 9.3240\n",
      "Epoch 7/100\n",
      "1/1 [==============================] - 0s 8ms/step - loss: 8.3361 - mae: 8.3361\n"
     ]
    },
    {
     "name": "stderr",
     "output_type": "stream",
     "text": [
      "2023-09-09 17:12:25.206244: I tensorflow/core/grappler/optimizers/custom_graph_optimizer_registry.cc:114] Plugin optimizer for device_type GPU is enabled.\n"
     ]
    },
    {
     "name": "stdout",
     "output_type": "stream",
     "text": [
      "Epoch 8/100\n",
      "1/1 [==============================] - 0s 9ms/step - loss: 7.3205 - mae: 7.3205\n",
      "Epoch 9/100\n",
      "1/1 [==============================] - 0s 8ms/step - loss: 6.6909 - mae: 6.6909\n",
      "Epoch 10/100\n",
      "1/1 [==============================] - 0s 9ms/step - loss: 7.1061 - mae: 7.1061\n",
      "Epoch 11/100\n",
      "1/1 [==============================] - 0s 9ms/step - loss: 7.6234 - mae: 7.6234\n",
      "Epoch 12/100\n",
      "1/1 [==============================] - 0s 7ms/step - loss: 7.8810 - mae: 7.8810\n",
      "Epoch 13/100\n",
      "1/1 [==============================] - 0s 9ms/step - loss: 7.8138 - mae: 7.8138\n",
      "Epoch 14/100\n",
      "1/1 [==============================] - 0s 8ms/step - loss: 7.5152 - mae: 7.5152\n",
      "Epoch 15/100\n",
      "1/1 [==============================] - 0s 7ms/step - loss: 7.0509 - mae: 7.0509\n",
      "Epoch 16/100\n",
      "1/1 [==============================] - 0s 9ms/step - loss: 6.6337 - mae: 6.6337\n",
      "Epoch 17/100\n",
      "1/1 [==============================] - 0s 10ms/step - loss: 6.2612 - mae: 6.2612\n",
      "Epoch 18/100\n",
      "1/1 [==============================] - 0s 10ms/step - loss: 6.0147 - mae: 6.0147\n",
      "Epoch 19/100\n",
      "1/1 [==============================] - 0s 10ms/step - loss: 5.9671 - mae: 5.9671\n",
      "Epoch 20/100\n",
      "1/1 [==============================] - 0s 10ms/step - loss: 6.2293 - mae: 6.2293\n",
      "Epoch 21/100\n",
      "1/1 [==============================] - 0s 9ms/step - loss: 6.3273 - mae: 6.3273\n",
      "Epoch 22/100\n",
      "1/1 [==============================] - 0s 8ms/step - loss: 6.2856 - mae: 6.2856\n",
      "Epoch 23/100\n",
      "1/1 [==============================] - 0s 9ms/step - loss: 6.1231 - mae: 6.1231\n",
      "Epoch 24/100\n",
      "1/1 [==============================] - 0s 8ms/step - loss: 5.8526 - mae: 5.8526\n",
      "Epoch 25/100\n",
      "1/1 [==============================] - 0s 9ms/step - loss: 5.4829 - mae: 5.4829\n",
      "Epoch 26/100\n",
      "1/1 [==============================] - 0s 10ms/step - loss: 5.2174 - mae: 5.2174\n",
      "Epoch 27/100\n",
      "1/1 [==============================] - 0s 10ms/step - loss: 5.0847 - mae: 5.0847\n",
      "Epoch 28/100\n",
      "1/1 [==============================] - 0s 8ms/step - loss: 5.1081 - mae: 5.1081\n",
      "Epoch 29/100\n",
      "1/1 [==============================] - 0s 8ms/step - loss: 5.0738 - mae: 5.0738\n",
      "Epoch 30/100\n",
      "1/1 [==============================] - 0s 7ms/step - loss: 4.9853 - mae: 4.9853\n",
      "Epoch 31/100\n",
      "1/1 [==============================] - 0s 7ms/step - loss: 4.8460 - mae: 4.8460\n",
      "Epoch 32/100\n",
      "1/1 [==============================] - 0s 8ms/step - loss: 4.6596 - mae: 4.6596\n",
      "Epoch 33/100\n",
      "1/1 [==============================] - 0s 7ms/step - loss: 4.4295 - mae: 4.4295\n",
      "Epoch 34/100\n",
      "1/1 [==============================] - 0s 7ms/step - loss: 4.1587 - mae: 4.1587\n",
      "Epoch 35/100\n",
      "1/1 [==============================] - 0s 9ms/step - loss: 3.9470 - mae: 3.9470\n",
      "Epoch 36/100\n",
      "1/1 [==============================] - 0s 9ms/step - loss: 3.8047 - mae: 3.8047\n",
      "Epoch 37/100\n",
      "1/1 [==============================] - 0s 8ms/step - loss: 3.7965 - mae: 3.7965\n",
      "Epoch 38/100\n",
      "1/1 [==============================] - 0s 9ms/step - loss: 3.6414 - mae: 3.6414\n",
      "Epoch 39/100\n",
      "1/1 [==============================] - 0s 8ms/step - loss: 3.3246 - mae: 3.3246\n",
      "Epoch 40/100\n",
      "1/1 [==============================] - 0s 8ms/step - loss: 2.9875 - mae: 2.9875\n",
      "Epoch 41/100\n",
      "1/1 [==============================] - 0s 7ms/step - loss: 2.8115 - mae: 2.8115\n",
      "Epoch 42/100\n",
      "1/1 [==============================] - 0s 9ms/step - loss: 2.6682 - mae: 2.6682\n",
      "Epoch 43/100\n",
      "1/1 [==============================] - 0s 10ms/step - loss: 2.4506 - mae: 2.4506\n",
      "Epoch 44/100\n",
      "1/1 [==============================] - 0s 8ms/step - loss: 2.1598 - mae: 2.1598\n",
      "Epoch 45/100\n",
      "1/1 [==============================] - 0s 9ms/step - loss: 1.7968 - mae: 1.7968\n",
      "Epoch 46/100\n",
      "1/1 [==============================] - 0s 8ms/step - loss: 1.4064 - mae: 1.4064\n",
      "Epoch 47/100\n",
      "1/1 [==============================] - 0s 7ms/step - loss: 1.2502 - mae: 1.2502\n",
      "Epoch 48/100\n",
      "1/1 [==============================] - 0s 8ms/step - loss: 0.9304 - mae: 0.9304\n",
      "Epoch 49/100\n",
      "1/1 [==============================] - 0s 11ms/step - loss: 0.4092 - mae: 0.4092\n",
      "Epoch 50/100\n",
      "1/1 [==============================] - 0s 10ms/step - loss: 0.3723 - mae: 0.3723\n",
      "Epoch 51/100\n",
      "1/1 [==============================] - 0s 10ms/step - loss: 0.3848 - mae: 0.3848\n",
      "Epoch 52/100\n",
      "1/1 [==============================] - 0s 7ms/step - loss: 0.7822 - mae: 0.7822\n",
      "Epoch 53/100\n",
      "1/1 [==============================] - 0s 6ms/step - loss: 1.0295 - mae: 1.0295\n",
      "Epoch 54/100\n",
      "1/1 [==============================] - 0s 8ms/step - loss: 0.9749 - mae: 0.9749\n",
      "Epoch 55/100\n",
      "1/1 [==============================] - 0s 7ms/step - loss: 1.0153 - mae: 1.0153\n",
      "Epoch 56/100\n",
      "1/1 [==============================] - 0s 8ms/step - loss: 1.0379 - mae: 1.0379\n",
      "Epoch 57/100\n",
      "1/1 [==============================] - 0s 8ms/step - loss: 0.9224 - mae: 0.9224\n",
      "Epoch 58/100\n",
      "1/1 [==============================] - 0s 8ms/step - loss: 0.8567 - mae: 0.8567\n",
      "Epoch 59/100\n",
      "1/1 [==============================] - 0s 9ms/step - loss: 0.6888 - mae: 0.6888\n",
      "Epoch 60/100\n",
      "1/1 [==============================] - 0s 8ms/step - loss: 0.5679 - mae: 0.5679\n",
      "Epoch 61/100\n",
      "1/1 [==============================] - 0s 8ms/step - loss: 0.3213 - mae: 0.3213\n",
      "Epoch 62/100\n",
      "1/1 [==============================] - 0s 9ms/step - loss: 0.3506 - mae: 0.3506\n",
      "Epoch 63/100\n",
      "1/1 [==============================] - 0s 9ms/step - loss: 0.2616 - mae: 0.2616\n",
      "Epoch 64/100\n",
      "1/1 [==============================] - 0s 8ms/step - loss: 0.3140 - mae: 0.3140\n",
      "Epoch 65/100\n",
      "1/1 [==============================] - 0s 9ms/step - loss: 0.4176 - mae: 0.4176\n",
      "Epoch 66/100\n",
      "1/1 [==============================] - 0s 9ms/step - loss: 0.4247 - mae: 0.4247\n",
      "Epoch 67/100\n",
      "1/1 [==============================] - 0s 10ms/step - loss: 0.4087 - mae: 0.4087\n",
      "Epoch 68/100\n",
      "1/1 [==============================] - 0s 8ms/step - loss: 0.3840 - mae: 0.3840\n",
      "Epoch 69/100\n",
      "1/1 [==============================] - 0s 9ms/step - loss: 0.2949 - mae: 0.2949\n",
      "Epoch 70/100\n",
      "1/1 [==============================] - 0s 9ms/step - loss: 0.2793 - mae: 0.2793\n",
      "Epoch 71/100\n",
      "1/1 [==============================] - 0s 9ms/step - loss: 0.0850 - mae: 0.0850\n",
      "Epoch 72/100\n",
      "1/1 [==============================] - 0s 7ms/step - loss: 0.3121 - mae: 0.3121\n",
      "Epoch 73/100\n",
      "1/1 [==============================] - 0s 8ms/step - loss: 0.3994 - mae: 0.3994\n",
      "Epoch 74/100\n",
      "1/1 [==============================] - 0s 8ms/step - loss: 0.3243 - mae: 0.3243\n",
      "Epoch 75/100\n",
      "1/1 [==============================] - 0s 8ms/step - loss: 0.4193 - mae: 0.4193\n",
      "Epoch 76/100\n",
      "1/1 [==============================] - 0s 7ms/step - loss: 0.3283 - mae: 0.3283\n",
      "Epoch 77/100\n",
      "1/1 [==============================] - 0s 8ms/step - loss: 0.4033 - mae: 0.4033\n",
      "Epoch 78/100\n",
      "1/1 [==============================] - 0s 8ms/step - loss: 0.2985 - mae: 0.2985\n",
      "Epoch 79/100\n",
      "1/1 [==============================] - 0s 7ms/step - loss: 0.1025 - mae: 0.1025\n",
      "Epoch 80/100\n",
      "1/1 [==============================] - 0s 8ms/step - loss: 0.0878 - mae: 0.0878\n",
      "Epoch 81/100\n",
      "1/1 [==============================] - 0s 8ms/step - loss: 0.1861 - mae: 0.1861\n",
      "Epoch 82/100\n",
      "1/1 [==============================] - 0s 7ms/step - loss: 0.2866 - mae: 0.2866\n",
      "Epoch 83/100\n",
      "1/1 [==============================] - 0s 7ms/step - loss: 0.2427 - mae: 0.2427\n",
      "Epoch 84/100\n",
      "1/1 [==============================] - 0s 8ms/step - loss: 0.2927 - mae: 0.2927\n",
      "Epoch 85/100\n",
      "1/1 [==============================] - 0s 10ms/step - loss: 0.2458 - mae: 0.2458\n",
      "Epoch 86/100\n",
      "1/1 [==============================] - 0s 8ms/step - loss: 0.0092 - mae: 0.0092\n",
      "Epoch 87/100\n",
      "1/1 [==============================] - 0s 9ms/step - loss: 0.5531 - mae: 0.5531\n",
      "Epoch 88/100\n",
      "1/1 [==============================] - 0s 9ms/step - loss: 0.6888 - mae: 0.6888\n",
      "Epoch 89/100\n",
      "1/1 [==============================] - 0s 7ms/step - loss: 0.4920 - mae: 0.4920\n",
      "Epoch 90/100\n",
      "1/1 [==============================] - 0s 8ms/step - loss: 0.2165 - mae: 0.2165\n",
      "Epoch 91/100\n",
      "1/1 [==============================] - 0s 9ms/step - loss: 0.4014 - mae: 0.4014\n",
      "Epoch 92/100\n",
      "1/1 [==============================] - 0s 10ms/step - loss: 0.3195 - mae: 0.3195\n",
      "Epoch 93/100\n",
      "1/1 [==============================] - 0s 9ms/step - loss: 0.1236 - mae: 0.1236\n",
      "Epoch 94/100\n",
      "1/1 [==============================] - 0s 9ms/step - loss: 0.1966 - mae: 0.1966\n",
      "Epoch 95/100\n",
      "1/1 [==============================] - 0s 11ms/step - loss: 0.1750 - mae: 0.1750\n",
      "Epoch 96/100\n",
      "1/1 [==============================] - 0s 10ms/step - loss: 0.2155 - mae: 0.2155\n",
      "Epoch 97/100\n",
      "1/1 [==============================] - 0s 10ms/step - loss: 0.2059 - mae: 0.2059\n",
      "Epoch 98/100\n",
      "1/1 [==============================] - 0s 9ms/step - loss: 0.1535 - mae: 0.1535\n",
      "Epoch 99/100\n",
      "1/1 [==============================] - 0s 7ms/step - loss: 0.1620 - mae: 0.1620\n",
      "Epoch 100/100\n",
      "1/1 [==============================] - 0s 8ms/step - loss: 0.0988 - mae: 0.0988\n"
     ]
    },
    {
     "data": {
      "text/plain": "<keras.src.callbacks.History at 0x16cfdba60>"
     },
     "execution_count": 21,
     "metadata": {},
     "output_type": "execute_result"
    }
   ],
   "source": [
    "tf.random.set_seed(42)\n",
    "\n",
    "model = tf.keras.Sequential([\n",
    "    tf.keras.layers.Dense(100, activation=None),\n",
    "    tf.keras.layers.Dense(1),\n",
    "])\n",
    "\n",
    "model.compile(loss=tf.losses.mae,\n",
    "              optimizer=tf.keras.optimizers.Adam(learning_rate=0.01),\n",
    "              metrics=[\"mae\"])\n",
    "\n",
    "model.fit(X_expanded, y, epochs=100)"
   ],
   "metadata": {
    "collapsed": false,
    "ExecuteTime": {
     "end_time": "2023-09-09T22:12:26.423807Z",
     "start_time": "2023-09-09T22:12:24.917426Z"
    }
   },
   "id": "52ca21db5fa5568e"
  },
  {
   "cell_type": "code",
   "execution_count": 22,
   "outputs": [
    {
     "name": "stdout",
     "output_type": "stream",
     "text": [
      "1/1 [==============================] - 0s 41ms/step\n"
     ]
    },
    {
     "name": "stderr",
     "output_type": "stream",
     "text": [
      "2023-09-09 17:12:26.430400: I tensorflow/core/grappler/optimizers/custom_graph_optimizer_registry.cc:114] Plugin optimizer for device_type GPU is enabled.\n"
     ]
    },
    {
     "data": {
      "text/plain": "array([[27.78655]], dtype=float32)"
     },
     "execution_count": 22,
     "metadata": {},
     "output_type": "execute_result"
    }
   ],
   "source": [
    "model.predict([17.])"
   ],
   "metadata": {
    "collapsed": false,
    "ExecuteTime": {
     "end_time": "2023-09-09T22:12:26.465659Z",
     "start_time": "2023-09-09T22:12:26.391813Z"
    }
   },
   "id": "ebad0c93ebd58c53"
  },
  {
   "cell_type": "markdown",
   "source": [
    "#### Evaluating a model\n",
    "3 words:\n",
    "> \"Visualize, visualize, visualize\"\n",
    "\n",
    "* The Data - what data are we working eith? What does it look like?\n",
    "* The model itself - how does it look like.\n",
    "* The training of the model\n",
    "* The prediction of the model"
   ],
   "metadata": {
    "collapsed": false
   },
   "id": "ecbe2dad82e75305"
  },
  {
   "cell_type": "code",
   "execution_count": 23,
   "outputs": [
    {
     "data": {
      "text/plain": "<tf.Tensor: shape=(50,), dtype=int32, numpy=\narray([-100,  -96,  -92,  -88,  -84,  -80,  -76,  -72,  -68,  -64,  -60,\n        -56,  -52,  -48,  -44,  -40,  -36,  -32,  -28,  -24,  -20,  -16,\n        -12,   -8,   -4,    0,    4,    8,   12,   16,   20,   24,   28,\n         32,   36,   40,   44,   48,   52,   56,   60,   64,   68,   72,\n         76,   80,   84,   88,   92,   96], dtype=int32)>"
     },
     "execution_count": 23,
     "metadata": {},
     "output_type": "execute_result"
    }
   ],
   "source": [
    "X = tf.range(-100, 100, 4)\n",
    "X"
   ],
   "metadata": {
    "collapsed": false,
    "ExecuteTime": {
     "end_time": "2023-09-09T22:12:26.484408Z",
     "start_time": "2023-09-09T22:12:26.458154Z"
    }
   },
   "id": "da4b2b680fc65576"
  },
  {
   "cell_type": "code",
   "execution_count": 24,
   "outputs": [
    {
     "data": {
      "text/plain": "<tf.Tensor: shape=(50,), dtype=int32, numpy=\narray([-90, -86, -82, -78, -74, -70, -66, -62, -58, -54, -50, -46, -42,\n       -38, -34, -30, -26, -22, -18, -14, -10,  -6,  -2,   2,   6,  10,\n        14,  18,  22,  26,  30,  34,  38,  42,  46,  50,  54,  58,  62,\n        66,  70,  74,  78,  82,  86,  90,  94,  98, 102, 106], dtype=int32)>"
     },
     "execution_count": 24,
     "metadata": {},
     "output_type": "execute_result"
    }
   ],
   "source": [
    "y = X + 10\n",
    "y"
   ],
   "metadata": {
    "collapsed": false,
    "ExecuteTime": {
     "end_time": "2023-09-09T22:12:26.484600Z",
     "start_time": "2023-09-09T22:12:26.470250Z"
    }
   },
   "id": "dc3e59bf1c8c2298"
  },
  {
   "cell_type": "code",
   "execution_count": 25,
   "outputs": [
    {
     "data": {
      "text/plain": "<matplotlib.collections.PathCollection at 0x16cfc51e0>"
     },
     "execution_count": 25,
     "metadata": {},
     "output_type": "execute_result"
    },
    {
     "data": {
      "text/plain": "<Figure size 640x480 with 1 Axes>",
      "image/png": "[encoded data removed]"
     },
     "metadata": {},
     "output_type": "display_data"
    }
   ],
   "source": [
    "# Visualize the data\n",
    "plt.scatter(X, y)"
   ],
   "metadata": {
    "collapsed": false,
    "ExecuteTime": {
     "end_time": "2023-09-09T22:12:26.583317Z",
     "start_time": "2023-09-09T22:12:26.479625Z"
    }
   },
   "id": "444bbbd821b5b164"
  },
  {
   "cell_type": "markdown",
   "source": [
    "#### The 3 sets...\n",
    "* ***Training set*** - the model learns from this dataset, typically 70% - 80% of the global data available.\n",
    "* ***Validation set*** - the model gets tuned on this data, which is typically 10% -15% of the total dataset available.\n",
    "* ***Test set*** - the model gets evaluated on this data to test what it has learnt, this set is typically 10 - 15% of the total dataset available."
   ],
   "metadata": {
    "collapsed": false
   },
   "id": "ad0070b32d0e9278"
  },
  {
   "cell_type": "code",
   "execution_count": 26,
   "outputs": [
    {
     "data": {
      "text/plain": "50"
     },
     "execution_count": 26,
     "metadata": {},
     "output_type": "execute_result"
    }
   ],
   "source": [
    "len(X)"
   ],
   "metadata": {
    "collapsed": false,
    "ExecuteTime": {
     "end_time": "2023-09-09T22:12:26.583664Z",
     "start_time": "2023-09-09T22:12:26.556835Z"
    }
   },
   "id": "88bb034fa77a5b4"
  },
  {
   "cell_type": "code",
   "execution_count": 27,
   "outputs": [
    {
     "data": {
      "text/plain": "(40, 10, 40, 10)"
     },
     "execution_count": 27,
     "metadata": {},
     "output_type": "execute_result"
    }
   ],
   "source": [
    "# We will skip validation set for now as we have a small dataset\n",
    "\n",
    "# Training set\n",
    "X_train, y_train = X[:40], y[:40]\n",
    "\n",
    "# Test set\n",
    "X_test, y_test = X[40:], y[40:]\n",
    "\n",
    "len(X_train), len(X_test), len(y_train), len(y_test)"
   ],
   "metadata": {
    "collapsed": false,
    "ExecuteTime": {
     "end_time": "2023-09-09T22:12:26.583832Z",
     "start_time": "2023-09-09T22:12:26.559427Z"
    }
   },
   "id": "5198014838ac05db"
  },
  {
   "cell_type": "markdown",
   "source": [
    "#### Visualize the train and test sets"
   ],
   "metadata": {
    "collapsed": false
   },
   "id": "ff89b7fd7c4fa7df"
  },
  {
   "cell_type": "code",
   "execution_count": 28,
   "outputs": [
    {
     "data": {
      "text/plain": "<Figure size 1000x700 with 1 Axes>",
      "image/png": "[encoded data removed]"
     },
     "metadata": {},
     "output_type": "display_data"
    }
   ],
   "source": [
    "plt.figure(figsize=(10, 7))\n",
    "\n",
    "# Plot training data in blue\n",
    "plt.scatter(X_train, y_train, c=\"b\", label=\"Training Data\")\n",
    "\n",
    "# Plot testing data in blue\n",
    "plt.scatter(X_test, y_test, c=\"g\", label=\"Testing Data\")\n",
    "\n",
    "# Show the legend\n",
    "plt.legend();"
   ],
   "metadata": {
    "collapsed": false,
    "ExecuteTime": {
     "end_time": "2023-09-09T22:12:26.682020Z",
     "start_time": "2023-09-09T22:12:26.574530Z"
    }
   },
   "id": "2c3c2d513137e675"
  },
  {
   "cell_type": "code",
   "execution_count": 147,
   "outputs": [
    {
     "name": "stderr",
     "output_type": "stream",
     "text": [
      "WARNING:absl:At this time, the v2.11+ optimizer `tf.keras.optimizers.SGD` runs slowly on M1/M2 Macs, please use the legacy Keras optimizer instead, located at `tf.keras.optimizers.legacy.SGD`.\n",
      "WARNING:absl:There is a known slowdown when using v2.11+ Keras optimizers on M1/M2 Macs. Falling back to the legacy Keras optimizer, i.e., `tf.keras.optimizers.legacy.SGD`.\n"
     ]
    }
   ],
   "source": [
    "tf.random.set_seed(42)\n",
    "# Create a model neural network\n",
    "model = tf.keras.Sequential(layers=[\n",
    "    tf.keras.layers.Dense(10, input_shape=[1], name=\"input_layer\"),  # Dense means fully connected neuron layers\n",
    "    tf.keras.layers.Dense(1, name=\"output_layer\")  # Dense means fully connected neuron layers\n",
    "], name=\"line_predictor\")\n",
    "\n",
    "# Compile the model\n",
    "model.compile(loss=tf.keras.losses.mae,\n",
    "              optimizer=tf.keras.optimizers.SGD(learning_rate=0.01),\n",
    "              metrics=['mae'])"
   ],
   "metadata": {
    "collapsed": false,
    "ExecuteTime": {
     "end_time": "2023-09-09T22:45:18.050337Z",
     "start_time": "2023-09-09T22:45:17.923585Z"
    }
   },
   "id": "da52a3c4936c5898"
  },
  {
   "cell_type": "code",
   "execution_count": 148,
   "outputs": [],
   "source": [
    "# model.build()"
   ],
   "metadata": {
    "collapsed": false,
    "ExecuteTime": {
     "end_time": "2023-09-09T22:45:18.268781Z",
     "start_time": "2023-09-09T22:45:18.249370Z"
    }
   },
   "id": "bb86befe89987848"
  },
  {
   "cell_type": "markdown",
   "source": [
    "* ***Total params*** - total number of parameters in the model. Used to find the relationship between dependent and independent variables.\n",
    "* ***Trainable params*** - these are the parameters (patterns) the model can update as it trains.\n",
    "* ***Non-trainable params*** -  these parameters aren't updated during training (this is typical when you bring in an already learn patterns or parameters from other model during ***transfer learning***).\n",
    "\n",
    "📖 **Resource**: [MIT's Introduction to Deep Learning Video](https://www.youtube.com/watch?v=QDX-1M5Nj7s&t=4s)"
   ],
   "metadata": {
    "collapsed": false
   },
   "id": "d386073c0a5ff744"
  },
  {
   "cell_type": "code",
   "execution_count": 149,
   "outputs": [
    {
     "name": "stderr",
     "output_type": "stream",
     "text": [
      "2023-09-09 17:45:18.639523: I tensorflow/core/grappler/optimizers/custom_graph_optimizer_registry.cc:114] Plugin optimizer for device_type GPU is enabled.\n"
     ]
    },
    {
     "data": {
      "text/plain": "<keras.src.callbacks.History at 0x17ec965f0>"
     },
     "execution_count": 149,
     "metadata": {},
     "output_type": "execute_result"
    }
   ],
   "source": [
    "# Fit the model\n",
    "model.fit(X_train, y_train, epochs=100, verbose=0)"
   ],
   "metadata": {
    "collapsed": false,
    "ExecuteTime": {
     "end_time": "2023-09-09T22:45:20.520735Z",
     "start_time": "2023-09-09T22:45:18.433227Z"
    }
   },
   "id": "51c6072b676742d6"
  },
  {
   "cell_type": "code",
   "execution_count": 150,
   "outputs": [
    {
     "name": "stdout",
     "output_type": "stream",
     "text": [
      "Model: \"line_predictor\"\n",
      "_________________________________________________________________\n",
      " Layer (type)                Output Shape              Param #   \n",
      "=================================================================\n",
      " input_layer (Dense)         (None, 10)                20        \n",
      "                                                                 \n",
      " output_layer (Dense)        (None, 1)                 11        \n",
      "                                                                 \n",
      "=================================================================\n",
      "Total params: 31 (124.00 Byte)\n",
      "Trainable params: 31 (124.00 Byte)\n",
      "Non-trainable params: 0 (0.00 Byte)\n",
      "_________________________________________________________________\n"
     ]
    }
   ],
   "source": [
    "model.summary()"
   ],
   "metadata": {
    "collapsed": false,
    "ExecuteTime": {
     "end_time": "2023-09-09T22:45:20.529556Z",
     "start_time": "2023-09-09T22:45:20.519999Z"
    }
   },
   "id": "3d7d5cc51173a045"
  },
  {
   "cell_type": "code",
   "execution_count": 151,
   "outputs": [
    {
     "data": {
      "image/png": "[encoded data removed]",
      "text/plain": "<IPython.core.display.Image object>"
     },
     "execution_count": 151,
     "metadata": {},
     "output_type": "execute_result"
    }
   ],
   "source": [
    "tf.keras.utils.plot_model(model, show_shapes=True)"
   ],
   "metadata": {
    "collapsed": false,
    "ExecuteTime": {
     "end_time": "2023-09-09T22:45:20.722014Z",
     "start_time": "2023-09-09T22:45:20.526891Z"
    }
   },
   "id": "d250d46cd85d1697"
  },
  {
   "cell_type": "markdown",
   "source": [
    "#### Visualizing our model's predictions\n",
    "\n",
    "To visualize predictions, it's good practice to plot them against the ground truth labels.\n",
    "\n",
    "Often you'll see this in the form of `y_test` or `y_true` vs `y_pred` (ground truth vs your model's prediction)"
   ],
   "metadata": {
    "collapsed": false
   },
   "id": "d9ff8663f0b4cd96"
  },
  {
   "cell_type": "code",
   "execution_count": 152,
   "outputs": [
    {
     "name": "stdout",
     "output_type": "stream",
     "text": [
      "1/1 [==============================] - 0s 33ms/step\n"
     ]
    },
    {
     "name": "stderr",
     "output_type": "stream",
     "text": [
      "2023-09-09 17:45:20.777407: I tensorflow/core/grappler/optimizers/custom_graph_optimizer_registry.cc:114] Plugin optimizer for device_type GPU is enabled.\n"
     ]
    },
    {
     "data": {
      "text/plain": "array([[ 70.39953 ],\n       [ 74.97765 ],\n       [ 79.55578 ],\n       [ 84.13391 ],\n       [ 88.71203 ],\n       [ 93.29015 ],\n       [ 97.86827 ],\n       [102.44641 ],\n       [107.02452 ],\n       [111.602646]], dtype=float32)"
     },
     "execution_count": 152,
     "metadata": {},
     "output_type": "execute_result"
    }
   ],
   "source": [
    "# Make some predictions\n",
    "y_pred = model.predict(X_test)\n",
    "y_pred"
   ],
   "metadata": {
    "collapsed": false,
    "ExecuteTime": {
     "end_time": "2023-09-09T22:45:20.809224Z",
     "start_time": "2023-09-09T22:45:20.724218Z"
    }
   },
   "id": "b2984942eb6177fc"
  },
  {
   "cell_type": "code",
   "execution_count": 153,
   "outputs": [
    {
     "data": {
      "text/plain": "<tf.Tensor: shape=(10,), dtype=int32, numpy=array([ 70,  74,  78,  82,  86,  90,  94,  98, 102, 106], dtype=int32)>"
     },
     "execution_count": 153,
     "metadata": {},
     "output_type": "execute_result"
    }
   ],
   "source": [
    "y_test"
   ],
   "metadata": {
    "collapsed": false,
    "ExecuteTime": {
     "end_time": "2023-09-09T22:45:20.813772Z",
     "start_time": "2023-09-09T22:45:20.807458Z"
    }
   },
   "id": "23d3050c0a6bbc41"
  },
  {
   "cell_type": "markdown",
   "source": [
    "🔑 ***Note***: If you feel like you're going to reuse some kind of functionality in the future it's a good idea to put them in a function"
   ],
   "metadata": {
    "collapsed": false
   },
   "id": "853db35569470a99"
  },
  {
   "cell_type": "code",
   "execution_count": 154,
   "outputs": [],
   "source": [
    "# Let's create a plotting function\n",
    "def plot_predictions(train_data=X_train,\n",
    "                     train_labels=y_train,\n",
    "                     test_data=X_test,\n",
    "                     test_labels=y_test,\n",
    "                     predictions=y_pred):\n",
    "    \"\"\"\n",
    "    Plots training data, test data and compares predictions to ground truth labels.\n",
    "    \n",
    "    :param train_data: \n",
    "    :param train_labels: \n",
    "    :param test_data: \n",
    "    :param test_labels: \n",
    "    :param predictions: \n",
    "    :return: \n",
    "    \"\"\"\n",
    "    plt.figure(figsize=(10, 7))\n",
    "\n",
    "    # Plot training data in blue\n",
    "    plt.scatter(train_data, train_labels, c=\"b\", label=\"Training data\")\n",
    "\n",
    "    # Plot model's testing data in green\n",
    "    plt.scatter(test_data, test_labels, c=\"g\", label=\"Testing data\")\n",
    "\n",
    "    # Plot model's predictions in red\n",
    "    plt.scatter(test_data, predictions, c=\"r\", label=\"Predictions\")\n",
    "\n",
    "    # Show legend\n",
    "    plt.legend()"
   ],
   "metadata": {
    "collapsed": false,
    "ExecuteTime": {
     "end_time": "2023-09-09T22:45:20.849660Z",
     "start_time": "2023-09-09T22:45:20.812844Z"
    }
   },
   "id": "eeab081eebc8a44f"
  },
  {
   "cell_type": "code",
   "execution_count": 176,
   "outputs": [
    {
     "data": {
      "text/plain": "<Figure size 1000x700 with 1 Axes>",
      "image/png": "[encoded data removed]"
     },
     "metadata": {},
     "output_type": "display_data"
    }
   ],
   "source": [
    "plot_predictions(X_train, y_train, X_test, y_test, y_pred)"
   ],
   "metadata": {
    "collapsed": false,
    "ExecuteTime": {
     "end_time": "2023-09-09T23:31:23.729601Z",
     "start_time": "2023-09-09T23:31:23.416857Z"
    }
   },
   "id": "53e15aea6040d5d3"
  },
  {
   "cell_type": "markdown",
   "source": [
    "#### Evaluating our model's predictions with regression evaluation metrics\n",
    "\n",
    "Depending on the problem you're working on, there will be different evaluation metrics to evaluate your model's performance.\n",
    "\n",
    "Since we're working on a regression, teo of the main metrics:\n",
    "* MAE - Mean Absolute Error, \"on average, how wrong is each of my model's predictions\".\n",
    "* MSE - Mean Square Error, \"square the average errors\"."
   ],
   "metadata": {
    "collapsed": false
   },
   "id": "5b860b26e4595056"
  },
  {
   "cell_type": "code",
   "execution_count": 156,
   "outputs": [
    {
     "name": "stdout",
     "output_type": "stream",
     "text": [
      "1/1 [==============================] - 1s 880ms/step - loss: 3.0011 - mae: 3.0011\n"
     ]
    },
    {
     "name": "stderr",
     "output_type": "stream",
     "text": [
      "2023-09-09 17:54:08.066641: I tensorflow/core/grappler/optimizers/custom_graph_optimizer_registry.cc:114] Plugin optimizer for device_type GPU is enabled.\n"
     ]
    },
    {
     "data": {
      "text/plain": "[3.0010902881622314, 3.0010902881622314]"
     },
     "execution_count": 156,
     "metadata": {},
     "output_type": "execute_result"
    }
   ],
   "source": [
    "# Evaluate the model on test set\n",
    "model.evaluate(X_test, y_test)"
   ],
   "metadata": {
    "collapsed": false,
    "ExecuteTime": {
     "end_time": "2023-09-09T22:54:08.265353Z",
     "start_time": "2023-09-09T22:54:06.867831Z"
    }
   },
   "id": "fb0ceec80da3bd4b"
  },
  {
   "cell_type": "code",
   "execution_count": 157,
   "outputs": [
    {
     "data": {
      "text/plain": "array([[ 70.39953 ],\n       [ 74.97765 ],\n       [ 79.55578 ],\n       [ 84.13391 ],\n       [ 88.71203 ],\n       [ 93.29015 ],\n       [ 97.86827 ],\n       [102.44641 ],\n       [107.02452 ],\n       [111.602646]], dtype=float32)"
     },
     "execution_count": 157,
     "metadata": {},
     "output_type": "execute_result"
    }
   ],
   "source": [
    "y_pred"
   ],
   "metadata": {
    "collapsed": false,
    "ExecuteTime": {
     "end_time": "2023-09-09T22:54:50.077253Z",
     "start_time": "2023-09-09T22:54:49.993966Z"
    }
   },
   "id": "826fea9f81e79b50"
  },
  {
   "cell_type": "code",
   "execution_count": 158,
   "outputs": [
    {
     "data": {
      "text/plain": "<tf.Tensor: shape=(10,), dtype=int32, numpy=array([ 70,  74,  78,  82,  86,  90,  94,  98, 102, 106], dtype=int32)>"
     },
     "execution_count": 158,
     "metadata": {},
     "output_type": "execute_result"
    }
   ],
   "source": [
    "y_test"
   ],
   "metadata": {
    "collapsed": false,
    "ExecuteTime": {
     "end_time": "2023-09-09T22:54:54.954248Z",
     "start_time": "2023-09-09T22:54:54.877278Z"
    }
   },
   "id": "1d70b4af325ade1d"
  },
  {
   "cell_type": "code",
   "execution_count": 164,
   "outputs": [
    {
     "data": {
      "text/plain": "<tf.Tensor: shape=(10,), dtype=float32, numpy=\narray([ 70.39953 ,  74.97765 ,  79.55578 ,  84.13391 ,  88.71203 ,\n        93.29015 ,  97.86827 , 102.44641 , 107.02452 , 111.602646],\n      dtype=float32)>"
     },
     "execution_count": 164,
     "metadata": {},
     "output_type": "execute_result"
    }
   ],
   "source": [
    "tf.squeeze(y_pred)"
   ],
   "metadata": {
    "collapsed": false,
    "ExecuteTime": {
     "end_time": "2023-09-09T23:07:17.691401Z",
     "start_time": "2023-09-09T23:07:17.459621Z"
    }
   },
   "id": "3bf447d3386bfa95"
  },
  {
   "cell_type": "code",
   "execution_count": 165,
   "outputs": [
    {
     "data": {
      "text/plain": "<tf.Tensor: shape=(), dtype=float32, numpy=3.0010903>"
     },
     "execution_count": 165,
     "metadata": {},
     "output_type": "execute_result"
    }
   ],
   "source": [
    "# Calculate the MAE\n",
    "mae = tf.keras.losses.MAE(y_test, tf.squeeze(y_pred))\n",
    "mae"
   ],
   "metadata": {
    "collapsed": false,
    "ExecuteTime": {
     "end_time": "2023-09-09T23:07:30.702144Z",
     "start_time": "2023-09-09T23:07:30.181698Z"
    }
   },
   "id": "c461dbb029194971"
  },
  {
   "cell_type": "code",
   "execution_count": 166,
   "outputs": [
    {
     "data": {
      "text/plain": "<tf.Tensor: shape=(), dtype=float32, numpy=11.76392>"
     },
     "execution_count": 166,
     "metadata": {},
     "output_type": "execute_result"
    }
   ],
   "source": [
    "# Calculate the MSE\n",
    "mse = tf.keras.losses.MSE(y_test, tf.squeeze(y_pred))\n",
    "mse"
   ],
   "metadata": {
    "collapsed": false,
    "ExecuteTime": {
     "end_time": "2023-09-09T23:07:36.704935Z",
     "start_time": "2023-09-09T23:07:36.644050Z"
    }
   },
   "id": "96992a176660bf94"
  },
  {
   "cell_type": "code",
   "execution_count": 182,
   "outputs": [],
   "source": [
    "# Make some functions to reuse MAE and MSE\n",
    "def mae(y_true, y_predictions):\n",
    "    return tf.metrics.MAE(y_true, tf.squeeze(y_predictions))\n",
    "\n",
    "\n",
    "def mse(y_true, y_predictions):\n",
    "    return tf.metrics.MSE(y_true, tf.squeeze(y_predictions))"
   ],
   "metadata": {
    "collapsed": false,
    "ExecuteTime": {
     "end_time": "2023-09-11T06:13:04.876076Z",
     "start_time": "2023-09-11T06:13:04.843430Z"
    }
   },
   "id": "727013869add6765"
  },
  {
   "cell_type": "markdown",
   "source": [
    "#### Running experiments to improve our model\n",
    "```\n",
    "Build a model -> fit it -> evaluate it -> tweak it -> fit it -> evaluate it -> tweak it -> fit it -> evaluate it -> ...\n",
    "```\n",
    "\n",
    "1. Get more data - get more ex.'s for your model to train on (more opportunities to learn patterns or relationships between features and labels).\n",
    "2. Make your model larger (using a more complex model) - this might come in the form of more layers ir more hidden units in each layer.\n",
    "3. Train for longer - give your model more of a chance to find patterns in the dataset.\n",
    "\n",
    "Let's do 3 modelling experiments:\n",
    "1. `model_1` - same as the original model, 1 layer, trained for 100 epochs.\n",
    "2. `model_2` - 2 layers, trained for 100 epochs.\n",
    "3. `model_3` - 2 layers, trained for 500 epochs.\n",
    "4. "
   ],
   "metadata": {
    "collapsed": false
   },
   "id": "9bd11045eee443e1"
  },
  {
   "cell_type": "code",
   "execution_count": 169,
   "outputs": [
    {
     "data": {
      "text/plain": "(<tf.Tensor: shape=(40,), dtype=int32, numpy=\n array([-100,  -96,  -92,  -88,  -84,  -80,  -76,  -72,  -68,  -64,  -60,\n         -56,  -52,  -48,  -44,  -40,  -36,  -32,  -28,  -24,  -20,  -16,\n         -12,   -8,   -4,    0,    4,    8,   12,   16,   20,   24,   28,\n          32,   36,   40,   44,   48,   52,   56], dtype=int32)>,\n <tf.Tensor: shape=(40,), dtype=int32, numpy=\n array([-90, -86, -82, -78, -74, -70, -66, -62, -58, -54, -50, -46, -42,\n        -38, -34, -30, -26, -22, -18, -14, -10,  -6,  -2,   2,   6,  10,\n         14,  18,  22,  26,  30,  34,  38,  42,  46,  50,  54,  58,  62,\n         66], dtype=int32)>)"
     },
     "execution_count": 169,
     "metadata": {},
     "output_type": "execute_result"
    }
   ],
   "source": [
    "X_train, y_train"
   ],
   "metadata": {
    "collapsed": false,
    "ExecuteTime": {
     "end_time": "2023-09-09T23:18:13.162858Z",
     "start_time": "2023-09-09T23:18:13.115624Z"
    }
   },
   "id": "e7bf5d06e2213e68"
  },
  {
   "cell_type": "markdown",
   "source": [
    "##### Build `model1`"
   ],
   "metadata": {
    "collapsed": false
   },
   "id": "30daa19f2bfae887"
  },
  {
   "cell_type": "code",
   "execution_count": 173,
   "outputs": [
    {
     "data": {
      "text/plain": "<tf.Tensor: shape=(40, 1), dtype=int32, numpy=\narray([[-100],\n       [ -96],\n       [ -92],\n       [ -88],\n       [ -84],\n       [ -80],\n       [ -76],\n       [ -72],\n       [ -68],\n       [ -64],\n       [ -60],\n       [ -56],\n       [ -52],\n       [ -48],\n       [ -44],\n       [ -40],\n       [ -36],\n       [ -32],\n       [ -28],\n       [ -24],\n       [ -20],\n       [ -16],\n       [ -12],\n       [  -8],\n       [  -4],\n       [   0],\n       [   4],\n       [   8],\n       [  12],\n       [  16],\n       [  20],\n       [  24],\n       [  28],\n       [  32],\n       [  36],\n       [  40],\n       [  44],\n       [  48],\n       [  52],\n       [  56]], dtype=int32)>"
     },
     "execution_count": 173,
     "metadata": {},
     "output_type": "execute_result"
    }
   ],
   "source": [
    "X_train_expanded = tf.expand_dims(X_train, axis=-1)\n",
    "X_train_expanded"
   ],
   "metadata": {
    "collapsed": false,
    "ExecuteTime": {
     "end_time": "2023-09-09T23:27:57.664262Z",
     "start_time": "2023-09-09T23:27:57.638842Z"
    }
   },
   "id": "b5e39842982974d9"
  },
  {
   "cell_type": "code",
   "execution_count": 174,
   "outputs": [
    {
     "name": "stderr",
     "output_type": "stream",
     "text": [
      "WARNING:absl:At this time, the v2.11+ optimizer `tf.keras.optimizers.SGD` runs slowly on M1/M2 Macs, please use the legacy Keras optimizer instead, located at `tf.keras.optimizers.legacy.SGD`.\n",
      "WARNING:absl:There is a known slowdown when using v2.11+ Keras optimizers on M1/M2 Macs. Falling back to the legacy Keras optimizer, i.e., `tf.keras.optimizers.legacy.SGD`.\n"
     ]
    },
    {
     "name": "stdout",
     "output_type": "stream",
     "text": [
      "Epoch 1/100\n"
     ]
    },
    {
     "name": "stderr",
     "output_type": "stream",
     "text": [
      "2023-09-09 18:28:05.573769: I tensorflow/core/grappler/optimizers/custom_graph_optimizer_registry.cc:114] Plugin optimizer for device_type GPU is enabled.\n"
     ]
    },
    {
     "name": "stdout",
     "output_type": "stream",
     "text": [
      "2/2 [==============================] - 1s 121ms/step - loss: 9.1395 - mae: 9.1395\n",
      "Epoch 2/100\n",
      "2/2 [==============================] - 0s 10ms/step - loss: 8.5704 - mae: 8.5704\n",
      "Epoch 3/100\n",
      "2/2 [==============================] - 0s 9ms/step - loss: 13.8355 - mae: 13.8355\n",
      "Epoch 4/100\n",
      "2/2 [==============================] - 0s 6ms/step - loss: 7.5665 - mae: 7.5665\n",
      "Epoch 5/100\n",
      "2/2 [==============================] - 0s 6ms/step - loss: 11.9961 - mae: 11.9961\n",
      "Epoch 6/100\n",
      "2/2 [==============================] - 0s 9ms/step - loss: 9.2791 - mae: 9.2791\n",
      "Epoch 7/100\n",
      "2/2 [==============================] - 0s 9ms/step - loss: 8.4433 - mae: 8.4433\n",
      "Epoch 8/100\n",
      "2/2 [==============================] - 0s 8ms/step - loss: 9.0286 - mae: 9.0286\n",
      "Epoch 9/100\n",
      "2/2 [==============================] - 0s 7ms/step - loss: 18.4429 - mae: 18.4429\n",
      "Epoch 10/100\n",
      "2/2 [==============================] - 0s 7ms/step - loss: 9.9389 - mae: 9.9389\n",
      "Epoch 11/100\n",
      "2/2 [==============================] - 0s 6ms/step - loss: 8.3267 - mae: 8.3267\n",
      "Epoch 12/100\n",
      "2/2 [==============================] - 0s 7ms/step - loss: 10.5225 - mae: 10.5225\n",
      "Epoch 13/100\n",
      "2/2 [==============================] - 0s 7ms/step - loss: 9.7383 - mae: 9.7383\n",
      "Epoch 14/100\n",
      "2/2 [==============================] - 0s 7ms/step - loss: 15.6820 - mae: 15.6820\n",
      "Epoch 15/100\n",
      "2/2 [==============================] - 0s 7ms/step - loss: 11.6580 - mae: 11.6580\n",
      "Epoch 16/100\n",
      "2/2 [==============================] - 0s 8ms/step - loss: 8.4585 - mae: 8.4585\n",
      "Epoch 17/100\n",
      "2/2 [==============================] - 0s 7ms/step - loss: 13.4535 - mae: 13.4535\n",
      "Epoch 18/100\n",
      "2/2 [==============================] - 0s 6ms/step - loss: 11.2377 - mae: 11.2377\n",
      "Epoch 19/100\n",
      "2/2 [==============================] - 0s 6ms/step - loss: 18.2728 - mae: 18.2728\n",
      "Epoch 20/100\n",
      "2/2 [==============================] - 0s 6ms/step - loss: 14.9793 - mae: 14.9793\n",
      "Epoch 21/100\n",
      "2/2 [==============================] - 0s 7ms/step - loss: 10.8546 - mae: 10.8546\n",
      "Epoch 22/100\n",
      "2/2 [==============================] - 0s 6ms/step - loss: 8.6069 - mae: 8.6069\n",
      "Epoch 23/100\n",
      "2/2 [==============================] - 0s 7ms/step - loss: 9.6916 - mae: 9.6916\n",
      "Epoch 24/100\n",
      "2/2 [==============================] - 0s 6ms/step - loss: 8.5781 - mae: 8.5781\n",
      "Epoch 25/100\n",
      "2/2 [==============================] - 0s 10ms/step - loss: 11.6005 - mae: 11.6005\n",
      "Epoch 26/100\n",
      "2/2 [==============================] - 0s 7ms/step - loss: 15.1161 - mae: 15.1161\n",
      "Epoch 27/100\n",
      "2/2 [==============================] - 0s 7ms/step - loss: 11.8642 - mae: 11.8642\n",
      "Epoch 28/100\n",
      "2/2 [==============================] - 0s 7ms/step - loss: 13.9049 - mae: 13.9049\n",
      "Epoch 29/100\n",
      "2/2 [==============================] - 0s 7ms/step - loss: 9.5978 - mae: 9.5978\n",
      "Epoch 30/100\n",
      "2/2 [==============================] - 0s 8ms/step - loss: 17.1574 - mae: 17.1574\n",
      "Epoch 31/100\n",
      "2/2 [==============================] - 0s 7ms/step - loss: 22.8963 - mae: 22.8963\n",
      "Epoch 32/100\n",
      "2/2 [==============================] - 0s 9ms/step - loss: 7.9082 - mae: 7.9082\n",
      "Epoch 33/100\n",
      "2/2 [==============================] - 0s 8ms/step - loss: 14.1136 - mae: 14.1136\n",
      "Epoch 34/100\n",
      "2/2 [==============================] - 0s 6ms/step - loss: 12.3546 - mae: 12.3546\n",
      "Epoch 35/100\n",
      "2/2 [==============================] - 0s 8ms/step - loss: 8.2594 - mae: 8.2594\n",
      "Epoch 36/100\n",
      "2/2 [==============================] - 0s 8ms/step - loss: 10.4833 - mae: 10.4833\n",
      "Epoch 37/100\n",
      "2/2 [==============================] - 0s 6ms/step - loss: 10.1269 - mae: 10.1269\n",
      "Epoch 38/100\n",
      "2/2 [==============================] - 0s 7ms/step - loss: 11.3258 - mae: 11.3258\n",
      "Epoch 39/100\n",
      "2/2 [==============================] - 0s 7ms/step - loss: 14.7357 - mae: 14.7357\n",
      "Epoch 40/100\n",
      "2/2 [==============================] - 0s 7ms/step - loss: 12.8662 - mae: 12.8662\n",
      "Epoch 41/100\n",
      "2/2 [==============================] - 0s 7ms/step - loss: 9.2539 - mae: 9.2539\n",
      "Epoch 42/100\n",
      "2/2 [==============================] - 0s 7ms/step - loss: 11.0048 - mae: 11.0048\n",
      "Epoch 43/100\n",
      "2/2 [==============================] - 0s 8ms/step - loss: 8.3278 - mae: 8.3278\n",
      "Epoch 44/100\n",
      "2/2 [==============================] - 0s 7ms/step - loss: 13.0582 - mae: 13.0582\n",
      "Epoch 45/100\n",
      "2/2 [==============================] - 0s 6ms/step - loss: 13.6550 - mae: 13.6550\n",
      "Epoch 46/100\n",
      "2/2 [==============================] - 0s 8ms/step - loss: 8.2696 - mae: 8.2696\n",
      "Epoch 47/100\n",
      "2/2 [==============================] - 0s 6ms/step - loss: 8.7233 - mae: 8.7233\n",
      "Epoch 48/100\n",
      "2/2 [==============================] - 0s 8ms/step - loss: 10.0256 - mae: 10.0256\n",
      "Epoch 49/100\n",
      "2/2 [==============================] - 0s 6ms/step - loss: 8.5085 - mae: 8.5085\n",
      "Epoch 50/100\n",
      "2/2 [==============================] - 0s 7ms/step - loss: 9.0156 - mae: 9.0156\n",
      "Epoch 51/100\n",
      "2/2 [==============================] - 0s 6ms/step - loss: 9.3686 - mae: 9.3686\n",
      "Epoch 52/100\n",
      "2/2 [==============================] - 0s 6ms/step - loss: 14.0233 - mae: 14.0233\n",
      "Epoch 53/100\n",
      "2/2 [==============================] - 0s 8ms/step - loss: 15.4138 - mae: 15.4138\n",
      "Epoch 54/100\n",
      "2/2 [==============================] - 0s 7ms/step - loss: 10.9111 - mae: 10.9111\n",
      "Epoch 55/100\n",
      "2/2 [==============================] - 0s 6ms/step - loss: 15.4475 - mae: 15.4475\n",
      "Epoch 56/100\n",
      "2/2 [==============================] - 0s 6ms/step - loss: 9.1358 - mae: 9.1358\n",
      "Epoch 57/100\n",
      "2/2 [==============================] - 0s 7ms/step - loss: 9.6781 - mae: 9.6781\n",
      "Epoch 58/100\n",
      "2/2 [==============================] - 0s 6ms/step - loss: 8.9877 - mae: 8.9877\n",
      "Epoch 59/100\n",
      "2/2 [==============================] - 0s 7ms/step - loss: 10.2148 - mae: 10.2148\n",
      "Epoch 60/100\n",
      "2/2 [==============================] - 0s 7ms/step - loss: 8.1705 - mae: 8.1705\n",
      "Epoch 61/100\n",
      "2/2 [==============================] - 0s 6ms/step - loss: 10.0492 - mae: 10.0492\n",
      "Epoch 62/100\n",
      "2/2 [==============================] - 0s 6ms/step - loss: 7.0262 - mae: 7.0262\n",
      "Epoch 63/100\n",
      "2/2 [==============================] - 0s 7ms/step - loss: 12.6880 - mae: 12.6880\n",
      "Epoch 64/100\n",
      "2/2 [==============================] - 0s 7ms/step - loss: 12.6358 - mae: 12.6358\n",
      "Epoch 65/100\n",
      "2/2 [==============================] - 0s 7ms/step - loss: 9.4476 - mae: 9.4476\n",
      "Epoch 66/100\n",
      "2/2 [==============================] - 0s 7ms/step - loss: 11.5258 - mae: 11.5258\n",
      "Epoch 67/100\n",
      "2/2 [==============================] - 0s 7ms/step - loss: 8.0216 - mae: 8.0216\n",
      "Epoch 68/100\n",
      "2/2 [==============================] - 0s 7ms/step - loss: 8.5532 - mae: 8.5532\n",
      "Epoch 69/100\n",
      "2/2 [==============================] - 0s 7ms/step - loss: 12.2327 - mae: 12.2327\n",
      "Epoch 70/100\n",
      "2/2 [==============================] - 0s 7ms/step - loss: 8.9395 - mae: 8.9395\n",
      "Epoch 71/100\n",
      "2/2 [==============================] - 0s 7ms/step - loss: 9.9139 - mae: 9.9139\n",
      "Epoch 72/100\n",
      "2/2 [==============================] - 0s 8ms/step - loss: 9.9552 - mae: 9.9552\n",
      "Epoch 73/100\n",
      "2/2 [==============================] - 0s 6ms/step - loss: 12.4147 - mae: 12.4147\n",
      "Epoch 74/100\n",
      "2/2 [==============================] - 0s 6ms/step - loss: 10.5847 - mae: 10.5847\n",
      "Epoch 75/100\n",
      "2/2 [==============================] - 0s 7ms/step - loss: 9.6132 - mae: 9.6132\n",
      "Epoch 76/100\n",
      "2/2 [==============================] - 0s 6ms/step - loss: 11.0751 - mae: 11.0751\n",
      "Epoch 77/100\n",
      "2/2 [==============================] - 0s 6ms/step - loss: 8.2629 - mae: 8.2629\n",
      "Epoch 78/100\n",
      "2/2 [==============================] - 0s 7ms/step - loss: 8.9453 - mae: 8.9453\n",
      "Epoch 79/100\n",
      "2/2 [==============================] - 0s 7ms/step - loss: 19.8101 - mae: 19.8101\n",
      "Epoch 80/100\n",
      "2/2 [==============================] - 0s 7ms/step - loss: 17.7923 - mae: 17.7923\n",
      "Epoch 81/100\n",
      "2/2 [==============================] - 0s 7ms/step - loss: 7.0799 - mae: 7.0799\n",
      "Epoch 82/100\n",
      "2/2 [==============================] - 0s 6ms/step - loss: 10.3889 - mae: 10.3889\n",
      "Epoch 83/100\n",
      "2/2 [==============================] - 0s 7ms/step - loss: 9.8098 - mae: 9.8098\n",
      "Epoch 84/100\n",
      "2/2 [==============================] - 0s 7ms/step - loss: 7.9358 - mae: 7.9358\n",
      "Epoch 85/100\n",
      "2/2 [==============================] - 0s 7ms/step - loss: 9.4491 - mae: 9.4491\n",
      "Epoch 86/100\n",
      "2/2 [==============================] - 0s 7ms/step - loss: 9.4926 - mae: 9.4926\n",
      "Epoch 87/100\n",
      "2/2 [==============================] - 0s 7ms/step - loss: 11.4432 - mae: 11.4432\n",
      "Epoch 88/100\n",
      "2/2 [==============================] - 0s 6ms/step - loss: 9.9402 - mae: 9.9402\n",
      "Epoch 89/100\n",
      "2/2 [==============================] - 0s 7ms/step - loss: 7.2446 - mae: 7.2446\n",
      "Epoch 90/100\n",
      "2/2 [==============================] - 0s 7ms/step - loss: 12.7034 - mae: 12.7034\n",
      "Epoch 91/100\n",
      "2/2 [==============================] - 0s 7ms/step - loss: 7.3085 - mae: 7.3085\n",
      "Epoch 92/100\n",
      "2/2 [==============================] - 0s 7ms/step - loss: 7.6726 - mae: 7.6726\n",
      "Epoch 93/100\n",
      "2/2 [==============================] - 0s 7ms/step - loss: 7.1088 - mae: 7.1088\n",
      "Epoch 94/100\n",
      "2/2 [==============================] - 0s 6ms/step - loss: 12.5494 - mae: 12.5494\n",
      "Epoch 95/100\n",
      "2/2 [==============================] - 0s 7ms/step - loss: 9.9236 - mae: 9.9236\n",
      "Epoch 96/100\n",
      "2/2 [==============================] - 0s 5ms/step - loss: 9.1261 - mae: 9.1261\n",
      "Epoch 97/100\n",
      "2/2 [==============================] - 0s 7ms/step - loss: 12.0648 - mae: 12.0648\n",
      "Epoch 98/100\n",
      "2/2 [==============================] - 0s 6ms/step - loss: 9.0703 - mae: 9.0703\n",
      "Epoch 99/100\n",
      "2/2 [==============================] - 0s 7ms/step - loss: 8.4863 - mae: 8.4863\n",
      "Epoch 100/100\n",
      "2/2 [==============================] - 0s 6ms/step - loss: 14.4403 - mae: 14.4403\n"
     ]
    },
    {
     "data": {
      "text/plain": "<keras.src.callbacks.History at 0x28ac98760>"
     },
     "execution_count": 174,
     "metadata": {},
     "output_type": "execute_result"
    }
   ],
   "source": [
    "# Set random seed\n",
    "tf.random.set_seed(42)\n",
    "\n",
    "# Create the model\n",
    "model_1 = tf.keras.Sequential([\n",
    "    tf.keras.layers.Dense(1)\n",
    "], name=\"line_predictor__model_1\")\n",
    "\n",
    "# Compile the model\n",
    "model_1.compile(optimizer=tf.keras.optimizers.SGD(),\n",
    "                loss=tf.keras.losses.mae,\n",
    "                metrics=[\"mae\"])\n",
    "\n",
    "# Fit the model\n",
    "model_1.fit(X_train_expanded, y_train, epochs=100)"
   ],
   "metadata": {
    "collapsed": false,
    "ExecuteTime": {
     "end_time": "2023-09-09T23:28:07.471144Z",
     "start_time": "2023-09-09T23:28:05.122268Z"
    }
   },
   "id": "add2319bbf7f92d2"
  },
  {
   "cell_type": "code",
   "execution_count": 179,
   "outputs": [
    {
     "name": "stderr",
     "output_type": "stream",
     "text": [
      "2023-09-11 01:09:20.995570: I tensorflow/core/grappler/optimizers/custom_graph_optimizer_registry.cc:114] Plugin optimizer for device_type GPU is enabled.\n"
     ]
    },
    {
     "name": "stdout",
     "output_type": "stream",
     "text": [
      "1/1 [==============================] - 1s 705ms/step\n"
     ]
    },
    {
     "data": {
      "text/plain": "array([[44.44665 ],\n       [47.322304],\n       [50.197956],\n       [53.07361 ],\n       [55.94926 ],\n       [58.824913],\n       [61.70056 ],\n       [64.57622 ],\n       [67.451866],\n       [70.327515]], dtype=float32)"
     },
     "execution_count": 179,
     "metadata": {},
     "output_type": "execute_result"
    }
   ],
   "source": [
    "# Make and plot predictions with our `model_1`\n",
    "y_pred_1 = model_1.predict(X_test)\n",
    "y_pred_1"
   ],
   "metadata": {
    "collapsed": false,
    "ExecuteTime": {
     "end_time": "2023-09-11T06:09:21.556505Z",
     "start_time": "2023-09-11T06:09:20.600286Z"
    }
   },
   "id": "cf0e88f8407e8bdc"
  },
  {
   "cell_type": "code",
   "execution_count": 180,
   "outputs": [
    {
     "data": {
      "text/plain": "<Figure size 1000x700 with 1 Axes>",
      "image/png": "[encoded data removed]"
     },
     "metadata": {},
     "output_type": "display_data"
    }
   ],
   "source": [
    "# Plot predictions\n",
    "plot_predictions(predictions=y_pred_1)"
   ],
   "metadata": {
    "collapsed": false,
    "ExecuteTime": {
     "end_time": "2023-09-11T06:10:00.217376Z",
     "start_time": "2023-09-11T06:09:59.984644Z"
    }
   },
   "id": "d7bb9f1f57c1a232"
  },
  {
   "cell_type": "code",
   "execution_count": 183,
   "outputs": [
    {
     "data": {
      "text/plain": "(<tf.Tensor: shape=(), dtype=float32, numpy=30.612915>,\n <tf.Tensor: shape=(), dtype=float32, numpy=947.5799>)"
     },
     "execution_count": 183,
     "metadata": {},
     "output_type": "execute_result"
    }
   ],
   "source": [
    "# Calculate model_1 evaluation metrics\n",
    "mae_1 = mae(y_test, y_pred_1)\n",
    "mse_1 = mse(y_test, y_pred_1)\n",
    "mae_1, mse_1"
   ],
   "metadata": {
    "collapsed": false,
    "ExecuteTime": {
     "end_time": "2023-09-11T06:13:24.463459Z",
     "start_time": "2023-09-11T06:13:24.424681Z"
    }
   },
   "id": "4726b1ab49dd5eed"
  },
  {
   "cell_type": "markdown",
   "source": [
    "** Build `model_2`**\n",
    "\n",
    "* 2 dense layers, trained for 100 epochs"
   ],
   "metadata": {
    "collapsed": false
   },
   "id": "23b770a9fac8bdcc"
  },
  {
   "cell_type": "code",
   "execution_count": 195,
   "outputs": [
    {
     "name": "stdout",
     "output_type": "stream",
     "text": [
      "Epoch 1/100\n",
      "2/2 [==============================] - 0s 71ms/step - loss: 30.7644 - mae: 30.7644\n",
      "Epoch 2/100\n",
      "2/2 [==============================] - 0s 8ms/step - loss: 26.4861 - mae: 26.4861\n",
      "Epoch 3/100\n",
      "2/2 [==============================] - 0s 9ms/step - loss: 31.7218 - mae: 31.7218\n",
      "Epoch 4/100\n",
      "1/2 [==============>...............] - ETA: 0s - loss: 28.3730 - mae: 28.3730"
     ]
    },
    {
     "name": "stderr",
     "output_type": "stream",
     "text": [
      "2023-09-11 01:20:34.367816: I tensorflow/core/grappler/optimizers/custom_graph_optimizer_registry.cc:114] Plugin optimizer for device_type GPU is enabled.\n"
     ]
    },
    {
     "name": "stdout",
     "output_type": "stream",
     "text": [
      "2/2 [==============================] - 0s 10ms/step - loss: 27.2367 - mae: 27.2367\n",
      "Epoch 5/100\n",
      "2/2 [==============================] - 0s 8ms/step - loss: 14.8707 - mae: 14.8707\n",
      "Epoch 6/100\n",
      "2/2 [==============================] - 0s 7ms/step - loss: 11.8317 - mae: 11.8317\n",
      "Epoch 7/100\n",
      "2/2 [==============================] - 0s 7ms/step - loss: 11.1623 - mae: 11.1623\n",
      "Epoch 8/100\n",
      "2/2 [==============================] - 0s 9ms/step - loss: 11.0906 - mae: 11.0906\n",
      "Epoch 9/100\n",
      "2/2 [==============================] - 0s 8ms/step - loss: 40.3807 - mae: 40.3807\n",
      "Epoch 10/100\n",
      "2/2 [==============================] - 0s 8ms/step - loss: 27.7847 - mae: 27.7847\n",
      "Epoch 11/100\n",
      "2/2 [==============================] - 0s 8ms/step - loss: 10.2505 - mae: 10.2505\n",
      "Epoch 12/100\n",
      "2/2 [==============================] - 0s 8ms/step - loss: 25.3167 - mae: 25.3167\n",
      "Epoch 13/100\n",
      "2/2 [==============================] - 0s 7ms/step - loss: 16.9511 - mae: 16.9511\n",
      "Epoch 14/100\n",
      "2/2 [==============================] - 0s 8ms/step - loss: 25.8480 - mae: 25.8480\n",
      "Epoch 15/100\n",
      "2/2 [==============================] - 0s 7ms/step - loss: 17.6771 - mae: 17.6771\n",
      "Epoch 16/100\n",
      "2/2 [==============================] - 0s 8ms/step - loss: 10.0806 - mae: 10.0806\n",
      "Epoch 17/100\n",
      "2/2 [==============================] - 0s 8ms/step - loss: 18.6778 - mae: 18.6778\n",
      "Epoch 18/100\n",
      "2/2 [==============================] - 0s 7ms/step - loss: 11.7969 - mae: 11.7969\n",
      "Epoch 19/100\n",
      "2/2 [==============================] - 0s 7ms/step - loss: 16.5144 - mae: 16.5144\n",
      "Epoch 20/100\n",
      "2/2 [==============================] - 0s 8ms/step - loss: 8.2400 - mae: 8.2400\n",
      "Epoch 21/100\n",
      "2/2 [==============================] - 0s 9ms/step - loss: 14.4109 - mae: 14.4109\n",
      "Epoch 22/100\n",
      "2/2 [==============================] - 0s 7ms/step - loss: 12.8241 - mae: 12.8241\n",
      "Epoch 23/100\n",
      "2/2 [==============================] - 0s 7ms/step - loss: 15.4628 - mae: 15.4628\n",
      "Epoch 24/100\n",
      "2/2 [==============================] - 0s 8ms/step - loss: 15.2521 - mae: 15.2521\n",
      "Epoch 25/100\n",
      "2/2 [==============================] - 0s 7ms/step - loss: 14.3311 - mae: 14.3311\n",
      "Epoch 26/100\n",
      "2/2 [==============================] - 0s 6ms/step - loss: 19.3276 - mae: 19.3276\n",
      "Epoch 27/100\n",
      "2/2 [==============================] - 0s 7ms/step - loss: 11.4633 - mae: 11.4633\n",
      "Epoch 28/100\n",
      "2/2 [==============================] - 0s 10ms/step - loss: 29.1535 - mae: 29.1535\n",
      "Epoch 29/100\n",
      "2/2 [==============================] - 0s 7ms/step - loss: 9.2532 - mae: 9.2532\n",
      "Epoch 30/100\n",
      "2/2 [==============================] - 0s 8ms/step - loss: 29.8753 - mae: 29.8753\n",
      "Epoch 31/100\n",
      "2/2 [==============================] - 0s 7ms/step - loss: 54.2163 - mae: 54.2163\n",
      "Epoch 32/100\n",
      "2/2 [==============================] - 0s 8ms/step - loss: 9.5810 - mae: 9.5810\n",
      "Epoch 33/100\n",
      "2/2 [==============================] - 0s 7ms/step - loss: 12.1739 - mae: 12.1739\n",
      "Epoch 34/100\n",
      "2/2 [==============================] - 0s 7ms/step - loss: 23.9390 - mae: 23.9390\n",
      "Epoch 35/100\n",
      "2/2 [==============================] - 0s 8ms/step - loss: 12.6189 - mae: 12.6189\n",
      "Epoch 36/100\n",
      "2/2 [==============================] - 0s 7ms/step - loss: 21.5232 - mae: 21.5232\n",
      "Epoch 37/100\n",
      "2/2 [==============================] - 0s 7ms/step - loss: 11.3860 - mae: 11.3860\n",
      "Epoch 38/100\n",
      "2/2 [==============================] - 0s 7ms/step - loss: 13.4727 - mae: 13.4727\n",
      "Epoch 39/100\n",
      "2/2 [==============================] - 0s 7ms/step - loss: 10.7953 - mae: 10.7953\n",
      "Epoch 40/100\n",
      "2/2 [==============================] - 0s 8ms/step - loss: 16.6087 - mae: 16.6087\n",
      "Epoch 41/100\n",
      "2/2 [==============================] - 0s 8ms/step - loss: 10.9791 - mae: 10.9791\n",
      "Epoch 42/100\n",
      "2/2 [==============================] - 0s 8ms/step - loss: 9.3048 - mae: 9.3048\n",
      "Epoch 43/100\n",
      "2/2 [==============================] - 0s 10ms/step - loss: 9.5952 - mae: 9.5952\n",
      "Epoch 44/100\n",
      "2/2 [==============================] - 0s 8ms/step - loss: 28.0054 - mae: 28.0054\n",
      "Epoch 45/100\n",
      "2/2 [==============================] - 0s 25ms/step - loss: 11.2892 - mae: 11.2892\n",
      "Epoch 46/100\n",
      "2/2 [==============================] - 0s 8ms/step - loss: 14.0766 - mae: 14.0766\n",
      "Epoch 47/100\n",
      "2/2 [==============================] - 0s 7ms/step - loss: 13.5006 - mae: 13.5006\n",
      "Epoch 48/100\n",
      "2/2 [==============================] - 0s 8ms/step - loss: 17.3367 - mae: 17.3367\n",
      "Epoch 49/100\n",
      "2/2 [==============================] - 0s 9ms/step - loss: 9.5189 - mae: 9.5189\n",
      "Epoch 50/100\n",
      "2/2 [==============================] - 0s 12ms/step - loss: 13.7101 - mae: 13.7101\n",
      "Epoch 51/100\n",
      "2/2 [==============================] - 0s 12ms/step - loss: 11.5623 - mae: 11.5623\n",
      "Epoch 52/100\n",
      "2/2 [==============================] - 0s 8ms/step - loss: 30.2276 - mae: 30.2276\n",
      "Epoch 53/100\n",
      "2/2 [==============================] - 0s 8ms/step - loss: 13.7336 - mae: 13.7336\n",
      "Epoch 54/100\n",
      "2/2 [==============================] - 0s 7ms/step - loss: 26.4468 - mae: 26.4468\n",
      "Epoch 55/100\n",
      "2/2 [==============================] - 0s 6ms/step - loss: 26.0374 - mae: 26.0374\n",
      "Epoch 56/100\n",
      "2/2 [==============================] - 0s 6ms/step - loss: 11.2417 - mae: 11.2417\n",
      "Epoch 57/100\n",
      "2/2 [==============================] - 0s 8ms/step - loss: 13.2212 - mae: 13.2212\n",
      "Epoch 58/100\n",
      "2/2 [==============================] - 0s 7ms/step - loss: 9.8719 - mae: 9.8719\n",
      "Epoch 59/100\n",
      "2/2 [==============================] - 0s 8ms/step - loss: 13.4136 - mae: 13.4136\n",
      "Epoch 60/100\n",
      "2/2 [==============================] - 0s 8ms/step - loss: 10.9374 - mae: 10.9374\n",
      "Epoch 61/100\n",
      "2/2 [==============================] - 0s 7ms/step - loss: 13.5620 - mae: 13.5620\n",
      "Epoch 62/100\n",
      "2/2 [==============================] - 0s 9ms/step - loss: 17.8834 - mae: 17.8834\n",
      "Epoch 63/100\n",
      "2/2 [==============================] - 0s 9ms/step - loss: 8.7387 - mae: 8.7387\n",
      "Epoch 64/100\n",
      "2/2 [==============================] - 0s 7ms/step - loss: 16.1416 - mae: 16.1416\n",
      "Epoch 65/100\n",
      "2/2 [==============================] - 0s 7ms/step - loss: 10.7473 - mae: 10.7473\n",
      "Epoch 66/100\n",
      "2/2 [==============================] - 0s 7ms/step - loss: 22.1924 - mae: 22.1924\n",
      "Epoch 67/100\n",
      "2/2 [==============================] - 0s 8ms/step - loss: 10.2696 - mae: 10.2696\n",
      "Epoch 68/100\n",
      "2/2 [==============================] - 0s 7ms/step - loss: 13.4724 - mae: 13.4724\n",
      "Epoch 69/100\n",
      "2/2 [==============================] - 0s 7ms/step - loss: 11.4347 - mae: 11.4347\n",
      "Epoch 70/100\n",
      "2/2 [==============================] - 0s 8ms/step - loss: 13.6196 - mae: 13.6196\n",
      "Epoch 71/100\n",
      "2/2 [==============================] - 0s 10ms/step - loss: 15.6302 - mae: 15.6302\n",
      "Epoch 72/100\n",
      "2/2 [==============================] - 0s 7ms/step - loss: 11.8539 - mae: 11.8539\n",
      "Epoch 73/100\n",
      "2/2 [==============================] - 0s 12ms/step - loss: 16.6315 - mae: 16.6315\n",
      "Epoch 74/100\n",
      "2/2 [==============================] - 0s 9ms/step - loss: 24.1532 - mae: 24.1532\n",
      "Epoch 75/100\n",
      "2/2 [==============================] - 0s 8ms/step - loss: 9.6326 - mae: 9.6326\n",
      "Epoch 76/100\n",
      "2/2 [==============================] - 0s 8ms/step - loss: 12.4848 - mae: 12.4848\n",
      "Epoch 77/100\n",
      "2/2 [==============================] - 0s 7ms/step - loss: 16.7223 - mae: 16.7223\n",
      "Epoch 78/100\n",
      "2/2 [==============================] - 0s 7ms/step - loss: 9.0853 - mae: 9.0853\n",
      "Epoch 79/100\n",
      "2/2 [==============================] - 0s 8ms/step - loss: 24.0454 - mae: 24.0454\n",
      "Epoch 80/100\n",
      "2/2 [==============================] - 0s 12ms/step - loss: 26.8411 - mae: 26.8411\n",
      "Epoch 81/100\n",
      "2/2 [==============================] - 0s 7ms/step - loss: 11.7283 - mae: 11.7283\n",
      "Epoch 82/100\n",
      "2/2 [==============================] - 0s 7ms/step - loss: 12.0044 - mae: 12.0044\n",
      "Epoch 83/100\n",
      "2/2 [==============================] - 0s 8ms/step - loss: 17.3971 - mae: 17.3971\n",
      "Epoch 84/100\n",
      "2/2 [==============================] - 0s 8ms/step - loss: 7.2715 - mae: 7.2715\n",
      "Epoch 85/100\n",
      "2/2 [==============================] - 0s 8ms/step - loss: 14.9510 - mae: 14.9510\n",
      "Epoch 86/100\n",
      "2/2 [==============================] - 0s 9ms/step - loss: 15.2769 - mae: 15.2769\n",
      "Epoch 87/100\n",
      "2/2 [==============================] - 0s 16ms/step - loss: 19.0839 - mae: 19.0839\n",
      "Epoch 88/100\n",
      "2/2 [==============================] - 0s 8ms/step - loss: 29.8924 - mae: 29.8924\n",
      "Epoch 89/100\n",
      "2/2 [==============================] - 0s 7ms/step - loss: 10.1983 - mae: 10.1983\n",
      "Epoch 90/100\n",
      "2/2 [==============================] - 0s 8ms/step - loss: 21.5750 - mae: 21.5750\n",
      "Epoch 91/100\n",
      "2/2 [==============================] - 0s 11ms/step - loss: 10.5965 - mae: 10.5965\n",
      "Epoch 92/100\n",
      "2/2 [==============================] - 0s 8ms/step - loss: 18.4398 - mae: 18.4398\n",
      "Epoch 93/100\n",
      "2/2 [==============================] - 0s 10ms/step - loss: 7.4291 - mae: 7.4291\n",
      "Epoch 94/100\n",
      "2/2 [==============================] - 0s 7ms/step - loss: 17.7714 - mae: 17.7714\n",
      "Epoch 95/100\n",
      "2/2 [==============================] - 0s 10ms/step - loss: 11.1376 - mae: 11.1376\n",
      "Epoch 96/100\n",
      "2/2 [==============================] - 0s 12ms/step - loss: 19.4665 - mae: 19.4665\n",
      "Epoch 97/100\n",
      "2/2 [==============================] - 0s 8ms/step - loss: 12.5072 - mae: 12.5072\n",
      "Epoch 98/100\n",
      "2/2 [==============================] - 0s 6ms/step - loss: 10.3027 - mae: 10.3027\n",
      "Epoch 99/100\n",
      "2/2 [==============================] - 0s 8ms/step - loss: 13.8325 - mae: 13.8325\n",
      "Epoch 100/100\n",
      "2/2 [==============================] - 0s 13ms/step - loss: 20.1218 - mae: 20.1218\n"
     ]
    },
    {
     "data": {
      "text/plain": "<keras.src.callbacks.History at 0x28f9102e0>"
     },
     "execution_count": 195,
     "metadata": {},
     "output_type": "execute_result"
    }
   ],
   "source": [
    "tf.random.set_seed(42)\n",
    "model_2 = tf.keras.Sequential([\n",
    "    tf.keras.layers.Dense(25),\n",
    "    tf.keras.layers.Dense(1)\n",
    "])\n",
    "model_2.compile(optimizer=\"SGD\",\n",
    "                loss=tf.keras.losses.mae,\n",
    "                metrics=[\"mae\"])\n",
    "model_2.fit(X_train_expanded, y_train, epochs=100)"
   ],
   "metadata": {
    "collapsed": false,
    "ExecuteTime": {
     "end_time": "2023-09-11T06:20:36.222658Z",
     "start_time": "2023-09-11T06:20:34.180333Z"
    }
   },
   "id": "ab7c70ffe30e899f"
  },
  {
   "cell_type": "code",
   "execution_count": 196,
   "outputs": [
    {
     "name": "stdout",
     "output_type": "stream",
     "text": [
      "1/1 [==============================] - 0s 45ms/step\n"
     ]
    },
    {
     "name": "stderr",
     "output_type": "stream",
     "text": [
      "2023-09-11 01:20:36.274127: I tensorflow/core/grappler/optimizers/custom_graph_optimizer_registry.cc:114] Plugin optimizer for device_type GPU is enabled.\n"
     ]
    },
    {
     "data": {
      "text/plain": "<Figure size 1000x700 with 1 Axes>",
      "image/png": "[encoded data removed]"
     },
     "metadata": {},
     "output_type": "display_data"
    }
   ],
   "source": [
    "y_pred_2 = model_2.predict(X_test)\n",
    "plot_predictions(predictions=y_pred_2)"
   ],
   "metadata": {
    "collapsed": false,
    "ExecuteTime": {
     "end_time": "2023-09-11T06:20:36.449453Z",
     "start_time": "2023-09-11T06:20:36.225333Z"
    }
   },
   "id": "32709461c4ceeadc"
  },
  {
   "cell_type": "code",
   "execution_count": 197,
   "outputs": [
    {
     "data": {
      "text/plain": "(<tf.Tensor: shape=(), dtype=float32, numpy=2.8866181>,\n <tf.Tensor: shape=(), dtype=float32, numpy=11.042463>)"
     },
     "execution_count": 197,
     "metadata": {},
     "output_type": "execute_result"
    }
   ],
   "source": [
    "mae_2 = mae(y_test, y_pred_2)\n",
    "mse_2 = mse(y_test, y_pred_2)\n",
    "mae_2, mse_2"
   ],
   "metadata": {
    "collapsed": false,
    "ExecuteTime": {
     "end_time": "2023-09-11T06:20:36.467795Z",
     "start_time": "2023-09-11T06:20:36.450021Z"
    }
   },
   "id": "d7a01e26c51e0ff3"
  },
  {
   "cell_type": "code",
   "execution_count": 198,
   "outputs": [
    {
     "name": "stdout",
     "output_type": "stream",
     "text": [
      "Epoch 1/500\n",
      "2/2 [==============================] - 0s 31ms/step - loss: 39.8632 - mae: 39.8632\n",
      "Epoch 2/500\n",
      "2/2 [==============================] - 0s 8ms/step - loss: 27.9193 - mae: 27.9193\n",
      "Epoch 3/500\n",
      "2/2 [==============================] - 0s 7ms/step - loss: 33.5991 - mae: 33.5991\n",
      "Epoch 4/500\n",
      "2/2 [==============================] - 0s 11ms/step - loss: 24.8685 - mae: 24.8685\n",
      "Epoch 5/500\n",
      "2/2 [==============================] - 0s 9ms/step - loss: 14.7317 - mae: 14.7317\n",
      "Epoch 6/500\n",
      "1/2 [==============>...............] - ETA: 0s - loss: 11.8886 - mae: 11.8886"
     ]
    },
    {
     "name": "stderr",
     "output_type": "stream",
     "text": [
      "2023-09-11 01:23:00.651042: I tensorflow/core/grappler/optimizers/custom_graph_optimizer_registry.cc:114] Plugin optimizer for device_type GPU is enabled.\n"
     ]
    },
    {
     "name": "stdout",
     "output_type": "stream",
     "text": [
      "2/2 [==============================] - 0s 9ms/step - loss: 11.7301 - mae: 11.7301\n",
      "Epoch 7/500\n",
      "2/2 [==============================] - 0s 10ms/step - loss: 11.0760 - mae: 11.0760\n",
      "Epoch 8/500\n",
      "2/2 [==============================] - 0s 21ms/step - loss: 11.0614 - mae: 11.0614\n",
      "Epoch 9/500\n",
      "2/2 [==============================] - 0s 15ms/step - loss: 40.0835 - mae: 40.0835\n",
      "Epoch 10/500\n",
      "2/2 [==============================] - 0s 9ms/step - loss: 27.5274 - mae: 27.5274\n",
      "Epoch 11/500\n",
      "2/2 [==============================] - 0s 9ms/step - loss: 10.2446 - mae: 10.2446\n",
      "Epoch 12/500\n",
      "2/2 [==============================] - 0s 8ms/step - loss: 25.3965 - mae: 25.3965\n",
      "Epoch 13/500\n",
      "2/2 [==============================] - 0s 11ms/step - loss: 16.8330 - mae: 16.8330\n",
      "Epoch 14/500\n",
      "2/2 [==============================] - 0s 8ms/step - loss: 25.6404 - mae: 25.6404\n",
      "Epoch 15/500\n",
      "2/2 [==============================] - 0s 7ms/step - loss: 17.5184 - mae: 17.5184\n",
      "Epoch 16/500\n",
      "2/2 [==============================] - 0s 9ms/step - loss: 10.0272 - mae: 10.0272\n",
      "Epoch 17/500\n",
      "2/2 [==============================] - 0s 11ms/step - loss: 18.5405 - mae: 18.5405\n",
      "Epoch 18/500\n",
      "2/2 [==============================] - 0s 7ms/step - loss: 11.3628 - mae: 11.3628\n",
      "Epoch 19/500\n",
      "2/2 [==============================] - 0s 7ms/step - loss: 13.9617 - mae: 13.9617\n",
      "Epoch 20/500\n",
      "2/2 [==============================] - 0s 7ms/step - loss: 11.2046 - mae: 11.2046\n",
      "Epoch 21/500\n",
      "2/2 [==============================] - 0s 7ms/step - loss: 17.2865 - mae: 17.2865\n",
      "Epoch 22/500\n",
      "2/2 [==============================] - 0s 13ms/step - loss: 15.5231 - mae: 15.5231\n",
      "Epoch 23/500\n",
      "2/2 [==============================] - 0s 8ms/step - loss: 9.2305 - mae: 9.2305\n",
      "Epoch 24/500\n",
      "2/2 [==============================] - 0s 7ms/step - loss: 17.2544 - mae: 17.2544\n",
      "Epoch 25/500\n",
      "2/2 [==============================] - 0s 7ms/step - loss: 15.9284 - mae: 15.9284\n",
      "Epoch 26/500\n",
      "2/2 [==============================] - 0s 8ms/step - loss: 20.9131 - mae: 20.9131\n",
      "Epoch 27/500\n",
      "2/2 [==============================] - 0s 7ms/step - loss: 26.0004 - mae: 26.0004\n",
      "Epoch 28/500\n",
      "2/2 [==============================] - 0s 7ms/step - loss: 18.4925 - mae: 18.4925\n",
      "Epoch 29/500\n",
      "2/2 [==============================] - 0s 9ms/step - loss: 9.2357 - mae: 9.2357\n",
      "Epoch 30/500\n",
      "2/2 [==============================] - 0s 7ms/step - loss: 29.1166 - mae: 29.1166\n",
      "Epoch 31/500\n",
      "2/2 [==============================] - 0s 7ms/step - loss: 52.7382 - mae: 52.7382\n",
      "Epoch 32/500\n",
      "2/2 [==============================] - 0s 8ms/step - loss: 11.9306 - mae: 11.9306\n",
      "Epoch 33/500\n",
      "2/2 [==============================] - 0s 7ms/step - loss: 15.5360 - mae: 15.5360\n",
      "Epoch 34/500\n",
      "2/2 [==============================] - 0s 7ms/step - loss: 12.6199 - mae: 12.6199\n",
      "Epoch 35/500\n",
      "2/2 [==============================] - 0s 9ms/step - loss: 9.2039 - mae: 9.2039\n",
      "Epoch 36/500\n",
      "2/2 [==============================] - 0s 9ms/step - loss: 16.5337 - mae: 16.5337\n",
      "Epoch 37/500\n",
      "2/2 [==============================] - 0s 7ms/step - loss: 11.0638 - mae: 11.0638\n",
      "Epoch 38/500\n",
      "2/2 [==============================] - 0s 7ms/step - loss: 18.1919 - mae: 18.1919\n",
      "Epoch 39/500\n",
      "2/2 [==============================] - 0s 7ms/step - loss: 19.1256 - mae: 19.1256\n",
      "Epoch 40/500\n",
      "2/2 [==============================] - 0s 7ms/step - loss: 20.4781 - mae: 20.4781\n",
      "Epoch 41/500\n",
      "2/2 [==============================] - 0s 8ms/step - loss: 14.8423 - mae: 14.8423\n",
      "Epoch 42/500\n",
      "2/2 [==============================] - 0s 8ms/step - loss: 12.2294 - mae: 12.2294\n",
      "Epoch 43/500\n",
      "2/2 [==============================] - 0s 7ms/step - loss: 10.7018 - mae: 10.7018\n",
      "Epoch 44/500\n",
      "2/2 [==============================] - 0s 7ms/step - loss: 22.9119 - mae: 22.9119\n",
      "Epoch 45/500\n",
      "2/2 [==============================] - 0s 6ms/step - loss: 10.3490 - mae: 10.3490\n",
      "Epoch 46/500\n",
      "2/2 [==============================] - 0s 7ms/step - loss: 11.7345 - mae: 11.7345\n",
      "Epoch 47/500\n",
      "2/2 [==============================] - 0s 7ms/step - loss: 9.6572 - mae: 9.6572\n",
      "Epoch 48/500\n",
      "2/2 [==============================] - 0s 10ms/step - loss: 17.2690 - mae: 17.2690\n",
      "Epoch 49/500\n",
      "2/2 [==============================] - 0s 8ms/step - loss: 9.5403 - mae: 9.5403\n",
      "Epoch 50/500\n",
      "2/2 [==============================] - 0s 8ms/step - loss: 13.7671 - mae: 13.7671\n",
      "Epoch 51/500\n",
      "2/2 [==============================] - 0s 7ms/step - loss: 11.5718 - mae: 11.5718\n",
      "Epoch 52/500\n",
      "2/2 [==============================] - 0s 6ms/step - loss: 30.4548 - mae: 30.4548\n",
      "Epoch 53/500\n",
      "2/2 [==============================] - 0s 7ms/step - loss: 14.3071 - mae: 14.3071\n",
      "Epoch 54/500\n",
      "2/2 [==============================] - 0s 9ms/step - loss: 23.8943 - mae: 23.8943\n",
      "Epoch 55/500\n",
      "2/2 [==============================] - 0s 8ms/step - loss: 23.1084 - mae: 23.1084\n",
      "Epoch 56/500\n",
      "2/2 [==============================] - 0s 8ms/step - loss: 10.8495 - mae: 10.8495\n",
      "Epoch 57/500\n",
      "2/2 [==============================] - 0s 7ms/step - loss: 12.7027 - mae: 12.7027\n",
      "Epoch 58/500\n",
      "2/2 [==============================] - 0s 7ms/step - loss: 9.5742 - mae: 9.5742\n",
      "Epoch 59/500\n",
      "2/2 [==============================] - 0s 7ms/step - loss: 12.4822 - mae: 12.4822\n",
      "Epoch 60/500\n",
      "2/2 [==============================] - 0s 7ms/step - loss: 11.8923 - mae: 11.8923\n",
      "Epoch 61/500\n",
      "2/2 [==============================] - 0s 6ms/step - loss: 16.9864 - mae: 16.9864\n",
      "Epoch 62/500\n",
      "2/2 [==============================] - 0s 7ms/step - loss: 10.3916 - mae: 10.3916\n",
      "Epoch 63/500\n",
      "2/2 [==============================] - 0s 9ms/step - loss: 10.3445 - mae: 10.3445\n",
      "Epoch 64/500\n",
      "2/2 [==============================] - 0s 8ms/step - loss: 24.2269 - mae: 24.2269\n",
      "Epoch 65/500\n",
      "2/2 [==============================] - 0s 7ms/step - loss: 10.5256 - mae: 10.5256\n",
      "Epoch 66/500\n",
      "2/2 [==============================] - 0s 6ms/step - loss: 21.2380 - mae: 21.2380\n",
      "Epoch 67/500\n",
      "2/2 [==============================] - 0s 7ms/step - loss: 10.5265 - mae: 10.5265\n",
      "Epoch 68/500\n",
      "2/2 [==============================] - 0s 7ms/step - loss: 14.6874 - mae: 14.6874\n",
      "Epoch 69/500\n",
      "2/2 [==============================] - 0s 8ms/step - loss: 10.6625 - mae: 10.6625\n",
      "Epoch 70/500\n",
      "2/2 [==============================] - 0s 10ms/step - loss: 12.7542 - mae: 12.7542\n",
      "Epoch 71/500\n",
      "2/2 [==============================] - 0s 7ms/step - loss: 13.1838 - mae: 13.1838\n",
      "Epoch 72/500\n",
      "2/2 [==============================] - 0s 7ms/step - loss: 19.7670 - mae: 19.7670\n",
      "Epoch 73/500\n",
      "2/2 [==============================] - 0s 7ms/step - loss: 11.2278 - mae: 11.2278\n",
      "Epoch 74/500\n",
      "2/2 [==============================] - 0s 6ms/step - loss: 22.0783 - mae: 22.0783\n",
      "Epoch 75/500\n",
      "2/2 [==============================] - 0s 7ms/step - loss: 6.9279 - mae: 6.9279\n",
      "Epoch 76/500\n",
      "2/2 [==============================] - 0s 6ms/step - loss: 11.4266 - mae: 11.4266\n",
      "Epoch 77/500\n",
      "2/2 [==============================] - 0s 8ms/step - loss: 21.5834 - mae: 21.5834\n",
      "Epoch 78/500\n",
      "2/2 [==============================] - 0s 9ms/step - loss: 18.5961 - mae: 18.5961\n",
      "Epoch 79/500\n",
      "2/2 [==============================] - 0s 8ms/step - loss: 15.9195 - mae: 15.9195\n",
      "Epoch 80/500\n",
      "2/2 [==============================] - 0s 6ms/step - loss: 23.5400 - mae: 23.5400\n",
      "Epoch 81/500\n",
      "2/2 [==============================] - 0s 7ms/step - loss: 10.9423 - mae: 10.9423\n",
      "Epoch 82/500\n",
      "2/2 [==============================] - 0s 7ms/step - loss: 12.7309 - mae: 12.7309\n",
      "Epoch 83/500\n",
      "2/2 [==============================] - 0s 8ms/step - loss: 17.4961 - mae: 17.4961\n",
      "Epoch 84/500\n",
      "2/2 [==============================] - 0s 8ms/step - loss: 7.2810 - mae: 7.2810\n",
      "Epoch 85/500\n",
      "2/2 [==============================] - 0s 7ms/step - loss: 15.0218 - mae: 15.0218\n",
      "Epoch 86/500\n",
      "2/2 [==============================] - 0s 7ms/step - loss: 15.3319 - mae: 15.3319\n",
      "Epoch 87/500\n",
      "2/2 [==============================] - 0s 6ms/step - loss: 19.1988 - mae: 19.1988\n",
      "Epoch 88/500\n",
      "2/2 [==============================] - 0s 7ms/step - loss: 29.5868 - mae: 29.5868\n",
      "Epoch 89/500\n",
      "2/2 [==============================] - 0s 8ms/step - loss: 10.1440 - mae: 10.1440\n",
      "Epoch 90/500\n",
      "2/2 [==============================] - 0s 7ms/step - loss: 21.3300 - mae: 21.3300\n",
      "Epoch 91/500\n",
      "2/2 [==============================] - 0s 6ms/step - loss: 10.5290 - mae: 10.5290\n",
      "Epoch 92/500\n",
      "2/2 [==============================] - 0s 8ms/step - loss: 18.2236 - mae: 18.2236\n",
      "Epoch 93/500\n",
      "2/2 [==============================] - 0s 7ms/step - loss: 6.8125 - mae: 6.8125\n",
      "Epoch 94/500\n",
      "2/2 [==============================] - 0s 7ms/step - loss: 13.0177 - mae: 13.0177\n",
      "Epoch 95/500\n",
      "2/2 [==============================] - 0s 7ms/step - loss: 18.4142 - mae: 18.4142\n",
      "Epoch 96/500\n",
      "2/2 [==============================] - 0s 8ms/step - loss: 10.3541 - mae: 10.3541\n",
      "Epoch 97/500\n",
      "2/2 [==============================] - 0s 10ms/step - loss: 14.4290 - mae: 14.4290\n",
      "Epoch 98/500\n",
      "2/2 [==============================] - 0s 8ms/step - loss: 6.5753 - mae: 6.5753\n",
      "Epoch 99/500\n",
      "2/2 [==============================] - 0s 8ms/step - loss: 12.5942 - mae: 12.5942\n",
      "Epoch 100/500\n",
      "2/2 [==============================] - 0s 7ms/step - loss: 19.4074 - mae: 19.4074\n",
      "Epoch 101/500\n",
      "2/2 [==============================] - 0s 7ms/step - loss: 16.0668 - mae: 16.0668\n",
      "Epoch 102/500\n",
      "2/2 [==============================] - 0s 8ms/step - loss: 11.1808 - mae: 11.1808\n",
      "Epoch 103/500\n",
      "2/2 [==============================] - 0s 7ms/step - loss: 9.3160 - mae: 9.3160\n",
      "Epoch 104/500\n",
      "2/2 [==============================] - 0s 6ms/step - loss: 24.9593 - mae: 24.9593\n",
      "Epoch 105/500\n",
      "2/2 [==============================] - 0s 9ms/step - loss: 11.9778 - mae: 11.9778\n",
      "Epoch 106/500\n",
      "2/2 [==============================] - 0s 20ms/step - loss: 10.0776 - mae: 10.0776\n",
      "Epoch 107/500\n",
      "2/2 [==============================] - 0s 8ms/step - loss: 22.5248 - mae: 22.5248\n",
      "Epoch 108/500\n",
      "2/2 [==============================] - 0s 7ms/step - loss: 8.1228 - mae: 8.1228\n",
      "Epoch 109/500\n",
      "2/2 [==============================] - 0s 7ms/step - loss: 13.3360 - mae: 13.3360\n",
      "Epoch 110/500\n",
      "2/2 [==============================] - 0s 7ms/step - loss: 7.9812 - mae: 7.9812\n",
      "Epoch 111/500\n",
      "2/2 [==============================] - 0s 9ms/step - loss: 15.7502 - mae: 15.7502\n",
      "Epoch 112/500\n",
      "2/2 [==============================] - 0s 7ms/step - loss: 8.7465 - mae: 8.7465\n",
      "Epoch 113/500\n",
      "2/2 [==============================] - 0s 6ms/step - loss: 22.6855 - mae: 22.6855\n",
      "Epoch 114/500\n",
      "2/2 [==============================] - 0s 7ms/step - loss: 19.0335 - mae: 19.0335\n",
      "Epoch 115/500\n",
      "2/2 [==============================] - 0s 7ms/step - loss: 11.0886 - mae: 11.0886\n",
      "Epoch 116/500\n",
      "2/2 [==============================] - 0s 7ms/step - loss: 23.1343 - mae: 23.1343\n",
      "Epoch 117/500\n",
      "2/2 [==============================] - 0s 7ms/step - loss: 9.5728 - mae: 9.5728\n",
      "Epoch 118/500\n",
      "2/2 [==============================] - 0s 8ms/step - loss: 10.6366 - mae: 10.6366\n",
      "Epoch 119/500\n",
      "2/2 [==============================] - 0s 6ms/step - loss: 8.0404 - mae: 8.0404\n",
      "Epoch 120/500\n",
      "2/2 [==============================] - 0s 8ms/step - loss: 29.4466 - mae: 29.4466\n",
      "Epoch 121/500\n",
      "2/2 [==============================] - 0s 7ms/step - loss: 8.0770 - mae: 8.0770\n",
      "Epoch 122/500\n",
      "2/2 [==============================] - 0s 7ms/step - loss: 28.1063 - mae: 28.1063\n",
      "Epoch 123/500\n",
      "2/2 [==============================] - 0s 7ms/step - loss: 32.6503 - mae: 32.6503\n",
      "Epoch 124/500\n",
      "2/2 [==============================] - 0s 8ms/step - loss: 19.4443 - mae: 19.4443\n",
      "Epoch 125/500\n",
      "2/2 [==============================] - 0s 7ms/step - loss: 9.5506 - mae: 9.5506\n",
      "Epoch 126/500\n",
      "2/2 [==============================] - 0s 6ms/step - loss: 9.6193 - mae: 9.6193\n",
      "Epoch 127/500\n",
      "2/2 [==============================] - 0s 6ms/step - loss: 12.7751 - mae: 12.7751\n",
      "Epoch 128/500\n",
      "2/2 [==============================] - 0s 7ms/step - loss: 13.3195 - mae: 13.3195\n",
      "Epoch 129/500\n",
      "2/2 [==============================] - 0s 7ms/step - loss: 10.1789 - mae: 10.1789\n",
      "Epoch 130/500\n",
      "2/2 [==============================] - 0s 9ms/step - loss: 17.4633 - mae: 17.4633\n",
      "Epoch 131/500\n",
      "2/2 [==============================] - 0s 7ms/step - loss: 9.4995 - mae: 9.4995\n",
      "Epoch 132/500\n",
      "2/2 [==============================] - 0s 6ms/step - loss: 17.3567 - mae: 17.3567\n",
      "Epoch 133/500\n",
      "2/2 [==============================] - 0s 7ms/step - loss: 7.0988 - mae: 7.0988\n",
      "Epoch 134/500\n",
      "2/2 [==============================] - 0s 7ms/step - loss: 23.8563 - mae: 23.8563\n",
      "Epoch 135/500\n",
      "2/2 [==============================] - 0s 8ms/step - loss: 16.6214 - mae: 16.6214\n",
      "Epoch 136/500\n",
      "2/2 [==============================] - 0s 7ms/step - loss: 14.8426 - mae: 14.8426\n",
      "Epoch 137/500\n",
      "2/2 [==============================] - 0s 9ms/step - loss: 23.0994 - mae: 23.0994\n",
      "Epoch 138/500\n",
      "2/2 [==============================] - 0s 7ms/step - loss: 9.1148 - mae: 9.1148\n",
      "Epoch 139/500\n",
      "2/2 [==============================] - 0s 7ms/step - loss: 8.9063 - mae: 8.9063\n",
      "Epoch 140/500\n",
      "2/2 [==============================] - 0s 8ms/step - loss: 16.4209 - mae: 16.4209\n",
      "Epoch 141/500\n",
      "2/2 [==============================] - 0s 6ms/step - loss: 8.4240 - mae: 8.4240\n",
      "Epoch 142/500\n",
      "2/2 [==============================] - 0s 8ms/step - loss: 36.8429 - mae: 36.8429\n",
      "Epoch 143/500\n",
      "2/2 [==============================] - 0s 7ms/step - loss: 25.4955 - mae: 25.4955\n",
      "Epoch 144/500\n",
      "2/2 [==============================] - 0s 7ms/step - loss: 9.5474 - mae: 9.5474\n",
      "Epoch 145/500\n",
      "2/2 [==============================] - 0s 7ms/step - loss: 26.6333 - mae: 26.6333\n",
      "Epoch 146/500\n",
      "2/2 [==============================] - 0s 8ms/step - loss: 8.6919 - mae: 8.6919\n",
      "Epoch 147/500\n",
      "2/2 [==============================] - 0s 8ms/step - loss: 15.6450 - mae: 15.6450\n",
      "Epoch 148/500\n",
      "2/2 [==============================] - 0s 9ms/step - loss: 18.3431 - mae: 18.3431\n",
      "Epoch 149/500\n",
      "2/2 [==============================] - 0s 8ms/step - loss: 8.1751 - mae: 8.1751\n",
      "Epoch 150/500\n",
      "2/2 [==============================] - 0s 6ms/step - loss: 7.4910 - mae: 7.4910\n",
      "Epoch 151/500\n",
      "2/2 [==============================] - 0s 7ms/step - loss: 18.2587 - mae: 18.2587\n",
      "Epoch 152/500\n",
      "2/2 [==============================] - 0s 7ms/step - loss: 10.2747 - mae: 10.2747\n",
      "Epoch 153/500\n",
      "2/2 [==============================] - 0s 7ms/step - loss: 29.5154 - mae: 29.5154\n",
      "Epoch 154/500\n",
      "2/2 [==============================] - 0s 7ms/step - loss: 10.5833 - mae: 10.5833\n",
      "Epoch 155/500\n",
      "2/2 [==============================] - 0s 6ms/step - loss: 15.4791 - mae: 15.4791\n",
      "Epoch 156/500\n",
      "2/2 [==============================] - 0s 8ms/step - loss: 17.0722 - mae: 17.0722\n",
      "Epoch 157/500\n",
      "2/2 [==============================] - 0s 8ms/step - loss: 32.6795 - mae: 32.6795\n",
      "Epoch 158/500\n",
      "2/2 [==============================] - 0s 12ms/step - loss: 10.6678 - mae: 10.6678\n",
      "Epoch 159/500\n",
      "2/2 [==============================] - 0s 9ms/step - loss: 8.8914 - mae: 8.8914\n",
      "Epoch 160/500\n",
      "2/2 [==============================] - 0s 7ms/step - loss: 22.0268 - mae: 22.0268\n",
      "Epoch 161/500\n",
      "2/2 [==============================] - 0s 8ms/step - loss: 11.6743 - mae: 11.6743\n",
      "Epoch 162/500\n",
      "2/2 [==============================] - 0s 7ms/step - loss: 21.4738 - mae: 21.4738\n",
      "Epoch 163/500\n",
      "2/2 [==============================] - 0s 7ms/step - loss: 19.1545 - mae: 19.1545\n",
      "Epoch 164/500\n",
      "2/2 [==============================] - 0s 7ms/step - loss: 10.9604 - mae: 10.9604\n",
      "Epoch 165/500\n",
      "2/2 [==============================] - 0s 7ms/step - loss: 9.6389 - mae: 9.6389\n",
      "Epoch 166/500\n",
      "2/2 [==============================] - 0s 8ms/step - loss: 21.6439 - mae: 21.6439\n",
      "Epoch 167/500\n",
      "2/2 [==============================] - 0s 14ms/step - loss: 26.1516 - mae: 26.1516\n",
      "Epoch 168/500\n",
      "2/2 [==============================] - 0s 7ms/step - loss: 9.8331 - mae: 9.8331\n",
      "Epoch 169/500\n",
      "2/2 [==============================] - 0s 7ms/step - loss: 22.4256 - mae: 22.4256\n",
      "Epoch 170/500\n",
      "2/2 [==============================] - 0s 7ms/step - loss: 10.1753 - mae: 10.1753\n",
      "Epoch 171/500\n",
      "2/2 [==============================] - 0s 7ms/step - loss: 18.1071 - mae: 18.1071\n",
      "Epoch 172/500\n",
      "2/2 [==============================] - 0s 6ms/step - loss: 28.6921 - mae: 28.6921\n",
      "Epoch 173/500\n",
      "2/2 [==============================] - 0s 6ms/step - loss: 16.4148 - mae: 16.4148\n",
      "Epoch 174/500\n",
      "2/2 [==============================] - 0s 7ms/step - loss: 11.7330 - mae: 11.7330\n",
      "Epoch 175/500\n",
      "2/2 [==============================] - 0s 11ms/step - loss: 27.1745 - mae: 27.1745\n",
      "Epoch 176/500\n",
      "2/2 [==============================] - 0s 8ms/step - loss: 8.7461 - mae: 8.7461\n",
      "Epoch 177/500\n",
      "2/2 [==============================] - 0s 7ms/step - loss: 8.7642 - mae: 8.7642\n",
      "Epoch 178/500\n",
      "2/2 [==============================] - 0s 6ms/step - loss: 16.1969 - mae: 16.1969\n",
      "Epoch 179/500\n",
      "2/2 [==============================] - 0s 7ms/step - loss: 10.4011 - mae: 10.4011\n",
      "Epoch 180/500\n",
      "2/2 [==============================] - 0s 9ms/step - loss: 7.9851 - mae: 7.9851\n",
      "Epoch 181/500\n",
      "2/2 [==============================] - 0s 6ms/step - loss: 17.7746 - mae: 17.7746\n",
      "Epoch 182/500\n",
      "2/2 [==============================] - 0s 7ms/step - loss: 11.1869 - mae: 11.1869\n",
      "Epoch 183/500\n",
      "2/2 [==============================] - 0s 7ms/step - loss: 12.4007 - mae: 12.4007\n",
      "Epoch 184/500\n",
      "2/2 [==============================] - 0s 6ms/step - loss: 27.3911 - mae: 27.3911\n",
      "Epoch 185/500\n",
      "2/2 [==============================] - 0s 6ms/step - loss: 7.5521 - mae: 7.5521\n",
      "Epoch 186/500\n",
      "2/2 [==============================] - 0s 6ms/step - loss: 15.9365 - mae: 15.9365\n",
      "Epoch 187/500\n",
      "2/2 [==============================] - 0s 7ms/step - loss: 8.5868 - mae: 8.5868\n",
      "Epoch 188/500\n",
      "2/2 [==============================] - 0s 7ms/step - loss: 28.9027 - mae: 28.9027\n",
      "Epoch 189/500\n",
      "2/2 [==============================] - 0s 7ms/step - loss: 13.1383 - mae: 13.1383\n",
      "Epoch 190/500\n",
      "2/2 [==============================] - 0s 7ms/step - loss: 18.2767 - mae: 18.2767\n",
      "Epoch 191/500\n",
      "2/2 [==============================] - 0s 7ms/step - loss: 13.6989 - mae: 13.6989\n",
      "Epoch 192/500\n",
      "2/2 [==============================] - 0s 6ms/step - loss: 13.6992 - mae: 13.6992\n",
      "Epoch 193/500\n",
      "2/2 [==============================] - 0s 7ms/step - loss: 28.5515 - mae: 28.5515\n",
      "Epoch 194/500\n",
      "2/2 [==============================] - 0s 7ms/step - loss: 7.1165 - mae: 7.1165\n",
      "Epoch 195/500\n",
      "2/2 [==============================] - 0s 7ms/step - loss: 7.0617 - mae: 7.0617\n",
      "Epoch 196/500\n",
      "2/2 [==============================] - 0s 7ms/step - loss: 21.9638 - mae: 21.9638\n",
      "Epoch 197/500\n",
      "2/2 [==============================] - 0s 8ms/step - loss: 20.9350 - mae: 20.9350\n",
      "Epoch 198/500\n",
      "2/2 [==============================] - 0s 7ms/step - loss: 12.5271 - mae: 12.5271\n",
      "Epoch 199/500\n",
      "2/2 [==============================] - 0s 8ms/step - loss: 17.9871 - mae: 17.9871\n",
      "Epoch 200/500\n",
      "2/2 [==============================] - 0s 8ms/step - loss: 13.8214 - mae: 13.8214\n",
      "Epoch 201/500\n",
      "2/2 [==============================] - 0s 6ms/step - loss: 6.0411 - mae: 6.0411\n",
      "Epoch 202/500\n",
      "2/2 [==============================] - 0s 7ms/step - loss: 22.8245 - mae: 22.8245\n",
      "Epoch 203/500\n",
      "2/2 [==============================] - 0s 7ms/step - loss: 8.9501 - mae: 8.9501\n",
      "Epoch 204/500\n",
      "2/2 [==============================] - 0s 8ms/step - loss: 18.8046 - mae: 18.8046\n",
      "Epoch 205/500\n",
      "2/2 [==============================] - 0s 6ms/step - loss: 9.3505 - mae: 9.3505\n",
      "Epoch 206/500\n",
      "2/2 [==============================] - 0s 6ms/step - loss: 10.4200 - mae: 10.4200\n",
      "Epoch 207/500\n",
      "2/2 [==============================] - 0s 7ms/step - loss: 21.0774 - mae: 21.0774\n",
      "Epoch 208/500\n",
      "2/2 [==============================] - 0s 8ms/step - loss: 16.4518 - mae: 16.4518\n",
      "Epoch 209/500\n",
      "2/2 [==============================] - 0s 9ms/step - loss: 14.3530 - mae: 14.3530\n",
      "Epoch 210/500\n",
      "2/2 [==============================] - 0s 7ms/step - loss: 19.3559 - mae: 19.3559\n",
      "Epoch 211/500\n",
      "2/2 [==============================] - 0s 7ms/step - loss: 10.3020 - mae: 10.3020\n",
      "Epoch 212/500\n",
      "2/2 [==============================] - 0s 8ms/step - loss: 20.1312 - mae: 20.1312\n",
      "Epoch 213/500\n",
      "2/2 [==============================] - 0s 7ms/step - loss: 15.0770 - mae: 15.0770\n",
      "Epoch 214/500\n",
      "2/2 [==============================] - 0s 7ms/step - loss: 14.6142 - mae: 14.6142\n",
      "Epoch 215/500\n",
      "2/2 [==============================] - 0s 8ms/step - loss: 23.3474 - mae: 23.3474\n",
      "Epoch 216/500\n",
      "2/2 [==============================] - 0s 10ms/step - loss: 13.2907 - mae: 13.2907\n",
      "Epoch 217/500\n",
      "2/2 [==============================] - 0s 7ms/step - loss: 9.8103 - mae: 9.8103\n",
      "Epoch 218/500\n",
      "2/2 [==============================] - 0s 6ms/step - loss: 12.6066 - mae: 12.6066\n",
      "Epoch 219/500\n",
      "2/2 [==============================] - 0s 7ms/step - loss: 5.3446 - mae: 5.3446\n",
      "Epoch 220/500\n",
      "2/2 [==============================] - 0s 7ms/step - loss: 14.7006 - mae: 14.7006\n",
      "Epoch 221/500\n",
      "2/2 [==============================] - 0s 8ms/step - loss: 33.5454 - mae: 33.5454\n",
      "Epoch 222/500\n",
      "2/2 [==============================] - 0s 6ms/step - loss: 13.9019 - mae: 13.9019\n",
      "Epoch 223/500\n",
      "2/2 [==============================] - 0s 7ms/step - loss: 11.0002 - mae: 11.0002\n",
      "Epoch 224/500\n",
      "2/2 [==============================] - 0s 7ms/step - loss: 14.9544 - mae: 14.9544\n",
      "Epoch 225/500\n",
      "2/2 [==============================] - 0s 7ms/step - loss: 17.0029 - mae: 17.0029\n",
      "Epoch 226/500\n",
      "2/2 [==============================] - 0s 7ms/step - loss: 16.1913 - mae: 16.1913\n",
      "Epoch 227/500\n",
      "2/2 [==============================] - 0s 7ms/step - loss: 16.5116 - mae: 16.5116\n",
      "Epoch 228/500\n",
      "2/2 [==============================] - 0s 7ms/step - loss: 9.9496 - mae: 9.9496\n",
      "Epoch 229/500\n",
      "2/2 [==============================] - 0s 8ms/step - loss: 17.8487 - mae: 17.8487\n",
      "Epoch 230/500\n",
      "2/2 [==============================] - 0s 6ms/step - loss: 15.4676 - mae: 15.4676\n",
      "Epoch 231/500\n",
      "2/2 [==============================] - 0s 7ms/step - loss: 20.9001 - mae: 20.9001\n",
      "Epoch 232/500\n",
      "2/2 [==============================] - 0s 7ms/step - loss: 25.9699 - mae: 25.9699\n",
      "Epoch 233/500\n",
      "2/2 [==============================] - 0s 7ms/step - loss: 17.0426 - mae: 17.0426\n",
      "Epoch 234/500\n",
      "2/2 [==============================] - 0s 7ms/step - loss: 7.0418 - mae: 7.0418\n",
      "Epoch 235/500\n",
      "2/2 [==============================] - 0s 7ms/step - loss: 16.0090 - mae: 16.0090\n",
      "Epoch 236/500\n",
      "2/2 [==============================] - 0s 7ms/step - loss: 6.7907 - mae: 6.7907\n",
      "Epoch 237/500\n",
      "2/2 [==============================] - 0s 7ms/step - loss: 8.7401 - mae: 8.7401\n",
      "Epoch 238/500\n",
      "2/2 [==============================] - 0s 7ms/step - loss: 7.8437 - mae: 7.8437\n",
      "Epoch 239/500\n",
      "2/2 [==============================] - 0s 9ms/step - loss: 15.9093 - mae: 15.9093\n",
      "Epoch 240/500\n",
      "2/2 [==============================] - 0s 9ms/step - loss: 9.1221 - mae: 9.1221\n",
      "Epoch 241/500\n",
      "2/2 [==============================] - 0s 9ms/step - loss: 13.6267 - mae: 13.6267\n",
      "Epoch 242/500\n",
      "2/2 [==============================] - 0s 6ms/step - loss: 8.9827 - mae: 8.9827\n",
      "Epoch 243/500\n",
      "2/2 [==============================] - 0s 7ms/step - loss: 19.6331 - mae: 19.6331\n",
      "Epoch 244/500\n",
      "2/2 [==============================] - 0s 7ms/step - loss: 13.7942 - mae: 13.7942\n",
      "Epoch 245/500\n",
      "2/2 [==============================] - 0s 7ms/step - loss: 14.4613 - mae: 14.4613\n",
      "Epoch 246/500\n",
      "2/2 [==============================] - 0s 7ms/step - loss: 18.1101 - mae: 18.1101\n",
      "Epoch 247/500\n",
      "2/2 [==============================] - 0s 6ms/step - loss: 37.2408 - mae: 37.2408\n",
      "Epoch 248/500\n",
      "2/2 [==============================] - 0s 11ms/step - loss: 6.7769 - mae: 6.7769\n",
      "Epoch 249/500\n",
      "2/2 [==============================] - 0s 9ms/step - loss: 8.0060 - mae: 8.0060\n",
      "Epoch 250/500\n",
      "2/2 [==============================] - 0s 7ms/step - loss: 24.9642 - mae: 24.9642\n",
      "Epoch 251/500\n",
      "2/2 [==============================] - 0s 8ms/step - loss: 10.4335 - mae: 10.4335\n",
      "Epoch 252/500\n",
      "2/2 [==============================] - 0s 8ms/step - loss: 30.8304 - mae: 30.8304\n",
      "Epoch 253/500\n",
      "2/2 [==============================] - 0s 26ms/step - loss: 8.1449 - mae: 8.1449\n",
      "Epoch 254/500\n",
      "2/2 [==============================] - 0s 8ms/step - loss: 16.2986 - mae: 16.2986\n",
      "Epoch 255/500\n",
      "2/2 [==============================] - 0s 10ms/step - loss: 22.0447 - mae: 22.0447\n",
      "Epoch 256/500\n",
      "2/2 [==============================] - 0s 7ms/step - loss: 26.8205 - mae: 26.8205\n",
      "Epoch 257/500\n",
      "2/2 [==============================] - 0s 7ms/step - loss: 11.8841 - mae: 11.8841\n",
      "Epoch 258/500\n",
      "2/2 [==============================] - 0s 8ms/step - loss: 8.5073 - mae: 8.5073\n",
      "Epoch 259/500\n",
      "2/2 [==============================] - 0s 9ms/step - loss: 22.8202 - mae: 22.8202\n",
      "Epoch 260/500\n",
      "2/2 [==============================] - 0s 7ms/step - loss: 31.2887 - mae: 31.2887\n",
      "Epoch 261/500\n",
      "2/2 [==============================] - 0s 7ms/step - loss: 11.0961 - mae: 11.0961\n",
      "Epoch 262/500\n",
      "2/2 [==============================] - 0s 6ms/step - loss: 9.9633 - mae: 9.9633\n",
      "Epoch 263/500\n",
      "2/2 [==============================] - 0s 7ms/step - loss: 8.9130 - mae: 8.9130\n",
      "Epoch 264/500\n",
      "2/2 [==============================] - 0s 6ms/step - loss: 21.2298 - mae: 21.2298\n",
      "Epoch 265/500\n",
      "2/2 [==============================] - 0s 6ms/step - loss: 11.5458 - mae: 11.5458\n",
      "Epoch 266/500\n",
      "2/2 [==============================] - 0s 6ms/step - loss: 13.3982 - mae: 13.3982\n",
      "Epoch 267/500\n",
      "2/2 [==============================] - 0s 7ms/step - loss: 11.1439 - mae: 11.1439\n",
      "Epoch 268/500\n",
      "2/2 [==============================] - 0s 7ms/step - loss: 19.2923 - mae: 19.2923\n",
      "Epoch 269/500\n",
      "2/2 [==============================] - 0s 6ms/step - loss: 40.2950 - mae: 40.2950\n",
      "Epoch 270/500\n",
      "2/2 [==============================] - 0s 6ms/step - loss: 12.7160 - mae: 12.7160\n",
      "Epoch 271/500\n",
      "2/2 [==============================] - 0s 13ms/step - loss: 14.8098 - mae: 14.8098\n",
      "Epoch 272/500\n",
      "2/2 [==============================] - 0s 6ms/step - loss: 28.5888 - mae: 28.5888\n",
      "Epoch 273/500\n",
      "2/2 [==============================] - 0s 8ms/step - loss: 7.3021 - mae: 7.3021\n",
      "Epoch 274/500\n",
      "2/2 [==============================] - 0s 6ms/step - loss: 6.3728 - mae: 6.3728\n",
      "Epoch 275/500\n",
      "2/2 [==============================] - 0s 7ms/step - loss: 36.4919 - mae: 36.4919\n",
      "Epoch 276/500\n",
      "2/2 [==============================] - 0s 7ms/step - loss: 8.2678 - mae: 8.2678\n",
      "Epoch 277/500\n",
      "2/2 [==============================] - 0s 6ms/step - loss: 27.3759 - mae: 27.3759\n",
      "Epoch 278/500\n",
      "2/2 [==============================] - 0s 7ms/step - loss: 10.7563 - mae: 10.7563\n",
      "Epoch 279/500\n",
      "2/2 [==============================] - 0s 7ms/step - loss: 16.1726 - mae: 16.1726\n",
      "Epoch 280/500\n",
      "2/2 [==============================] - 0s 7ms/step - loss: 21.3665 - mae: 21.3665\n",
      "Epoch 281/500\n",
      "2/2 [==============================] - 0s 7ms/step - loss: 23.4804 - mae: 23.4804\n",
      "Epoch 282/500\n",
      "2/2 [==============================] - 0s 8ms/step - loss: 8.1890 - mae: 8.1890\n",
      "Epoch 283/500\n",
      "2/2 [==============================] - 0s 7ms/step - loss: 8.4091 - mae: 8.4091\n",
      "Epoch 284/500\n",
      "2/2 [==============================] - 0s 7ms/step - loss: 26.2064 - mae: 26.2064\n",
      "Epoch 285/500\n",
      "2/2 [==============================] - 0s 7ms/step - loss: 14.8352 - mae: 14.8352\n",
      "Epoch 286/500\n",
      "2/2 [==============================] - 0s 7ms/step - loss: 8.6678 - mae: 8.6678\n",
      "Epoch 287/500\n",
      "2/2 [==============================] - 0s 7ms/step - loss: 22.4716 - mae: 22.4716\n",
      "Epoch 288/500\n",
      "2/2 [==============================] - 0s 6ms/step - loss: 22.9257 - mae: 22.9257\n",
      "Epoch 289/500\n",
      "2/2 [==============================] - 0s 7ms/step - loss: 12.1803 - mae: 12.1803\n",
      "Epoch 290/500\n",
      "2/2 [==============================] - 0s 7ms/step - loss: 16.7403 - mae: 16.7403\n",
      "Epoch 291/500\n",
      "2/2 [==============================] - 0s 7ms/step - loss: 17.0690 - mae: 17.0690\n",
      "Epoch 292/500\n",
      "2/2 [==============================] - 0s 7ms/step - loss: 10.2301 - mae: 10.2301\n",
      "Epoch 293/500\n",
      "2/2 [==============================] - 0s 6ms/step - loss: 15.0035 - mae: 15.0035\n",
      "Epoch 294/500\n",
      "2/2 [==============================] - 0s 7ms/step - loss: 22.1580 - mae: 22.1580\n",
      "Epoch 295/500\n",
      "2/2 [==============================] - 0s 9ms/step - loss: 19.1785 - mae: 19.1785\n",
      "Epoch 296/500\n",
      "2/2 [==============================] - 0s 7ms/step - loss: 6.7080 - mae: 6.7080\n",
      "Epoch 297/500\n",
      "2/2 [==============================] - 0s 6ms/step - loss: 9.7236 - mae: 9.7236\n",
      "Epoch 298/500\n",
      "2/2 [==============================] - 0s 7ms/step - loss: 23.8611 - mae: 23.8611\n",
      "Epoch 299/500\n",
      "2/2 [==============================] - 0s 6ms/step - loss: 18.7637 - mae: 18.7637\n",
      "Epoch 300/500\n",
      "2/2 [==============================] - 0s 7ms/step - loss: 8.3024 - mae: 8.3024\n",
      "Epoch 301/500\n",
      "2/2 [==============================] - 0s 6ms/step - loss: 18.8696 - mae: 18.8696\n",
      "Epoch 302/500\n",
      "2/2 [==============================] - 0s 6ms/step - loss: 6.7958 - mae: 6.7958\n",
      "Epoch 303/500\n",
      "2/2 [==============================] - 0s 6ms/step - loss: 15.7937 - mae: 15.7937\n",
      "Epoch 304/500\n",
      "2/2 [==============================] - 0s 6ms/step - loss: 10.7299 - mae: 10.7299\n",
      "Epoch 305/500\n",
      "2/2 [==============================] - 0s 6ms/step - loss: 12.4554 - mae: 12.4554\n",
      "Epoch 306/500\n",
      "2/2 [==============================] - 0s 6ms/step - loss: 8.1988 - mae: 8.1988\n",
      "Epoch 307/500\n",
      "2/2 [==============================] - 0s 7ms/step - loss: 12.9043 - mae: 12.9043\n",
      "Epoch 308/500\n",
      "2/2 [==============================] - 0s 7ms/step - loss: 8.0584 - mae: 8.0584\n",
      "Epoch 309/500\n",
      "2/2 [==============================] - 0s 7ms/step - loss: 11.5425 - mae: 11.5425\n",
      "Epoch 310/500\n",
      "2/2 [==============================] - 0s 7ms/step - loss: 6.2585 - mae: 6.2585\n",
      "Epoch 311/500\n",
      "2/2 [==============================] - 0s 6ms/step - loss: 5.9229 - mae: 5.9229\n",
      "Epoch 312/500\n",
      "2/2 [==============================] - 0s 7ms/step - loss: 28.2801 - mae: 28.2801\n",
      "Epoch 313/500\n",
      "2/2 [==============================] - 0s 7ms/step - loss: 11.8228 - mae: 11.8228\n",
      "Epoch 314/500\n",
      "2/2 [==============================] - 0s 7ms/step - loss: 12.5996 - mae: 12.5996\n",
      "Epoch 315/500\n",
      "2/2 [==============================] - 0s 7ms/step - loss: 24.3421 - mae: 24.3421\n",
      "Epoch 316/500\n",
      "2/2 [==============================] - 0s 7ms/step - loss: 15.0967 - mae: 15.0967\n",
      "Epoch 317/500\n",
      "2/2 [==============================] - 0s 7ms/step - loss: 20.8997 - mae: 20.8997\n",
      "Epoch 318/500\n",
      "2/2 [==============================] - 0s 7ms/step - loss: 9.2748 - mae: 9.2748\n",
      "Epoch 319/500\n",
      "2/2 [==============================] - 0s 6ms/step - loss: 11.8736 - mae: 11.8736\n",
      "Epoch 320/500\n",
      "2/2 [==============================] - 0s 6ms/step - loss: 12.7339 - mae: 12.7339\n",
      "Epoch 321/500\n",
      "2/2 [==============================] - 0s 6ms/step - loss: 8.2304 - mae: 8.2304\n",
      "Epoch 322/500\n",
      "2/2 [==============================] - 0s 6ms/step - loss: 13.3674 - mae: 13.3674\n",
      "Epoch 323/500\n",
      "2/2 [==============================] - 0s 6ms/step - loss: 17.6092 - mae: 17.6092\n",
      "Epoch 324/500\n",
      "2/2 [==============================] - 0s 6ms/step - loss: 15.8640 - mae: 15.8640\n",
      "Epoch 325/500\n",
      "2/2 [==============================] - 0s 6ms/step - loss: 17.4883 - mae: 17.4883\n",
      "Epoch 326/500\n",
      "2/2 [==============================] - 0s 7ms/step - loss: 11.2044 - mae: 11.2044\n",
      "Epoch 327/500\n",
      "2/2 [==============================] - 0s 8ms/step - loss: 7.7504 - mae: 7.7504\n",
      "Epoch 328/500\n",
      "2/2 [==============================] - 0s 7ms/step - loss: 4.7812 - mae: 4.7812\n",
      "Epoch 329/500\n",
      "2/2 [==============================] - 0s 8ms/step - loss: 13.0609 - mae: 13.0609\n",
      "Epoch 330/500\n",
      "2/2 [==============================] - 0s 6ms/step - loss: 15.0799 - mae: 15.0799\n",
      "Epoch 331/500\n",
      "2/2 [==============================] - 0s 6ms/step - loss: 17.4484 - mae: 17.4484\n",
      "Epoch 332/500\n",
      "2/2 [==============================] - 0s 6ms/step - loss: 21.3112 - mae: 21.3112\n",
      "Epoch 333/500\n",
      "2/2 [==============================] - 0s 6ms/step - loss: 30.5238 - mae: 30.5238\n",
      "Epoch 334/500\n",
      "2/2 [==============================] - 0s 7ms/step - loss: 7.4630 - mae: 7.4630\n",
      "Epoch 335/500\n",
      "2/2 [==============================] - 0s 6ms/step - loss: 6.2201 - mae: 6.2201\n",
      "Epoch 336/500\n",
      "2/2 [==============================] - 0s 6ms/step - loss: 37.7180 - mae: 37.7180\n",
      "Epoch 337/500\n",
      "2/2 [==============================] - 0s 6ms/step - loss: 29.1531 - mae: 29.1531\n",
      "Epoch 338/500\n",
      "2/2 [==============================] - 0s 7ms/step - loss: 15.8118 - mae: 15.8118\n",
      "Epoch 339/500\n",
      "2/2 [==============================] - 0s 7ms/step - loss: 9.0555 - mae: 9.0555\n",
      "Epoch 340/500\n",
      "2/2 [==============================] - 0s 6ms/step - loss: 12.2404 - mae: 12.2404\n",
      "Epoch 341/500\n",
      "2/2 [==============================] - 0s 7ms/step - loss: 9.4877 - mae: 9.4877\n",
      "Epoch 342/500\n",
      "2/2 [==============================] - 0s 7ms/step - loss: 12.1205 - mae: 12.1205\n",
      "Epoch 343/500\n",
      "2/2 [==============================] - 0s 7ms/step - loss: 9.5653 - mae: 9.5653\n",
      "Epoch 344/500\n",
      "2/2 [==============================] - 0s 6ms/step - loss: 5.6096 - mae: 5.6096\n",
      "Epoch 345/500\n",
      "2/2 [==============================] - 0s 8ms/step - loss: 36.9827 - mae: 36.9827\n",
      "Epoch 346/500\n",
      "2/2 [==============================] - 0s 7ms/step - loss: 16.5988 - mae: 16.5988\n",
      "Epoch 347/500\n",
      "2/2 [==============================] - 0s 7ms/step - loss: 12.5998 - mae: 12.5998\n",
      "Epoch 348/500\n",
      "2/2 [==============================] - 0s 7ms/step - loss: 8.3013 - mae: 8.3013\n",
      "Epoch 349/500\n",
      "2/2 [==============================] - 0s 6ms/step - loss: 13.6582 - mae: 13.6582\n",
      "Epoch 350/500\n",
      "2/2 [==============================] - 0s 7ms/step - loss: 15.4678 - mae: 15.4678\n",
      "Epoch 351/500\n",
      "2/2 [==============================] - 0s 7ms/step - loss: 33.0302 - mae: 33.0302\n",
      "Epoch 352/500\n",
      "2/2 [==============================] - 0s 6ms/step - loss: 14.3002 - mae: 14.3002\n",
      "Epoch 353/500\n",
      "2/2 [==============================] - 0s 8ms/step - loss: 16.0064 - mae: 16.0064\n",
      "Epoch 354/500\n",
      "2/2 [==============================] - 0s 8ms/step - loss: 13.3625 - mae: 13.3625\n",
      "Epoch 355/500\n",
      "2/2 [==============================] - 0s 8ms/step - loss: 21.5125 - mae: 21.5125\n",
      "Epoch 356/500\n",
      "2/2 [==============================] - 0s 6ms/step - loss: 16.2407 - mae: 16.2407\n",
      "Epoch 357/500\n",
      "2/2 [==============================] - 0s 7ms/step - loss: 11.7832 - mae: 11.7832\n",
      "Epoch 358/500\n",
      "2/2 [==============================] - 0s 7ms/step - loss: 14.8712 - mae: 14.8712\n",
      "Epoch 359/500\n",
      "2/2 [==============================] - 0s 6ms/step - loss: 12.2487 - mae: 12.2487\n",
      "Epoch 360/500\n",
      "2/2 [==============================] - 0s 6ms/step - loss: 20.2155 - mae: 20.2155\n",
      "Epoch 361/500\n",
      "2/2 [==============================] - 0s 6ms/step - loss: 11.0933 - mae: 11.0933\n",
      "Epoch 362/500\n",
      "2/2 [==============================] - 0s 7ms/step - loss: 6.8154 - mae: 6.8154\n",
      "Epoch 363/500\n",
      "2/2 [==============================] - 0s 6ms/step - loss: 24.1288 - mae: 24.1288\n",
      "Epoch 364/500\n",
      "2/2 [==============================] - 0s 7ms/step - loss: 29.9366 - mae: 29.9366\n",
      "Epoch 365/500\n",
      "2/2 [==============================] - 0s 7ms/step - loss: 8.3937 - mae: 8.3937\n",
      "Epoch 366/500\n",
      "2/2 [==============================] - 0s 6ms/step - loss: 6.0782 - mae: 6.0782\n",
      "Epoch 367/500\n",
      "2/2 [==============================] - 0s 7ms/step - loss: 35.1381 - mae: 35.1381\n",
      "Epoch 368/500\n",
      "2/2 [==============================] - 0s 7ms/step - loss: 7.4392 - mae: 7.4392\n",
      "Epoch 369/500\n",
      "2/2 [==============================] - 0s 7ms/step - loss: 9.6832 - mae: 9.6832\n",
      "Epoch 370/500\n",
      "2/2 [==============================] - 0s 7ms/step - loss: 7.7834 - mae: 7.7834\n",
      "Epoch 371/500\n",
      "2/2 [==============================] - 0s 6ms/step - loss: 20.0725 - mae: 20.0725\n",
      "Epoch 372/500\n",
      "2/2 [==============================] - 0s 7ms/step - loss: 12.5181 - mae: 12.5181\n",
      "Epoch 373/500\n",
      "2/2 [==============================] - 0s 8ms/step - loss: 26.4243 - mae: 26.4243\n",
      "Epoch 374/500\n",
      "2/2 [==============================] - 0s 8ms/step - loss: 9.2452 - mae: 9.2452\n",
      "Epoch 375/500\n",
      "2/2 [==============================] - 0s 7ms/step - loss: 4.8763 - mae: 4.8763\n",
      "Epoch 376/500\n",
      "2/2 [==============================] - 0s 6ms/step - loss: 17.6337 - mae: 17.6337\n",
      "Epoch 377/500\n",
      "2/2 [==============================] - 0s 6ms/step - loss: 14.2550 - mae: 14.2550\n",
      "Epoch 378/500\n",
      "2/2 [==============================] - 0s 7ms/step - loss: 15.9057 - mae: 15.9057\n",
      "Epoch 379/500\n",
      "2/2 [==============================] - 0s 7ms/step - loss: 19.9739 - mae: 19.9739\n",
      "Epoch 380/500\n",
      "2/2 [==============================] - 0s 8ms/step - loss: 36.1923 - mae: 36.1923\n",
      "Epoch 381/500\n",
      "2/2 [==============================] - 0s 7ms/step - loss: 10.5521 - mae: 10.5521\n",
      "Epoch 382/500\n",
      "2/2 [==============================] - 0s 8ms/step - loss: 7.8104 - mae: 7.8104\n",
      "Epoch 383/500\n",
      "2/2 [==============================] - 0s 7ms/step - loss: 18.4047 - mae: 18.4047\n",
      "Epoch 384/500\n",
      "2/2 [==============================] - 0s 6ms/step - loss: 7.9282 - mae: 7.9282\n",
      "Epoch 385/500\n",
      "2/2 [==============================] - 0s 7ms/step - loss: 9.9888 - mae: 9.9888\n",
      "Epoch 386/500\n",
      "2/2 [==============================] - 0s 7ms/step - loss: 19.5144 - mae: 19.5144\n",
      "Epoch 387/500\n",
      "2/2 [==============================] - 0s 7ms/step - loss: 25.6435 - mae: 25.6435\n",
      "Epoch 388/500\n",
      "2/2 [==============================] - 0s 6ms/step - loss: 9.3573 - mae: 9.3573\n",
      "Epoch 389/500\n",
      "2/2 [==============================] - 0s 7ms/step - loss: 5.4297 - mae: 5.4297\n",
      "Epoch 390/500\n",
      "2/2 [==============================] - 0s 7ms/step - loss: 21.2401 - mae: 21.2401\n",
      "Epoch 391/500\n",
      "2/2 [==============================] - 0s 6ms/step - loss: 5.6094 - mae: 5.6094\n",
      "Epoch 392/500\n",
      "2/2 [==============================] - 0s 6ms/step - loss: 16.4105 - mae: 16.4105\n",
      "Epoch 393/500\n",
      "2/2 [==============================] - 0s 7ms/step - loss: 9.1942 - mae: 9.1942\n",
      "Epoch 394/500\n",
      "2/2 [==============================] - 0s 6ms/step - loss: 14.0752 - mae: 14.0752\n",
      "Epoch 395/500\n",
      "2/2 [==============================] - 0s 11ms/step - loss: 28.4559 - mae: 28.4559\n",
      "Epoch 396/500\n",
      "2/2 [==============================] - 0s 8ms/step - loss: 8.4299 - mae: 8.4299\n",
      "Epoch 397/500\n",
      "2/2 [==============================] - 0s 8ms/step - loss: 11.2764 - mae: 11.2764\n",
      "Epoch 398/500\n",
      "2/2 [==============================] - 0s 8ms/step - loss: 6.8426 - mae: 6.8426\n",
      "Epoch 399/500\n",
      "2/2 [==============================] - 0s 6ms/step - loss: 14.1744 - mae: 14.1744\n",
      "Epoch 400/500\n",
      "2/2 [==============================] - 0s 7ms/step - loss: 6.6511 - mae: 6.6511\n",
      "Epoch 401/500\n",
      "2/2 [==============================] - 0s 6ms/step - loss: 8.3790 - mae: 8.3790\n",
      "Epoch 402/500\n",
      "2/2 [==============================] - 0s 7ms/step - loss: 14.8853 - mae: 14.8853\n",
      "Epoch 403/500\n",
      "2/2 [==============================] - 0s 6ms/step - loss: 12.2974 - mae: 12.2974\n",
      "Epoch 404/500\n",
      "2/2 [==============================] - 0s 7ms/step - loss: 22.8701 - mae: 22.8701\n",
      "Epoch 405/500\n",
      "2/2 [==============================] - 0s 9ms/step - loss: 18.2206 - mae: 18.2206\n",
      "Epoch 406/500\n",
      "2/2 [==============================] - 0s 7ms/step - loss: 7.0181 - mae: 7.0181\n",
      "Epoch 407/500\n",
      "2/2 [==============================] - 0s 7ms/step - loss: 12.7200 - mae: 12.7200\n",
      "Epoch 408/500\n",
      "2/2 [==============================] - 0s 7ms/step - loss: 5.6045 - mae: 5.6045\n",
      "Epoch 409/500\n",
      "2/2 [==============================] - 0s 6ms/step - loss: 31.4858 - mae: 31.4858\n",
      "Epoch 410/500\n",
      "2/2 [==============================] - 0s 6ms/step - loss: 9.1587 - mae: 9.1587\n",
      "Epoch 411/500\n",
      "2/2 [==============================] - 0s 7ms/step - loss: 14.8045 - mae: 14.8045\n",
      "Epoch 412/500\n",
      "2/2 [==============================] - 0s 6ms/step - loss: 21.6559 - mae: 21.6559\n",
      "Epoch 413/500\n",
      "2/2 [==============================] - 0s 7ms/step - loss: 12.9045 - mae: 12.9045\n",
      "Epoch 414/500\n",
      "2/2 [==============================] - 0s 7ms/step - loss: 8.6849 - mae: 8.6849\n",
      "Epoch 415/500\n",
      "2/2 [==============================] - 0s 6ms/step - loss: 11.4648 - mae: 11.4648\n",
      "Epoch 416/500\n",
      "2/2 [==============================] - 0s 6ms/step - loss: 25.1402 - mae: 25.1402\n",
      "Epoch 417/500\n",
      "2/2 [==============================] - 0s 7ms/step - loss: 17.1552 - mae: 17.1552\n",
      "Epoch 418/500\n",
      "2/2 [==============================] - 0s 7ms/step - loss: 12.5656 - mae: 12.5656\n",
      "Epoch 419/500\n",
      "2/2 [==============================] - 0s 6ms/step - loss: 15.6985 - mae: 15.6985\n",
      "Epoch 420/500\n",
      "2/2 [==============================] - 0s 7ms/step - loss: 24.4087 - mae: 24.4087\n",
      "Epoch 421/500\n",
      "2/2 [==============================] - 0s 7ms/step - loss: 18.3096 - mae: 18.3096\n",
      "Epoch 422/500\n",
      "2/2 [==============================] - 0s 9ms/step - loss: 8.5831 - mae: 8.5831\n",
      "Epoch 423/500\n",
      "2/2 [==============================] - 0s 7ms/step - loss: 24.5989 - mae: 24.5989\n",
      "Epoch 424/500\n",
      "2/2 [==============================] - 0s 7ms/step - loss: 16.9690 - mae: 16.9690\n",
      "Epoch 425/500\n",
      "2/2 [==============================] - 0s 7ms/step - loss: 7.2820 - mae: 7.2820\n",
      "Epoch 426/500\n",
      "2/2 [==============================] - 0s 6ms/step - loss: 21.1738 - mae: 21.1738\n",
      "Epoch 427/500\n",
      "2/2 [==============================] - 0s 7ms/step - loss: 6.4791 - mae: 6.4791\n",
      "Epoch 428/500\n",
      "2/2 [==============================] - 0s 7ms/step - loss: 13.6026 - mae: 13.6026\n",
      "Epoch 429/500\n",
      "2/2 [==============================] - 0s 6ms/step - loss: 11.5786 - mae: 11.5786\n",
      "Epoch 430/500\n",
      "2/2 [==============================] - 0s 6ms/step - loss: 10.3240 - mae: 10.3240\n",
      "Epoch 431/500\n",
      "2/2 [==============================] - 0s 7ms/step - loss: 11.8638 - mae: 11.8638\n",
      "Epoch 432/500\n",
      "2/2 [==============================] - 0s 7ms/step - loss: 7.4371 - mae: 7.4371\n",
      "Epoch 433/500\n",
      "2/2 [==============================] - 0s 6ms/step - loss: 14.6859 - mae: 14.6859\n",
      "Epoch 434/500\n",
      "2/2 [==============================] - 0s 7ms/step - loss: 17.7423 - mae: 17.7423\n",
      "Epoch 435/500\n",
      "2/2 [==============================] - 0s 6ms/step - loss: 10.3849 - mae: 10.3849\n",
      "Epoch 436/500\n",
      "2/2 [==============================] - 0s 7ms/step - loss: 28.6524 - mae: 28.6524\n",
      "Epoch 437/500\n",
      "2/2 [==============================] - 0s 6ms/step - loss: 7.4263 - mae: 7.4263\n",
      "Epoch 438/500\n",
      "2/2 [==============================] - 0s 6ms/step - loss: 13.1028 - mae: 13.1028\n",
      "Epoch 439/500\n",
      "2/2 [==============================] - 0s 7ms/step - loss: 34.0590 - mae: 34.0590\n",
      "Epoch 440/500\n",
      "2/2 [==============================] - 0s 8ms/step - loss: 15.6270 - mae: 15.6270\n",
      "Epoch 441/500\n",
      "2/2 [==============================] - 0s 8ms/step - loss: 18.1401 - mae: 18.1401\n",
      "Epoch 442/500\n",
      "2/2 [==============================] - 0s 6ms/step - loss: 27.4999 - mae: 27.4999\n",
      "Epoch 443/500\n",
      "2/2 [==============================] - 0s 7ms/step - loss: 10.4837 - mae: 10.4837\n",
      "Epoch 444/500\n",
      "2/2 [==============================] - 0s 7ms/step - loss: 6.2881 - mae: 6.2881\n",
      "Epoch 445/500\n",
      "2/2 [==============================] - 0s 7ms/step - loss: 7.7788 - mae: 7.7788\n",
      "Epoch 446/500\n",
      "2/2 [==============================] - 0s 7ms/step - loss: 15.8726 - mae: 15.8726\n",
      "Epoch 447/500\n",
      "2/2 [==============================] - 0s 6ms/step - loss: 15.0848 - mae: 15.0848\n",
      "Epoch 448/500\n",
      "2/2 [==============================] - 0s 6ms/step - loss: 11.8764 - mae: 11.8764\n",
      "Epoch 449/500\n",
      "2/2 [==============================] - 0s 6ms/step - loss: 15.0126 - mae: 15.0126\n",
      "Epoch 450/500\n",
      "2/2 [==============================] - 0s 6ms/step - loss: 17.7446 - mae: 17.7446\n",
      "Epoch 451/500\n",
      "2/2 [==============================] - 0s 6ms/step - loss: 14.6726 - mae: 14.6726\n",
      "Epoch 452/500\n",
      "2/2 [==============================] - 0s 7ms/step - loss: 31.4636 - mae: 31.4636\n",
      "Epoch 453/500\n",
      "2/2 [==============================] - 0s 7ms/step - loss: 11.0349 - mae: 11.0349\n",
      "Epoch 454/500\n",
      "2/2 [==============================] - 0s 6ms/step - loss: 26.7279 - mae: 26.7279\n",
      "Epoch 455/500\n",
      "2/2 [==============================] - 0s 6ms/step - loss: 12.6524 - mae: 12.6524\n",
      "Epoch 456/500\n",
      "2/2 [==============================] - 0s 7ms/step - loss: 15.2066 - mae: 15.2066\n",
      "Epoch 457/500\n",
      "2/2 [==============================] - 0s 7ms/step - loss: 18.8169 - mae: 18.8169\n",
      "Epoch 458/500\n",
      "2/2 [==============================] - 0s 9ms/step - loss: 24.0094 - mae: 24.0094\n",
      "Epoch 459/500\n",
      "2/2 [==============================] - 0s 7ms/step - loss: 17.3315 - mae: 17.3315\n",
      "Epoch 460/500\n",
      "2/2 [==============================] - 0s 7ms/step - loss: 4.6580 - mae: 4.6580\n",
      "Epoch 461/500\n",
      "2/2 [==============================] - 0s 7ms/step - loss: 17.0651 - mae: 17.0651\n",
      "Epoch 462/500\n",
      "2/2 [==============================] - 0s 6ms/step - loss: 13.9666 - mae: 13.9666\n",
      "Epoch 463/500\n",
      "2/2 [==============================] - 0s 7ms/step - loss: 30.5169 - mae: 30.5169\n",
      "Epoch 464/500\n",
      "2/2 [==============================] - 0s 13ms/step - loss: 9.2944 - mae: 9.2944\n",
      "Epoch 465/500\n",
      "2/2 [==============================] - 0s 11ms/step - loss: 20.5852 - mae: 20.5852\n",
      "Epoch 466/500\n",
      "2/2 [==============================] - 0s 7ms/step - loss: 27.1931 - mae: 27.1931\n",
      "Epoch 467/500\n",
      "2/2 [==============================] - 0s 7ms/step - loss: 16.7835 - mae: 16.7835\n",
      "Epoch 468/500\n",
      "2/2 [==============================] - 0s 7ms/step - loss: 10.2793 - mae: 10.2793\n",
      "Epoch 469/500\n",
      "2/2 [==============================] - 0s 6ms/step - loss: 27.1319 - mae: 27.1319\n",
      "Epoch 470/500\n",
      "2/2 [==============================] - 0s 6ms/step - loss: 13.1165 - mae: 13.1165\n",
      "Epoch 471/500\n",
      "2/2 [==============================] - 0s 7ms/step - loss: 10.9194 - mae: 10.9194\n",
      "Epoch 472/500\n",
      "2/2 [==============================] - 0s 7ms/step - loss: 15.2689 - mae: 15.2689\n",
      "Epoch 473/500\n",
      "2/2 [==============================] - 0s 6ms/step - loss: 19.0247 - mae: 19.0247\n",
      "Epoch 474/500\n",
      "2/2 [==============================] - 0s 7ms/step - loss: 39.8135 - mae: 39.8135\n",
      "Epoch 475/500\n",
      "2/2 [==============================] - 0s 7ms/step - loss: 16.3852 - mae: 16.3852\n",
      "Epoch 476/500\n",
      "2/2 [==============================] - 0s 6ms/step - loss: 13.3976 - mae: 13.3976\n",
      "Epoch 477/500\n",
      "2/2 [==============================] - 0s 6ms/step - loss: 29.6706 - mae: 29.6706\n",
      "Epoch 478/500\n",
      "2/2 [==============================] - 0s 7ms/step - loss: 3.0588 - mae: 3.0588\n",
      "Epoch 479/500\n",
      "2/2 [==============================] - 0s 8ms/step - loss: 10.4882 - mae: 10.4882\n",
      "Epoch 480/500\n",
      "2/2 [==============================] - 0s 7ms/step - loss: 17.6745 - mae: 17.6745\n",
      "Epoch 481/500\n",
      "2/2 [==============================] - 0s 6ms/step - loss: 15.6308 - mae: 15.6308\n",
      "Epoch 482/500\n",
      "2/2 [==============================] - 0s 6ms/step - loss: 20.9246 - mae: 20.9246\n",
      "Epoch 483/500\n",
      "2/2 [==============================] - 0s 7ms/step - loss: 26.3078 - mae: 26.3078\n",
      "Epoch 484/500\n",
      "2/2 [==============================] - 0s 6ms/step - loss: 24.9499 - mae: 24.9499\n",
      "Epoch 485/500\n",
      "2/2 [==============================] - 0s 7ms/step - loss: 5.9062 - mae: 5.9062\n",
      "Epoch 486/500\n",
      "2/2 [==============================] - 0s 7ms/step - loss: 21.0389 - mae: 21.0389\n",
      "Epoch 487/500\n",
      "2/2 [==============================] - 0s 6ms/step - loss: 13.9269 - mae: 13.9269\n",
      "Epoch 488/500\n",
      "2/2 [==============================] - 0s 7ms/step - loss: 30.3979 - mae: 30.3979\n",
      "Epoch 489/500\n",
      "2/2 [==============================] - 0s 7ms/step - loss: 11.5976 - mae: 11.5976\n",
      "Epoch 490/500\n",
      "2/2 [==============================] - 0s 7ms/step - loss: 12.3789 - mae: 12.3789\n",
      "Epoch 491/500\n",
      "2/2 [==============================] - 0s 6ms/step - loss: 23.4889 - mae: 23.4889\n",
      "Epoch 492/500\n",
      "2/2 [==============================] - 0s 10ms/step - loss: 20.8553 - mae: 20.8553\n",
      "Epoch 493/500\n",
      "2/2 [==============================] - 0s 7ms/step - loss: 5.0278 - mae: 5.0278\n",
      "Epoch 494/500\n",
      "2/2 [==============================] - 0s 7ms/step - loss: 13.0613 - mae: 13.0613\n",
      "Epoch 495/500\n",
      "2/2 [==============================] - 0s 6ms/step - loss: 13.2553 - mae: 13.2553\n",
      "Epoch 496/500\n",
      "2/2 [==============================] - 0s 7ms/step - loss: 12.5855 - mae: 12.5855\n",
      "Epoch 497/500\n",
      "2/2 [==============================] - 0s 7ms/step - loss: 17.4577 - mae: 17.4577\n",
      "Epoch 498/500\n",
      "2/2 [==============================] - 0s 6ms/step - loss: 23.9125 - mae: 23.9125\n",
      "Epoch 499/500\n",
      "2/2 [==============================] - 0s 7ms/step - loss: 9.6637 - mae: 9.6637\n",
      "Epoch 500/500\n",
      "2/2 [==============================] - 0s 7ms/step - loss: 14.5850 - mae: 14.5850\n"
     ]
    },
    {
     "data": {
      "text/plain": "<keras.src.callbacks.History at 0x29ac8bf70>"
     },
     "execution_count": 198,
     "metadata": {},
     "output_type": "execute_result"
    }
   ],
   "source": [
    "tf.random.set_seed(42)\n",
    "model_3 = tf.keras.Sequential([\n",
    "    tf.keras.layers.Dense(25),\n",
    "    tf.keras.layers.Dense(1)\n",
    "])\n",
    "model_3.compile(loss=tf.keras.losses.mae,\n",
    "                optimizer=\"SGD\",\n",
    "                metrics=[\"mae\"])\n",
    "model_3.fit(X_train_expanded, y_train, epochs=500)"
   ],
   "metadata": {
    "collapsed": false,
    "ExecuteTime": {
     "end_time": "2023-09-11T06:23:08.154324Z",
     "start_time": "2023-09-11T06:23:00.458640Z"
    }
   },
   "id": "1fd30b3d07033b71"
  },
  {
   "cell_type": "code",
   "execution_count": 199,
   "outputs": [
    {
     "name": "stdout",
     "output_type": "stream",
     "text": [
      "1/1 [==============================] - 0s 41ms/step\n"
     ]
    },
    {
     "name": "stderr",
     "output_type": "stream",
     "text": [
      "2023-09-11 01:23:58.084055: I tensorflow/core/grappler/optimizers/custom_graph_optimizer_registry.cc:114] Plugin optimizer for device_type GPU is enabled.\n"
     ]
    },
    {
     "data": {
      "text/plain": "<Figure size 1000x700 with 1 Axes>",
      "image/png": "[encoded data removed]"
     },
     "metadata": {},
     "output_type": "display_data"
    }
   ],
   "source": [
    "y_pred_3 = model_3.predict(X_test)\n",
    "plot_predictions(predictions=y_pred_3)"
   ],
   "metadata": {
    "collapsed": false,
    "ExecuteTime": {
     "end_time": "2023-09-11T06:23:58.254876Z",
     "start_time": "2023-09-11T06:23:58.017172Z"
    }
   },
   "id": "530a7e75e286cf8d"
  },
  {
   "cell_type": "code",
   "execution_count": 200,
   "outputs": [
    {
     "data": {
      "text/plain": "(<tf.Tensor: shape=(), dtype=float32, numpy=68.54983>,\n <tf.Tensor: shape=(), dtype=float32, numpy=4785.217>)"
     },
     "execution_count": 200,
     "metadata": {},
     "output_type": "execute_result"
    }
   ],
   "source": [
    "mae_3 = mae(y_test, y_pred_3)\n",
    "mse_3 = mse(y_test, y_pred_3)\n",
    "mae_3, mse_3"
   ],
   "metadata": {
    "collapsed": false,
    "ExecuteTime": {
     "end_time": "2023-09-11T06:25:12.162471Z",
     "start_time": "2023-09-11T06:25:12.058885Z"
    }
   },
   "id": "50e90ccc1b479d36"
  },
  {
   "cell_type": "markdown",
   "source": [
    "***Note:*** We need to start with small experiments (small models) then we scale it up."
   ],
   "metadata": {
    "collapsed": false
   },
   "id": "31bac33943500e72"
  },
  {
   "cell_type": "markdown",
   "source": [
    "#### Comparing the results of our experiments\n",
    "\n",
    "- Let's compare the results of all the models experiments"
   ],
   "metadata": {
    "collapsed": false
   },
   "id": "cdb60a6489d10302"
  },
  {
   "cell_type": "code",
   "execution_count": 201,
   "outputs": [
    {
     "data": {
      "text/plain": "     model        mae          mse\n0  model_1  30.612915   947.579895\n1  model_2   2.886618    11.042463\n2  model_3  68.549828  4785.216797",
      "text/html": "<div>\n<style scoped>\n    .dataframe tbody tr th:only-of-type {\n        vertical-align: middle;\n    }\n\n    .dataframe tbody tr th {\n        vertical-align: top;\n    }\n\n    .dataframe thead th {\n        text-align: right;\n    }\n</style>\n<table border=\"1\" class=\"dataframe\">\n  <thead>\n    <tr style=\"text-align: right;\">\n      <th></th>\n      <th>model</th>\n      <th>mae</th>\n      <th>mse</th>\n    </tr>\n  </thead>\n  <tbody>\n    <tr>\n      <th>0</th>\n      <td>model_1</td>\n      <td>30.612915</td>\n      <td>947.579895</td>\n    </tr>\n    <tr>\n      <th>1</th>\n      <td>model_2</td>\n      <td>2.886618</td>\n      <td>11.042463</td>\n    </tr>\n    <tr>\n      <th>2</th>\n      <td>model_3</td>\n      <td>68.549828</td>\n      <td>4785.216797</td>\n    </tr>\n  </tbody>\n</table>\n</div>"
     },
     "execution_count": 201,
     "metadata": {},
     "output_type": "execute_result"
    }
   ],
   "source": [
    "# Let's compare our models results using the pandas dataframe\n",
    "import pandas as pd\n",
    "\n",
    "model_results = [\n",
    "    [\"model_1\", mae_1.numpy(), mse_1.numpy()],\n",
    "    [\"model_2\", mae_2.numpy(), mse_2.numpy()],\n",
    "    [\"model_3\", mae_3.numpy(), mse_3.numpy()],\n",
    "]\n",
    "all_results = pd.DataFrame(model_results, columns=[\"model\", \"mae\", \"mse\"])\n",
    "all_results"
   ],
   "metadata": {
    "collapsed": false,
    "ExecuteTime": {
     "end_time": "2023-09-11T06:31:06.564825Z",
     "start_time": "2023-09-11T06:31:06.423578Z"
    }
   },
   "id": "f46e25537812e7d9"
  },
  {
   "cell_type": "markdown",
   "source": [
    "Looks like `model_2` performed the best"
   ],
   "metadata": {
    "collapsed": false
   },
   "id": "d042b31ad4657eaf"
  },
  {
   "cell_type": "code",
   "execution_count": 203,
   "outputs": [
    {
     "name": "stdout",
     "output_type": "stream",
     "text": [
      "Model: \"sequential_7\"\n",
      "_________________________________________________________________\n",
      " Layer (type)                Output Shape              Param #   \n",
      "=================================================================\n",
      " dense_19 (Dense)            (None, 25)                50        \n",
      "                                                                 \n",
      " dense_20 (Dense)            (None, 1)                 26        \n",
      "                                                                 \n",
      "=================================================================\n",
      "Total params: 76 (304.00 Byte)\n",
      "Trainable params: 76 (304.00 Byte)\n",
      "Non-trainable params: 0 (0.00 Byte)\n",
      "_________________________________________________________________\n"
     ]
    }
   ],
   "source": [
    "model_2.summary()"
   ],
   "metadata": {
    "collapsed": false,
    "ExecuteTime": {
     "end_time": "2023-09-11T06:32:11.022060Z",
     "start_time": "2023-09-11T06:32:10.984899Z"
    }
   },
   "id": "289f2061899a67e6"
  },
  {
   "cell_type": "markdown",
   "source": [
    "> ***Note:*** One of the main goals should be to minimize the time between your experiments. The more experiments you do, the more things you'll figure out which don't work and in turn, get closer to figuring out what does work."
   ],
   "metadata": {
    "collapsed": false
   },
   "id": "595b0cc49502260f"
  },
  {
   "cell_type": "markdown",
   "source": [
    "### Tracking you experiments\n",
    "\n",
    "One perfect habit in machine learning modelling is to track the results of your experiments.\n",
    "\n",
    "And when doing so, it can be tedious if you're running lots of experiments.\n",
    "\n",
    "Luckily, there are tools to help us!\n",
    "\n",
    "📖 **Resource:** As you build more models, you'll want to look into using:\n",
    "\n",
    "* TensorBoard - a component of the TensorFlow library to help track modelling experiments (we'll see this later).\n",
    "* Weights & Biases - a tool for tracking all of kinds of machine learning experiments (plugs straight into TensorBoard)"
   ],
   "metadata": {
    "collapsed": false
   },
   "id": "ea54e688d58c1d5"
  },
  {
   "cell_type": "markdown",
   "source": [
    "### Saving our models\n",
    "\n",
    "Saving our models allows us to use them outside our notebook say in a website or a mobile application.\n",
    "\n",
    "There are 2 formats that we can save our model to:\n",
    "1. The SavedModel format.\n",
    "2. The HDF5 format."
   ],
   "metadata": {
    "collapsed": false
   },
   "id": "f9995f27946c8cdb"
  },
  {
   "cell_type": "code",
   "execution_count": 204,
   "outputs": [
    {
     "name": "stdout",
     "output_type": "stream",
     "text": [
      "INFO:tensorflow:Assets written to: best_line_predictor_SavedModel_format/assets\n"
     ]
    },
    {
     "name": "stderr",
     "output_type": "stream",
     "text": [
      "INFO:tensorflow:Assets written to: best_line_predictor_SavedModel_format/assets\n"
     ]
    }
   ],
   "source": [
    "# Saving in SavedModel format\n",
    "model_2.save('best_line_predictor_SavedModel_format')"
   ],
   "metadata": {
    "collapsed": false,
    "ExecuteTime": {
     "end_time": "2023-09-11T06:45:05.093635Z",
     "start_time": "2023-09-11T06:45:04.218896Z"
    }
   },
   "id": "d339562928811f50"
  },
  {
   "cell_type": "code",
   "execution_count": 206,
   "outputs": [
    {
     "name": "stderr",
     "output_type": "stream",
     "text": [
      "/Users/jeevavighnesh/miniconda3/envs/tensorflow/lib/python3.10/site-packages/keras/src/engine/training.py:3000: UserWarning: You are saving your model as an HDF5 file via `model.save()`. This file format is considered legacy. We recommend using instead the native Keras format, e.g. `model.save('my_model.keras')`.\n",
      "  saving_api.save_model(\n"
     ]
    }
   ],
   "source": [
    "# Saving model in HDF5 format\n",
    "model_2.save(\"best_line_predictor.h5\")"
   ],
   "metadata": {
    "collapsed": false,
    "ExecuteTime": {
     "end_time": "2023-09-11T06:48:25.753439Z",
     "start_time": "2023-09-11T06:48:25.697804Z"
    }
   },
   "id": "703a662ab97f263a"
  },
  {
   "cell_type": "markdown",
   "source": [
    "### Loading the model to test the saved model"
   ],
   "metadata": {
    "collapsed": false
   },
   "id": "13124e0a427f0f17"
  },
  {
   "cell_type": "code",
   "execution_count": 207,
   "outputs": [
    {
     "name": "stdout",
     "output_type": "stream",
     "text": [
      "Model: \"sequential_7\"\n",
      "_________________________________________________________________\n",
      " Layer (type)                Output Shape              Param #   \n",
      "=================================================================\n",
      " dense_19 (Dense)            (None, 25)                50        \n",
      "                                                                 \n",
      " dense_20 (Dense)            (None, 1)                 26        \n",
      "                                                                 \n",
      "=================================================================\n",
      "Total params: 76 (304.00 Byte)\n",
      "Trainable params: 76 (304.00 Byte)\n",
      "Non-trainable params: 0 (0.00 Byte)\n",
      "_________________________________________________________________\n"
     ]
    }
   ],
   "source": [
    "# Load in the SavedModel format model\n",
    "loaded_SavedModel_format = tf.keras.models.load_model(\"best_line_predictor_SavedModel_format\")\n",
    "loaded_SavedModel_format.summary()"
   ],
   "metadata": {
    "collapsed": false,
    "ExecuteTime": {
     "end_time": "2023-09-11T06:51:34.014847Z",
     "start_time": "2023-09-11T06:51:33.519494Z"
    }
   },
   "id": "7116157f7675c4d3"
  },
  {
   "cell_type": "code",
   "execution_count": 208,
   "outputs": [
    {
     "name": "stdout",
     "output_type": "stream",
     "text": [
      "Model: \"sequential_7\"\n",
      "_________________________________________________________________\n",
      " Layer (type)                Output Shape              Param #   \n",
      "=================================================================\n",
      " dense_19 (Dense)            (None, 25)                50        \n",
      "                                                                 \n",
      " dense_20 (Dense)            (None, 1)                 26        \n",
      "                                                                 \n",
      "=================================================================\n",
      "Total params: 76 (304.00 Byte)\n",
      "Trainable params: 76 (304.00 Byte)\n",
      "Non-trainable params: 0 (0.00 Byte)\n",
      "_________________________________________________________________\n"
     ]
    }
   ],
   "source": [
    "model_2.summary()"
   ],
   "metadata": {
    "collapsed": false,
    "ExecuteTime": {
     "end_time": "2023-09-11T06:51:44.120667Z",
     "start_time": "2023-09-11T06:51:44.010050Z"
    }
   },
   "id": "fe2c81f828152d86"
  },
  {
   "cell_type": "code",
   "execution_count": 209,
   "outputs": [
    {
     "name": "stdout",
     "output_type": "stream",
     "text": [
      "1/1 [==============================] - 0s 226ms/step\n",
      "1/1 [==============================] - 0s 43ms/step\n"
     ]
    },
    {
     "name": "stderr",
     "output_type": "stream",
     "text": [
      "2023-09-11 01:54:06.100218: I tensorflow/core/grappler/optimizers/custom_graph_optimizer_registry.cc:114] Plugin optimizer for device_type GPU is enabled.\n",
      "2023-09-11 01:54:06.263952: I tensorflow/core/grappler/optimizers/custom_graph_optimizer_registry.cc:114] Plugin optimizer for device_type GPU is enabled.\n"
     ]
    },
    {
     "data": {
      "text/plain": "array([[ True],\n       [ True],\n       [ True],\n       [ True],\n       [ True],\n       [ True],\n       [ True],\n       [ True],\n       [ True],\n       [ True]])"
     },
     "execution_count": 209,
     "metadata": {},
     "output_type": "execute_result"
    }
   ],
   "source": [
    "model_2_preds = model_2.predict(X_test)\n",
    "loaded_SavedModel_preds = loaded_SavedModel_format.predict(X_test)\n",
    "model_2_preds == loaded_SavedModel_preds"
   ],
   "metadata": {
    "collapsed": false,
    "ExecuteTime": {
     "end_time": "2023-09-11T06:54:06.286296Z",
     "start_time": "2023-09-11T06:54:05.934083Z"
    }
   },
   "id": "9433bbd094e628d4"
  },
  {
   "cell_type": "code",
   "execution_count": 210,
   "outputs": [
    {
     "data": {
      "text/plain": "<tf.Tensor: shape=(), dtype=bool, numpy=True>"
     },
     "execution_count": 210,
     "metadata": {},
     "output_type": "execute_result"
    }
   ],
   "source": [
    "mae(y_test, model_2_preds) == mae(y_test, loaded_SavedModel_preds)"
   ],
   "metadata": {
    "collapsed": false,
    "ExecuteTime": {
     "end_time": "2023-09-11T06:55:27.024556Z",
     "start_time": "2023-09-11T06:55:26.832046Z"
    }
   },
   "id": "6b657a989462666b"
  },
  {
   "cell_type": "code",
   "execution_count": 211,
   "outputs": [
    {
     "name": "stdout",
     "output_type": "stream",
     "text": [
      "Model: \"sequential_7\"\n",
      "_________________________________________________________________\n",
      " Layer (type)                Output Shape              Param #   \n",
      "=================================================================\n",
      " dense_19 (Dense)            (None, 25)                50        \n",
      "                                                                 \n",
      " dense_20 (Dense)            (None, 1)                 26        \n",
      "                                                                 \n",
      "=================================================================\n",
      "Total params: 76 (304.00 Byte)\n",
      "Trainable params: 76 (304.00 Byte)\n",
      "Non-trainable params: 0 (0.00 Byte)\n",
      "_________________________________________________________________\n"
     ]
    }
   ],
   "source": [
    "# Loading the model from the h5 format\n",
    "loaded_h5_format = tf.keras.models.load_model(\"best_line_predictor.h5\")\n",
    "loaded_h5_format.summary()"
   ],
   "metadata": {
    "collapsed": false,
    "ExecuteTime": {
     "end_time": "2023-09-11T06:58:19.201657Z",
     "start_time": "2023-09-11T06:58:19.042426Z"
    }
   },
   "id": "978fd64af16d0e20"
  },
  {
   "cell_type": "code",
   "execution_count": 212,
   "outputs": [
    {
     "name": "stdout",
     "output_type": "stream",
     "text": [
      "Model: \"sequential_7\"\n",
      "_________________________________________________________________\n",
      " Layer (type)                Output Shape              Param #   \n",
      "=================================================================\n",
      " dense_19 (Dense)            (None, 25)                50        \n",
      "                                                                 \n",
      " dense_20 (Dense)            (None, 1)                 26        \n",
      "                                                                 \n",
      "=================================================================\n",
      "Total params: 76 (304.00 Byte)\n",
      "Trainable params: 76 (304.00 Byte)\n",
      "Non-trainable params: 0 (0.00 Byte)\n",
      "_________________________________________________________________\n"
     ]
    }
   ],
   "source": [
    "model_2.summary()"
   ],
   "metadata": {
    "collapsed": false,
    "ExecuteTime": {
     "end_time": "2023-09-11T06:58:34.008361Z",
     "start_time": "2023-09-11T06:58:33.856147Z"
    }
   },
   "id": "e2fc0a885d73c248"
  },
  {
   "cell_type": "code",
   "execution_count": 213,
   "outputs": [
    {
     "name": "stdout",
     "output_type": "stream",
     "text": [
      "1/1 [==============================] - 0s 138ms/step\n",
      "1/1 [==============================] - 0s 23ms/step\n"
     ]
    },
    {
     "name": "stderr",
     "output_type": "stream",
     "text": [
      "2023-09-11 01:59:45.985393: I tensorflow/core/grappler/optimizers/custom_graph_optimizer_registry.cc:114] Plugin optimizer for device_type GPU is enabled.\n"
     ]
    },
    {
     "data": {
      "text/plain": "array([[ True],\n       [ True],\n       [ True],\n       [ True],\n       [ True],\n       [ True],\n       [ True],\n       [ True],\n       [ True],\n       [ True]])"
     },
     "execution_count": 213,
     "metadata": {},
     "output_type": "execute_result"
    }
   ],
   "source": [
    "loaded_h5_preds = loaded_h5_format.predict(X_test)\n",
    "model_2_preds = model_2.predict(X_test)\n",
    "model_2_preds == loaded_h5_preds"
   ],
   "metadata": {
    "collapsed": false,
    "ExecuteTime": {
     "end_time": "2023-09-11T06:59:46.189425Z",
     "start_time": "2023-09-11T06:59:45.864821Z"
    }
   },
   "id": "58fb58eed9c70eb3"
  },
  {
   "cell_type": "markdown",
   "source": [
    "# A larger real world example\n",
    "\n",
    "## [Medical Cost dataset from kaggle](https://www.kaggle.com/datasets/mirichoi0218/insurance)\n",
    "\n",
    "We can directly import the dataset from this raw github link pinting to the csv [insurance.csv](https://raw.githubusercontent.com/stedy/Machine-Learning-with-R-datasets/master/insurance.csv)"
   ],
   "metadata": {
    "collapsed": false
   },
   "id": "107fb458e8313256"
  },
  {
   "cell_type": "code",
   "execution_count": 342,
   "outputs": [],
   "source": [
    "# Import required libraries\n",
    "import tensorflow as tf\n",
    "import pandas as pd\n",
    "import matplotlib.pyplot as plt"
   ],
   "metadata": {
    "collapsed": false,
    "ExecuteTime": {
     "end_time": "2023-09-11T09:00:39.433800Z",
     "start_time": "2023-09-11T09:00:39.384894Z"
    }
   },
   "id": "1846c1935c992fad"
  },
  {
   "cell_type": "code",
   "execution_count": 343,
   "outputs": [],
   "source": [
    "RANDOM_STATE = 42"
   ],
   "metadata": {
    "collapsed": false,
    "ExecuteTime": {
     "end_time": "2023-09-11T09:00:39.936121Z",
     "start_time": "2023-09-11T09:00:39.829607Z"
    }
   },
   "id": "5d12373a86554688"
  },
  {
   "cell_type": "code",
   "execution_count": 344,
   "outputs": [
    {
     "data": {
      "text/plain": "      age     sex     bmi  children smoker     region      charges\n0      19  female  27.900         0    yes  southwest  16884.92400\n1      18    male  33.770         1     no  southeast   1725.55230\n2      28    male  33.000         3     no  southeast   4449.46200\n3      33    male  22.705         0     no  northwest  21984.47061\n4      32    male  28.880         0     no  northwest   3866.85520\n...   ...     ...     ...       ...    ...        ...          ...\n1333   50    male  30.970         3     no  northwest  10600.54830\n1334   18  female  31.920         0     no  northeast   2205.98080\n1335   18  female  36.850         0     no  southeast   1629.83350\n1336   21  female  25.800         0     no  southwest   2007.94500\n1337   61  female  29.070         0    yes  northwest  29141.36030\n\n[1338 rows x 7 columns]",
      "text/html": "<div>\n<style scoped>\n    .dataframe tbody tr th:only-of-type {\n        vertical-align: middle;\n    }\n\n    .dataframe tbody tr th {\n        vertical-align: top;\n    }\n\n    .dataframe thead th {\n        text-align: right;\n    }\n</style>\n<table border=\"1\" class=\"dataframe\">\n  <thead>\n    <tr style=\"text-align: right;\">\n      <th></th>\n      <th>age</th>\n      <th>sex</th>\n      <th>bmi</th>\n      <th>children</th>\n      <th>smoker</th>\n      <th>region</th>\n      <th>charges</th>\n    </tr>\n  </thead>\n  <tbody>\n    <tr>\n      <th>0</th>\n      <td>19</td>\n      <td>female</td>\n      <td>27.900</td>\n      <td>0</td>\n      <td>yes</td>\n      <td>southwest</td>\n      <td>16884.92400</td>\n    </tr>\n    <tr>\n      <th>1</th>\n      <td>18</td>\n      <td>male</td>\n      <td>33.770</td>\n      <td>1</td>\n      <td>no</td>\n      <td>southeast</td>\n      <td>1725.55230</td>\n    </tr>\n    <tr>\n      <th>2</th>\n      <td>28</td>\n      <td>male</td>\n      <td>33.000</td>\n      <td>3</td>\n      <td>no</td>\n      <td>southeast</td>\n      <td>4449.46200</td>\n    </tr>\n    <tr>\n      <th>3</th>\n      <td>33</td>\n      <td>male</td>\n      <td>22.705</td>\n      <td>0</td>\n      <td>no</td>\n      <td>northwest</td>\n      <td>21984.47061</td>\n    </tr>\n    <tr>\n      <th>4</th>\n      <td>32</td>\n      <td>male</td>\n      <td>28.880</td>\n      <td>0</td>\n      <td>no</td>\n      <td>northwest</td>\n      <td>3866.85520</td>\n    </tr>\n    <tr>\n      <th>...</th>\n      <td>...</td>\n      <td>...</td>\n      <td>...</td>\n      <td>...</td>\n      <td>...</td>\n      <td>...</td>\n      <td>...</td>\n    </tr>\n    <tr>\n      <th>1333</th>\n      <td>50</td>\n      <td>male</td>\n      <td>30.970</td>\n      <td>3</td>\n      <td>no</td>\n      <td>northwest</td>\n      <td>10600.54830</td>\n    </tr>\n    <tr>\n      <th>1334</th>\n      <td>18</td>\n      <td>female</td>\n      <td>31.920</td>\n      <td>0</td>\n      <td>no</td>\n      <td>northeast</td>\n      <td>2205.98080</td>\n    </tr>\n    <tr>\n      <th>1335</th>\n      <td>18</td>\n      <td>female</td>\n      <td>36.850</td>\n      <td>0</td>\n      <td>no</td>\n      <td>southeast</td>\n      <td>1629.83350</td>\n    </tr>\n    <tr>\n      <th>1336</th>\n      <td>21</td>\n      <td>female</td>\n      <td>25.800</td>\n      <td>0</td>\n      <td>no</td>\n      <td>southwest</td>\n      <td>2007.94500</td>\n    </tr>\n    <tr>\n      <th>1337</th>\n      <td>61</td>\n      <td>female</td>\n      <td>29.070</td>\n      <td>0</td>\n      <td>yes</td>\n      <td>northwest</td>\n      <td>29141.36030</td>\n    </tr>\n  </tbody>\n</table>\n<p>1338 rows × 7 columns</p>\n</div>"
     },
     "execution_count": 344,
     "metadata": {},
     "output_type": "execute_result"
    }
   ],
   "source": [
    "# Read the insurance dataset\n",
    "insurance = pd.read_csv(\"https://raw.githubusercontent.com/stedy/Machine-Learning-with-R-datasets/master/insurance.csv\")\n",
    "insurance"
   ],
   "metadata": {
    "collapsed": false,
    "ExecuteTime": {
     "end_time": "2023-09-11T09:00:41.006677Z",
     "start_time": "2023-09-11T09:00:40.366519Z"
    }
   },
   "id": "ece5d22170d9f944"
  },
  {
   "cell_type": "code",
   "execution_count": 345,
   "outputs": [
    {
     "data": {
      "text/plain": "       age        bmi  children       charges  sex_female  sex_male  \\\n0     19.0  27.900000       0.0  16884.923828         1.0       0.0   \n1     18.0  33.770000       1.0   1725.552246         0.0       1.0   \n2     28.0  33.000000       3.0   4449.461914         0.0       1.0   \n3     33.0  22.705000       0.0  21984.470703         0.0       1.0   \n4     32.0  28.879999       0.0   3866.855225         0.0       1.0   \n...    ...        ...       ...           ...         ...       ...   \n1333  50.0  30.969999       3.0  10600.547852         0.0       1.0   \n1334  18.0  31.920000       0.0   2205.980713         1.0       0.0   \n1335  18.0  36.849998       0.0   1629.833496         1.0       0.0   \n1336  21.0  25.799999       0.0   2007.944946         1.0       0.0   \n1337  61.0  29.070000       0.0  29141.359375         1.0       0.0   \n\n      smoker_no  smoker_yes  region_northeast  region_northwest  \\\n0           0.0         1.0               0.0               0.0   \n1           1.0         0.0               0.0               0.0   \n2           1.0         0.0               0.0               0.0   \n3           1.0         0.0               0.0               1.0   \n4           1.0         0.0               0.0               1.0   \n...         ...         ...               ...               ...   \n1333        1.0         0.0               0.0               1.0   \n1334        1.0         0.0               1.0               0.0   \n1335        1.0         0.0               0.0               0.0   \n1336        1.0         0.0               0.0               0.0   \n1337        0.0         1.0               0.0               1.0   \n\n      region_southeast  region_southwest  \n0                  0.0               1.0  \n1                  1.0               0.0  \n2                  1.0               0.0  \n3                  0.0               0.0  \n4                  0.0               0.0  \n...                ...               ...  \n1333               0.0               0.0  \n1334               0.0               0.0  \n1335               1.0               0.0  \n1336               0.0               1.0  \n1337               0.0               0.0  \n\n[1338 rows x 12 columns]",
      "text/html": "<div>\n<style scoped>\n    .dataframe tbody tr th:only-of-type {\n        vertical-align: middle;\n    }\n\n    .dataframe tbody tr th {\n        vertical-align: top;\n    }\n\n    .dataframe thead th {\n        text-align: right;\n    }\n</style>\n<table border=\"1\" class=\"dataframe\">\n  <thead>\n    <tr style=\"text-align: right;\">\n      <th></th>\n      <th>age</th>\n      <th>bmi</th>\n      <th>children</th>\n      <th>charges</th>\n      <th>sex_female</th>\n      <th>sex_male</th>\n      <th>smoker_no</th>\n      <th>smoker_yes</th>\n      <th>region_northeast</th>\n      <th>region_northwest</th>\n      <th>region_southeast</th>\n      <th>region_southwest</th>\n    </tr>\n  </thead>\n  <tbody>\n    <tr>\n      <th>0</th>\n      <td>19.0</td>\n      <td>27.900000</td>\n      <td>0.0</td>\n      <td>16884.923828</td>\n      <td>1.0</td>\n      <td>0.0</td>\n      <td>0.0</td>\n      <td>1.0</td>\n      <td>0.0</td>\n      <td>0.0</td>\n      <td>0.0</td>\n      <td>1.0</td>\n    </tr>\n    <tr>\n      <th>1</th>\n      <td>18.0</td>\n      <td>33.770000</td>\n      <td>1.0</td>\n      <td>1725.552246</td>\n      <td>0.0</td>\n      <td>1.0</td>\n      <td>1.0</td>\n      <td>0.0</td>\n      <td>0.0</td>\n      <td>0.0</td>\n      <td>1.0</td>\n      <td>0.0</td>\n    </tr>\n    <tr>\n      <th>2</th>\n      <td>28.0</td>\n      <td>33.000000</td>\n      <td>3.0</td>\n      <td>4449.461914</td>\n      <td>0.0</td>\n      <td>1.0</td>\n      <td>1.0</td>\n      <td>0.0</td>\n      <td>0.0</td>\n      <td>0.0</td>\n      <td>1.0</td>\n      <td>0.0</td>\n    </tr>\n    <tr>\n      <th>3</th>\n      <td>33.0</td>\n      <td>22.705000</td>\n      <td>0.0</td>\n      <td>21984.470703</td>\n      <td>0.0</td>\n      <td>1.0</td>\n      <td>1.0</td>\n      <td>0.0</td>\n      <td>0.0</td>\n      <td>1.0</td>\n      <td>0.0</td>\n      <td>0.0</td>\n    </tr>\n    <tr>\n      <th>4</th>\n      <td>32.0</td>\n      <td>28.879999</td>\n      <td>0.0</td>\n      <td>3866.855225</td>\n      <td>0.0</td>\n      <td>1.0</td>\n      <td>1.0</td>\n      <td>0.0</td>\n      <td>0.0</td>\n      <td>1.0</td>\n      <td>0.0</td>\n      <td>0.0</td>\n    </tr>\n    <tr>\n      <th>...</th>\n      <td>...</td>\n      <td>...</td>\n      <td>...</td>\n      <td>...</td>\n      <td>...</td>\n      <td>...</td>\n      <td>...</td>\n      <td>...</td>\n      <td>...</td>\n      <td>...</td>\n      <td>...</td>\n      <td>...</td>\n    </tr>\n    <tr>\n      <th>1333</th>\n      <td>50.0</td>\n      <td>30.969999</td>\n      <td>3.0</td>\n      <td>10600.547852</td>\n      <td>0.0</td>\n      <td>1.0</td>\n      <td>1.0</td>\n      <td>0.0</td>\n      <td>0.0</td>\n      <td>1.0</td>\n      <td>0.0</td>\n      <td>0.0</td>\n    </tr>\n    <tr>\n      <th>1334</th>\n      <td>18.0</td>\n      <td>31.920000</td>\n      <td>0.0</td>\n      <td>2205.980713</td>\n      <td>1.0</td>\n      <td>0.0</td>\n      <td>1.0</td>\n      <td>0.0</td>\n      <td>1.0</td>\n      <td>0.0</td>\n      <td>0.0</td>\n      <td>0.0</td>\n    </tr>\n    <tr>\n      <th>1335</th>\n      <td>18.0</td>\n      <td>36.849998</td>\n      <td>0.0</td>\n      <td>1629.833496</td>\n      <td>1.0</td>\n      <td>0.0</td>\n      <td>1.0</td>\n      <td>0.0</td>\n      <td>0.0</td>\n      <td>0.0</td>\n      <td>1.0</td>\n      <td>0.0</td>\n    </tr>\n    <tr>\n      <th>1336</th>\n      <td>21.0</td>\n      <td>25.799999</td>\n      <td>0.0</td>\n      <td>2007.944946</td>\n      <td>1.0</td>\n      <td>0.0</td>\n      <td>1.0</td>\n      <td>0.0</td>\n      <td>0.0</td>\n      <td>0.0</td>\n      <td>0.0</td>\n      <td>1.0</td>\n    </tr>\n    <tr>\n      <th>1337</th>\n      <td>61.0</td>\n      <td>29.070000</td>\n      <td>0.0</td>\n      <td>29141.359375</td>\n      <td>1.0</td>\n      <td>0.0</td>\n      <td>0.0</td>\n      <td>1.0</td>\n      <td>0.0</td>\n      <td>1.0</td>\n      <td>0.0</td>\n      <td>0.0</td>\n    </tr>\n  </tbody>\n</table>\n<p>1338 rows × 12 columns</p>\n</div>"
     },
     "execution_count": 345,
     "metadata": {},
     "output_type": "execute_result"
    }
   ],
   "source": [
    "insurance_one_hot = pd.get_dummies(insurance).astype('float32')\n",
    "insurance_one_hot"
   ],
   "metadata": {
    "collapsed": false,
    "ExecuteTime": {
     "end_time": "2023-09-11T09:00:41.057367Z",
     "start_time": "2023-09-11T09:00:41.008603Z"
    }
   },
   "id": "17169741670650b4"
  },
  {
   "cell_type": "code",
   "execution_count": 346,
   "outputs": [
    {
     "data": {
      "text/plain": "(    age        bmi  children  sex_female  sex_male  smoker_no  smoker_yes  \\\n 0  19.0  27.900000       0.0         1.0       0.0        0.0         1.0   \n 1  18.0  33.770000       1.0         0.0       1.0        1.0         0.0   \n 2  28.0  33.000000       3.0         0.0       1.0        1.0         0.0   \n 3  33.0  22.705000       0.0         0.0       1.0        1.0         0.0   \n 4  32.0  28.879999       0.0         0.0       1.0        1.0         0.0   \n \n    region_northeast  region_northwest  region_southeast  region_southwest  \n 0               0.0               0.0               0.0               1.0  \n 1               0.0               0.0               1.0               0.0  \n 2               0.0               0.0               1.0               0.0  \n 3               0.0               1.0               0.0               0.0  \n 4               0.0               1.0               0.0               0.0  ,\n 0    16884.923828\n 1     1725.552246\n 2     4449.461914\n 3    21984.470703\n 4     3866.855225\n Name: charges, dtype: float32)"
     },
     "execution_count": 346,
     "metadata": {},
     "output_type": "execute_result"
    }
   ],
   "source": [
    "# Create X & y values (features & labels)\n",
    "X = insurance_one_hot.drop(\"charges\", axis=1)\n",
    "y = insurance_one_hot[\"charges\"]\n",
    "X.head(), y.head()"
   ],
   "metadata": {
    "collapsed": false,
    "ExecuteTime": {
     "end_time": "2023-09-11T09:00:41.793195Z",
     "start_time": "2023-09-11T09:00:41.450483Z"
    }
   },
   "id": "55d209b6f25f6be3"
  },
  {
   "cell_type": "code",
   "execution_count": 347,
   "outputs": [
    {
     "data": {
      "text/plain": "(1070, 268, 1070, 268)"
     },
     "execution_count": 347,
     "metadata": {},
     "output_type": "execute_result"
    }
   ],
   "source": [
    "# Create training and test sets\n",
    "# 80% training 20% testing data\n",
    "from sklearn.model_selection import train_test_split\n",
    "\n",
    "X_train, X_test, y_train, y_test = train_test_split(X, y, test_size=.2, random_state=RANDOM_STATE)\n",
    "len(X_train), len(X_test), len(y_train), len(y_test)"
   ],
   "metadata": {
    "collapsed": false,
    "ExecuteTime": {
     "end_time": "2023-09-11T09:00:44.992896Z",
     "start_time": "2023-09-11T09:00:44.933277Z"
    }
   },
   "id": "a84bd62285962669"
  },
  {
   "cell_type": "code",
   "execution_count": 348,
   "outputs": [
    {
     "data": {
      "text/plain": "age                 float32\nbmi                 float32\nchildren            float32\ncharges             float32\nsex_female          float32\nsex_male            float32\nsmoker_no           float32\nsmoker_yes          float32\nregion_northeast    float32\nregion_northwest    float32\nregion_southeast    float32\nregion_southwest    float32\ndtype: object"
     },
     "execution_count": 348,
     "metadata": {},
     "output_type": "execute_result"
    }
   ],
   "source": [
    "insurance_one_hot.dtypes"
   ],
   "metadata": {
    "collapsed": false,
    "ExecuteTime": {
     "end_time": "2023-09-11T09:00:45.856921Z",
     "start_time": "2023-09-11T09:00:45.814220Z"
    }
   },
   "id": "49aabbf0f3d3a1d9"
  },
  {
   "cell_type": "code",
   "execution_count": 349,
   "outputs": [
    {
     "name": "stdout",
     "output_type": "stream",
     "text": [
      "Model: \"sequential_7\"\n",
      "_________________________________________________________________\n",
      " Layer (type)                Output Shape              Param #   \n",
      "=================================================================\n",
      " dense_19 (Dense)            (None, 25)                50        \n",
      "                                                                 \n",
      " dense_20 (Dense)            (None, 1)                 26        \n",
      "                                                                 \n",
      "=================================================================\n",
      "Total params: 76 (304.00 Byte)\n",
      "Trainable params: 76 (304.00 Byte)\n",
      "Non-trainable params: 0 (0.00 Byte)\n",
      "_________________________________________________________________\n"
     ]
    }
   ],
   "source": [
    "model_2.summary()"
   ],
   "metadata": {
    "collapsed": false,
    "ExecuteTime": {
     "end_time": "2023-09-11T09:00:46.849060Z",
     "start_time": "2023-09-11T09:00:46.798589Z"
    }
   },
   "id": "85abc3a9077b6746"
  },
  {
   "cell_type": "code",
   "execution_count": 350,
   "outputs": [
    {
     "name": "stderr",
     "output_type": "stream",
     "text": [
      "WARNING:absl:At this time, the v2.11+ optimizer `tf.keras.optimizers.SGD` runs slowly on M1/M2 Macs, please use the legacy Keras optimizer instead, located at `tf.keras.optimizers.legacy.SGD`.\n",
      "WARNING:absl:There is a known slowdown when using v2.11+ Keras optimizers on M1/M2 Macs. Falling back to the legacy Keras optimizer, i.e., `tf.keras.optimizers.legacy.SGD`.\n"
     ]
    },
    {
     "name": "stdout",
     "output_type": "stream",
     "text": [
      "Epoch 1/100\n",
      " 1/34 [..............................] - ETA: 13s - loss: 13158.1094 - mae: 13158.1094"
     ]
    },
    {
     "name": "stderr",
     "output_type": "stream",
     "text": [
      "2023-09-11 04:00:50.114701: I tensorflow/core/grappler/optimizers/custom_graph_optimizer_registry.cc:114] Plugin optimizer for device_type GPU is enabled.\n"
     ]
    },
    {
     "name": "stdout",
     "output_type": "stream",
     "text": [
      "34/34 [==============================] - 1s 8ms/step - loss: 8545.6533 - mae: 8545.6533\n",
      "Epoch 2/100\n",
      "34/34 [==============================] - 0s 5ms/step - loss: 7854.0991 - mae: 7854.0991\n",
      "Epoch 3/100\n",
      "34/34 [==============================] - 0s 5ms/step - loss: 7564.3091 - mae: 7564.3091\n",
      "Epoch 4/100\n",
      "34/34 [==============================] - 0s 5ms/step - loss: 7678.8799 - mae: 7678.8799\n",
      "Epoch 5/100\n",
      "34/34 [==============================] - 0s 5ms/step - loss: 7653.3682 - mae: 7653.3682\n",
      "Epoch 6/100\n",
      "34/34 [==============================] - 0s 5ms/step - loss: 7661.4839 - mae: 7661.4839\n",
      "Epoch 7/100\n",
      "34/34 [==============================] - 0s 5ms/step - loss: 7529.0410 - mae: 7529.0410\n",
      "Epoch 8/100\n",
      "34/34 [==============================] - 0s 5ms/step - loss: 7691.6450 - mae: 7691.6450\n",
      "Epoch 9/100\n",
      "34/34 [==============================] - 0s 5ms/step - loss: 7490.1646 - mae: 7490.1646\n",
      "Epoch 10/100\n",
      "34/34 [==============================] - 0s 5ms/step - loss: 7714.2920 - mae: 7714.2920\n",
      "Epoch 11/100\n",
      "34/34 [==============================] - 0s 5ms/step - loss: 7633.3823 - mae: 7633.3823\n",
      "Epoch 12/100\n",
      "34/34 [==============================] - 0s 5ms/step - loss: 7700.6250 - mae: 7700.6250\n",
      "Epoch 13/100\n",
      "34/34 [==============================] - 0s 4ms/step - loss: 7657.7100 - mae: 7657.7100\n",
      "Epoch 14/100\n",
      "34/34 [==============================] - 0s 8ms/step - loss: 7764.1616 - mae: 7764.1616\n",
      "Epoch 15/100\n",
      "34/34 [==============================] - 0s 5ms/step - loss: 7382.8965 - mae: 7382.8965\n",
      "Epoch 16/100\n",
      "34/34 [==============================] - 0s 5ms/step - loss: 7770.3521 - mae: 7770.3521\n",
      "Epoch 17/100\n",
      "34/34 [==============================] - 0s 4ms/step - loss: 7538.8315 - mae: 7538.8315\n",
      "Epoch 18/100\n",
      "34/34 [==============================] - 0s 4ms/step - loss: 7632.2310 - mae: 7632.2310\n",
      "Epoch 19/100\n",
      "34/34 [==============================] - 0s 5ms/step - loss: 7745.1445 - mae: 7745.1445\n",
      "Epoch 20/100\n",
      "34/34 [==============================] - 0s 5ms/step - loss: 7919.2178 - mae: 7919.2178\n",
      "Epoch 21/100\n",
      "34/34 [==============================] - 0s 4ms/step - loss: 7532.4888 - mae: 7532.4888\n",
      "Epoch 22/100\n",
      "34/34 [==============================] - 0s 5ms/step - loss: 7788.4590 - mae: 7788.4590\n",
      "Epoch 23/100\n",
      "34/34 [==============================] - 0s 4ms/step - loss: 7746.1733 - mae: 7746.1733\n",
      "Epoch 24/100\n",
      "34/34 [==============================] - 0s 5ms/step - loss: 7411.5332 - mae: 7411.5332\n",
      "Epoch 25/100\n",
      "34/34 [==============================] - 0s 4ms/step - loss: 7577.9946 - mae: 7577.9946\n",
      "Epoch 26/100\n",
      "34/34 [==============================] - 0s 5ms/step - loss: 7713.3164 - mae: 7713.3164\n",
      "Epoch 27/100\n",
      "34/34 [==============================] - 0s 5ms/step - loss: 7694.7485 - mae: 7694.7485\n",
      "Epoch 28/100\n",
      "34/34 [==============================] - 0s 5ms/step - loss: 7350.0596 - mae: 7350.0596\n",
      "Epoch 29/100\n",
      "34/34 [==============================] - 0s 5ms/step - loss: 7690.2188 - mae: 7690.2188\n",
      "Epoch 30/100\n",
      "34/34 [==============================] - 0s 5ms/step - loss: 7510.8262 - mae: 7510.8262\n",
      "Epoch 31/100\n",
      "34/34 [==============================] - 0s 4ms/step - loss: 7691.3438 - mae: 7691.3438\n",
      "Epoch 32/100\n",
      "34/34 [==============================] - 0s 5ms/step - loss: 7530.8892 - mae: 7530.8892\n",
      "Epoch 33/100\n",
      "34/34 [==============================] - 0s 5ms/step - loss: 7422.9067 - mae: 7422.9067\n",
      "Epoch 34/100\n",
      "34/34 [==============================] - 0s 4ms/step - loss: 7360.1797 - mae: 7360.1797\n",
      "Epoch 35/100\n",
      "34/34 [==============================] - 0s 5ms/step - loss: 7371.7021 - mae: 7371.7021\n",
      "Epoch 36/100\n",
      "34/34 [==============================] - 0s 5ms/step - loss: 7599.4941 - mae: 7599.4941\n",
      "Epoch 37/100\n",
      "34/34 [==============================] - 0s 5ms/step - loss: 7640.3716 - mae: 7640.3716\n",
      "Epoch 38/100\n",
      "34/34 [==============================] - 0s 5ms/step - loss: 7459.7095 - mae: 7459.7095\n",
      "Epoch 39/100\n",
      "34/34 [==============================] - 0s 4ms/step - loss: 7471.8545 - mae: 7471.8545\n",
      "Epoch 40/100\n",
      "34/34 [==============================] - 0s 5ms/step - loss: 7334.8643 - mae: 7334.8643\n",
      "Epoch 41/100\n",
      "34/34 [==============================] - 0s 4ms/step - loss: 7703.8560 - mae: 7703.8560\n",
      "Epoch 42/100\n",
      "34/34 [==============================] - 0s 4ms/step - loss: 7370.4189 - mae: 7370.4189\n",
      "Epoch 43/100\n",
      "34/34 [==============================] - 0s 5ms/step - loss: 7716.0483 - mae: 7716.0483\n",
      "Epoch 44/100\n",
      "34/34 [==============================] - 0s 4ms/step - loss: 7440.5171 - mae: 7440.5171\n",
      "Epoch 45/100\n",
      "34/34 [==============================] - 0s 4ms/step - loss: 7497.7720 - mae: 7497.7720\n",
      "Epoch 46/100\n",
      "34/34 [==============================] - 0s 4ms/step - loss: 7405.9771 - mae: 7405.9771\n",
      "Epoch 47/100\n",
      "34/34 [==============================] - 0s 5ms/step - loss: 7527.9648 - mae: 7527.9648\n",
      "Epoch 48/100\n",
      "34/34 [==============================] - 0s 4ms/step - loss: 7624.6875 - mae: 7624.6875\n",
      "Epoch 49/100\n",
      "34/34 [==============================] - 0s 4ms/step - loss: 7534.1699 - mae: 7534.1699\n",
      "Epoch 50/100\n",
      "34/34 [==============================] - 0s 6ms/step - loss: 7489.8989 - mae: 7489.8989\n",
      "Epoch 51/100\n",
      "34/34 [==============================] - 0s 5ms/step - loss: 7419.1714 - mae: 7419.1714\n",
      "Epoch 52/100\n",
      "34/34 [==============================] - 0s 5ms/step - loss: 7381.1309 - mae: 7381.1309\n",
      "Epoch 53/100\n",
      "34/34 [==============================] - 0s 4ms/step - loss: 7455.0151 - mae: 7455.0151\n",
      "Epoch 54/100\n",
      "34/34 [==============================] - 0s 5ms/step - loss: 7328.0068 - mae: 7328.0068\n",
      "Epoch 55/100\n",
      "34/34 [==============================] - 0s 4ms/step - loss: 7399.2441 - mae: 7399.2441\n",
      "Epoch 56/100\n",
      "34/34 [==============================] - 0s 5ms/step - loss: 7231.2891 - mae: 7231.2891\n",
      "Epoch 57/100\n",
      "34/34 [==============================] - 0s 5ms/step - loss: 7418.9419 - mae: 7418.9419\n",
      "Epoch 58/100\n",
      "34/34 [==============================] - 0s 5ms/step - loss: 7594.7998 - mae: 7594.7998\n",
      "Epoch 59/100\n",
      "34/34 [==============================] - 0s 5ms/step - loss: 7505.6885 - mae: 7505.6885\n",
      "Epoch 60/100\n",
      "34/34 [==============================] - 0s 5ms/step - loss: 7415.6855 - mae: 7415.6855\n",
      "Epoch 61/100\n",
      "34/34 [==============================] - 0s 11ms/step - loss: 7597.6143 - mae: 7597.6143\n",
      "Epoch 62/100\n",
      "34/34 [==============================] - 0s 13ms/step - loss: 7301.2856 - mae: 7301.2856\n",
      "Epoch 63/100\n",
      "34/34 [==============================] - 0s 6ms/step - loss: 7428.0811 - mae: 7428.0811\n",
      "Epoch 64/100\n",
      "34/34 [==============================] - 0s 5ms/step - loss: 7303.6650 - mae: 7303.6650\n",
      "Epoch 65/100\n",
      "34/34 [==============================] - 0s 5ms/step - loss: 7449.9009 - mae: 7449.9009\n",
      "Epoch 66/100\n",
      "34/34 [==============================] - 0s 5ms/step - loss: 7563.9609 - mae: 7563.9609\n",
      "Epoch 67/100\n",
      "34/34 [==============================] - 0s 5ms/step - loss: 7284.4878 - mae: 7284.4878\n",
      "Epoch 68/100\n",
      "34/34 [==============================] - 0s 5ms/step - loss: 7465.0928 - mae: 7465.0928\n",
      "Epoch 69/100\n",
      "34/34 [==============================] - 0s 6ms/step - loss: 7593.3711 - mae: 7593.3711\n",
      "Epoch 70/100\n",
      "34/34 [==============================] - 0s 5ms/step - loss: 7541.6675 - mae: 7541.6675\n",
      "Epoch 71/100\n",
      "34/34 [==============================] - 0s 5ms/step - loss: 7238.5054 - mae: 7238.5054\n",
      "Epoch 72/100\n",
      "34/34 [==============================] - 0s 5ms/step - loss: 7299.4482 - mae: 7299.4482\n",
      "Epoch 73/100\n",
      "34/34 [==============================] - 0s 5ms/step - loss: 7325.7134 - mae: 7325.7134\n",
      "Epoch 74/100\n",
      "34/34 [==============================] - 0s 7ms/step - loss: 7557.1060 - mae: 7557.1060\n",
      "Epoch 75/100\n",
      "34/34 [==============================] - 0s 5ms/step - loss: 7266.8750 - mae: 7266.8750\n",
      "Epoch 76/100\n",
      "34/34 [==============================] - 0s 5ms/step - loss: 7008.0801 - mae: 7008.0801\n",
      "Epoch 77/100\n",
      "34/34 [==============================] - 0s 5ms/step - loss: 7571.0938 - mae: 7571.0938\n",
      "Epoch 78/100\n",
      "34/34 [==============================] - 0s 5ms/step - loss: 7169.1763 - mae: 7169.1763\n",
      "Epoch 79/100\n",
      "34/34 [==============================] - 0s 5ms/step - loss: 7500.4526 - mae: 7500.4526\n",
      "Epoch 80/100\n",
      "34/34 [==============================] - 0s 5ms/step - loss: 7393.8989 - mae: 7393.8989\n",
      "Epoch 81/100\n",
      "34/34 [==============================] - 0s 4ms/step - loss: 7211.2852 - mae: 7211.2852\n",
      "Epoch 82/100\n",
      "34/34 [==============================] - 0s 4ms/step - loss: 7281.3174 - mae: 7281.3174\n",
      "Epoch 83/100\n",
      "34/34 [==============================] - 0s 4ms/step - loss: 7376.3555 - mae: 7376.3555\n",
      "Epoch 84/100\n",
      "34/34 [==============================] - 0s 4ms/step - loss: 7398.3481 - mae: 7398.3481\n",
      "Epoch 85/100\n",
      "34/34 [==============================] - 0s 5ms/step - loss: 7278.2563 - mae: 7278.2563\n",
      "Epoch 86/100\n",
      "34/34 [==============================] - 0s 5ms/step - loss: 7481.5400 - mae: 7481.5400\n",
      "Epoch 87/100\n",
      "34/34 [==============================] - 0s 4ms/step - loss: 7372.1631 - mae: 7372.1631\n",
      "Epoch 88/100\n",
      "34/34 [==============================] - 0s 5ms/step - loss: 7387.0117 - mae: 7387.0117\n",
      "Epoch 89/100\n",
      "34/34 [==============================] - 0s 4ms/step - loss: 7494.8540 - mae: 7494.8540\n",
      "Epoch 90/100\n",
      "34/34 [==============================] - 0s 4ms/step - loss: 7092.0083 - mae: 7092.0083\n",
      "Epoch 91/100\n",
      "34/34 [==============================] - 0s 4ms/step - loss: 7209.3960 - mae: 7209.3960\n",
      "Epoch 92/100\n",
      "34/34 [==============================] - 0s 4ms/step - loss: 7373.0391 - mae: 7373.0391\n",
      "Epoch 93/100\n",
      "34/34 [==============================] - 0s 4ms/step - loss: 7535.0752 - mae: 7535.0752\n",
      "Epoch 94/100\n",
      "34/34 [==============================] - 0s 5ms/step - loss: 7305.0659 - mae: 7305.0659\n",
      "Epoch 95/100\n",
      "34/34 [==============================] - 0s 5ms/step - loss: 7415.4321 - mae: 7415.4321\n",
      "Epoch 96/100\n",
      "34/34 [==============================] - 0s 4ms/step - loss: 7270.5161 - mae: 7270.5161\n",
      "Epoch 97/100\n",
      "34/34 [==============================] - 0s 5ms/step - loss: 7243.4727 - mae: 7243.4727\n",
      "Epoch 98/100\n",
      "34/34 [==============================] - 0s 5ms/step - loss: 7423.4185 - mae: 7423.4185\n",
      "Epoch 99/100\n",
      "34/34 [==============================] - 0s 5ms/step - loss: 7420.6772 - mae: 7420.6772\n",
      "Epoch 100/100\n",
      "34/34 [==============================] - 0s 4ms/step - loss: 7044.1523 - mae: 7044.1523\n"
     ]
    },
    {
     "data": {
      "text/plain": "<keras.src.callbacks.History at 0x2c4f97f40>"
     },
     "execution_count": 350,
     "metadata": {},
     "output_type": "execute_result"
    }
   ],
   "source": [
    "# Build a neural network (sort of like model_2 above)\n",
    "tf.random.set_seed(RANDOM_STATE)\n",
    "\n",
    "insurance_model = tf.keras.Sequential([\n",
    "    tf.keras.layers.Dense(10),\n",
    "    tf.keras.layers.Dense(1)\n",
    "])\n",
    "\n",
    "insurance_model.compile(loss=tf.keras.losses.mae,\n",
    "                        optimizer=tf.keras.optimizers.SGD(),\n",
    "                        metrics=[\"mae\"])\n",
    "insurance_model.fit(X_train, y_train, epochs=100)"
   ],
   "metadata": {
    "collapsed": false,
    "ExecuteTime": {
     "end_time": "2023-09-11T09:01:07.280591Z",
     "start_time": "2023-09-11T09:00:49.624119Z"
    }
   },
   "id": "3c75f700786f76cd"
  },
  {
   "cell_type": "code",
   "execution_count": 358,
   "outputs": [
    {
     "name": "stdout",
     "output_type": "stream",
     "text": [
      "9/9 [==============================] - 0s 6ms/step - loss: 7932.8872 - mae: 7932.8872\n"
     ]
    },
    {
     "name": "stderr",
     "output_type": "stream",
     "text": [
      "2023-09-11 04:02:12.677612: I tensorflow/core/grappler/optimizers/custom_graph_optimizer_registry.cc:114] Plugin optimizer for device_type GPU is enabled.\n"
     ]
    },
    {
     "data": {
      "text/plain": "[7932.88720703125, 7932.88720703125]"
     },
     "execution_count": 358,
     "metadata": {},
     "output_type": "execute_result"
    }
   ],
   "source": [
    "# Check the results of the insurance model on the test data\n",
    "insurance_model_1_loss = insurance_model.evaluate(X_test, y_test)\n",
    "insurance_model_1_loss"
   ],
   "metadata": {
    "collapsed": false,
    "ExecuteTime": {
     "end_time": "2023-09-11T09:02:12.826598Z",
     "start_time": "2023-09-11T09:02:12.625607Z"
    }
   },
   "id": "438606118630b1bd"
  },
  {
   "cell_type": "code",
   "execution_count": 352,
   "outputs": [
    {
     "data": {
      "text/plain": "(9575.442, 13346.09)"
     },
     "execution_count": 352,
     "metadata": {},
     "output_type": "execute_result"
    }
   ],
   "source": [
    "y_train.median(), y_train.mean()"
   ],
   "metadata": {
    "collapsed": false,
    "ExecuteTime": {
     "end_time": "2023-09-11T09:01:09.960481Z",
     "start_time": "2023-09-11T09:01:09.890625Z"
    }
   },
   "id": "168a4f0cbdfe36c0"
  },
  {
   "cell_type": "markdown",
   "source": [
    "Right now it looks like our model isn't performing well... let's try to improve it\n",
    "\n",
    "To (try) improve our model, we'll run 2 experiments:\n",
    "1. Add an extra layer with more hidden units.\n",
    "2. ATrain for longer.\n",
    "3. "
   ],
   "metadata": {
    "collapsed": false
   },
   "id": "e3a019f32491b9c5"
  },
  {
   "cell_type": "code",
   "execution_count": 353,
   "outputs": [
    {
     "name": "stderr",
     "output_type": "stream",
     "text": [
      "WARNING:absl:At this time, the v2.11+ optimizer `tf.keras.optimizers.Adam` runs slowly on M1/M2 Macs, please use the legacy Keras optimizer instead, located at `tf.keras.optimizers.legacy.Adam`.\n",
      "WARNING:absl:There is a known slowdown when using v2.11+ Keras optimizers on M1/M2 Macs. Falling back to the legacy Keras optimizer, i.e., `tf.keras.optimizers.legacy.Adam`.\n",
      "2023-09-11 04:01:13.522302: I tensorflow/core/grappler/optimizers/custom_graph_optimizer_registry.cc:114] Plugin optimizer for device_type GPU is enabled.\n"
     ]
    }
   ],
   "source": [
    "tf.random.set_seed(RANDOM_STATE)\n",
    "insurance_model_2 = tf.keras.Sequential([\n",
    "    tf.keras.layers.Dense(100),  # loss is going nan\n",
    "    tf.keras.layers.Dense(10),\n",
    "    tf.keras.layers.Dense(1)\n",
    "])\n",
    "insurance_model_2.compile(loss=tf.keras.losses.mae,\n",
    "                          optimizer=tf.keras.optimizers.Adam(),\n",
    "                          metrics=['mae'])\n",
    "history = insurance_model_2.fit(X_train, y_train, epochs=100, verbose=0)"
   ],
   "metadata": {
    "collapsed": false,
    "ExecuteTime": {
     "end_time": "2023-09-11T09:01:31.900819Z",
     "start_time": "2023-09-11T09:01:13.238630Z"
    }
   },
   "id": "88c8970c5639278f"
  },
  {
   "cell_type": "code",
   "execution_count": 354,
   "outputs": [
    {
     "name": "stdout",
     "output_type": "stream",
     "text": [
      "5/9 [===============>..............] - ETA: 0s - loss: 5125.6240 - mae: 5125.6240"
     ]
    },
    {
     "name": "stderr",
     "output_type": "stream",
     "text": [
      "2023-09-11 04:01:31.978573: I tensorflow/core/grappler/optimizers/custom_graph_optimizer_registry.cc:114] Plugin optimizer for device_type GPU is enabled.\n"
     ]
    },
    {
     "name": "stdout",
     "output_type": "stream",
     "text": [
      "9/9 [==============================] - 0s 21ms/step - loss: 4946.6616 - mae: 4946.6616\n"
     ]
    },
    {
     "data": {
      "text/plain": "[4946.66162109375, 4946.66162109375]"
     },
     "execution_count": 354,
     "metadata": {},
     "output_type": "execute_result"
    }
   ],
   "source": [
    "insurance_model_2_loss = insurance_model_2.evaluate(X_test, y_test)\n",
    "insurance_model_2_loss"
   ],
   "metadata": {
    "collapsed": false,
    "ExecuteTime": {
     "end_time": "2023-09-11T09:01:32.375733Z",
     "start_time": "2023-09-11T09:01:31.871788Z"
    }
   },
   "id": "8579d87cd5ed643c"
  },
  {
   "cell_type": "code",
   "execution_count": 355,
   "outputs": [
    {
     "data": {
      "text/plain": "Text(0, 0.5, 'loss')"
     },
     "execution_count": 355,
     "metadata": {},
     "output_type": "execute_result"
    },
    {
     "data": {
      "text/plain": "<Figure size 640x480 with 1 Axes>",
      "image/png": "[encoded data removed]"
     },
     "metadata": {},
     "output_type": "display_data"
    }
   ],
   "source": [
    "pd.DataFrame(history.history).plot()\n",
    "plt.xlabel(\"epochs\")\n",
    "plt.ylabel(\"loss\")"
   ],
   "metadata": {
    "collapsed": false,
    "ExecuteTime": {
     "end_time": "2023-09-11T09:01:32.581096Z",
     "start_time": "2023-09-11T09:01:32.229019Z"
    }
   },
   "id": "b5cb259462172583"
  },
  {
   "cell_type": "code",
   "execution_count": 356,
   "outputs": [
    {
     "name": "stderr",
     "output_type": "stream",
     "text": [
      "WARNING:absl:At this time, the v2.11+ optimizer `tf.keras.optimizers.Adam` runs slowly on M1/M2 Macs, please use the legacy Keras optimizer instead, located at `tf.keras.optimizers.legacy.Adam`.\n",
      "WARNING:absl:There is a known slowdown when using v2.11+ Keras optimizers on M1/M2 Macs. Falling back to the legacy Keras optimizer, i.e., `tf.keras.optimizers.legacy.Adam`.\n"
     ]
    },
    {
     "name": "stdout",
     "output_type": "stream",
     "text": [
      "Epoch 1/200\n",
      " 8/34 [======>.......................] - ETA: 0s - loss: 13525.5332 - mae: 13525.5332"
     ]
    },
    {
     "name": "stderr",
     "output_type": "stream",
     "text": [
      "2023-09-11 04:01:32.709463: I tensorflow/core/grappler/optimizers/custom_graph_optimizer_registry.cc:114] Plugin optimizer for device_type GPU is enabled.\n"
     ]
    },
    {
     "name": "stdout",
     "output_type": "stream",
     "text": [
      "34/34 [==============================] - 1s 8ms/step - loss: 13296.9297 - mae: 13296.9297\n",
      "Epoch 2/200\n",
      "34/34 [==============================] - 0s 6ms/step - loss: 13133.7910 - mae: 13133.7910\n",
      "Epoch 3/200\n",
      "34/34 [==============================] - 0s 6ms/step - loss: 12788.4893 - mae: 12788.4893\n",
      "Epoch 4/200\n",
      "34/34 [==============================] - 0s 6ms/step - loss: 12103.7539 - mae: 12103.7539\n",
      "Epoch 5/200\n",
      "34/34 [==============================] - 0s 6ms/step - loss: 10961.0498 - mae: 10961.0498\n",
      "Epoch 6/200\n",
      "34/34 [==============================] - 0s 6ms/step - loss: 9509.9512 - mae: 9509.9512\n",
      "Epoch 7/200\n",
      "34/34 [==============================] - 0s 6ms/step - loss: 8176.7515 - mae: 8176.7515\n",
      "Epoch 8/200\n",
      "34/34 [==============================] - 0s 6ms/step - loss: 7527.8174 - mae: 7527.8174\n",
      "Epoch 9/200\n",
      "34/34 [==============================] - 0s 6ms/step - loss: 7418.5249 - mae: 7418.5249\n",
      "Epoch 10/200\n",
      "34/34 [==============================] - 0s 6ms/step - loss: 7397.5586 - mae: 7397.5586\n",
      "Epoch 11/200\n",
      "34/34 [==============================] - 0s 6ms/step - loss: 7378.5483 - mae: 7378.5483\n",
      "Epoch 12/200\n",
      "34/34 [==============================] - 0s 6ms/step - loss: 7356.7686 - mae: 7356.7686\n",
      "Epoch 13/200\n",
      "34/34 [==============================] - 0s 6ms/step - loss: 7336.3809 - mae: 7336.3809\n",
      "Epoch 14/200\n",
      "34/34 [==============================] - 0s 6ms/step - loss: 7313.8013 - mae: 7313.8013\n",
      "Epoch 15/200\n",
      "34/34 [==============================] - 0s 6ms/step - loss: 7294.9399 - mae: 7294.9399\n",
      "Epoch 16/200\n",
      "34/34 [==============================] - 0s 6ms/step - loss: 7272.4072 - mae: 7272.4072\n",
      "Epoch 17/200\n",
      "34/34 [==============================] - 0s 6ms/step - loss: 7251.5923 - mae: 7251.5923\n",
      "Epoch 18/200\n",
      "34/34 [==============================] - 0s 6ms/step - loss: 7227.9722 - mae: 7227.9722\n",
      "Epoch 19/200\n",
      "34/34 [==============================] - 0s 8ms/step - loss: 7205.0444 - mae: 7205.0444\n",
      "Epoch 20/200\n",
      "34/34 [==============================] - 0s 6ms/step - loss: 7180.7148 - mae: 7180.7148\n",
      "Epoch 21/200\n",
      "34/34 [==============================] - 0s 6ms/step - loss: 7160.9746 - mae: 7160.9746\n",
      "Epoch 22/200\n",
      "34/34 [==============================] - 0s 6ms/step - loss: 7132.3428 - mae: 7132.3428\n",
      "Epoch 23/200\n",
      "34/34 [==============================] - 0s 6ms/step - loss: 7105.8804 - mae: 7105.8804\n",
      "Epoch 24/200\n",
      "34/34 [==============================] - 0s 6ms/step - loss: 7079.0493 - mae: 7079.0493\n",
      "Epoch 25/200\n",
      "34/34 [==============================] - 0s 6ms/step - loss: 7058.6567 - mae: 7058.6567\n",
      "Epoch 26/200\n",
      "34/34 [==============================] - 0s 6ms/step - loss: 7025.6587 - mae: 7025.6587\n",
      "Epoch 27/200\n",
      "34/34 [==============================] - 0s 6ms/step - loss: 6995.1729 - mae: 6995.1729\n",
      "Epoch 28/200\n",
      "34/34 [==============================] - 0s 6ms/step - loss: 6964.4380 - mae: 6964.4380\n",
      "Epoch 29/200\n",
      "34/34 [==============================] - 0s 6ms/step - loss: 6933.6670 - mae: 6933.6670\n",
      "Epoch 30/200\n",
      "34/34 [==============================] - 0s 6ms/step - loss: 6904.2617 - mae: 6904.2617\n",
      "Epoch 31/200\n",
      "34/34 [==============================] - 0s 6ms/step - loss: 6870.7588 - mae: 6870.7588\n",
      "Epoch 32/200\n",
      "34/34 [==============================] - 0s 6ms/step - loss: 6839.1934 - mae: 6839.1934\n",
      "Epoch 33/200\n",
      "34/34 [==============================] - 0s 6ms/step - loss: 6804.5488 - mae: 6804.5488\n",
      "Epoch 34/200\n",
      "34/34 [==============================] - 0s 6ms/step - loss: 6770.3130 - mae: 6770.3130\n",
      "Epoch 35/200\n",
      "34/34 [==============================] - 0s 7ms/step - loss: 6732.7568 - mae: 6732.7568\n",
      "Epoch 36/200\n",
      "34/34 [==============================] - 0s 6ms/step - loss: 6696.4082 - mae: 6696.4082\n",
      "Epoch 37/200\n",
      "34/34 [==============================] - 0s 6ms/step - loss: 6658.5430 - mae: 6658.5430\n",
      "Epoch 38/200\n",
      "34/34 [==============================] - 0s 5ms/step - loss: 6627.0840 - mae: 6627.0840\n",
      "Epoch 39/200\n",
      "34/34 [==============================] - 0s 5ms/step - loss: 6587.7378 - mae: 6587.7378\n",
      "Epoch 40/200\n",
      "34/34 [==============================] - 0s 6ms/step - loss: 6557.0527 - mae: 6557.0527\n",
      "Epoch 41/200\n",
      "34/34 [==============================] - 0s 5ms/step - loss: 6532.2583 - mae: 6532.2583\n",
      "Epoch 42/200\n",
      "34/34 [==============================] - 0s 6ms/step - loss: 6510.5269 - mae: 6510.5269\n",
      "Epoch 43/200\n",
      "34/34 [==============================] - 0s 6ms/step - loss: 6490.9819 - mae: 6490.9819\n",
      "Epoch 44/200\n",
      "34/34 [==============================] - 0s 5ms/step - loss: 6472.2563 - mae: 6472.2563\n",
      "Epoch 45/200\n",
      "34/34 [==============================] - 0s 6ms/step - loss: 6465.0674 - mae: 6465.0674\n",
      "Epoch 46/200\n",
      "34/34 [==============================] - 0s 5ms/step - loss: 6445.8760 - mae: 6445.8760\n",
      "Epoch 47/200\n",
      "34/34 [==============================] - 0s 6ms/step - loss: 6430.6670 - mae: 6430.6670\n",
      "Epoch 48/200\n",
      "34/34 [==============================] - 0s 6ms/step - loss: 6417.1572 - mae: 6417.1572\n",
      "Epoch 49/200\n",
      "34/34 [==============================] - 0s 6ms/step - loss: 6405.4844 - mae: 6405.4844\n",
      "Epoch 50/200\n",
      "34/34 [==============================] - 0s 6ms/step - loss: 6391.3525 - mae: 6391.3525\n",
      "Epoch 51/200\n",
      "34/34 [==============================] - 0s 6ms/step - loss: 6378.0562 - mae: 6378.0562\n",
      "Epoch 52/200\n",
      "34/34 [==============================] - 0s 6ms/step - loss: 6365.3306 - mae: 6365.3306\n",
      "Epoch 53/200\n",
      "34/34 [==============================] - 0s 6ms/step - loss: 6350.5200 - mae: 6350.5200\n",
      "Epoch 54/200\n",
      "34/34 [==============================] - 0s 5ms/step - loss: 6336.3154 - mae: 6336.3154\n",
      "Epoch 55/200\n",
      "34/34 [==============================] - 0s 6ms/step - loss: 6322.0659 - mae: 6322.0659\n",
      "Epoch 56/200\n",
      "34/34 [==============================] - 0s 6ms/step - loss: 6307.9038 - mae: 6307.9038\n",
      "Epoch 57/200\n",
      "34/34 [==============================] - 0s 6ms/step - loss: 6293.7915 - mae: 6293.7915\n",
      "Epoch 58/200\n",
      "34/34 [==============================] - 0s 6ms/step - loss: 6280.4438 - mae: 6280.4438\n",
      "Epoch 59/200\n",
      "34/34 [==============================] - 0s 6ms/step - loss: 6263.5034 - mae: 6263.5034\n",
      "Epoch 60/200\n",
      "34/34 [==============================] - 0s 6ms/step - loss: 6252.6572 - mae: 6252.6572\n",
      "Epoch 61/200\n",
      "34/34 [==============================] - 0s 6ms/step - loss: 6231.9658 - mae: 6231.9658\n",
      "Epoch 62/200\n",
      "34/34 [==============================] - 0s 5ms/step - loss: 6219.0166 - mae: 6219.0166\n",
      "Epoch 63/200\n",
      "34/34 [==============================] - 0s 6ms/step - loss: 6200.4019 - mae: 6200.4019\n",
      "Epoch 64/200\n",
      "34/34 [==============================] - 0s 6ms/step - loss: 6182.4829 - mae: 6182.4829\n",
      "Epoch 65/200\n",
      "34/34 [==============================] - 0s 6ms/step - loss: 6164.6328 - mae: 6164.6328\n",
      "Epoch 66/200\n",
      "34/34 [==============================] - 0s 6ms/step - loss: 6146.4448 - mae: 6146.4448\n",
      "Epoch 67/200\n",
      "34/34 [==============================] - 0s 6ms/step - loss: 6133.5728 - mae: 6133.5728\n",
      "Epoch 68/200\n",
      "34/34 [==============================] - 0s 6ms/step - loss: 6110.2227 - mae: 6110.2227\n",
      "Epoch 69/200\n",
      "34/34 [==============================] - 0s 6ms/step - loss: 6091.8950 - mae: 6091.8950\n",
      "Epoch 70/200\n",
      "34/34 [==============================] - 0s 6ms/step - loss: 6071.1987 - mae: 6071.1987\n",
      "Epoch 71/200\n",
      "34/34 [==============================] - 0s 6ms/step - loss: 6050.6992 - mae: 6050.6992\n",
      "Epoch 72/200\n",
      "34/34 [==============================] - 0s 6ms/step - loss: 6029.6113 - mae: 6029.6113\n",
      "Epoch 73/200\n",
      "34/34 [==============================] - 0s 6ms/step - loss: 6015.1265 - mae: 6015.1265\n",
      "Epoch 74/200\n",
      "34/34 [==============================] - 0s 6ms/step - loss: 5984.7246 - mae: 5984.7246\n",
      "Epoch 75/200\n",
      "34/34 [==============================] - 0s 6ms/step - loss: 5963.8433 - mae: 5963.8433\n",
      "Epoch 76/200\n",
      "34/34 [==============================] - 0s 8ms/step - loss: 5946.1416 - mae: 5946.1416\n",
      "Epoch 77/200\n",
      "34/34 [==============================] - 0s 6ms/step - loss: 5914.3535 - mae: 5914.3535\n",
      "Epoch 78/200\n",
      "34/34 [==============================] - 0s 6ms/step - loss: 5888.3506 - mae: 5888.3506\n",
      "Epoch 79/200\n",
      "34/34 [==============================] - 0s 6ms/step - loss: 5862.1089 - mae: 5862.1089\n",
      "Epoch 80/200\n",
      "34/34 [==============================] - 0s 6ms/step - loss: 5832.6875 - mae: 5832.6875\n",
      "Epoch 81/200\n",
      "34/34 [==============================] - 0s 5ms/step - loss: 5807.0635 - mae: 5807.0635\n",
      "Epoch 82/200\n",
      "34/34 [==============================] - 0s 6ms/step - loss: 5775.4688 - mae: 5775.4688\n",
      "Epoch 83/200\n",
      "34/34 [==============================] - 0s 5ms/step - loss: 5746.4409 - mae: 5746.4409\n",
      "Epoch 84/200\n",
      "34/34 [==============================] - 0s 5ms/step - loss: 5710.6885 - mae: 5710.6885\n",
      "Epoch 85/200\n",
      "34/34 [==============================] - 0s 6ms/step - loss: 5682.8179 - mae: 5682.8179\n",
      "Epoch 86/200\n",
      "34/34 [==============================] - 0s 6ms/step - loss: 5647.0210 - mae: 5647.0210\n",
      "Epoch 87/200\n",
      "34/34 [==============================] - 0s 5ms/step - loss: 5608.7363 - mae: 5608.7363\n",
      "Epoch 88/200\n",
      "34/34 [==============================] - 0s 7ms/step - loss: 5571.1724 - mae: 5571.1724\n",
      "Epoch 89/200\n",
      "34/34 [==============================] - 0s 6ms/step - loss: 5530.8467 - mae: 5530.8467\n",
      "Epoch 90/200\n",
      "34/34 [==============================] - 0s 6ms/step - loss: 5486.8379 - mae: 5486.8379\n",
      "Epoch 91/200\n",
      "34/34 [==============================] - 0s 6ms/step - loss: 5446.9727 - mae: 5446.9727\n",
      "Epoch 92/200\n",
      "34/34 [==============================] - 0s 6ms/step - loss: 5398.0825 - mae: 5398.0825\n",
      "Epoch 93/200\n",
      "34/34 [==============================] - 0s 6ms/step - loss: 5352.9951 - mae: 5352.9951\n",
      "Epoch 94/200\n",
      "34/34 [==============================] - 0s 6ms/step - loss: 5303.6978 - mae: 5303.6978\n",
      "Epoch 95/200\n",
      "34/34 [==============================] - 0s 6ms/step - loss: 5251.4927 - mae: 5251.4927\n",
      "Epoch 96/200\n",
      "34/34 [==============================] - 0s 6ms/step - loss: 5204.1006 - mae: 5204.1006\n",
      "Epoch 97/200\n",
      "34/34 [==============================] - 0s 6ms/step - loss: 5149.3130 - mae: 5149.3130\n",
      "Epoch 98/200\n",
      "34/34 [==============================] - 0s 6ms/step - loss: 5084.3740 - mae: 5084.3740\n",
      "Epoch 99/200\n",
      "34/34 [==============================] - 0s 6ms/step - loss: 5022.9893 - mae: 5022.9893\n",
      "Epoch 100/200\n",
      "34/34 [==============================] - 0s 5ms/step - loss: 4967.5225 - mae: 4967.5225\n",
      "Epoch 101/200\n",
      "34/34 [==============================] - 0s 6ms/step - loss: 4892.5244 - mae: 4892.5244\n",
      "Epoch 102/200\n",
      "34/34 [==============================] - 0s 5ms/step - loss: 4818.6509 - mae: 4818.6509\n",
      "Epoch 103/200\n",
      "34/34 [==============================] - 0s 6ms/step - loss: 4751.7412 - mae: 4751.7412\n",
      "Epoch 104/200\n",
      "34/34 [==============================] - 0s 6ms/step - loss: 4669.4409 - mae: 4669.4409\n",
      "Epoch 105/200\n",
      "34/34 [==============================] - 0s 6ms/step - loss: 4582.7471 - mae: 4582.7471\n",
      "Epoch 106/200\n",
      "34/34 [==============================] - 0s 6ms/step - loss: 4500.3105 - mae: 4500.3105\n",
      "Epoch 107/200\n",
      "34/34 [==============================] - 0s 6ms/step - loss: 4418.2646 - mae: 4418.2646\n",
      "Epoch 108/200\n",
      "34/34 [==============================] - 0s 7ms/step - loss: 4334.2007 - mae: 4334.2007\n",
      "Epoch 109/200\n",
      "34/34 [==============================] - 0s 6ms/step - loss: 4252.5234 - mae: 4252.5234\n",
      "Epoch 110/200\n",
      "34/34 [==============================] - 0s 6ms/step - loss: 4174.4678 - mae: 4174.4678\n",
      "Epoch 111/200\n",
      "34/34 [==============================] - 0s 6ms/step - loss: 4103.0508 - mae: 4103.0508\n",
      "Epoch 112/200\n",
      "34/34 [==============================] - 0s 6ms/step - loss: 4044.4729 - mae: 4044.4729\n",
      "Epoch 113/200\n",
      "34/34 [==============================] - 0s 6ms/step - loss: 3987.7495 - mae: 3987.7495\n",
      "Epoch 114/200\n",
      "34/34 [==============================] - 0s 6ms/step - loss: 3958.4397 - mae: 3958.4397\n",
      "Epoch 115/200\n",
      "34/34 [==============================] - 0s 6ms/step - loss: 3915.9089 - mae: 3915.9089\n",
      "Epoch 116/200\n",
      "34/34 [==============================] - 0s 6ms/step - loss: 3898.2388 - mae: 3898.2388\n",
      "Epoch 117/200\n",
      "34/34 [==============================] - 0s 6ms/step - loss: 3882.1333 - mae: 3882.1333\n",
      "Epoch 118/200\n",
      "34/34 [==============================] - 0s 6ms/step - loss: 3860.4412 - mae: 3860.4412\n",
      "Epoch 119/200\n",
      "34/34 [==============================] - 0s 5ms/step - loss: 3841.8433 - mae: 3841.8433\n",
      "Epoch 120/200\n",
      "34/34 [==============================] - 0s 5ms/step - loss: 3829.4375 - mae: 3829.4375\n",
      "Epoch 121/200\n",
      "34/34 [==============================] - 0s 6ms/step - loss: 3820.1699 - mae: 3820.1699\n",
      "Epoch 122/200\n",
      "34/34 [==============================] - 0s 6ms/step - loss: 3817.3901 - mae: 3817.3901\n",
      "Epoch 123/200\n",
      "34/34 [==============================] - 0s 6ms/step - loss: 3809.0510 - mae: 3809.0510\n",
      "Epoch 124/200\n",
      "34/34 [==============================] - 0s 6ms/step - loss: 3802.9985 - mae: 3802.9985\n",
      "Epoch 125/200\n",
      "34/34 [==============================] - 0s 6ms/step - loss: 3792.4624 - mae: 3792.4624\n",
      "Epoch 126/200\n",
      "34/34 [==============================] - 0s 6ms/step - loss: 3804.2117 - mae: 3804.2117\n",
      "Epoch 127/200\n",
      "34/34 [==============================] - 0s 6ms/step - loss: 3795.3394 - mae: 3795.3394\n",
      "Epoch 128/200\n",
      "34/34 [==============================] - 0s 6ms/step - loss: 3789.7856 - mae: 3789.7856\n",
      "Epoch 129/200\n",
      "34/34 [==============================] - 0s 6ms/step - loss: 3799.4529 - mae: 3799.4529\n",
      "Epoch 130/200\n",
      "34/34 [==============================] - 0s 6ms/step - loss: 3789.7585 - mae: 3789.7585\n",
      "Epoch 131/200\n",
      "34/34 [==============================] - 0s 6ms/step - loss: 3778.9150 - mae: 3778.9150\n",
      "Epoch 132/200\n",
      "34/34 [==============================] - 0s 6ms/step - loss: 3772.8020 - mae: 3772.8020\n",
      "Epoch 133/200\n",
      "34/34 [==============================] - 0s 6ms/step - loss: 3768.7878 - mae: 3768.7878\n",
      "Epoch 134/200\n",
      "34/34 [==============================] - 0s 6ms/step - loss: 3769.8438 - mae: 3769.8438\n",
      "Epoch 135/200\n",
      "34/34 [==============================] - 0s 6ms/step - loss: 3765.6067 - mae: 3765.6067\n",
      "Epoch 136/200\n",
      "34/34 [==============================] - 0s 6ms/step - loss: 3765.3813 - mae: 3765.3813\n",
      "Epoch 137/200\n",
      "34/34 [==============================] - 0s 6ms/step - loss: 3772.4333 - mae: 3772.4333\n",
      "Epoch 138/200\n",
      "34/34 [==============================] - 0s 6ms/step - loss: 3780.5420 - mae: 3780.5420\n",
      "Epoch 139/200\n",
      "34/34 [==============================] - 0s 6ms/step - loss: 3759.5400 - mae: 3759.5400\n",
      "Epoch 140/200\n",
      "34/34 [==============================] - 0s 6ms/step - loss: 3761.2322 - mae: 3761.2322\n",
      "Epoch 141/200\n",
      "34/34 [==============================] - 0s 6ms/step - loss: 3762.7510 - mae: 3762.7510\n",
      "Epoch 142/200\n",
      "34/34 [==============================] - 0s 6ms/step - loss: 3764.0110 - mae: 3764.0110\n",
      "Epoch 143/200\n",
      "34/34 [==============================] - 0s 6ms/step - loss: 3753.8821 - mae: 3753.8821\n",
      "Epoch 144/200\n",
      "34/34 [==============================] - 0s 6ms/step - loss: 3749.3738 - mae: 3749.3738\n",
      "Epoch 145/200\n",
      "34/34 [==============================] - 0s 6ms/step - loss: 3749.3098 - mae: 3749.3098\n",
      "Epoch 146/200\n",
      "34/34 [==============================] - 0s 6ms/step - loss: 3752.6880 - mae: 3752.6880\n",
      "Epoch 147/200\n",
      "34/34 [==============================] - 0s 6ms/step - loss: 3751.6301 - mae: 3751.6301\n",
      "Epoch 148/200\n",
      "34/34 [==============================] - 0s 6ms/step - loss: 3754.4858 - mae: 3754.4858\n",
      "Epoch 149/200\n",
      "34/34 [==============================] - 0s 6ms/step - loss: 3742.2932 - mae: 3742.2932\n",
      "Epoch 150/200\n",
      "34/34 [==============================] - 0s 5ms/step - loss: 3737.9502 - mae: 3737.9502\n",
      "Epoch 151/200\n",
      "34/34 [==============================] - 0s 6ms/step - loss: 3739.5142 - mae: 3739.5142\n",
      "Epoch 152/200\n",
      "34/34 [==============================] - 0s 6ms/step - loss: 3740.6538 - mae: 3740.6538\n",
      "Epoch 153/200\n",
      "34/34 [==============================] - 0s 6ms/step - loss: 3743.8169 - mae: 3743.8169\n",
      "Epoch 154/200\n",
      "34/34 [==============================] - 0s 7ms/step - loss: 3736.1963 - mae: 3736.1963\n",
      "Epoch 155/200\n",
      "34/34 [==============================] - 0s 6ms/step - loss: 3739.3293 - mae: 3739.3293\n",
      "Epoch 156/200\n",
      "34/34 [==============================] - 0s 6ms/step - loss: 3734.7217 - mae: 3734.7217\n",
      "Epoch 157/200\n",
      "34/34 [==============================] - 0s 6ms/step - loss: 3731.3601 - mae: 3731.3601\n",
      "Epoch 158/200\n",
      "34/34 [==============================] - 0s 6ms/step - loss: 3728.7598 - mae: 3728.7598\n",
      "Epoch 159/200\n",
      "34/34 [==============================] - 0s 6ms/step - loss: 3725.7124 - mae: 3725.7124\n",
      "Epoch 160/200\n",
      "34/34 [==============================] - 0s 5ms/step - loss: 3732.6873 - mae: 3732.6873\n",
      "Epoch 161/200\n",
      "34/34 [==============================] - 0s 6ms/step - loss: 3727.3311 - mae: 3727.3311\n",
      "Epoch 162/200\n",
      "34/34 [==============================] - 0s 6ms/step - loss: 3723.1604 - mae: 3723.1604\n",
      "Epoch 163/200\n",
      "34/34 [==============================] - 0s 6ms/step - loss: 3721.0662 - mae: 3721.0662\n",
      "Epoch 164/200\n",
      "34/34 [==============================] - 0s 6ms/step - loss: 3726.2012 - mae: 3726.2012\n",
      "Epoch 165/200\n",
      "34/34 [==============================] - 0s 6ms/step - loss: 3716.6680 - mae: 3716.6680\n",
      "Epoch 166/200\n",
      "34/34 [==============================] - 0s 6ms/step - loss: 3719.6035 - mae: 3719.6035\n",
      "Epoch 167/200\n",
      "34/34 [==============================] - 0s 6ms/step - loss: 3719.0127 - mae: 3719.0127\n",
      "Epoch 168/200\n",
      "34/34 [==============================] - 0s 6ms/step - loss: 3715.2490 - mae: 3715.2490\n",
      "Epoch 169/200\n",
      "34/34 [==============================] - 0s 5ms/step - loss: 3712.6956 - mae: 3712.6956\n",
      "Epoch 170/200\n",
      "34/34 [==============================] - 0s 6ms/step - loss: 3707.1450 - mae: 3707.1450\n",
      "Epoch 171/200\n",
      "34/34 [==============================] - 0s 6ms/step - loss: 3707.2542 - mae: 3707.2542\n",
      "Epoch 172/200\n",
      "34/34 [==============================] - 0s 6ms/step - loss: 3710.4177 - mae: 3710.4177\n",
      "Epoch 173/200\n",
      "34/34 [==============================] - 0s 6ms/step - loss: 3703.2424 - mae: 3703.2424\n",
      "Epoch 174/200\n",
      "34/34 [==============================] - 0s 6ms/step - loss: 3708.3047 - mae: 3708.3047\n",
      "Epoch 175/200\n",
      "34/34 [==============================] - 0s 6ms/step - loss: 3710.4375 - mae: 3710.4375\n",
      "Epoch 176/200\n",
      "34/34 [==============================] - 0s 6ms/step - loss: 3706.0872 - mae: 3706.0872\n",
      "Epoch 177/200\n",
      "34/34 [==============================] - 0s 6ms/step - loss: 3699.0212 - mae: 3699.0212\n",
      "Epoch 178/200\n",
      "34/34 [==============================] - 0s 6ms/step - loss: 3697.7764 - mae: 3697.7764\n",
      "Epoch 179/200\n",
      "34/34 [==============================] - 0s 6ms/step - loss: 3708.7297 - mae: 3708.7297\n",
      "Epoch 180/200\n",
      "34/34 [==============================] - 0s 6ms/step - loss: 3708.1677 - mae: 3708.1677\n",
      "Epoch 181/200\n",
      "34/34 [==============================] - 0s 6ms/step - loss: 3696.5188 - mae: 3696.5188\n",
      "Epoch 182/200\n",
      "34/34 [==============================] - 0s 6ms/step - loss: 3692.4512 - mae: 3692.4512\n",
      "Epoch 183/200\n",
      "34/34 [==============================] - 0s 6ms/step - loss: 3690.2495 - mae: 3690.2495\n",
      "Epoch 184/200\n",
      "34/34 [==============================] - 0s 6ms/step - loss: 3697.3501 - mae: 3697.3501\n",
      "Epoch 185/200\n",
      "34/34 [==============================] - 0s 5ms/step - loss: 3693.8062 - mae: 3693.8062\n",
      "Epoch 186/200\n",
      "34/34 [==============================] - 0s 6ms/step - loss: 3696.4194 - mae: 3696.4194\n",
      "Epoch 187/200\n",
      "34/34 [==============================] - 0s 6ms/step - loss: 3688.8271 - mae: 3688.8271\n",
      "Epoch 188/200\n",
      "34/34 [==============================] - 0s 6ms/step - loss: 3694.0598 - mae: 3694.0598\n",
      "Epoch 189/200\n",
      "34/34 [==============================] - 0s 6ms/step - loss: 3683.6602 - mae: 3683.6602\n",
      "Epoch 190/200\n",
      "34/34 [==============================] - 0s 6ms/step - loss: 3682.9382 - mae: 3682.9382\n",
      "Epoch 191/200\n",
      "34/34 [==============================] - 0s 6ms/step - loss: 3696.2600 - mae: 3696.2600\n",
      "Epoch 192/200\n",
      "34/34 [==============================] - 0s 6ms/step - loss: 3683.5098 - mae: 3683.5098\n",
      "Epoch 193/200\n",
      "34/34 [==============================] - 0s 5ms/step - loss: 3674.1768 - mae: 3674.1768\n",
      "Epoch 194/200\n",
      "34/34 [==============================] - 0s 7ms/step - loss: 3674.6604 - mae: 3674.6604\n",
      "Epoch 195/200\n",
      "34/34 [==============================] - 0s 6ms/step - loss: 3672.8682 - mae: 3672.8682\n",
      "Epoch 196/200\n",
      "34/34 [==============================] - 0s 5ms/step - loss: 3681.1086 - mae: 3681.1086\n",
      "Epoch 197/200\n",
      "34/34 [==============================] - 0s 6ms/step - loss: 3666.2380 - mae: 3666.2380\n",
      "Epoch 198/200\n",
      "34/34 [==============================] - 0s 6ms/step - loss: 3673.4316 - mae: 3673.4316\n",
      "Epoch 199/200\n",
      "34/34 [==============================] - 0s 5ms/step - loss: 3680.6587 - mae: 3680.6587\n",
      "Epoch 200/200\n",
      "34/34 [==============================] - 0s 6ms/step - loss: 3667.6372 - mae: 3667.6372\n"
     ]
    }
   ],
   "source": [
    "tf.random.set_seed(RANDOM_STATE)\n",
    "insurance_model_3 = tf.keras.Sequential([\n",
    "    tf.keras.layers.Dense(100),\n",
    "    tf.keras.layers.Dense(10),\n",
    "    tf.keras.layers.Dense(1),\n",
    "])\n",
    "insurance_model_3.compile(loss=tf.keras.losses.mae,\n",
    "                          optimizer=tf.keras.optimizers.Adam(),\n",
    "                          metrics=['mae'])\n",
    "history = insurance_model_3.fit(X_train, y_train, epochs=200)"
   ],
   "metadata": {
    "collapsed": false,
    "ExecuteTime": {
     "end_time": "2023-09-11T09:02:12.635986Z",
     "start_time": "2023-09-11T09:01:32.466837Z"
    }
   },
   "id": "84486b13763e9dad"
  },
  {
   "cell_type": "code",
   "execution_count": 357,
   "outputs": [
    {
     "data": {
      "text/plain": "200"
     },
     "execution_count": 357,
     "metadata": {},
     "output_type": "execute_result"
    }
   ],
   "source": [
    "len(history.history['loss'])"
   ],
   "metadata": {
    "collapsed": false,
    "ExecuteTime": {
     "end_time": "2023-09-11T09:02:12.653768Z",
     "start_time": "2023-09-11T09:02:12.618612Z"
    }
   },
   "id": "d56165dbef84c145"
  },
  {
   "cell_type": "code",
   "execution_count": 359,
   "outputs": [
    {
     "name": "stdout",
     "output_type": "stream",
     "text": [
      "9/9 [==============================] - 0s 7ms/step - loss: 3493.0198 - mae: 3493.0198\n"
     ]
    },
    {
     "name": "stderr",
     "output_type": "stream",
     "text": [
      "2023-09-11 04:02:23.950834: I tensorflow/core/grappler/optimizers/custom_graph_optimizer_registry.cc:114] Plugin optimizer for device_type GPU is enabled.\n"
     ]
    },
    {
     "data": {
      "text/plain": "[3493.019775390625, 3493.019775390625]"
     },
     "execution_count": 359,
     "metadata": {},
     "output_type": "execute_result"
    }
   ],
   "source": [
    "insurance_model_3_loss = insurance_model_3.evaluate(X_test, y_test)\n",
    "insurance_model_3_loss"
   ],
   "metadata": {
    "collapsed": false,
    "ExecuteTime": {
     "end_time": "2023-09-11T09:02:24.126834Z",
     "start_time": "2023-09-11T09:02:23.861962Z"
    }
   },
   "id": "fadf5f564922f132"
  },
  {
   "cell_type": "code",
   "execution_count": 360,
   "outputs": [
    {
     "data": {
      "text/plain": "Text(0, 0.5, 'loss')"
     },
     "execution_count": 360,
     "metadata": {},
     "output_type": "execute_result"
    },
    {
     "data": {
      "text/plain": "<Figure size 640x480 with 1 Axes>",
      "image/png": "[encoded data removed]"
     },
     "metadata": {},
     "output_type": "display_data"
    }
   ],
   "source": [
    "# Plot history also known as loss curve or a training curve\n",
    "pd.DataFrame(history.history).plot()\n",
    "plt.xlabel(\"epochs\")\n",
    "plt.ylabel(\"loss\")"
   ],
   "metadata": {
    "collapsed": false,
    "ExecuteTime": {
     "end_time": "2023-09-11T09:02:25.462223Z",
     "start_time": "2023-09-11T09:02:25.277830Z"
    }
   },
   "id": "d34b3ad774976991"
  },
  {
   "cell_type": "markdown",
   "source": [
    "> 🤔 **Question:** How long should you train for?\n",
    "\n",
    "It depends. Really... it depends on the problem you're working on. However, many people have asked the same question before... so TensorFlow has a solution! It's called the [EarlyStopping callback](https://www.tensorflow.org/api_docs/python/tf/keras/callbacks/EarlyStopping), which is a TensorFlow component that you can add to your model once it's stops improving a certain metric significantly."
   ],
   "metadata": {
    "collapsed": false
   },
   "id": "d965815a528a36d6"
  },
  {
   "cell_type": "code",
   "execution_count": 361,
   "outputs": [
    {
     "name": "stderr",
     "output_type": "stream",
     "text": [
      "WARNING:absl:At this time, the v2.11+ optimizer `tf.keras.optimizers.Adam` runs slowly on M1/M2 Macs, please use the legacy Keras optimizer instead, located at `tf.keras.optimizers.legacy.Adam`.\n",
      "WARNING:absl:There is a known slowdown when using v2.11+ Keras optimizers on M1/M2 Macs. Falling back to the legacy Keras optimizer, i.e., `tf.keras.optimizers.legacy.Adam`.\n"
     ]
    },
    {
     "name": "stdout",
     "output_type": "stream",
     "text": [
      "Epoch 1/500\n",
      " 1/34 [..............................] - ETA: 12s - loss: 13165.7383 - mae: 13165.7383"
     ]
    },
    {
     "name": "stderr",
     "output_type": "stream",
     "text": [
      "2023-09-11 04:02:28.018045: I tensorflow/core/grappler/optimizers/custom_graph_optimizer_registry.cc:114] Plugin optimizer for device_type GPU is enabled.\n"
     ]
    },
    {
     "name": "stdout",
     "output_type": "stream",
     "text": [
      "34/34 [==============================] - 1s 10ms/step - loss: 13283.3906 - mae: 13283.3906\n",
      "Epoch 2/500\n",
      "34/34 [==============================] - 0s 7ms/step - loss: 13073.6211 - mae: 13073.6211\n",
      "Epoch 3/500\n",
      "34/34 [==============================] - 0s 7ms/step - loss: 12646.3018 - mae: 12646.3018\n",
      "Epoch 4/500\n",
      "34/34 [==============================] - 0s 9ms/step - loss: 11828.9756 - mae: 11828.9756\n",
      "Epoch 5/500\n",
      "34/34 [==============================] - 0s 7ms/step - loss: 10542.7988 - mae: 10542.7988\n",
      "Epoch 6/500\n",
      "34/34 [==============================] - 0s 7ms/step - loss: 9050.6279 - mae: 9050.6279\n",
      "Epoch 7/500\n",
      "34/34 [==============================] - 0s 6ms/step - loss: 7875.1572 - mae: 7875.1572\n",
      "Epoch 8/500\n",
      "34/34 [==============================] - 0s 7ms/step - loss: 7484.1079 - mae: 7484.1079\n",
      "Epoch 9/500\n",
      "34/34 [==============================] - 0s 7ms/step - loss: 7431.6211 - mae: 7431.6211\n",
      "Epoch 10/500\n",
      "34/34 [==============================] - 0s 6ms/step - loss: 7411.6011 - mae: 7411.6011\n",
      "Epoch 11/500\n",
      "34/34 [==============================] - 0s 7ms/step - loss: 7392.6426 - mae: 7392.6426\n",
      "Epoch 12/500\n",
      "34/34 [==============================] - 0s 6ms/step - loss: 7369.4409 - mae: 7369.4409\n",
      "Epoch 13/500\n",
      "34/34 [==============================] - 0s 8ms/step - loss: 7348.2441 - mae: 7348.2441\n",
      "Epoch 14/500\n",
      "34/34 [==============================] - 0s 7ms/step - loss: 7325.1025 - mae: 7325.1025\n",
      "Epoch 15/500\n",
      "34/34 [==============================] - 0s 7ms/step - loss: 7304.9785 - mae: 7304.9785\n",
      "Epoch 16/500\n",
      "34/34 [==============================] - 0s 7ms/step - loss: 7281.4966 - mae: 7281.4966\n",
      "Epoch 17/500\n",
      "34/34 [==============================] - 0s 6ms/step - loss: 7260.6431 - mae: 7260.6431\n",
      "Epoch 18/500\n",
      "34/34 [==============================] - 0s 6ms/step - loss: 7236.0049 - mae: 7236.0049\n",
      "Epoch 19/500\n",
      "34/34 [==============================] - 0s 6ms/step - loss: 7212.5386 - mae: 7212.5386\n",
      "Epoch 20/500\n",
      "34/34 [==============================] - 0s 6ms/step - loss: 7187.6694 - mae: 7187.6694\n",
      "Epoch 21/500\n",
      "34/34 [==============================] - 0s 7ms/step - loss: 7167.2974 - mae: 7167.2974\n",
      "Epoch 22/500\n",
      "34/34 [==============================] - 0s 7ms/step - loss: 7138.2041 - mae: 7138.2041\n",
      "Epoch 23/500\n",
      "34/34 [==============================] - 0s 7ms/step - loss: 7112.0288 - mae: 7112.0288\n",
      "Epoch 24/500\n",
      "34/34 [==============================] - 0s 7ms/step - loss: 7085.1089 - mae: 7085.1089\n",
      "Epoch 25/500\n",
      "34/34 [==============================] - 0s 6ms/step - loss: 7064.8564 - mae: 7064.8564\n",
      "Epoch 26/500\n",
      "34/34 [==============================] - 0s 6ms/step - loss: 7031.7505 - mae: 7031.7505\n",
      "Epoch 27/500\n",
      "34/34 [==============================] - 0s 9ms/step - loss: 7001.3765 - mae: 7001.3765\n",
      "Epoch 28/500\n",
      "34/34 [==============================] - 0s 8ms/step - loss: 6971.2339 - mae: 6971.2339\n",
      "Epoch 29/500\n",
      "34/34 [==============================] - 0s 7ms/step - loss: 6941.1509 - mae: 6941.1509\n",
      "Epoch 30/500\n",
      "34/34 [==============================] - 0s 7ms/step - loss: 6911.3130 - mae: 6911.3130\n",
      "Epoch 31/500\n",
      "34/34 [==============================] - 0s 6ms/step - loss: 6878.7681 - mae: 6878.7681\n",
      "Epoch 32/500\n",
      "34/34 [==============================] - 0s 7ms/step - loss: 6847.8584 - mae: 6847.8584\n",
      "Epoch 33/500\n",
      "34/34 [==============================] - 0s 6ms/step - loss: 6814.5044 - mae: 6814.5044\n",
      "Epoch 34/500\n",
      "34/34 [==============================] - 0s 8ms/step - loss: 6782.1357 - mae: 6782.1357\n",
      "Epoch 35/500\n",
      "34/34 [==============================] - 0s 7ms/step - loss: 6744.7397 - mae: 6744.7397\n",
      "Epoch 36/500\n",
      "34/34 [==============================] - 0s 7ms/step - loss: 6708.7617 - mae: 6708.7617\n",
      "Epoch 37/500\n",
      "34/34 [==============================] - 0s 7ms/step - loss: 6670.8428 - mae: 6670.8428\n",
      "Epoch 38/500\n",
      "34/34 [==============================] - 0s 7ms/step - loss: 6641.1304 - mae: 6641.1304\n",
      "Epoch 39/500\n",
      "34/34 [==============================] - 0s 6ms/step - loss: 6600.6963 - mae: 6600.6963\n",
      "Epoch 40/500\n",
      "34/34 [==============================] - 0s 7ms/step - loss: 6567.8818 - mae: 6567.8818\n",
      "Epoch 41/500\n",
      "34/34 [==============================] - 0s 9ms/step - loss: 6540.8232 - mae: 6540.8232\n",
      "Epoch 42/500\n",
      "34/34 [==============================] - 0s 8ms/step - loss: 6517.4375 - mae: 6517.4375\n",
      "Epoch 43/500\n",
      "34/34 [==============================] - 0s 6ms/step - loss: 6494.7559 - mae: 6494.7559\n",
      "Epoch 44/500\n",
      "34/34 [==============================] - 0s 7ms/step - loss: 6475.0112 - mae: 6475.0112\n",
      "Epoch 45/500\n",
      "34/34 [==============================] - 0s 6ms/step - loss: 6464.8413 - mae: 6464.8413\n",
      "Epoch 46/500\n",
      "34/34 [==============================] - 0s 7ms/step - loss: 6448.0332 - mae: 6448.0332\n",
      "Epoch 47/500\n",
      "34/34 [==============================] - 0s 6ms/step - loss: 6431.5049 - mae: 6431.5049\n",
      "Epoch 48/500\n",
      "34/34 [==============================] - 0s 6ms/step - loss: 6417.1982 - mae: 6417.1982\n",
      "Epoch 49/500\n",
      "34/34 [==============================] - 0s 6ms/step - loss: 6405.8770 - mae: 6405.8770\n",
      "Epoch 50/500\n",
      "34/34 [==============================] - 0s 6ms/step - loss: 6390.4185 - mae: 6390.4185\n",
      "Epoch 51/500\n",
      "34/34 [==============================] - 0s 6ms/step - loss: 6377.4741 - mae: 6377.4741\n",
      "Epoch 52/500\n",
      "34/34 [==============================] - 0s 6ms/step - loss: 6364.2036 - mae: 6364.2036\n",
      "Epoch 53/500\n",
      "34/34 [==============================] - 0s 6ms/step - loss: 6349.3135 - mae: 6349.3135\n",
      "Epoch 54/500\n",
      "34/34 [==============================] - 0s 11ms/step - loss: 6334.4238 - mae: 6334.4238\n",
      "Epoch 55/500\n",
      "34/34 [==============================] - 0s 9ms/step - loss: 6320.3247 - mae: 6320.3247\n",
      "Epoch 56/500\n",
      "34/34 [==============================] - 0s 7ms/step - loss: 6306.0742 - mae: 6306.0742\n",
      "Epoch 57/500\n",
      "34/34 [==============================] - 0s 6ms/step - loss: 6291.7471 - mae: 6291.7471\n",
      "Epoch 58/500\n",
      "34/34 [==============================] - 0s 6ms/step - loss: 6277.2598 - mae: 6277.2598\n",
      "Epoch 59/500\n",
      "34/34 [==============================] - 0s 6ms/step - loss: 6260.3325 - mae: 6260.3325\n",
      "Epoch 60/500\n",
      "34/34 [==============================] - 0s 6ms/step - loss: 6248.7441 - mae: 6248.7441\n",
      "Epoch 61/500\n",
      "34/34 [==============================] - 0s 6ms/step - loss: 6227.8267 - mae: 6227.8267\n",
      "Epoch 62/500\n",
      "34/34 [==============================] - 0s 6ms/step - loss: 6214.4585 - mae: 6214.4585\n",
      "Epoch 63/500\n",
      "34/34 [==============================] - 0s 6ms/step - loss: 6194.8633 - mae: 6194.8633\n",
      "Epoch 64/500\n",
      "34/34 [==============================] - 0s 6ms/step - loss: 6176.8423 - mae: 6176.8423\n",
      "Epoch 65/500\n",
      "34/34 [==============================] - 0s 6ms/step - loss: 6158.1450 - mae: 6158.1450\n",
      "Epoch 66/500\n",
      "34/34 [==============================] - 0s 6ms/step - loss: 6139.4092 - mae: 6139.4092\n",
      "Epoch 67/500\n",
      "34/34 [==============================] - 0s 6ms/step - loss: 6125.7017 - mae: 6125.7017\n",
      "Epoch 68/500\n",
      "34/34 [==============================] - 0s 6ms/step - loss: 6101.5601 - mae: 6101.5601\n",
      "Epoch 69/500\n",
      "34/34 [==============================] - 0s 6ms/step - loss: 6082.9316 - mae: 6082.9316\n",
      "Epoch 70/500\n",
      "34/34 [==============================] - 0s 6ms/step - loss: 6061.1450 - mae: 6061.1450\n",
      "Epoch 71/500\n",
      "34/34 [==============================] - 0s 7ms/step - loss: 6039.7451 - mae: 6039.7451\n",
      "Epoch 72/500\n",
      "34/34 [==============================] - 0s 6ms/step - loss: 6019.0576 - mae: 6019.0576\n",
      "Epoch 73/500\n",
      "34/34 [==============================] - 0s 6ms/step - loss: 6001.7334 - mae: 6001.7334\n",
      "Epoch 74/500\n",
      "34/34 [==============================] - 0s 6ms/step - loss: 5971.0195 - mae: 5971.0195\n",
      "Epoch 75/500\n",
      "34/34 [==============================] - 0s 5ms/step - loss: 5948.0283 - mae: 5948.0283\n",
      "Epoch 76/500\n",
      "34/34 [==============================] - 0s 5ms/step - loss: 5929.3765 - mae: 5929.3765\n",
      "Epoch 77/500\n",
      "34/34 [==============================] - 0s 6ms/step - loss: 5895.2568 - mae: 5895.2568\n",
      "Epoch 78/500\n",
      "34/34 [==============================] - 0s 6ms/step - loss: 5869.1470 - mae: 5869.1470\n",
      "Epoch 79/500\n",
      "34/34 [==============================] - 0s 6ms/step - loss: 5841.8184 - mae: 5841.8184\n",
      "Epoch 80/500\n",
      "34/34 [==============================] - 0s 6ms/step - loss: 5810.3223 - mae: 5810.3223\n",
      "Epoch 81/500\n",
      "34/34 [==============================] - 0s 5ms/step - loss: 5782.1313 - mae: 5782.1313\n",
      "Epoch 82/500\n",
      "34/34 [==============================] - 0s 6ms/step - loss: 5748.8750 - mae: 5748.8750\n",
      "Epoch 83/500\n",
      "34/34 [==============================] - 0s 6ms/step - loss: 5717.5674 - mae: 5717.5674\n",
      "Epoch 84/500\n",
      "34/34 [==============================] - 0s 6ms/step - loss: 5679.9468 - mae: 5679.9468\n",
      "Epoch 85/500\n",
      "34/34 [==============================] - 0s 6ms/step - loss: 5648.7515 - mae: 5648.7515\n",
      "Epoch 86/500\n",
      "34/34 [==============================] - 0s 6ms/step - loss: 5609.9629 - mae: 5609.9629\n",
      "Epoch 87/500\n",
      "34/34 [==============================] - 0s 6ms/step - loss: 5569.4297 - mae: 5569.4297\n",
      "Epoch 88/500\n",
      "34/34 [==============================] - 0s 6ms/step - loss: 5528.6040 - mae: 5528.6040\n",
      "Epoch 89/500\n",
      "34/34 [==============================] - 0s 9ms/step - loss: 5483.7119 - mae: 5483.7119\n",
      "Epoch 90/500\n",
      "34/34 [==============================] - 0s 7ms/step - loss: 5435.6353 - mae: 5435.6353\n",
      "Epoch 91/500\n",
      "34/34 [==============================] - 0s 6ms/step - loss: 5392.0972 - mae: 5392.0972\n",
      "Epoch 92/500\n",
      "34/34 [==============================] - 0s 6ms/step - loss: 5340.7827 - mae: 5340.7827\n",
      "Epoch 93/500\n",
      "34/34 [==============================] - 0s 7ms/step - loss: 5289.0479 - mae: 5289.0479\n",
      "Epoch 94/500\n",
      "34/34 [==============================] - 0s 6ms/step - loss: 5236.7939 - mae: 5236.7939\n",
      "Epoch 95/500\n",
      "34/34 [==============================] - 0s 6ms/step - loss: 5176.7637 - mae: 5176.7637\n",
      "Epoch 96/500\n",
      "34/34 [==============================] - 0s 5ms/step - loss: 5123.8442 - mae: 5123.8442\n",
      "Epoch 97/500\n",
      "34/34 [==============================] - 0s 6ms/step - loss: 5060.5972 - mae: 5060.5972\n",
      "Epoch 98/500\n",
      "34/34 [==============================] - 0s 6ms/step - loss: 4991.9888 - mae: 4991.9888\n",
      "Epoch 99/500\n",
      "34/34 [==============================] - 0s 6ms/step - loss: 4920.5474 - mae: 4920.5474\n",
      "Epoch 100/500\n",
      "34/34 [==============================] - 0s 7ms/step - loss: 4859.4731 - mae: 4859.4731\n",
      "Epoch 101/500\n",
      "34/34 [==============================] - 0s 7ms/step - loss: 4776.3604 - mae: 4776.3604\n",
      "Epoch 102/500\n",
      "34/34 [==============================] - 0s 6ms/step - loss: 4694.0771 - mae: 4694.0771\n",
      "Epoch 103/500\n",
      "34/34 [==============================] - 0s 6ms/step - loss: 4614.7661 - mae: 4614.7661\n",
      "Epoch 104/500\n",
      "34/34 [==============================] - 0s 6ms/step - loss: 4523.5693 - mae: 4523.5693\n",
      "Epoch 105/500\n",
      "34/34 [==============================] - 0s 6ms/step - loss: 4432.9702 - mae: 4432.9702\n",
      "Epoch 106/500\n",
      "34/34 [==============================] - 0s 6ms/step - loss: 4351.2554 - mae: 4351.2554\n",
      "Epoch 107/500\n",
      "34/34 [==============================] - 0s 6ms/step - loss: 4267.4634 - mae: 4267.4634\n",
      "Epoch 108/500\n",
      "34/34 [==============================] - 0s 6ms/step - loss: 4184.6885 - mae: 4184.6885\n",
      "Epoch 109/500\n",
      "34/34 [==============================] - 0s 5ms/step - loss: 4108.4146 - mae: 4108.4146\n",
      "Epoch 110/500\n",
      "34/34 [==============================] - 0s 5ms/step - loss: 4040.3669 - mae: 4040.3669\n",
      "Epoch 111/500\n",
      "34/34 [==============================] - 0s 6ms/step - loss: 3986.4734 - mae: 3986.4734\n",
      "Epoch 112/500\n",
      "34/34 [==============================] - 0s 6ms/step - loss: 3951.5603 - mae: 3951.5603\n",
      "Epoch 113/500\n",
      "34/34 [==============================] - 0s 6ms/step - loss: 3914.6929 - mae: 3914.6929\n",
      "Epoch 114/500\n",
      "34/34 [==============================] - 0s 6ms/step - loss: 3896.6716 - mae: 3896.6716\n",
      "Epoch 115/500\n",
      "34/34 [==============================] - 0s 6ms/step - loss: 3868.2170 - mae: 3868.2170\n",
      "Epoch 116/500\n",
      "34/34 [==============================] - 0s 6ms/step - loss: 3857.8777 - mae: 3857.8777\n",
      "Epoch 117/500\n",
      "34/34 [==============================] - 0s 5ms/step - loss: 3851.5090 - mae: 3851.5090\n",
      "Epoch 118/500\n",
      "34/34 [==============================] - 0s 6ms/step - loss: 3838.1787 - mae: 3838.1787\n",
      "Epoch 119/500\n",
      "34/34 [==============================] - 0s 6ms/step - loss: 3821.7976 - mae: 3821.7976\n",
      "Epoch 120/500\n",
      "34/34 [==============================] - 0s 5ms/step - loss: 3810.3188 - mae: 3810.3188\n",
      "Epoch 121/500\n",
      "34/34 [==============================] - 0s 7ms/step - loss: 3805.6396 - mae: 3805.6396\n",
      "Epoch 122/500\n",
      "34/34 [==============================] - 0s 6ms/step - loss: 3803.9912 - mae: 3803.9912\n",
      "Epoch 123/500\n",
      "34/34 [==============================] - 0s 6ms/step - loss: 3799.0244 - mae: 3799.0244\n",
      "Epoch 124/500\n",
      "34/34 [==============================] - 0s 6ms/step - loss: 3793.6975 - mae: 3793.6975\n",
      "Epoch 125/500\n",
      "34/34 [==============================] - 0s 6ms/step - loss: 3784.5237 - mae: 3784.5237\n",
      "Epoch 126/500\n",
      "34/34 [==============================] - 0s 6ms/step - loss: 3796.8477 - mae: 3796.8477\n",
      "Epoch 127/500\n",
      "34/34 [==============================] - 0s 6ms/step - loss: 3786.4954 - mae: 3786.4954\n",
      "Epoch 128/500\n",
      "34/34 [==============================] - 0s 6ms/step - loss: 3781.6326 - mae: 3781.6326\n",
      "Epoch 129/500\n",
      "34/34 [==============================] - 0s 6ms/step - loss: 3794.9302 - mae: 3794.9302\n",
      "Epoch 130/500\n",
      "34/34 [==============================] - 0s 6ms/step - loss: 3782.5332 - mae: 3782.5332\n",
      "Epoch 131/500\n",
      "34/34 [==============================] - 0s 6ms/step - loss: 3775.4092 - mae: 3775.4092\n",
      "Epoch 132/500\n",
      "34/34 [==============================] - 0s 6ms/step - loss: 3768.9731 - mae: 3768.9731\n",
      "Epoch 133/500\n",
      "34/34 [==============================] - 0s 6ms/step - loss: 3765.1221 - mae: 3765.1221\n",
      "Epoch 134/500\n",
      "34/34 [==============================] - 0s 6ms/step - loss: 3765.6860 - mae: 3765.6860\n",
      "Epoch 135/500\n",
      "34/34 [==============================] - 0s 5ms/step - loss: 3761.4541 - mae: 3761.4541\n",
      "Epoch 136/500\n",
      "34/34 [==============================] - 0s 6ms/step - loss: 3761.0312 - mae: 3761.0312\n",
      "Epoch 137/500\n",
      "34/34 [==============================] - 0s 6ms/step - loss: 3768.2817 - mae: 3768.2817\n",
      "Epoch 138/500\n",
      "34/34 [==============================] - 0s 6ms/step - loss: 3782.5730 - mae: 3782.5730\n",
      "Epoch 139/500\n",
      "34/34 [==============================] - 0s 6ms/step - loss: 3755.8462 - mae: 3755.8462\n",
      "Epoch 140/500\n",
      "34/34 [==============================] - 0s 6ms/step - loss: 3756.5654 - mae: 3756.5654\n",
      "Epoch 141/500\n",
      "34/34 [==============================] - 0s 6ms/step - loss: 3759.3191 - mae: 3759.3191\n",
      "Epoch 142/500\n",
      "34/34 [==============================] - 0s 6ms/step - loss: 3759.7830 - mae: 3759.7830\n",
      "Epoch 143/500\n",
      "34/34 [==============================] - 0s 5ms/step - loss: 3747.9619 - mae: 3747.9619\n",
      "Epoch 144/500\n",
      "34/34 [==============================] - 0s 6ms/step - loss: 3744.9500 - mae: 3744.9500\n",
      "Epoch 145/500\n",
      "34/34 [==============================] - 0s 7ms/step - loss: 3745.5332 - mae: 3745.5332\n",
      "Epoch 146/500\n",
      "34/34 [==============================] - 0s 7ms/step - loss: 3752.2466 - mae: 3752.2466\n",
      "Epoch 147/500\n",
      "34/34 [==============================] - 0s 6ms/step - loss: 3745.5681 - mae: 3745.5681\n",
      "Epoch 148/500\n",
      "34/34 [==============================] - 0s 6ms/step - loss: 3753.0613 - mae: 3753.0613\n",
      "Epoch 149/500\n",
      "34/34 [==============================] - 0s 6ms/step - loss: 3738.4800 - mae: 3738.4800\n",
      "Epoch 150/500\n",
      "34/34 [==============================] - 0s 6ms/step - loss: 3734.4104 - mae: 3734.4104\n",
      "Epoch 151/500\n",
      "34/34 [==============================] - 0s 6ms/step - loss: 3735.4758 - mae: 3735.4758\n",
      "Epoch 152/500\n",
      "34/34 [==============================] - 0s 6ms/step - loss: 3737.6531 - mae: 3737.6531\n",
      "Epoch 153/500\n",
      "34/34 [==============================] - 0s 6ms/step - loss: 3739.6694 - mae: 3739.6694\n",
      "Epoch 154/500\n",
      "34/34 [==============================] - 0s 6ms/step - loss: 3732.2451 - mae: 3732.2451\n",
      "Epoch 155/500\n",
      "34/34 [==============================] - 0s 6ms/step - loss: 3733.6104 - mae: 3733.6104\n",
      "Epoch 156/500\n",
      "34/34 [==============================] - 0s 7ms/step - loss: 3733.7263 - mae: 3733.7263\n",
      "Epoch 157/500\n",
      "34/34 [==============================] - 0s 6ms/step - loss: 3729.2356 - mae: 3729.2356\n",
      "Epoch 158/500\n",
      "34/34 [==============================] - 0s 6ms/step - loss: 3724.0320 - mae: 3724.0320\n",
      "Epoch 159/500\n",
      "34/34 [==============================] - 0s 6ms/step - loss: 3721.5852 - mae: 3721.5852\n",
      "Epoch 160/500\n",
      "34/34 [==============================] - 0s 5ms/step - loss: 3728.7761 - mae: 3728.7761\n",
      "Epoch 161/500\n",
      "34/34 [==============================] - 0s 6ms/step - loss: 3722.7935 - mae: 3722.7935\n",
      "Epoch 162/500\n",
      "34/34 [==============================] - 0s 6ms/step - loss: 3719.8513 - mae: 3719.8513\n",
      "Epoch 163/500\n",
      "34/34 [==============================] - 0s 6ms/step - loss: 3718.5562 - mae: 3718.5562\n",
      "Epoch 164/500\n",
      "34/34 [==============================] - 0s 6ms/step - loss: 3721.7666 - mae: 3721.7666\n",
      "Epoch 165/500\n",
      "34/34 [==============================] - 0s 6ms/step - loss: 3711.0725 - mae: 3711.0725\n",
      "Epoch 166/500\n",
      "34/34 [==============================] - 0s 6ms/step - loss: 3715.7881 - mae: 3715.7881\n",
      "Epoch 167/500\n",
      "34/34 [==============================] - 0s 6ms/step - loss: 3714.9167 - mae: 3714.9167\n",
      "Epoch 168/500\n",
      "34/34 [==============================] - 0s 6ms/step - loss: 3709.7817 - mae: 3709.7817\n",
      "Epoch 169/500\n",
      "34/34 [==============================] - 0s 5ms/step - loss: 3707.8823 - mae: 3707.8823\n",
      "Epoch 170/500\n",
      "34/34 [==============================] - 0s 6ms/step - loss: 3702.5562 - mae: 3702.5562\n",
      "Epoch 171/500\n",
      "34/34 [==============================] - 0s 6ms/step - loss: 3702.2866 - mae: 3702.2866\n",
      "Epoch 172/500\n",
      "34/34 [==============================] - 0s 6ms/step - loss: 3704.9001 - mae: 3704.9001\n",
      "Epoch 173/500\n",
      "34/34 [==============================] - 0s 6ms/step - loss: 3700.1577 - mae: 3700.1577\n",
      "Epoch 174/500\n",
      "34/34 [==============================] - 0s 6ms/step - loss: 3704.9175 - mae: 3704.9175\n",
      "Epoch 175/500\n",
      "34/34 [==============================] - 0s 6ms/step - loss: 3705.9902 - mae: 3705.9902\n",
      "Epoch 176/500\n",
      "34/34 [==============================] - 0s 6ms/step - loss: 3701.9153 - mae: 3701.9153\n",
      "Epoch 177/500\n",
      "34/34 [==============================] - 0s 6ms/step - loss: 3693.3940 - mae: 3693.3940\n",
      "Epoch 178/500\n",
      "34/34 [==============================] - 0s 6ms/step - loss: 3693.9651 - mae: 3693.9651\n",
      "Epoch 179/500\n",
      "34/34 [==============================] - 0s 6ms/step - loss: 3702.7896 - mae: 3702.7896\n",
      "Epoch 180/500\n",
      "34/34 [==============================] - 0s 6ms/step - loss: 3704.0618 - mae: 3704.0618\n",
      "Epoch 181/500\n",
      "34/34 [==============================] - 0s 6ms/step - loss: 3690.6475 - mae: 3690.6475\n",
      "Epoch 182/500\n",
      "34/34 [==============================] - 0s 6ms/step - loss: 3687.6492 - mae: 3687.6492\n",
      "Epoch 183/500\n",
      "34/34 [==============================] - 0s 6ms/step - loss: 3685.7422 - mae: 3685.7422\n",
      "Epoch 184/500\n",
      "34/34 [==============================] - 0s 6ms/step - loss: 3692.5947 - mae: 3692.5947\n",
      "Epoch 185/500\n",
      "34/34 [==============================] - 0s 6ms/step - loss: 3687.9180 - mae: 3687.9180\n",
      "Epoch 186/500\n",
      "34/34 [==============================] - 0s 7ms/step - loss: 3690.8359 - mae: 3690.8359\n",
      "Epoch 187/500\n",
      "34/34 [==============================] - 0s 5ms/step - loss: 3683.0894 - mae: 3683.0894\n",
      "Epoch 188/500\n",
      "34/34 [==============================] - 0s 6ms/step - loss: 3689.5647 - mae: 3689.5647\n",
      "Epoch 189/500\n",
      "34/34 [==============================] - 0s 6ms/step - loss: 3678.9500 - mae: 3678.9500\n",
      "Epoch 190/500\n",
      "34/34 [==============================] - 0s 6ms/step - loss: 3678.3176 - mae: 3678.3176\n",
      "Epoch 191/500\n",
      "34/34 [==============================] - 0s 6ms/step - loss: 3692.1128 - mae: 3692.1128\n",
      "Epoch 192/500\n",
      "34/34 [==============================] - 0s 6ms/step - loss: 3680.6719 - mae: 3680.6719\n",
      "Epoch 193/500\n",
      "34/34 [==============================] - 0s 5ms/step - loss: 3669.7908 - mae: 3669.7908\n",
      "Epoch 194/500\n",
      "34/34 [==============================] - 0s 7ms/step - loss: 3669.6108 - mae: 3669.6108\n",
      "Epoch 195/500\n",
      "34/34 [==============================] - 0s 6ms/step - loss: 3668.5137 - mae: 3668.5137\n",
      "Epoch 196/500\n",
      "34/34 [==============================] - 0s 6ms/step - loss: 3675.8760 - mae: 3675.8760\n",
      "Epoch 197/500\n",
      "34/34 [==============================] - 0s 6ms/step - loss: 3660.7070 - mae: 3660.7070\n",
      "Epoch 198/500\n",
      "34/34 [==============================] - 0s 6ms/step - loss: 3665.9983 - mae: 3665.9983\n",
      "Epoch 199/500\n",
      "34/34 [==============================] - 0s 6ms/step - loss: 3675.2202 - mae: 3675.2202\n",
      "Epoch 200/500\n",
      "34/34 [==============================] - 0s 6ms/step - loss: 3663.0823 - mae: 3663.0823\n",
      "Epoch 201/500\n",
      "34/34 [==============================] - 0s 5ms/step - loss: 3662.0657 - mae: 3662.0657\n",
      "Epoch 202/500\n",
      "34/34 [==============================] - 0s 6ms/step - loss: 3660.1235 - mae: 3660.1235\n",
      "Epoch 203/500\n",
      "34/34 [==============================] - 0s 6ms/step - loss: 3659.4963 - mae: 3659.4963\n",
      "Epoch 204/500\n",
      "34/34 [==============================] - 0s 6ms/step - loss: 3649.3176 - mae: 3649.3176\n",
      "Epoch 205/500\n",
      "34/34 [==============================] - 0s 5ms/step - loss: 3658.5039 - mae: 3658.5039\n",
      "Epoch 206/500\n",
      "34/34 [==============================] - 0s 5ms/step - loss: 3653.1316 - mae: 3653.1316\n",
      "Epoch 207/500\n",
      "34/34 [==============================] - 0s 6ms/step - loss: 3650.2424 - mae: 3650.2424\n",
      "Epoch 208/500\n",
      "34/34 [==============================] - 0s 6ms/step - loss: 3647.8994 - mae: 3647.8994\n",
      "Epoch 209/500\n",
      "34/34 [==============================] - 0s 5ms/step - loss: 3647.8628 - mae: 3647.8628\n",
      "Epoch 210/500\n",
      "34/34 [==============================] - 0s 6ms/step - loss: 3651.8147 - mae: 3651.8147\n",
      "Epoch 211/500\n",
      "34/34 [==============================] - 0s 6ms/step - loss: 3650.8271 - mae: 3650.8271\n",
      "Epoch 212/500\n",
      "34/34 [==============================] - 0s 6ms/step - loss: 3665.7986 - mae: 3665.7986\n",
      "Epoch 213/500\n",
      "34/34 [==============================] - 0s 6ms/step - loss: 3648.1487 - mae: 3648.1487\n",
      "Epoch 214/500\n",
      "34/34 [==============================] - 0s 6ms/step - loss: 3664.6851 - mae: 3664.6851\n",
      "Epoch 215/500\n",
      "34/34 [==============================] - 0s 6ms/step - loss: 3649.3362 - mae: 3649.3362\n",
      "Epoch 216/500\n",
      "34/34 [==============================] - 0s 6ms/step - loss: 3638.6624 - mae: 3638.6624\n",
      "Epoch 217/500\n",
      "34/34 [==============================] - 0s 6ms/step - loss: 3640.5994 - mae: 3640.5994\n",
      "Epoch 218/500\n",
      "34/34 [==============================] - 0s 6ms/step - loss: 3636.7903 - mae: 3636.7903\n",
      "Epoch 219/500\n",
      "34/34 [==============================] - 0s 6ms/step - loss: 3646.5818 - mae: 3646.5818\n",
      "Epoch 220/500\n",
      "34/34 [==============================] - 0s 6ms/step - loss: 3631.0735 - mae: 3631.0735\n",
      "Epoch 221/500\n",
      "34/34 [==============================] - 0s 6ms/step - loss: 3629.2893 - mae: 3629.2893\n",
      "Epoch 222/500\n",
      "34/34 [==============================] - 0s 6ms/step - loss: 3642.5278 - mae: 3642.5278\n",
      "Epoch 223/500\n",
      "34/34 [==============================] - 0s 6ms/step - loss: 3627.4500 - mae: 3627.4500\n",
      "Epoch 224/500\n",
      "34/34 [==============================] - 0s 6ms/step - loss: 3630.8271 - mae: 3630.8271\n",
      "Epoch 225/500\n",
      "34/34 [==============================] - 0s 6ms/step - loss: 3624.9055 - mae: 3624.9055\n",
      "Epoch 226/500\n",
      "34/34 [==============================] - 0s 6ms/step - loss: 3622.0454 - mae: 3622.0454\n",
      "Epoch 227/500\n",
      "34/34 [==============================] - 0s 6ms/step - loss: 3616.3611 - mae: 3616.3611\n",
      "Epoch 228/500\n",
      "34/34 [==============================] - 0s 6ms/step - loss: 3623.0767 - mae: 3623.0767\n",
      "Epoch 229/500\n",
      "34/34 [==============================] - 0s 6ms/step - loss: 3626.9812 - mae: 3626.9812\n",
      "Epoch 230/500\n",
      "34/34 [==============================] - 0s 6ms/step - loss: 3610.1467 - mae: 3610.1467\n",
      "Epoch 231/500\n",
      "34/34 [==============================] - 0s 6ms/step - loss: 3608.5596 - mae: 3608.5596\n",
      "Epoch 232/500\n",
      "34/34 [==============================] - 0s 6ms/step - loss: 3606.0317 - mae: 3606.0317\n",
      "Epoch 233/500\n",
      "34/34 [==============================] - 0s 6ms/step - loss: 3604.7495 - mae: 3604.7495\n",
      "Epoch 234/500\n",
      "34/34 [==============================] - 0s 6ms/step - loss: 3608.8113 - mae: 3608.8113\n",
      "Epoch 235/500\n",
      "34/34 [==============================] - 0s 5ms/step - loss: 3620.6907 - mae: 3620.6907\n",
      "Epoch 236/500\n",
      "34/34 [==============================] - 0s 6ms/step - loss: 3607.3091 - mae: 3607.3091\n",
      "Epoch 237/500\n",
      "34/34 [==============================] - 0s 6ms/step - loss: 3609.9106 - mae: 3609.9106\n",
      "Epoch 238/500\n",
      "34/34 [==============================] - 0s 6ms/step - loss: 3590.6248 - mae: 3590.6248\n",
      "Epoch 239/500\n",
      "34/34 [==============================] - 0s 7ms/step - loss: 3599.2642 - mae: 3599.2642\n",
      "Epoch 240/500\n",
      "34/34 [==============================] - 0s 7ms/step - loss: 3595.7896 - mae: 3595.7896\n",
      "Epoch 241/500\n",
      "34/34 [==============================] - 0s 6ms/step - loss: 3591.8796 - mae: 3591.8796\n",
      "Epoch 242/500\n",
      "34/34 [==============================] - 0s 6ms/step - loss: 3588.6140 - mae: 3588.6140\n",
      "Epoch 243/500\n",
      "34/34 [==============================] - 0s 6ms/step - loss: 3584.8291 - mae: 3584.8291\n",
      "Epoch 244/500\n",
      "34/34 [==============================] - 0s 6ms/step - loss: 3598.1838 - mae: 3598.1838\n",
      "Epoch 245/500\n",
      "34/34 [==============================] - 0s 6ms/step - loss: 3584.8064 - mae: 3584.8064\n",
      "Epoch 246/500\n",
      "34/34 [==============================] - 0s 6ms/step - loss: 3579.4258 - mae: 3579.4258\n",
      "Epoch 247/500\n",
      "34/34 [==============================] - 0s 6ms/step - loss: 3578.9404 - mae: 3578.9404\n",
      "Epoch 248/500\n",
      "34/34 [==============================] - 0s 6ms/step - loss: 3593.6292 - mae: 3593.6292\n",
      "Epoch 249/500\n",
      "34/34 [==============================] - 0s 6ms/step - loss: 3581.3911 - mae: 3581.3911\n",
      "Epoch 250/500\n",
      "34/34 [==============================] - 0s 6ms/step - loss: 3574.9888 - mae: 3574.9888\n",
      "Epoch 251/500\n",
      "34/34 [==============================] - 0s 6ms/step - loss: 3570.0208 - mae: 3570.0208\n",
      "Epoch 252/500\n",
      "34/34 [==============================] - 0s 6ms/step - loss: 3575.2742 - mae: 3575.2742\n",
      "Epoch 253/500\n",
      "34/34 [==============================] - 0s 6ms/step - loss: 3568.7312 - mae: 3568.7312\n",
      "Epoch 254/500\n",
      "34/34 [==============================] - 0s 6ms/step - loss: 3565.9312 - mae: 3565.9312\n",
      "Epoch 255/500\n",
      "34/34 [==============================] - 0s 6ms/step - loss: 3559.4458 - mae: 3559.4458\n",
      "Epoch 256/500\n",
      "34/34 [==============================] - 0s 6ms/step - loss: 3564.7515 - mae: 3564.7515\n",
      "Epoch 257/500\n",
      "34/34 [==============================] - 0s 6ms/step - loss: 3562.3552 - mae: 3562.3552\n",
      "Epoch 258/500\n",
      "34/34 [==============================] - 0s 6ms/step - loss: 3579.8713 - mae: 3579.8713\n",
      "Epoch 259/500\n",
      "34/34 [==============================] - 0s 6ms/step - loss: 3557.3235 - mae: 3557.3235\n",
      "Epoch 260/500\n",
      "34/34 [==============================] - 0s 6ms/step - loss: 3560.0959 - mae: 3560.0959\n",
      "Epoch 261/500\n",
      "34/34 [==============================] - 0s 6ms/step - loss: 3559.7109 - mae: 3559.7109\n",
      "Epoch 262/500\n",
      "34/34 [==============================] - 0s 6ms/step - loss: 3553.4829 - mae: 3553.4829\n",
      "Epoch 263/500\n",
      "34/34 [==============================] - 0s 7ms/step - loss: 3554.7744 - mae: 3554.7744\n",
      "Epoch 264/500\n",
      "34/34 [==============================] - 0s 6ms/step - loss: 3553.9639 - mae: 3553.9639\n",
      "Epoch 265/500\n",
      "34/34 [==============================] - 0s 6ms/step - loss: 3553.7493 - mae: 3553.7493\n",
      "Epoch 266/500\n",
      "34/34 [==============================] - 0s 6ms/step - loss: 3552.2151 - mae: 3552.2151\n",
      "Epoch 267/500\n",
      "34/34 [==============================] - 0s 6ms/step - loss: 3556.1064 - mae: 3556.1064\n",
      "Epoch 268/500\n",
      "34/34 [==============================] - 0s 6ms/step - loss: 3544.8071 - mae: 3544.8071\n",
      "Epoch 269/500\n",
      "34/34 [==============================] - 0s 6ms/step - loss: 3550.4978 - mae: 3550.4978\n",
      "Epoch 270/500\n",
      "34/34 [==============================] - 0s 6ms/step - loss: 3539.2441 - mae: 3539.2441\n",
      "Epoch 271/500\n",
      "34/34 [==============================] - 0s 6ms/step - loss: 3541.2800 - mae: 3541.2800\n",
      "Epoch 272/500\n",
      "34/34 [==============================] - 0s 6ms/step - loss: 3536.9275 - mae: 3536.9275\n",
      "Epoch 273/500\n",
      "34/34 [==============================] - 0s 6ms/step - loss: 3538.2036 - mae: 3538.2036\n",
      "Epoch 274/500\n",
      "34/34 [==============================] - 0s 6ms/step - loss: 3535.3123 - mae: 3535.3123\n",
      "Epoch 275/500\n",
      "34/34 [==============================] - 0s 5ms/step - loss: 3532.2322 - mae: 3532.2322\n",
      "Epoch 276/500\n",
      "34/34 [==============================] - 0s 6ms/step - loss: 3536.3442 - mae: 3536.3442\n",
      "Epoch 277/500\n",
      "34/34 [==============================] - 0s 6ms/step - loss: 3533.4189 - mae: 3533.4189\n",
      "Epoch 278/500\n",
      "34/34 [==============================] - 0s 6ms/step - loss: 3534.3840 - mae: 3534.3840\n",
      "Epoch 279/500\n",
      "34/34 [==============================] - 0s 6ms/step - loss: 3534.1689 - mae: 3534.1689\n",
      "Epoch 280/500\n",
      "34/34 [==============================] - 0s 6ms/step - loss: 3527.2690 - mae: 3527.2690\n",
      "Epoch 281/500\n",
      "34/34 [==============================] - 0s 6ms/step - loss: 3534.5842 - mae: 3534.5842\n",
      "Epoch 282/500\n",
      "34/34 [==============================] - 0s 5ms/step - loss: 3526.1396 - mae: 3526.1396\n",
      "Epoch 283/500\n",
      "34/34 [==============================] - 0s 6ms/step - loss: 3532.6931 - mae: 3532.6931\n",
      "Epoch 284/500\n",
      "34/34 [==============================] - 0s 6ms/step - loss: 3527.4241 - mae: 3527.4241\n",
      "Epoch 285/500\n",
      "34/34 [==============================] - 0s 6ms/step - loss: 3525.8953 - mae: 3525.8953\n",
      "Epoch 286/500\n",
      "34/34 [==============================] - 0s 5ms/step - loss: 3516.4932 - mae: 3516.4932\n",
      "Epoch 287/500\n",
      "34/34 [==============================] - 0s 6ms/step - loss: 3517.2751 - mae: 3517.2751\n",
      "Epoch 288/500\n",
      "34/34 [==============================] - 0s 6ms/step - loss: 3515.9885 - mae: 3515.9885\n",
      "Epoch 289/500\n",
      "34/34 [==============================] - 0s 6ms/step - loss: 3522.6660 - mae: 3522.6660\n",
      "Epoch 290/500\n",
      "34/34 [==============================] - 0s 6ms/step - loss: 3522.0698 - mae: 3522.0698\n",
      "Epoch 291/500\n",
      "34/34 [==============================] - 0s 6ms/step - loss: 3521.1680 - mae: 3521.1680\n",
      "Epoch 292/500\n",
      "34/34 [==============================] - 0s 6ms/step - loss: 3522.2812 - mae: 3522.2812\n",
      "Epoch 293/500\n",
      "34/34 [==============================] - 0s 6ms/step - loss: 3511.2539 - mae: 3511.2539\n",
      "Epoch 294/500\n",
      "34/34 [==============================] - 0s 6ms/step - loss: 3518.4397 - mae: 3518.4397\n",
      "Epoch 295/500\n",
      "34/34 [==============================] - 0s 5ms/step - loss: 3525.8774 - mae: 3525.8774\n",
      "Epoch 296/500\n",
      "34/34 [==============================] - 0s 5ms/step - loss: 3506.8225 - mae: 3506.8225\n",
      "Epoch 297/500\n",
      "34/34 [==============================] - 0s 6ms/step - loss: 3502.6345 - mae: 3502.6345\n",
      "Epoch 298/500\n",
      "34/34 [==============================] - 0s 7ms/step - loss: 3502.9429 - mae: 3502.9429\n",
      "Epoch 299/500\n",
      "34/34 [==============================] - 0s 6ms/step - loss: 3517.8567 - mae: 3517.8567\n",
      "Epoch 300/500\n",
      "34/34 [==============================] - 0s 6ms/step - loss: 3505.4375 - mae: 3505.4375\n",
      "Epoch 301/500\n",
      "34/34 [==============================] - 0s 6ms/step - loss: 3505.4404 - mae: 3505.4404\n",
      "Epoch 302/500\n",
      "34/34 [==============================] - 0s 6ms/step - loss: 3522.7202 - mae: 3522.7202\n",
      "Epoch 303/500\n",
      "34/34 [==============================] - 0s 5ms/step - loss: 3526.0935 - mae: 3526.0935\n",
      "Epoch 304/500\n",
      "34/34 [==============================] - 0s 6ms/step - loss: 3499.7468 - mae: 3499.7468\n",
      "Epoch 305/500\n",
      "34/34 [==============================] - 0s 6ms/step - loss: 3495.8774 - mae: 3495.8774\n",
      "Epoch 306/500\n",
      "34/34 [==============================] - 0s 6ms/step - loss: 3495.5210 - mae: 3495.5210\n",
      "Epoch 307/500\n",
      "34/34 [==============================] - 0s 6ms/step - loss: 3494.2847 - mae: 3494.2847\n",
      "Epoch 308/500\n",
      "34/34 [==============================] - 0s 5ms/step - loss: 3495.5242 - mae: 3495.5242\n",
      "Epoch 309/500\n",
      "34/34 [==============================] - 0s 6ms/step - loss: 3489.5452 - mae: 3489.5452\n",
      "Epoch 310/500\n",
      "34/34 [==============================] - 0s 7ms/step - loss: 3493.8574 - mae: 3493.8574\n",
      "Epoch 311/500\n",
      "34/34 [==============================] - 0s 6ms/step - loss: 3496.3967 - mae: 3496.3967\n",
      "Epoch 312/500\n",
      "34/34 [==============================] - 0s 6ms/step - loss: 3489.8018 - mae: 3489.8018\n",
      "Epoch 313/500\n",
      "34/34 [==============================] - 0s 6ms/step - loss: 3483.5625 - mae: 3483.5625\n",
      "Epoch 314/500\n",
      "34/34 [==============================] - 0s 6ms/step - loss: 3485.0950 - mae: 3485.0950\n",
      "Epoch 315/500\n",
      "34/34 [==============================] - 0s 6ms/step - loss: 3492.8035 - mae: 3492.8035\n",
      "Epoch 316/500\n",
      "34/34 [==============================] - 0s 6ms/step - loss: 3483.5955 - mae: 3483.5955\n",
      "Epoch 317/500\n",
      "34/34 [==============================] - 0s 6ms/step - loss: 3481.7070 - mae: 3481.7070\n",
      "Epoch 318/500\n",
      "34/34 [==============================] - 0s 6ms/step - loss: 3485.1575 - mae: 3485.1575\n",
      "Epoch 319/500\n",
      "34/34 [==============================] - 0s 6ms/step - loss: 3482.9429 - mae: 3482.9429\n",
      "Epoch 320/500\n",
      "34/34 [==============================] - 0s 6ms/step - loss: 3491.7212 - mae: 3491.7212\n",
      "Epoch 321/500\n",
      "34/34 [==============================] - 0s 6ms/step - loss: 3493.7471 - mae: 3493.7471\n",
      "Epoch 322/500\n",
      "34/34 [==============================] - 0s 6ms/step - loss: 3500.8616 - mae: 3500.8616\n",
      "Epoch 323/500\n",
      "34/34 [==============================] - 0s 6ms/step - loss: 3482.3594 - mae: 3482.3594\n",
      "Epoch 324/500\n",
      "34/34 [==============================] - 0s 6ms/step - loss: 3481.5200 - mae: 3481.5200\n",
      "Epoch 325/500\n",
      "34/34 [==============================] - 0s 6ms/step - loss: 3478.8318 - mae: 3478.8318\n",
      "Epoch 326/500\n",
      "34/34 [==============================] - 0s 5ms/step - loss: 3481.6531 - mae: 3481.6531\n",
      "Epoch 327/500\n",
      "34/34 [==============================] - 0s 6ms/step - loss: 3477.4734 - mae: 3477.4734\n",
      "Epoch 328/500\n",
      "34/34 [==============================] - 0s 6ms/step - loss: 3491.1187 - mae: 3491.1187\n",
      "Epoch 329/500\n",
      "34/34 [==============================] - 0s 6ms/step - loss: 3498.4292 - mae: 3498.4292\n",
      "Epoch 330/500\n",
      "34/34 [==============================] - 0s 6ms/step - loss: 3475.2852 - mae: 3475.2852\n",
      "Epoch 331/500\n",
      "34/34 [==============================] - 0s 6ms/step - loss: 3482.3928 - mae: 3482.3928\n",
      "Epoch 332/500\n",
      "34/34 [==============================] - 0s 6ms/step - loss: 3482.9426 - mae: 3482.9426\n",
      "Epoch 333/500\n",
      "34/34 [==============================] - 0s 6ms/step - loss: 3478.1555 - mae: 3478.1555\n",
      "Epoch 334/500\n",
      "34/34 [==============================] - 0s 7ms/step - loss: 3477.2676 - mae: 3477.2676\n",
      "Epoch 335/500\n",
      "34/34 [==============================] - 0s 6ms/step - loss: 3478.2671 - mae: 3478.2671\n",
      "Epoch 336/500\n",
      "34/34 [==============================] - 0s 6ms/step - loss: 3481.2222 - mae: 3481.2222\n",
      "Epoch 337/500\n",
      "34/34 [==============================] - 0s 6ms/step - loss: 3484.5869 - mae: 3484.5869\n",
      "Epoch 338/500\n",
      "34/34 [==============================] - 0s 6ms/step - loss: 3489.6501 - mae: 3489.6501\n",
      "Epoch 339/500\n",
      "34/34 [==============================] - 0s 6ms/step - loss: 3479.7461 - mae: 3479.7461\n",
      "Epoch 340/500\n",
      "34/34 [==============================] - 0s 6ms/step - loss: 3479.1516 - mae: 3479.1516\n"
     ]
    }
   ],
   "source": [
    "tf.random.set_seed(RANDOM_STATE)\n",
    "callback = tf.keras.callbacks.EarlyStopping(monitor='loss', patience=10)\n",
    "insurance_model_3_early_stop = tf.keras.Sequential([\n",
    "    tf.keras.layers.Dense(100),\n",
    "    tf.keras.layers.Dense(10),\n",
    "    tf.keras.layers.Dense(1)\n",
    "])\n",
    "insurance_model_3_early_stop.compile(loss=tf.keras.losses.mae,\n",
    "                                     optimizer=tf.keras.optimizers.Adam(),\n",
    "                                     metrics=['mae'])\n",
    "history = insurance_model_3_early_stop.fit(X_train, y_train, epochs=500, callbacks=callback)"
   ],
   "metadata": {
    "collapsed": false,
    "ExecuteTime": {
     "end_time": "2023-09-11T09:03:38.344765Z",
     "start_time": "2023-09-11T09:02:27.731424Z"
    }
   },
   "id": "c15c73e299ccdb2e"
  },
  {
   "cell_type": "code",
   "execution_count": 362,
   "outputs": [
    {
     "data": {
      "text/plain": "340"
     },
     "execution_count": 362,
     "metadata": {},
     "output_type": "execute_result"
    }
   ],
   "source": [
    "len(history.history['loss'])"
   ],
   "metadata": {
    "collapsed": false,
    "ExecuteTime": {
     "end_time": "2023-09-11T09:03:38.346532Z",
     "start_time": "2023-09-11T09:03:38.339030Z"
    }
   },
   "id": "db1707effda635e1"
  },
  {
   "cell_type": "code",
   "execution_count": 363,
   "outputs": [
    {
     "name": "stdout",
     "output_type": "stream",
     "text": [
      "9/9 [==============================] - 0s 8ms/step - loss: 3172.0183 - mae: 3172.0183\n"
     ]
    },
    {
     "name": "stderr",
     "output_type": "stream",
     "text": [
      "2023-09-11 04:03:38.559034: I tensorflow/core/grappler/optimizers/custom_graph_optimizer_registry.cc:114] Plugin optimizer for device_type GPU is enabled.\n"
     ]
    },
    {
     "data": {
      "text/plain": "[3172.018310546875, 3172.018310546875]"
     },
     "execution_count": 363,
     "metadata": {},
     "output_type": "execute_result"
    }
   ],
   "source": [
    "insurance_model_3_early_stop.evaluate(X_test, y_test)"
   ],
   "metadata": {
    "collapsed": false,
    "ExecuteTime": {
     "end_time": "2023-09-11T09:03:38.759481Z",
     "start_time": "2023-09-11T09:03:38.340996Z"
    }
   },
   "id": "65e6085e0b7358fd"
  },
  {
   "cell_type": "code",
   "execution_count": 364,
   "outputs": [
    {
     "data": {
      "text/plain": "Text(0, 0.5, 'loss')"
     },
     "execution_count": 364,
     "metadata": {},
     "output_type": "execute_result"
    },
    {
     "data": {
      "text/plain": "<Figure size 640x480 with 1 Axes>",
      "image/png": "[encoded data removed]"
     },
     "metadata": {},
     "output_type": "display_data"
    }
   ],
   "source": [
    "pd.DataFrame(history.history).plot()\n",
    "plt.xlabel('epochs')\n",
    "plt.ylabel('loss')"
   ],
   "metadata": {
    "collapsed": false,
    "ExecuteTime": {
     "end_time": "2023-09-11T09:03:38.905796Z",
     "start_time": "2023-09-11T09:03:38.728039Z"
    }
   },
   "id": "ebf83a59185cad17"
  },
  {
   "cell_type": "markdown",
   "source": [
    "### Preprocessing data (normalization and standardization)"
   ],
   "metadata": {
    "collapsed": false
   },
   "id": "3d701755eecec512"
  },
  {
   "cell_type": "code",
   "execution_count": 365,
   "outputs": [
    {
     "data": {
      "text/plain": "       age        bmi  children  sex_female  sex_male  smoker_no  smoker_yes  \\\n0     19.0  27.900000       0.0         1.0       0.0        0.0         1.0   \n1     18.0  33.770000       1.0         0.0       1.0        1.0         0.0   \n2     28.0  33.000000       3.0         0.0       1.0        1.0         0.0   \n3     33.0  22.705000       0.0         0.0       1.0        1.0         0.0   \n4     32.0  28.879999       0.0         0.0       1.0        1.0         0.0   \n...    ...        ...       ...         ...       ...        ...         ...   \n1333  50.0  30.969999       3.0         0.0       1.0        1.0         0.0   \n1334  18.0  31.920000       0.0         1.0       0.0        1.0         0.0   \n1335  18.0  36.849998       0.0         1.0       0.0        1.0         0.0   \n1336  21.0  25.799999       0.0         1.0       0.0        1.0         0.0   \n1337  61.0  29.070000       0.0         1.0       0.0        0.0         1.0   \n\n      region_northeast  region_northwest  region_southeast  region_southwest  \n0                  0.0               0.0               0.0               1.0  \n1                  0.0               0.0               1.0               0.0  \n2                  0.0               0.0               1.0               0.0  \n3                  0.0               1.0               0.0               0.0  \n4                  0.0               1.0               0.0               0.0  \n...                ...               ...               ...               ...  \n1333               0.0               1.0               0.0               0.0  \n1334               1.0               0.0               0.0               0.0  \n1335               0.0               0.0               1.0               0.0  \n1336               0.0               0.0               0.0               1.0  \n1337               0.0               1.0               0.0               0.0  \n\n[1338 rows x 11 columns]",
      "text/html": "<div>\n<style scoped>\n    .dataframe tbody tr th:only-of-type {\n        vertical-align: middle;\n    }\n\n    .dataframe tbody tr th {\n        vertical-align: top;\n    }\n\n    .dataframe thead th {\n        text-align: right;\n    }\n</style>\n<table border=\"1\" class=\"dataframe\">\n  <thead>\n    <tr style=\"text-align: right;\">\n      <th></th>\n      <th>age</th>\n      <th>bmi</th>\n      <th>children</th>\n      <th>sex_female</th>\n      <th>sex_male</th>\n      <th>smoker_no</th>\n      <th>smoker_yes</th>\n      <th>region_northeast</th>\n      <th>region_northwest</th>\n      <th>region_southeast</th>\n      <th>region_southwest</th>\n    </tr>\n  </thead>\n  <tbody>\n    <tr>\n      <th>0</th>\n      <td>19.0</td>\n      <td>27.900000</td>\n      <td>0.0</td>\n      <td>1.0</td>\n      <td>0.0</td>\n      <td>0.0</td>\n      <td>1.0</td>\n      <td>0.0</td>\n      <td>0.0</td>\n      <td>0.0</td>\n      <td>1.0</td>\n    </tr>\n    <tr>\n      <th>1</th>\n      <td>18.0</td>\n      <td>33.770000</td>\n      <td>1.0</td>\n      <td>0.0</td>\n      <td>1.0</td>\n      <td>1.0</td>\n      <td>0.0</td>\n      <td>0.0</td>\n      <td>0.0</td>\n      <td>1.0</td>\n      <td>0.0</td>\n    </tr>\n    <tr>\n      <th>2</th>\n      <td>28.0</td>\n      <td>33.000000</td>\n      <td>3.0</td>\n      <td>0.0</td>\n      <td>1.0</td>\n      <td>1.0</td>\n      <td>0.0</td>\n      <td>0.0</td>\n      <td>0.0</td>\n      <td>1.0</td>\n      <td>0.0</td>\n    </tr>\n    <tr>\n      <th>3</th>\n      <td>33.0</td>\n      <td>22.705000</td>\n      <td>0.0</td>\n      <td>0.0</td>\n      <td>1.0</td>\n      <td>1.0</td>\n      <td>0.0</td>\n      <td>0.0</td>\n      <td>1.0</td>\n      <td>0.0</td>\n      <td>0.0</td>\n    </tr>\n    <tr>\n      <th>4</th>\n      <td>32.0</td>\n      <td>28.879999</td>\n      <td>0.0</td>\n      <td>0.0</td>\n      <td>1.0</td>\n      <td>1.0</td>\n      <td>0.0</td>\n      <td>0.0</td>\n      <td>1.0</td>\n      <td>0.0</td>\n      <td>0.0</td>\n    </tr>\n    <tr>\n      <th>...</th>\n      <td>...</td>\n      <td>...</td>\n      <td>...</td>\n      <td>...</td>\n      <td>...</td>\n      <td>...</td>\n      <td>...</td>\n      <td>...</td>\n      <td>...</td>\n      <td>...</td>\n      <td>...</td>\n    </tr>\n    <tr>\n      <th>1333</th>\n      <td>50.0</td>\n      <td>30.969999</td>\n      <td>3.0</td>\n      <td>0.0</td>\n      <td>1.0</td>\n      <td>1.0</td>\n      <td>0.0</td>\n      <td>0.0</td>\n      <td>1.0</td>\n      <td>0.0</td>\n      <td>0.0</td>\n    </tr>\n    <tr>\n      <th>1334</th>\n      <td>18.0</td>\n      <td>31.920000</td>\n      <td>0.0</td>\n      <td>1.0</td>\n      <td>0.0</td>\n      <td>1.0</td>\n      <td>0.0</td>\n      <td>1.0</td>\n      <td>0.0</td>\n      <td>0.0</td>\n      <td>0.0</td>\n    </tr>\n    <tr>\n      <th>1335</th>\n      <td>18.0</td>\n      <td>36.849998</td>\n      <td>0.0</td>\n      <td>1.0</td>\n      <td>0.0</td>\n      <td>1.0</td>\n      <td>0.0</td>\n      <td>0.0</td>\n      <td>0.0</td>\n      <td>1.0</td>\n      <td>0.0</td>\n    </tr>\n    <tr>\n      <th>1336</th>\n      <td>21.0</td>\n      <td>25.799999</td>\n      <td>0.0</td>\n      <td>1.0</td>\n      <td>0.0</td>\n      <td>1.0</td>\n      <td>0.0</td>\n      <td>0.0</td>\n      <td>0.0</td>\n      <td>0.0</td>\n      <td>1.0</td>\n    </tr>\n    <tr>\n      <th>1337</th>\n      <td>61.0</td>\n      <td>29.070000</td>\n      <td>0.0</td>\n      <td>1.0</td>\n      <td>0.0</td>\n      <td>0.0</td>\n      <td>1.0</td>\n      <td>0.0</td>\n      <td>1.0</td>\n      <td>0.0</td>\n      <td>0.0</td>\n    </tr>\n  </tbody>\n</table>\n<p>1338 rows × 11 columns</p>\n</div>"
     },
     "execution_count": 365,
     "metadata": {},
     "output_type": "execute_result"
    }
   ],
   "source": [
    "X"
   ],
   "metadata": {
    "collapsed": false,
    "ExecuteTime": {
     "end_time": "2023-09-11T09:03:38.908391Z",
     "start_time": "2023-09-11T09:03:38.840533Z"
    }
   },
   "id": "7398deaad6ffbf3e"
  },
  {
   "cell_type": "code",
   "execution_count": 366,
   "outputs": [
    {
     "data": {
      "text/plain": "<Axes: ylabel='Frequency'>"
     },
     "execution_count": 366,
     "metadata": {},
     "output_type": "execute_result"
    },
    {
     "data": {
      "text/plain": "<Figure size 640x480 with 1 Axes>",
      "image/png": "[encoded data removed]"
     },
     "metadata": {},
     "output_type": "display_data"
    }
   ],
   "source": [
    "X['age'].plot(kind=\"hist\")"
   ],
   "metadata": {
    "collapsed": false,
    "ExecuteTime": {
     "end_time": "2023-09-11T09:03:39.043652Z",
     "start_time": "2023-09-11T09:03:38.854110Z"
    }
   },
   "id": "4451ab3b66d256b9"
  },
  {
   "cell_type": "code",
   "execution_count": 367,
   "outputs": [
    {
     "data": {
      "text/plain": "<Axes: ylabel='Frequency'>"
     },
     "execution_count": 367,
     "metadata": {},
     "output_type": "execute_result"
    },
    {
     "data": {
      "text/plain": "<Figure size 640x480 with 1 Axes>",
      "image/png": "[encoded data removed]"
     },
     "metadata": {},
     "output_type": "display_data"
    }
   ],
   "source": [
    "X['bmi'].plot(kind=\"hist\")"
   ],
   "metadata": {
    "collapsed": false,
    "ExecuteTime": {
     "end_time": "2023-09-11T09:03:39.086108Z",
     "start_time": "2023-09-11T09:03:38.932117Z"
    }
   },
   "id": "8980dc66ef4a3079"
  },
  {
   "cell_type": "code",
   "execution_count": 368,
   "outputs": [
    {
     "data": {
      "text/plain": "<Axes: ylabel='Frequency'>"
     },
     "execution_count": 368,
     "metadata": {},
     "output_type": "execute_result"
    },
    {
     "data": {
      "text/plain": "<Figure size 640x480 with 1 Axes>",
      "image/png": "[encoded data removed]"
     },
     "metadata": {},
     "output_type": "display_data"
    }
   ],
   "source": [
    "X['children'].plot(kind='hist')"
   ],
   "metadata": {
    "collapsed": false,
    "ExecuteTime": {
     "end_time": "2023-09-11T09:03:39.305471Z",
     "start_time": "2023-09-11T09:03:39.027597Z"
    }
   },
   "id": "6819894e0f94f8af"
  },
  {
   "cell_type": "markdown",
   "source": [
    "**Note:** The functions referred below are Scikit-Learn Functions\n",
    "\n",
    "***Scale (also referred to as normalization):***\n",
    "- Converts all values to be between 0 and 1 whilst preserving the original distribution.\n",
    "- `MinMaxScaler`\n",
    "- Used as default scaler with neural networks.\n",
    "\n",
    "***Standardization:***\n",
    "- Removes the mean and divides each value by the standard deviation\n",
    "- `StandardScaler`\n",
    "- Transform a feature to have close to normal distribution (caution: this reduces the effect of outliers).\n",
    "\n",
    "If in doubt check and see which performs better."
   ],
   "metadata": {
    "collapsed": false
   },
   "id": "896a6b3c5865853f"
  },
  {
   "cell_type": "code",
   "execution_count": 382,
   "outputs": [
    {
     "data": {
      "text/plain": "      age     sex     bmi  children smoker     region      charges\n0      19  female  27.900         0    yes  southwest  16884.92400\n1      18    male  33.770         1     no  southeast   1725.55230\n2      28    male  33.000         3     no  southeast   4449.46200\n3      33    male  22.705         0     no  northwest  21984.47061\n4      32    male  28.880         0     no  northwest   3866.85520\n...   ...     ...     ...       ...    ...        ...          ...\n1333   50    male  30.970         3     no  northwest  10600.54830\n1334   18  female  31.920         0     no  northeast   2205.98080\n1335   18  female  36.850         0     no  southeast   1629.83350\n1336   21  female  25.800         0     no  southwest   2007.94500\n1337   61  female  29.070         0    yes  northwest  29141.36030\n\n[1338 rows x 7 columns]",
      "text/html": "<div>\n<style scoped>\n    .dataframe tbody tr th:only-of-type {\n        vertical-align: middle;\n    }\n\n    .dataframe tbody tr th {\n        vertical-align: top;\n    }\n\n    .dataframe thead th {\n        text-align: right;\n    }\n</style>\n<table border=\"1\" class=\"dataframe\">\n  <thead>\n    <tr style=\"text-align: right;\">\n      <th></th>\n      <th>age</th>\n      <th>sex</th>\n      <th>bmi</th>\n      <th>children</th>\n      <th>smoker</th>\n      <th>region</th>\n      <th>charges</th>\n    </tr>\n  </thead>\n  <tbody>\n    <tr>\n      <th>0</th>\n      <td>19</td>\n      <td>female</td>\n      <td>27.900</td>\n      <td>0</td>\n      <td>yes</td>\n      <td>southwest</td>\n      <td>16884.92400</td>\n    </tr>\n    <tr>\n      <th>1</th>\n      <td>18</td>\n      <td>male</td>\n      <td>33.770</td>\n      <td>1</td>\n      <td>no</td>\n      <td>southeast</td>\n      <td>1725.55230</td>\n    </tr>\n    <tr>\n      <th>2</th>\n      <td>28</td>\n      <td>male</td>\n      <td>33.000</td>\n      <td>3</td>\n      <td>no</td>\n      <td>southeast</td>\n      <td>4449.46200</td>\n    </tr>\n    <tr>\n      <th>3</th>\n      <td>33</td>\n      <td>male</td>\n      <td>22.705</td>\n      <td>0</td>\n      <td>no</td>\n      <td>northwest</td>\n      <td>21984.47061</td>\n    </tr>\n    <tr>\n      <th>4</th>\n      <td>32</td>\n      <td>male</td>\n      <td>28.880</td>\n      <td>0</td>\n      <td>no</td>\n      <td>northwest</td>\n      <td>3866.85520</td>\n    </tr>\n    <tr>\n      <th>...</th>\n      <td>...</td>\n      <td>...</td>\n      <td>...</td>\n      <td>...</td>\n      <td>...</td>\n      <td>...</td>\n      <td>...</td>\n    </tr>\n    <tr>\n      <th>1333</th>\n      <td>50</td>\n      <td>male</td>\n      <td>30.970</td>\n      <td>3</td>\n      <td>no</td>\n      <td>northwest</td>\n      <td>10600.54830</td>\n    </tr>\n    <tr>\n      <th>1334</th>\n      <td>18</td>\n      <td>female</td>\n      <td>31.920</td>\n      <td>0</td>\n      <td>no</td>\n      <td>northeast</td>\n      <td>2205.98080</td>\n    </tr>\n    <tr>\n      <th>1335</th>\n      <td>18</td>\n      <td>female</td>\n      <td>36.850</td>\n      <td>0</td>\n      <td>no</td>\n      <td>southeast</td>\n      <td>1629.83350</td>\n    </tr>\n    <tr>\n      <th>1336</th>\n      <td>21</td>\n      <td>female</td>\n      <td>25.800</td>\n      <td>0</td>\n      <td>no</td>\n      <td>southwest</td>\n      <td>2007.94500</td>\n    </tr>\n    <tr>\n      <th>1337</th>\n      <td>61</td>\n      <td>female</td>\n      <td>29.070</td>\n      <td>0</td>\n      <td>yes</td>\n      <td>northwest</td>\n      <td>29141.36030</td>\n    </tr>\n  </tbody>\n</table>\n<p>1338 rows × 7 columns</p>\n</div>"
     },
     "execution_count": 382,
     "metadata": {},
     "output_type": "execute_result"
    }
   ],
   "source": [
    "import pandas as pd\n",
    "import matplotlib.pyplot as plt\n",
    "import tensorflow as tf\n",
    "import numpy as np\n",
    "from sklearn.compose import make_column_transformer\n",
    "from sklearn.preprocessing import MinMaxScaler, OneHotEncoder\n",
    "from sklearn.model_selection import train_test_split\n",
    "\n",
    "insurance = pd.read_csv(\"https://raw.githubusercontent.com/stedy/Machine-Learning-with-R-datasets/master/insurance.csv\")\n",
    "insurance"
   ],
   "metadata": {
    "collapsed": false,
    "ExecuteTime": {
     "end_time": "2023-09-11T09:05:05.254713Z",
     "start_time": "2023-09-11T09:05:04.911059Z"
    }
   },
   "id": "e9f1797ccaede404"
  },
  {
   "cell_type": "code",
   "execution_count": 370,
   "outputs": [
    {
     "data": {
      "text/plain": "['sex', 'smoker', 'region']"
     },
     "execution_count": 370,
     "metadata": {},
     "output_type": "execute_result"
    }
   ],
   "source": [
    "columns_to_normalize = [\"age\", \"bmi\", \"children\"] # to turn all these columns inbetween 0 & 1\n",
    "columns_to_one_hot_encode = [x for x in insurance.columns.tolist() if x not in columns_to_normalize]\n",
    "columns_to_one_hot_encode.remove(\"charges\")\n",
    "columns_to_one_hot_encode"
   ],
   "metadata": {
    "collapsed": false,
    "ExecuteTime": {
     "end_time": "2023-09-11T09:03:39.455096Z",
     "start_time": "2023-09-11T09:03:39.441074Z"
    }
   },
   "id": "5b85902478f10cd9"
  },
  {
   "cell_type": "code",
   "execution_count": 371,
   "outputs": [],
   "source": [
    "ct = make_column_transformer(\n",
    "    (MinMaxScaler(), columns_to_normalize),\n",
    "    (OneHotEncoder(handle_unknown=\"ignore\"), columns_to_one_hot_encode)\n",
    ")\n",
    "\n",
    "X = insurance.drop(\"charges\", axis=1)\n",
    "y = insurance['charges']\n",
    "\n",
    "X_train, X_test, y_train, y_test = train_test_split(X, y, test_size=0.2, random_state=RANDOM_STATE)\n",
    "\n",
    "ct.fit(X_train)\n",
    "\n",
    "X_train_normal = ct.transform(X_train)\n",
    "X_test_normal = ct.transform(X_test)"
   ],
   "metadata": {
    "collapsed": false,
    "ExecuteTime": {
     "end_time": "2023-09-11T09:03:39.527276Z",
     "start_time": "2023-09-11T09:03:39.461044Z"
    }
   },
   "id": "1bb909d852dafe5f"
  },
  {
   "cell_type": "code",
   "execution_count": 372,
   "outputs": [
    {
     "data": {
      "text/plain": "      age     sex     bmi  children smoker     region\n560    46  female  19.950         2     no  northwest\n1285   47  female  24.320         0     no  northeast\n1142   52  female  24.860         0     no  southeast\n969    39  female  34.320         5     no  southeast\n486    54  female  21.470         3     no  northwest\n...   ...     ...     ...       ...    ...        ...\n1095   18  female  31.350         4     no  northeast\n1130   39  female  23.870         5     no  southeast\n1294   58    male  25.175         0     no  northeast\n860    37  female  47.600         2    yes  southwest\n1126   55    male  29.900         0     no  southwest\n\n[1070 rows x 6 columns]",
      "text/html": "<div>\n<style scoped>\n    .dataframe tbody tr th:only-of-type {\n        vertical-align: middle;\n    }\n\n    .dataframe tbody tr th {\n        vertical-align: top;\n    }\n\n    .dataframe thead th {\n        text-align: right;\n    }\n</style>\n<table border=\"1\" class=\"dataframe\">\n  <thead>\n    <tr style=\"text-align: right;\">\n      <th></th>\n      <th>age</th>\n      <th>sex</th>\n      <th>bmi</th>\n      <th>children</th>\n      <th>smoker</th>\n      <th>region</th>\n    </tr>\n  </thead>\n  <tbody>\n    <tr>\n      <th>560</th>\n      <td>46</td>\n      <td>female</td>\n      <td>19.950</td>\n      <td>2</td>\n      <td>no</td>\n      <td>northwest</td>\n    </tr>\n    <tr>\n      <th>1285</th>\n      <td>47</td>\n      <td>female</td>\n      <td>24.320</td>\n      <td>0</td>\n      <td>no</td>\n      <td>northeast</td>\n    </tr>\n    <tr>\n      <th>1142</th>\n      <td>52</td>\n      <td>female</td>\n      <td>24.860</td>\n      <td>0</td>\n      <td>no</td>\n      <td>southeast</td>\n    </tr>\n    <tr>\n      <th>969</th>\n      <td>39</td>\n      <td>female</td>\n      <td>34.320</td>\n      <td>5</td>\n      <td>no</td>\n      <td>southeast</td>\n    </tr>\n    <tr>\n      <th>486</th>\n      <td>54</td>\n      <td>female</td>\n      <td>21.470</td>\n      <td>3</td>\n      <td>no</td>\n      <td>northwest</td>\n    </tr>\n    <tr>\n      <th>...</th>\n      <td>...</td>\n      <td>...</td>\n      <td>...</td>\n      <td>...</td>\n      <td>...</td>\n      <td>...</td>\n    </tr>\n    <tr>\n      <th>1095</th>\n      <td>18</td>\n      <td>female</td>\n      <td>31.350</td>\n      <td>4</td>\n      <td>no</td>\n      <td>northeast</td>\n    </tr>\n    <tr>\n      <th>1130</th>\n      <td>39</td>\n      <td>female</td>\n      <td>23.870</td>\n      <td>5</td>\n      <td>no</td>\n      <td>southeast</td>\n    </tr>\n    <tr>\n      <th>1294</th>\n      <td>58</td>\n      <td>male</td>\n      <td>25.175</td>\n      <td>0</td>\n      <td>no</td>\n      <td>northeast</td>\n    </tr>\n    <tr>\n      <th>860</th>\n      <td>37</td>\n      <td>female</td>\n      <td>47.600</td>\n      <td>2</td>\n      <td>yes</td>\n      <td>southwest</td>\n    </tr>\n    <tr>\n      <th>1126</th>\n      <td>55</td>\n      <td>male</td>\n      <td>29.900</td>\n      <td>0</td>\n      <td>no</td>\n      <td>southwest</td>\n    </tr>\n  </tbody>\n</table>\n<p>1070 rows × 6 columns</p>\n</div>"
     },
     "execution_count": 372,
     "metadata": {},
     "output_type": "execute_result"
    }
   ],
   "source": [
    "X_train"
   ],
   "metadata": {
    "collapsed": false,
    "ExecuteTime": {
     "end_time": "2023-09-11T09:03:39.551563Z",
     "start_time": "2023-09-11T09:03:39.500443Z"
    }
   },
   "id": "cddaddf21e6aa614"
  },
  {
   "cell_type": "code",
   "execution_count": 373,
   "outputs": [
    {
     "data": {
      "text/plain": "array([[0.60869565, 0.10734463, 0.4       , ..., 1.        , 0.        ,\n        0.        ],\n       [0.63043478, 0.22491256, 0.        , ..., 0.        , 0.        ,\n        0.        ],\n       [0.73913043, 0.23944041, 0.        , ..., 0.        , 1.        ,\n        0.        ],\n       ...,\n       [0.86956522, 0.24791499, 0.        , ..., 0.        , 0.        ,\n        0.        ],\n       [0.41304348, 0.85122411, 0.4       , ..., 0.        , 0.        ,\n        1.        ],\n       [0.80434783, 0.37503363, 0.        , ..., 0.        , 0.        ,\n        1.        ]])"
     },
     "execution_count": 373,
     "metadata": {},
     "output_type": "execute_result"
    }
   ],
   "source": [
    "X_train_normal"
   ],
   "metadata": {
    "collapsed": false,
    "ExecuteTime": {
     "end_time": "2023-09-11T09:03:39.551938Z",
     "start_time": "2023-09-11T09:03:39.505998Z"
    }
   },
   "id": "93adbd6a8cb6e27b"
  },
  {
   "cell_type": "code",
   "execution_count": 374,
   "outputs": [
    {
     "data": {
      "text/plain": "      age     sex     bmi  children smoker     region\n764    45  female  25.175         2     no  northeast\n887    36  female  30.020         0     no  northwest\n890    64  female  26.885         0    yes  northwest\n1293   46    male  25.745         3     no  northwest\n259    19    male  31.920         0    yes  northwest\n...   ...     ...     ...       ...    ...        ...\n109    63    male  35.090         0    yes  southeast\n575    58  female  27.170         0     no  northwest\n535    38    male  28.025         1     no  northeast\n543    54  female  47.410         0    yes  southeast\n846    51  female  34.200         1     no  southwest\n\n[268 rows x 6 columns]",
      "text/html": "<div>\n<style scoped>\n    .dataframe tbody tr th:only-of-type {\n        vertical-align: middle;\n    }\n\n    .dataframe tbody tr th {\n        vertical-align: top;\n    }\n\n    .dataframe thead th {\n        text-align: right;\n    }\n</style>\n<table border=\"1\" class=\"dataframe\">\n  <thead>\n    <tr style=\"text-align: right;\">\n      <th></th>\n      <th>age</th>\n      <th>sex</th>\n      <th>bmi</th>\n      <th>children</th>\n      <th>smoker</th>\n      <th>region</th>\n    </tr>\n  </thead>\n  <tbody>\n    <tr>\n      <th>764</th>\n      <td>45</td>\n      <td>female</td>\n      <td>25.175</td>\n      <td>2</td>\n      <td>no</td>\n      <td>northeast</td>\n    </tr>\n    <tr>\n      <th>887</th>\n      <td>36</td>\n      <td>female</td>\n      <td>30.020</td>\n      <td>0</td>\n      <td>no</td>\n      <td>northwest</td>\n    </tr>\n    <tr>\n      <th>890</th>\n      <td>64</td>\n      <td>female</td>\n      <td>26.885</td>\n      <td>0</td>\n      <td>yes</td>\n      <td>northwest</td>\n    </tr>\n    <tr>\n      <th>1293</th>\n      <td>46</td>\n      <td>male</td>\n      <td>25.745</td>\n      <td>3</td>\n      <td>no</td>\n      <td>northwest</td>\n    </tr>\n    <tr>\n      <th>259</th>\n      <td>19</td>\n      <td>male</td>\n      <td>31.920</td>\n      <td>0</td>\n      <td>yes</td>\n      <td>northwest</td>\n    </tr>\n    <tr>\n      <th>...</th>\n      <td>...</td>\n      <td>...</td>\n      <td>...</td>\n      <td>...</td>\n      <td>...</td>\n      <td>...</td>\n    </tr>\n    <tr>\n      <th>109</th>\n      <td>63</td>\n      <td>male</td>\n      <td>35.090</td>\n      <td>0</td>\n      <td>yes</td>\n      <td>southeast</td>\n    </tr>\n    <tr>\n      <th>575</th>\n      <td>58</td>\n      <td>female</td>\n      <td>27.170</td>\n      <td>0</td>\n      <td>no</td>\n      <td>northwest</td>\n    </tr>\n    <tr>\n      <th>535</th>\n      <td>38</td>\n      <td>male</td>\n      <td>28.025</td>\n      <td>1</td>\n      <td>no</td>\n      <td>northeast</td>\n    </tr>\n    <tr>\n      <th>543</th>\n      <td>54</td>\n      <td>female</td>\n      <td>47.410</td>\n      <td>0</td>\n      <td>yes</td>\n      <td>southeast</td>\n    </tr>\n    <tr>\n      <th>846</th>\n      <td>51</td>\n      <td>female</td>\n      <td>34.200</td>\n      <td>1</td>\n      <td>no</td>\n      <td>southwest</td>\n    </tr>\n  </tbody>\n</table>\n<p>268 rows × 6 columns</p>\n</div>"
     },
     "execution_count": 374,
     "metadata": {},
     "output_type": "execute_result"
    }
   ],
   "source": [
    "X_test"
   ],
   "metadata": {
    "collapsed": false,
    "ExecuteTime": {
     "end_time": "2023-09-11T09:03:39.552282Z",
     "start_time": "2023-09-11T09:03:39.512368Z"
    }
   },
   "id": "ebd51dda97fc3589"
  },
  {
   "cell_type": "code",
   "execution_count": 375,
   "outputs": [
    {
     "data": {
      "text/plain": "array([[0.58695652, 0.24791499, 0.4       , ..., 0.        , 0.        ,\n        0.        ],\n       [0.39130435, 0.37826204, 0.        , ..., 1.        , 0.        ,\n        0.        ],\n       [1.        , 0.29391983, 0.        , ..., 1.        , 0.        ,\n        0.        ],\n       ...,\n       [0.43478261, 0.32458972, 0.2       , ..., 0.        , 0.        ,\n        0.        ],\n       [0.7826087 , 0.84611246, 0.        , ..., 0.        , 1.        ,\n        0.        ],\n       [0.7173913 , 0.49071832, 0.2       , ..., 0.        , 0.        ,\n        1.        ]])"
     },
     "execution_count": 375,
     "metadata": {},
     "output_type": "execute_result"
    }
   ],
   "source": [
    "X_test_normal"
   ],
   "metadata": {
    "collapsed": false,
    "ExecuteTime": {
     "end_time": "2023-09-11T09:03:39.552444Z",
     "start_time": "2023-09-11T09:03:39.515074Z"
    }
   },
   "id": "ec2d9e5b2aa5d220"
  },
  {
   "cell_type": "code",
   "execution_count": 376,
   "outputs": [
    {
     "data": {
      "text/plain": "((1070, 6), (1070, 11))"
     },
     "execution_count": 376,
     "metadata": {},
     "output_type": "execute_result"
    }
   ],
   "source": [
    "X_train.shape, X_train_normal.shape"
   ],
   "metadata": {
    "collapsed": false,
    "ExecuteTime": {
     "end_time": "2023-09-11T09:03:39.552565Z",
     "start_time": "2023-09-11T09:03:39.519009Z"
    }
   },
   "id": "491ebe784147b5e1"
  },
  {
   "cell_type": "markdown",
   "source": [
    "> Our Data is normalized and one hot encoded. Now we train and fit it in our NN."
   ],
   "metadata": {
    "collapsed": false
   },
   "id": "6fd1bb17577c5c72"
  },
  {
   "cell_type": "code",
   "execution_count": 391,
   "outputs": [
    {
     "name": "stderr",
     "output_type": "stream",
     "text": [
      "WARNING:absl:At this time, the v2.11+ optimizer `tf.keras.optimizers.Adam` runs slowly on M1/M2 Macs, please use the legacy Keras optimizer instead, located at `tf.keras.optimizers.legacy.Adam`.\n",
      "WARNING:absl:There is a known slowdown when using v2.11+ Keras optimizers on M1/M2 Macs. Falling back to the legacy Keras optimizer, i.e., `tf.keras.optimizers.legacy.Adam`.\n"
     ]
    },
    {
     "name": "stdout",
     "output_type": "stream",
     "text": [
      "Epoch 1/500\n",
      " 1/34 [..............................] - ETA: 12s - loss: 13158.6113 - mae: 13158.6113"
     ]
    },
    {
     "name": "stderr",
     "output_type": "stream",
     "text": [
      "2023-09-11 04:09:53.031339: I tensorflow/core/grappler/optimizers/custom_graph_optimizer_registry.cc:114] Plugin optimizer for device_type GPU is enabled.\n"
     ]
    },
    {
     "name": "stdout",
     "output_type": "stream",
     "text": [
      "34/34 [==============================] - 1s 10ms/step - loss: 13342.9785 - mae: 13342.9785\n",
      "Epoch 2/500\n",
      "34/34 [==============================] - 0s 7ms/step - loss: 13332.3965 - mae: 13332.3965\n",
      "Epoch 3/500\n",
      "34/34 [==============================] - 0s 7ms/step - loss: 13306.9229 - mae: 13306.9229\n",
      "Epoch 4/500\n",
      "34/34 [==============================] - 0s 9ms/step - loss: 13255.7910 - mae: 13255.7910\n",
      "Epoch 5/500\n",
      "34/34 [==============================] - 0s 6ms/step - loss: 13167.8340 - mae: 13167.8340\n",
      "Epoch 6/500\n",
      "34/34 [==============================] - 0s 6ms/step - loss: 13032.0049 - mae: 13032.0049\n",
      "Epoch 7/500\n",
      "34/34 [==============================] - 0s 6ms/step - loss: 12838.3848 - mae: 12838.3848\n",
      "Epoch 8/500\n",
      "34/34 [==============================] - 0s 7ms/step - loss: 12577.1445 - mae: 12577.1445\n",
      "Epoch 9/500\n",
      "34/34 [==============================] - 0s 7ms/step - loss: 12238.2266 - mae: 12238.2266\n",
      "Epoch 10/500\n",
      "34/34 [==============================] - 0s 6ms/step - loss: 11820.4316 - mae: 11820.4316\n",
      "Epoch 11/500\n",
      "34/34 [==============================] - 0s 6ms/step - loss: 11338.1455 - mae: 11338.1455\n",
      "Epoch 12/500\n",
      "34/34 [==============================] - 0s 7ms/step - loss: 10834.8320 - mae: 10834.8320\n",
      "Epoch 13/500\n",
      "34/34 [==============================] - 0s 6ms/step - loss: 10338.0020 - mae: 10338.0020\n",
      "Epoch 14/500\n",
      "34/34 [==============================] - 0s 6ms/step - loss: 9851.4678 - mae: 9851.4678\n",
      "Epoch 15/500\n",
      "34/34 [==============================] - 0s 7ms/step - loss: 9395.6777 - mae: 9395.6777\n",
      "Epoch 16/500\n",
      "34/34 [==============================] - 0s 7ms/step - loss: 8993.4746 - mae: 8993.4746\n",
      "Epoch 17/500\n",
      "34/34 [==============================] - 0s 7ms/step - loss: 8664.6221 - mae: 8664.6221\n",
      "Epoch 18/500\n",
      "34/34 [==============================] - 0s 6ms/step - loss: 8396.5908 - mae: 8396.5908\n",
      "Epoch 19/500\n",
      "34/34 [==============================] - 0s 7ms/step - loss: 8199.4844 - mae: 8199.4844\n",
      "Epoch 20/500\n",
      "34/34 [==============================] - 0s 6ms/step - loss: 8062.8926 - mae: 8062.8926\n",
      "Epoch 21/500\n",
      "34/34 [==============================] - 0s 6ms/step - loss: 7961.4531 - mae: 7961.4531\n",
      "Epoch 22/500\n",
      "34/34 [==============================] - 0s 6ms/step - loss: 7892.2261 - mae: 7892.2261\n",
      "Epoch 23/500\n",
      "34/34 [==============================] - 0s 6ms/step - loss: 7835.5938 - mae: 7835.5938\n",
      "Epoch 24/500\n",
      "34/34 [==============================] - 0s 6ms/step - loss: 7783.5996 - mae: 7783.5996\n",
      "Epoch 25/500\n",
      "34/34 [==============================] - 0s 8ms/step - loss: 7744.5923 - mae: 7744.5923\n",
      "Epoch 26/500\n",
      "34/34 [==============================] - 0s 10ms/step - loss: 7692.6309 - mae: 7692.6309\n",
      "Epoch 27/500\n",
      "34/34 [==============================] - 0s 8ms/step - loss: 7650.1226 - mae: 7650.1226\n",
      "Epoch 28/500\n",
      "34/34 [==============================] - 0s 9ms/step - loss: 7607.1289 - mae: 7607.1289\n",
      "Epoch 29/500\n",
      "34/34 [==============================] - 0s 6ms/step - loss: 7563.9062 - mae: 7563.9062\n",
      "Epoch 30/500\n",
      "34/34 [==============================] - 0s 6ms/step - loss: 7519.4590 - mae: 7519.4590\n",
      "Epoch 31/500\n",
      "34/34 [==============================] - 0s 6ms/step - loss: 7474.5635 - mae: 7474.5635\n",
      "Epoch 32/500\n",
      "34/34 [==============================] - 0s 6ms/step - loss: 7429.4917 - mae: 7429.4917\n",
      "Epoch 33/500\n",
      "34/34 [==============================] - 0s 6ms/step - loss: 7384.0610 - mae: 7384.0610\n",
      "Epoch 34/500\n",
      "34/34 [==============================] - 0s 6ms/step - loss: 7334.6392 - mae: 7334.6392\n",
      "Epoch 35/500\n",
      "34/34 [==============================] - 0s 6ms/step - loss: 7286.4600 - mae: 7286.4600\n",
      "Epoch 36/500\n",
      "34/34 [==============================] - 0s 7ms/step - loss: 7234.9814 - mae: 7234.9814\n",
      "Epoch 37/500\n",
      "34/34 [==============================] - 0s 6ms/step - loss: 7183.2881 - mae: 7183.2881\n",
      "Epoch 38/500\n",
      "34/34 [==============================] - 0s 6ms/step - loss: 7130.6445 - mae: 7130.6445\n",
      "Epoch 39/500\n",
      "34/34 [==============================] - 0s 6ms/step - loss: 7073.9727 - mae: 7073.9727\n",
      "Epoch 40/500\n",
      "34/34 [==============================] - 0s 6ms/step - loss: 7016.8096 - mae: 7016.8096\n",
      "Epoch 41/500\n",
      "34/34 [==============================] - 0s 6ms/step - loss: 6958.3926 - mae: 6958.3926\n",
      "Epoch 42/500\n",
      "34/34 [==============================] - 0s 6ms/step - loss: 6897.3696 - mae: 6897.3696\n",
      "Epoch 43/500\n",
      "34/34 [==============================] - 0s 6ms/step - loss: 6832.6216 - mae: 6832.6216\n",
      "Epoch 44/500\n",
      "34/34 [==============================] - 0s 6ms/step - loss: 6763.9404 - mae: 6763.9404\n",
      "Epoch 45/500\n",
      "34/34 [==============================] - 0s 8ms/step - loss: 6694.2046 - mae: 6694.2046\n",
      "Epoch 46/500\n",
      "34/34 [==============================] - 0s 11ms/step - loss: 6622.5059 - mae: 6622.5059\n",
      "Epoch 47/500\n",
      "34/34 [==============================] - 0s 6ms/step - loss: 6548.0708 - mae: 6548.0708\n",
      "Epoch 48/500\n",
      "34/34 [==============================] - 0s 6ms/step - loss: 6466.3535 - mae: 6466.3535\n",
      "Epoch 49/500\n",
      "34/34 [==============================] - 0s 6ms/step - loss: 6383.9985 - mae: 6383.9985\n",
      "Epoch 50/500\n",
      "34/34 [==============================] - 0s 6ms/step - loss: 6294.4487 - mae: 6294.4487\n",
      "Epoch 51/500\n",
      "34/34 [==============================] - 0s 6ms/step - loss: 6205.9731 - mae: 6205.9731\n",
      "Epoch 52/500\n",
      "34/34 [==============================] - 0s 6ms/step - loss: 6108.6797 - mae: 6108.6797\n",
      "Epoch 53/500\n",
      "34/34 [==============================] - 0s 6ms/step - loss: 6008.1997 - mae: 6008.1997\n",
      "Epoch 54/500\n",
      "34/34 [==============================] - 0s 5ms/step - loss: 5904.5181 - mae: 5904.5181\n",
      "Epoch 55/500\n",
      "34/34 [==============================] - 0s 5ms/step - loss: 5792.9185 - mae: 5792.9185\n",
      "Epoch 56/500\n",
      "34/34 [==============================] - 0s 5ms/step - loss: 5679.9878 - mae: 5679.9878\n",
      "Epoch 57/500\n",
      "34/34 [==============================] - 0s 5ms/step - loss: 5560.1772 - mae: 5560.1772\n",
      "Epoch 58/500\n",
      "34/34 [==============================] - 0s 6ms/step - loss: 5440.5718 - mae: 5440.5718\n",
      "Epoch 59/500\n",
      "34/34 [==============================] - 0s 6ms/step - loss: 5316.1558 - mae: 5316.1558\n",
      "Epoch 60/500\n",
      "34/34 [==============================] - 0s 6ms/step - loss: 5188.7949 - mae: 5188.7949\n",
      "Epoch 61/500\n",
      "34/34 [==============================] - 0s 7ms/step - loss: 5059.5967 - mae: 5059.5967\n",
      "Epoch 62/500\n",
      "34/34 [==============================] - 0s 6ms/step - loss: 4925.2339 - mae: 4925.2339\n",
      "Epoch 63/500\n",
      "34/34 [==============================] - 0s 6ms/step - loss: 4794.9761 - mae: 4794.9761\n",
      "Epoch 64/500\n",
      "34/34 [==============================] - 0s 5ms/step - loss: 4662.4551 - mae: 4662.4551\n",
      "Epoch 65/500\n",
      "34/34 [==============================] - 0s 5ms/step - loss: 4537.7227 - mae: 4537.7227\n",
      "Epoch 66/500\n",
      "34/34 [==============================] - 0s 6ms/step - loss: 4421.8750 - mae: 4421.8750\n",
      "Epoch 67/500\n",
      "34/34 [==============================] - 0s 6ms/step - loss: 4317.2534 - mae: 4317.2534\n",
      "Epoch 68/500\n",
      "34/34 [==============================] - 0s 7ms/step - loss: 4212.0552 - mae: 4212.0552\n",
      "Epoch 69/500\n",
      "34/34 [==============================] - 0s 6ms/step - loss: 4115.6602 - mae: 4115.6602\n",
      "Epoch 70/500\n",
      "34/34 [==============================] - 0s 6ms/step - loss: 4027.9912 - mae: 4027.9912\n",
      "Epoch 71/500\n",
      "34/34 [==============================] - 0s 6ms/step - loss: 3949.5720 - mae: 3949.5720\n",
      "Epoch 72/500\n",
      "34/34 [==============================] - 0s 7ms/step - loss: 3882.9041 - mae: 3882.9041\n",
      "Epoch 73/500\n",
      "34/34 [==============================] - 0s 6ms/step - loss: 3829.4424 - mae: 3829.4424\n",
      "Epoch 74/500\n",
      "34/34 [==============================] - 0s 6ms/step - loss: 3782.6218 - mae: 3782.6218\n",
      "Epoch 75/500\n",
      "34/34 [==============================] - 0s 7ms/step - loss: 3750.2925 - mae: 3750.2925\n",
      "Epoch 76/500\n",
      "34/34 [==============================] - 0s 6ms/step - loss: 3726.2395 - mae: 3726.2395\n",
      "Epoch 77/500\n",
      "34/34 [==============================] - 0s 6ms/step - loss: 3706.5796 - mae: 3706.5796\n",
      "Epoch 78/500\n",
      "34/34 [==============================] - 0s 6ms/step - loss: 3694.3123 - mae: 3694.3123\n",
      "Epoch 79/500\n",
      "34/34 [==============================] - 0s 6ms/step - loss: 3685.2991 - mae: 3685.2991\n",
      "Epoch 80/500\n",
      "34/34 [==============================] - 0s 6ms/step - loss: 3677.7761 - mae: 3677.7761\n",
      "Epoch 81/500\n",
      "34/34 [==============================] - 0s 6ms/step - loss: 3672.8792 - mae: 3672.8792\n",
      "Epoch 82/500\n",
      "34/34 [==============================] - 0s 6ms/step - loss: 3670.2947 - mae: 3670.2947\n",
      "Epoch 83/500\n",
      "34/34 [==============================] - 0s 7ms/step - loss: 3664.8472 - mae: 3664.8472\n",
      "Epoch 84/500\n",
      "34/34 [==============================] - 0s 6ms/step - loss: 3662.6042 - mae: 3662.6042\n",
      "Epoch 85/500\n",
      "34/34 [==============================] - 0s 6ms/step - loss: 3660.4797 - mae: 3660.4797\n",
      "Epoch 86/500\n",
      "34/34 [==============================] - 0s 6ms/step - loss: 3658.9343 - mae: 3658.9343\n",
      "Epoch 87/500\n",
      "34/34 [==============================] - 0s 6ms/step - loss: 3656.2109 - mae: 3656.2109\n",
      "Epoch 88/500\n",
      "34/34 [==============================] - 0s 6ms/step - loss: 3653.8616 - mae: 3653.8616\n",
      "Epoch 89/500\n",
      "34/34 [==============================] - 0s 6ms/step - loss: 3652.7466 - mae: 3652.7466\n",
      "Epoch 90/500\n",
      "34/34 [==============================] - 0s 6ms/step - loss: 3650.8708 - mae: 3650.8708\n",
      "Epoch 91/500\n",
      "34/34 [==============================] - 0s 6ms/step - loss: 3647.7690 - mae: 3647.7690\n",
      "Epoch 92/500\n",
      "34/34 [==============================] - 0s 5ms/step - loss: 3647.0881 - mae: 3647.0881\n",
      "Epoch 93/500\n",
      "34/34 [==============================] - 0s 6ms/step - loss: 3644.7981 - mae: 3644.7981\n",
      "Epoch 94/500\n",
      "34/34 [==============================] - 0s 6ms/step - loss: 3643.1321 - mae: 3643.1321\n",
      "Epoch 95/500\n",
      "34/34 [==============================] - 0s 6ms/step - loss: 3644.2710 - mae: 3644.2710\n",
      "Epoch 96/500\n",
      "34/34 [==============================] - 0s 6ms/step - loss: 3640.9895 - mae: 3640.9895\n",
      "Epoch 97/500\n",
      "34/34 [==============================] - 0s 6ms/step - loss: 3638.6067 - mae: 3638.6067\n",
      "Epoch 98/500\n",
      "34/34 [==============================] - 0s 6ms/step - loss: 3636.5071 - mae: 3636.5071\n",
      "Epoch 99/500\n",
      "34/34 [==============================] - 0s 6ms/step - loss: 3635.9771 - mae: 3635.9771\n",
      "Epoch 100/500\n",
      "34/34 [==============================] - 0s 6ms/step - loss: 3634.5903 - mae: 3634.5903\n",
      "Epoch 101/500\n",
      "34/34 [==============================] - 0s 6ms/step - loss: 3631.3252 - mae: 3631.3252\n",
      "Epoch 102/500\n",
      "34/34 [==============================] - 0s 6ms/step - loss: 3628.9832 - mae: 3628.9832\n",
      "Epoch 103/500\n",
      "34/34 [==============================] - 0s 6ms/step - loss: 3627.7490 - mae: 3627.7490\n",
      "Epoch 104/500\n",
      "34/34 [==============================] - 0s 6ms/step - loss: 3625.3552 - mae: 3625.3552\n",
      "Epoch 105/500\n",
      "34/34 [==============================] - 0s 6ms/step - loss: 3623.6467 - mae: 3623.6467\n",
      "Epoch 106/500\n",
      "34/34 [==============================] - 0s 6ms/step - loss: 3622.3372 - mae: 3622.3372\n",
      "Epoch 107/500\n",
      "34/34 [==============================] - 0s 6ms/step - loss: 3621.7048 - mae: 3621.7048\n",
      "Epoch 108/500\n",
      "34/34 [==============================] - 0s 6ms/step - loss: 3619.2424 - mae: 3619.2424\n",
      "Epoch 109/500\n",
      "34/34 [==============================] - 0s 6ms/step - loss: 3619.6201 - mae: 3619.6201\n",
      "Epoch 110/500\n",
      "34/34 [==============================] - 0s 6ms/step - loss: 3616.2048 - mae: 3616.2048\n",
      "Epoch 111/500\n",
      "34/34 [==============================] - 0s 6ms/step - loss: 3613.4641 - mae: 3613.4641\n",
      "Epoch 112/500\n",
      "34/34 [==============================] - 0s 6ms/step - loss: 3611.2244 - mae: 3611.2244\n",
      "Epoch 113/500\n",
      "34/34 [==============================] - 0s 6ms/step - loss: 3609.7859 - mae: 3609.7859\n",
      "Epoch 114/500\n",
      "34/34 [==============================] - 0s 6ms/step - loss: 3608.8496 - mae: 3608.8496\n",
      "Epoch 115/500\n",
      "34/34 [==============================] - 0s 6ms/step - loss: 3607.1191 - mae: 3607.1191\n",
      "Epoch 116/500\n",
      "34/34 [==============================] - 0s 6ms/step - loss: 3605.6030 - mae: 3605.6030\n",
      "Epoch 117/500\n",
      "34/34 [==============================] - 0s 6ms/step - loss: 3602.5540 - mae: 3602.5540\n",
      "Epoch 118/500\n",
      "34/34 [==============================] - 0s 7ms/step - loss: 3598.6941 - mae: 3598.6941\n",
      "Epoch 119/500\n",
      "34/34 [==============================] - 0s 6ms/step - loss: 3600.4148 - mae: 3600.4148\n",
      "Epoch 120/500\n",
      "34/34 [==============================] - 0s 7ms/step - loss: 3598.1221 - mae: 3598.1221\n",
      "Epoch 121/500\n",
      "34/34 [==============================] - 0s 6ms/step - loss: 3592.7881 - mae: 3592.7881\n",
      "Epoch 122/500\n",
      "34/34 [==============================] - 0s 6ms/step - loss: 3592.2925 - mae: 3592.2925\n",
      "Epoch 123/500\n",
      "34/34 [==============================] - 0s 6ms/step - loss: 3590.2288 - mae: 3590.2288\n",
      "Epoch 124/500\n",
      "34/34 [==============================] - 0s 6ms/step - loss: 3587.9180 - mae: 3587.9180\n",
      "Epoch 125/500\n",
      "34/34 [==============================] - 0s 6ms/step - loss: 3585.8870 - mae: 3585.8870\n",
      "Epoch 126/500\n",
      "34/34 [==============================] - 0s 6ms/step - loss: 3585.0408 - mae: 3585.0408\n",
      "Epoch 127/500\n",
      "34/34 [==============================] - 0s 6ms/step - loss: 3585.1670 - mae: 3585.1670\n",
      "Epoch 128/500\n",
      "34/34 [==============================] - 0s 5ms/step - loss: 3581.6548 - mae: 3581.6548\n",
      "Epoch 129/500\n",
      "34/34 [==============================] - 0s 6ms/step - loss: 3580.1106 - mae: 3580.1106\n",
      "Epoch 130/500\n",
      "34/34 [==============================] - 0s 6ms/step - loss: 3576.4858 - mae: 3576.4858\n",
      "Epoch 131/500\n",
      "34/34 [==============================] - 0s 6ms/step - loss: 3575.0649 - mae: 3575.0649\n",
      "Epoch 132/500\n",
      "34/34 [==============================] - 0s 6ms/step - loss: 3572.1165 - mae: 3572.1165\n",
      "Epoch 133/500\n",
      "34/34 [==============================] - 0s 6ms/step - loss: 3570.5559 - mae: 3570.5559\n",
      "Epoch 134/500\n",
      "34/34 [==============================] - 0s 6ms/step - loss: 3568.4995 - mae: 3568.4995\n",
      "Epoch 135/500\n",
      "34/34 [==============================] - 0s 6ms/step - loss: 3566.5000 - mae: 3566.5000\n",
      "Epoch 136/500\n",
      "34/34 [==============================] - 0s 6ms/step - loss: 3564.9922 - mae: 3564.9922\n",
      "Epoch 137/500\n",
      "34/34 [==============================] - 0s 6ms/step - loss: 3563.4722 - mae: 3563.4722\n",
      "Epoch 138/500\n",
      "34/34 [==============================] - 0s 6ms/step - loss: 3561.2939 - mae: 3561.2939\n",
      "Epoch 139/500\n",
      "34/34 [==============================] - 0s 6ms/step - loss: 3560.4780 - mae: 3560.4780\n",
      "Epoch 140/500\n",
      "34/34 [==============================] - 0s 6ms/step - loss: 3558.4448 - mae: 3558.4448\n",
      "Epoch 141/500\n",
      "34/34 [==============================] - 0s 6ms/step - loss: 3558.2148 - mae: 3558.2148\n",
      "Epoch 142/500\n",
      "34/34 [==============================] - 0s 6ms/step - loss: 3555.4451 - mae: 3555.4451\n",
      "Epoch 143/500\n",
      "34/34 [==============================] - 0s 6ms/step - loss: 3555.8257 - mae: 3555.8257\n",
      "Epoch 144/500\n",
      "34/34 [==============================] - 0s 6ms/step - loss: 3552.8589 - mae: 3552.8589\n",
      "Epoch 145/500\n",
      "34/34 [==============================] - 0s 6ms/step - loss: 3551.0999 - mae: 3551.0999\n",
      "Epoch 146/500\n",
      "34/34 [==============================] - 0s 6ms/step - loss: 3551.0461 - mae: 3551.0461\n",
      "Epoch 147/500\n",
      "34/34 [==============================] - 0s 6ms/step - loss: 3548.6206 - mae: 3548.6206\n",
      "Epoch 148/500\n",
      "34/34 [==============================] - 0s 6ms/step - loss: 3547.2732 - mae: 3547.2732\n",
      "Epoch 149/500\n",
      "34/34 [==============================] - 0s 6ms/step - loss: 3544.5742 - mae: 3544.5742\n",
      "Epoch 150/500\n",
      "34/34 [==============================] - 0s 6ms/step - loss: 3544.5461 - mae: 3544.5461\n",
      "Epoch 151/500\n",
      "34/34 [==============================] - 0s 6ms/step - loss: 3542.5969 - mae: 3542.5969\n",
      "Epoch 152/500\n",
      "34/34 [==============================] - 0s 6ms/step - loss: 3540.9160 - mae: 3540.9160\n",
      "Epoch 153/500\n",
      "34/34 [==============================] - 0s 6ms/step - loss: 3539.3506 - mae: 3539.3506\n",
      "Epoch 154/500\n",
      "34/34 [==============================] - 0s 6ms/step - loss: 3540.7019 - mae: 3540.7019\n",
      "Epoch 155/500\n",
      "34/34 [==============================] - 0s 6ms/step - loss: 3538.2971 - mae: 3538.2971\n",
      "Epoch 156/500\n",
      "34/34 [==============================] - 0s 6ms/step - loss: 3536.4929 - mae: 3536.4929\n",
      "Epoch 157/500\n",
      "34/34 [==============================] - 0s 6ms/step - loss: 3535.0554 - mae: 3535.0554\n",
      "Epoch 158/500\n",
      "34/34 [==============================] - 0s 6ms/step - loss: 3531.8484 - mae: 3531.8484\n",
      "Epoch 159/500\n",
      "34/34 [==============================] - 0s 6ms/step - loss: 3530.3027 - mae: 3530.3027\n",
      "Epoch 160/500\n",
      "34/34 [==============================] - 0s 7ms/step - loss: 3530.0354 - mae: 3530.0354\n",
      "Epoch 161/500\n",
      "34/34 [==============================] - 0s 6ms/step - loss: 3526.8975 - mae: 3526.8975\n",
      "Epoch 162/500\n",
      "34/34 [==============================] - 0s 6ms/step - loss: 3526.3647 - mae: 3526.3647\n",
      "Epoch 163/500\n",
      "34/34 [==============================] - 0s 6ms/step - loss: 3524.2522 - mae: 3524.2522\n",
      "Epoch 164/500\n",
      "34/34 [==============================] - 0s 6ms/step - loss: 3524.1624 - mae: 3524.1624\n",
      "Epoch 165/500\n",
      "34/34 [==============================] - 0s 6ms/step - loss: 3522.0571 - mae: 3522.0571\n",
      "Epoch 166/500\n",
      "34/34 [==============================] - 0s 6ms/step - loss: 3520.5803 - mae: 3520.5803\n",
      "Epoch 167/500\n",
      "34/34 [==============================] - 0s 6ms/step - loss: 3519.5657 - mae: 3519.5657\n",
      "Epoch 168/500\n",
      "34/34 [==============================] - 0s 6ms/step - loss: 3518.1877 - mae: 3518.1877\n",
      "Epoch 169/500\n",
      "34/34 [==============================] - 0s 6ms/step - loss: 3517.0486 - mae: 3517.0486\n",
      "Epoch 170/500\n",
      "34/34 [==============================] - 0s 6ms/step - loss: 3515.4636 - mae: 3515.4636\n",
      "Epoch 171/500\n",
      "34/34 [==============================] - 0s 6ms/step - loss: 3515.1145 - mae: 3515.1145\n",
      "Epoch 172/500\n",
      "34/34 [==============================] - 0s 6ms/step - loss: 3513.5310 - mae: 3513.5310\n",
      "Epoch 173/500\n",
      "34/34 [==============================] - 0s 6ms/step - loss: 3512.1377 - mae: 3512.1377\n",
      "Epoch 174/500\n",
      "34/34 [==============================] - 0s 6ms/step - loss: 3510.8489 - mae: 3510.8489\n",
      "Epoch 175/500\n",
      "34/34 [==============================] - 0s 6ms/step - loss: 3509.5706 - mae: 3509.5706\n",
      "Epoch 176/500\n",
      "34/34 [==============================] - 0s 6ms/step - loss: 3509.4983 - mae: 3509.4983\n",
      "Epoch 177/500\n",
      "34/34 [==============================] - 0s 6ms/step - loss: 3509.9348 - mae: 3509.9348\n",
      "Epoch 178/500\n",
      "34/34 [==============================] - 0s 8ms/step - loss: 3507.2559 - mae: 3507.2559\n",
      "Epoch 179/500\n",
      "34/34 [==============================] - 0s 6ms/step - loss: 3509.3877 - mae: 3509.3877\n",
      "Epoch 180/500\n",
      "34/34 [==============================] - 0s 7ms/step - loss: 3504.2820 - mae: 3504.2820\n",
      "Epoch 181/500\n",
      "34/34 [==============================] - 0s 6ms/step - loss: 3502.1931 - mae: 3502.1931\n",
      "Epoch 182/500\n",
      "34/34 [==============================] - 0s 6ms/step - loss: 3501.6331 - mae: 3501.6331\n",
      "Epoch 183/500\n",
      "34/34 [==============================] - 0s 6ms/step - loss: 3499.7000 - mae: 3499.7000\n",
      "Epoch 184/500\n",
      "34/34 [==============================] - 0s 6ms/step - loss: 3498.8264 - mae: 3498.8264\n",
      "Epoch 185/500\n",
      "34/34 [==============================] - 0s 6ms/step - loss: 3498.3777 - mae: 3498.3777\n",
      "Epoch 186/500\n",
      "34/34 [==============================] - 0s 6ms/step - loss: 3496.5056 - mae: 3496.5056\n",
      "Epoch 187/500\n",
      "34/34 [==============================] - 0s 6ms/step - loss: 3496.1562 - mae: 3496.1562\n",
      "Epoch 188/500\n",
      "34/34 [==============================] - 0s 6ms/step - loss: 3493.5029 - mae: 3493.5029\n",
      "Epoch 189/500\n",
      "34/34 [==============================] - 0s 6ms/step - loss: 3491.9355 - mae: 3491.9355\n",
      "Epoch 190/500\n",
      "34/34 [==============================] - 0s 6ms/step - loss: 3493.8049 - mae: 3493.8049\n",
      "Epoch 191/500\n",
      "34/34 [==============================] - 0s 6ms/step - loss: 3498.4731 - mae: 3498.4731\n",
      "Epoch 192/500\n",
      "34/34 [==============================] - 0s 6ms/step - loss: 3488.7866 - mae: 3488.7866\n",
      "Epoch 193/500\n",
      "34/34 [==============================] - 0s 6ms/step - loss: 3488.5503 - mae: 3488.5503\n",
      "Epoch 194/500\n",
      "34/34 [==============================] - 0s 6ms/step - loss: 3485.7493 - mae: 3485.7493\n",
      "Epoch 195/500\n",
      "34/34 [==============================] - 0s 6ms/step - loss: 3485.1731 - mae: 3485.1731\n",
      "Epoch 196/500\n",
      "34/34 [==============================] - 0s 6ms/step - loss: 3486.2649 - mae: 3486.2649\n",
      "Epoch 197/500\n",
      "34/34 [==============================] - 0s 6ms/step - loss: 3482.6934 - mae: 3482.6934\n",
      "Epoch 198/500\n",
      "34/34 [==============================] - 0s 6ms/step - loss: 3481.3721 - mae: 3481.3721\n",
      "Epoch 199/500\n",
      "34/34 [==============================] - 0s 7ms/step - loss: 3480.2988 - mae: 3480.2988\n",
      "Epoch 200/500\n",
      "34/34 [==============================] - 0s 6ms/step - loss: 3480.7878 - mae: 3480.7878\n",
      "Epoch 201/500\n",
      "34/34 [==============================] - 0s 6ms/step - loss: 3477.0300 - mae: 3477.0300\n",
      "Epoch 202/500\n",
      "34/34 [==============================] - 0s 6ms/step - loss: 3476.8530 - mae: 3476.8530\n",
      "Epoch 203/500\n",
      "34/34 [==============================] - 0s 6ms/step - loss: 3475.2891 - mae: 3475.2891\n",
      "Epoch 204/500\n",
      "34/34 [==============================] - 0s 6ms/step - loss: 3476.7256 - mae: 3476.7256\n",
      "Epoch 205/500\n",
      "34/34 [==============================] - 0s 6ms/step - loss: 3473.8318 - mae: 3473.8318\n",
      "Epoch 206/500\n",
      "34/34 [==============================] - 0s 6ms/step - loss: 3473.4192 - mae: 3473.4192\n",
      "Epoch 207/500\n",
      "34/34 [==============================] - 0s 5ms/step - loss: 3474.5510 - mae: 3474.5510\n",
      "Epoch 208/500\n",
      "34/34 [==============================] - 0s 6ms/step - loss: 3473.7632 - mae: 3473.7632\n",
      "Epoch 209/500\n",
      "34/34 [==============================] - 0s 6ms/step - loss: 3473.8474 - mae: 3473.8474\n",
      "Epoch 210/500\n",
      "34/34 [==============================] - 0s 6ms/step - loss: 3473.1187 - mae: 3473.1187\n",
      "Epoch 211/500\n",
      "34/34 [==============================] - 0s 6ms/step - loss: 3472.7180 - mae: 3472.7180\n",
      "Epoch 212/500\n",
      "34/34 [==============================] - 0s 6ms/step - loss: 3472.9700 - mae: 3472.9700\n",
      "Epoch 213/500\n",
      "34/34 [==============================] - 0s 6ms/step - loss: 3472.3416 - mae: 3472.3416\n",
      "Epoch 214/500\n",
      "34/34 [==============================] - 0s 6ms/step - loss: 3474.4639 - mae: 3474.4639\n",
      "Epoch 215/500\n",
      "34/34 [==============================] - 0s 6ms/step - loss: 3473.3354 - mae: 3473.3354\n",
      "Epoch 216/500\n",
      "34/34 [==============================] - 0s 6ms/step - loss: 3472.6604 - mae: 3472.6604\n",
      "Epoch 217/500\n",
      "34/34 [==============================] - 0s 6ms/step - loss: 3475.0000 - mae: 3475.0000\n",
      "Epoch 218/500\n",
      "34/34 [==============================] - 0s 6ms/step - loss: 3472.1514 - mae: 3472.1514\n",
      "Epoch 219/500\n",
      "34/34 [==============================] - 0s 6ms/step - loss: 3472.4910 - mae: 3472.4910\n",
      "Epoch 220/500\n",
      "34/34 [==============================] - 0s 6ms/step - loss: 3471.7319 - mae: 3471.7319\n",
      "Epoch 221/500\n",
      "34/34 [==============================] - 0s 6ms/step - loss: 3474.1675 - mae: 3474.1675\n",
      "Epoch 222/500\n",
      "34/34 [==============================] - 0s 6ms/step - loss: 3473.7991 - mae: 3473.7991\n",
      "Epoch 223/500\n",
      "34/34 [==============================] - 0s 6ms/step - loss: 3472.9365 - mae: 3472.9365\n",
      "Epoch 224/500\n",
      "34/34 [==============================] - 0s 6ms/step - loss: 3473.1826 - mae: 3473.1826\n",
      "Epoch 225/500\n",
      "34/34 [==============================] - 0s 6ms/step - loss: 3472.9407 - mae: 3472.9407\n",
      "Epoch 226/500\n",
      "34/34 [==============================] - 0s 6ms/step - loss: 3471.7715 - mae: 3471.7715\n",
      "Epoch 227/500\n",
      "34/34 [==============================] - 0s 6ms/step - loss: 3471.4980 - mae: 3471.4980\n",
      "Epoch 228/500\n",
      "34/34 [==============================] - 0s 6ms/step - loss: 3473.4915 - mae: 3473.4915\n",
      "Epoch 229/500\n",
      "34/34 [==============================] - 0s 5ms/step - loss: 3472.0325 - mae: 3472.0325\n",
      "Epoch 230/500\n",
      "34/34 [==============================] - 0s 6ms/step - loss: 3474.1726 - mae: 3474.1726\n",
      "Epoch 231/500\n",
      "34/34 [==============================] - 0s 6ms/step - loss: 3471.8157 - mae: 3471.8157\n",
      "Epoch 232/500\n",
      "34/34 [==============================] - 0s 6ms/step - loss: 3472.6245 - mae: 3472.6245\n",
      "Epoch 233/500\n",
      "34/34 [==============================] - 0s 6ms/step - loss: 3472.3440 - mae: 3472.3440\n",
      "Epoch 234/500\n",
      "34/34 [==============================] - 0s 6ms/step - loss: 3472.5481 - mae: 3472.5481\n",
      "Epoch 235/500\n",
      "34/34 [==============================] - 0s 6ms/step - loss: 3474.0679 - mae: 3474.0679\n",
      "Epoch 236/500\n",
      "34/34 [==============================] - 0s 6ms/step - loss: 3473.5701 - mae: 3473.5701\n",
      "Epoch 237/500\n",
      "34/34 [==============================] - 0s 7ms/step - loss: 3472.9478 - mae: 3472.9478\n"
     ]
    }
   ],
   "source": [
    "tf.random.set_seed(RANDOM_STATE)\n",
    "callback = tf.keras.callbacks.EarlyStopping(monitor=\"loss\", patience=10)\n",
    "insurance_model_4 = tf.keras.Sequential([\n",
    "    tf.keras.layers.Dense(100),\n",
    "    tf.keras.layers.Dense(10),\n",
    "    tf.keras.layers.Dense(1)\n",
    "])\n",
    "insurance_model_4.compile(loss=tf.keras.losses.mae,\n",
    "                          optimizer=tf.keras.optimizers.Adam(),\n",
    "                          metrics=['mae'])\n",
    "history = insurance_model_4.fit(X_train_normal, y_train, epochs=500, callbacks=callback)"
   ],
   "metadata": {
    "collapsed": false,
    "ExecuteTime": {
     "end_time": "2023-09-11T09:10:42.826773Z",
     "start_time": "2023-09-11T09:09:52.733600Z"
    }
   },
   "id": "8d7c714cfd79c800"
  },
  {
   "cell_type": "code",
   "execution_count": 392,
   "outputs": [
    {
     "name": "stdout",
     "output_type": "stream",
     "text": [
      "9/9 [==============================] - 0s 7ms/step - loss: 3161.2595 - mae: 3161.2595\n"
     ]
    },
    {
     "name": "stderr",
     "output_type": "stream",
     "text": [
      "2023-09-11 04:10:42.906047: I tensorflow/core/grappler/optimizers/custom_graph_optimizer_registry.cc:114] Plugin optimizer for device_type GPU is enabled.\n"
     ]
    },
    {
     "data": {
      "text/plain": "[3161.259521484375, 3161.259521484375]"
     },
     "execution_count": 392,
     "metadata": {},
     "output_type": "execute_result"
    }
   ],
   "source": [
    "insurance_model_4_loss = insurance_model_4.evaluate(X_test_normal, y_test)\n",
    "insurance_model_4_loss"
   ],
   "metadata": {
    "collapsed": false,
    "ExecuteTime": {
     "end_time": "2023-09-11T09:10:43.079455Z",
     "start_time": "2023-09-11T09:10:42.821657Z"
    }
   },
   "id": "7e4809339dbd9a18"
  },
  {
   "cell_type": "code",
   "execution_count": 393,
   "outputs": [
    {
     "data": {
      "text/plain": "array([-1785.40209961, -1785.40209961])"
     },
     "execution_count": 393,
     "metadata": {},
     "output_type": "execute_result"
    }
   ],
   "source": [
    "np.array(insurance_model_4_loss) - np.array(insurance_model_2_loss)"
   ],
   "metadata": {
    "collapsed": false,
    "ExecuteTime": {
     "end_time": "2023-09-11T09:10:43.079752Z",
     "start_time": "2023-09-11T09:10:43.045086Z"
    }
   },
   "id": "73f95af88a863af2"
  },
  {
   "cell_type": "code",
   "execution_count": 394,
   "outputs": [
    {
     "data": {
      "text/plain": "Text(0, 0.5, 'loss')"
     },
     "execution_count": 394,
     "metadata": {},
     "output_type": "execute_result"
    },
    {
     "data": {
      "text/plain": "<Figure size 640x480 with 1 Axes>",
      "image/png": "[encoded data removed]"
     },
     "metadata": {},
     "output_type": "display_data"
    }
   ],
   "source": [
    "pd.DataFrame(history.history).plot()\n",
    "plt.xlabel('epochs')\n",
    "plt.ylabel('loss')"
   ],
   "metadata": {
    "collapsed": false,
    "ExecuteTime": {
     "end_time": "2023-09-11T09:10:43.279444Z",
     "start_time": "2023-09-11T09:10:43.072302Z"
    }
   },
   "id": "90a0e11bc4e9aba0"
  }
 ],
 "metadata": {
  "kernelspec": {
   "display_name": "Python 3",
   "language": "python",
   "name": "python3"
  },
  "language_info": {
   "codemirror_mode": {
    "name": "ipython",
    "version": 2
   },
   "file_extension": ".py",
   "mimetype": "text/x-python",
   "name": "python",
   "nbconvert_exporter": "python",
   "pygments_lexer": "ipython2",
   "version": "2.7.6"
  }
 },
 "nbformat": 4,
 "nbformat_minor": 5
}
