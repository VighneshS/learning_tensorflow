{
 "cells": [
  {
   "cell_type": "code",
   "execution_count": 1,
   "outputs": [],
   "source": [
    "#a370d87cf86527e40f03d3aec85c9607628fd1763b9d0e15"
   ],
   "metadata": {
    "collapsed": false,
    "ExecuteTime": {
     "end_time": "2023-09-07T00:45:14.759964Z",
     "start_time": "2023-09-07T00:45:14.733612Z"
    }
   },
   "id": "c02969a25b271269"
  },
  {
   "cell_type": "code",
   "execution_count": 140,
   "outputs": [
    {
     "name": "stdout",
     "output_type": "stream",
     "text": [
      "Python Platform: macOS-13.5.1-arm64-arm-64bit\n",
      "Tensor Flow Version: 2.13.0\n",
      "Keras Version: 2.13.1\n",
      "\n",
      "Python 3.10.12 | packaged by conda-forge | (main, Jun 23 2023, 22:41:52) [Clang 15.0.7 ]\n",
      "Pandas 2.0.3\n",
      "Scikit-Learn 1.3.0\n",
      "GPU is available\n"
     ]
    }
   ],
   "source": [
    "import platform\n",
    "# What version of Python do you have?\n",
    "import sys\n",
    "\n",
    "import keras\n",
    "import pandas as pd\n",
    "import sklearn as sk\n",
    "import tensorflow as tf\n",
    "\n",
    "print(f\"Python Platform: {platform.platform()}\")\n",
    "print(f\"Tensor Flow Version: {tf.__version__}\")\n",
    "print(f\"Keras Version: {keras.__version__}\")\n",
    "print()\n",
    "print(f\"Python {sys.version}\")\n",
    "print(f\"Pandas {pd.__version__}\")\n",
    "print(f\"Scikit-Learn {sk.__version__}\")\n",
    "gpu = len(tf.config.list_physical_devices('GPU')) > 0\n",
    "print(\"GPU is\", \"available\" if gpu else \"NOT AVAILABLE\")"
   ],
   "metadata": {
    "collapsed": false,
    "ExecuteTime": {
     "end_time": "2023-09-07T04:45:31.465883Z",
     "start_time": "2023-09-07T04:45:31.444945Z"
    }
   },
   "id": "58233237b614ef55"
  },
  {
   "cell_type": "code",
   "execution_count": 141,
   "outputs": [
    {
     "data": {
      "text/plain": "'2.13.0'"
     },
     "execution_count": 141,
     "metadata": {},
     "output_type": "execute_result"
    }
   ],
   "source": [
    "tf.__version__"
   ],
   "metadata": {
    "collapsed": false,
    "ExecuteTime": {
     "end_time": "2023-09-07T04:45:32.871248Z",
     "start_time": "2023-09-07T04:45:32.849233Z"
    }
   },
   "id": "4c2e0517a33613e3"
  },
  {
   "cell_type": "code",
   "execution_count": 142,
   "outputs": [
    {
     "data": {
      "text/plain": "[PhysicalDevice(name='/physical_device:CPU:0', device_type='CPU'),\n PhysicalDevice(name='/physical_device:GPU:0', device_type='GPU')]"
     },
     "execution_count": 142,
     "metadata": {},
     "output_type": "execute_result"
    }
   ],
   "source": [
    "tf.config.list_physical_devices()"
   ],
   "metadata": {
    "collapsed": false,
    "ExecuteTime": {
     "end_time": "2023-09-07T04:45:34.939745Z",
     "start_time": "2023-09-07T04:45:34.919733Z"
    }
   },
   "id": "dc9cbd627ba89a94"
  },
  {
   "cell_type": "code",
   "execution_count": 5,
   "outputs": [
    {
     "name": "stderr",
     "output_type": "stream",
     "text": [
      "2023-09-06 19:45:40.342196: I metal_plugin/src/device/metal_device.cc:1154] Metal device set to: Apple M1\n",
      "2023-09-06 19:45:40.342258: I metal_plugin/src/device/metal_device.cc:296] systemMemory: 8.00 GB\n",
      "2023-09-06 19:45:40.342274: I metal_plugin/src/device/metal_device.cc:313] maxCacheSize: 2.67 GB\n",
      "2023-09-06 19:45:40.343224: I tensorflow/core/common_runtime/pluggable_device/pluggable_device_factory.cc:303] Could not identify NUMA node of platform GPU ID 0, defaulting to 0. Your kernel may not have been built with NUMA support.\n",
      "2023-09-06 19:45:40.343425: I tensorflow/core/common_runtime/pluggable_device/pluggable_device_factory.cc:269] Created TensorFlow device (/job:localhost/replica:0/task:0/device:GPU:0 with 0 MB memory) -> physical PluggableDevice (device: 0, name: METAL, pci bus id: <undefined>)\n"
     ]
    },
    {
     "data": {
      "text/plain": "<tf.Tensor: shape=(), dtype=int32, numpy=7>"
     },
     "execution_count": 5,
     "metadata": {},
     "output_type": "execute_result"
    }
   ],
   "source": [
    "scalar = tf.constant(7)\n",
    "scalar"
   ],
   "metadata": {
    "collapsed": false,
    "ExecuteTime": {
     "end_time": "2023-09-07T00:45:40.446788Z",
     "start_time": "2023-09-07T00:45:40.396471Z"
    }
   },
   "id": "c3dab4a9a17201cc"
  },
  {
   "cell_type": "code",
   "execution_count": 6,
   "outputs": [
    {
     "data": {
      "text/plain": "<tf.Tensor: shape=(3, 2), dtype=int32, numpy=\narray([[10,  7],\n       [ 2,  5],\n       [ 3,  4]], dtype=int32)>"
     },
     "execution_count": 6,
     "metadata": {},
     "output_type": "execute_result"
    }
   ],
   "source": [
    "not_shuffled = tf.constant([[10, 7],\n",
    "                            [3, 4],\n",
    "                            [2, 5]])\n",
    "tf.random.shuffle(not_shuffled)"
   ],
   "metadata": {
    "collapsed": false,
    "ExecuteTime": {
     "end_time": "2023-09-07T00:45:40.447484Z",
     "start_time": "2023-09-07T00:45:40.403980Z"
    }
   },
   "id": "33cf3bf5351a4357"
  },
  {
   "cell_type": "code",
   "execution_count": 7,
   "outputs": [
    {
     "data": {
      "text/plain": "<tf.Tensor: shape=(3, 2), dtype=int32, numpy=\narray([[ 3,  4],\n       [ 2,  5],\n       [10,  7]], dtype=int32)>"
     },
     "execution_count": 7,
     "metadata": {},
     "output_type": "execute_result"
    }
   ],
   "source": [
    "tf.random.set_seed(3)\n",
    "tf.random.shuffle(not_shuffled)"
   ],
   "metadata": {
    "collapsed": false,
    "ExecuteTime": {
     "end_time": "2023-09-07T00:45:40.447755Z",
     "start_time": "2023-09-07T00:45:40.414143Z"
    }
   },
   "id": "1cde8e5eaac9ca6d"
  },
  {
   "cell_type": "code",
   "execution_count": 8,
   "outputs": [
    {
     "data": {
      "text/plain": "<tf.Tensor: shape=(3, 2), dtype=int32, numpy=\narray([[10,  7],\n       [ 3,  4],\n       [ 2,  5]], dtype=int32)>"
     },
     "execution_count": 8,
     "metadata": {},
     "output_type": "execute_result"
    }
   ],
   "source": [
    "tf.random.set_seed(42)\n",
    "tf.random.shuffle(not_shuffled, seed=42)"
   ],
   "metadata": {
    "collapsed": false,
    "ExecuteTime": {
     "end_time": "2023-09-07T00:45:40.447996Z",
     "start_time": "2023-09-07T00:45:40.419055Z"
    }
   },
   "id": "66237390df5c4693"
  },
  {
   "cell_type": "markdown",
   "source": [
    "### Other ways to make tensors"
   ],
   "metadata": {
    "collapsed": false
   },
   "id": "4851d0788956b1c7"
  },
  {
   "cell_type": "code",
   "execution_count": 9,
   "outputs": [
    {
     "data": {
      "text/plain": "<tf.Tensor: shape=(10, 7), dtype=float32, numpy=\narray([[1., 1., 1., 1., 1., 1., 1.],\n       [1., 1., 1., 1., 1., 1., 1.],\n       [1., 1., 1., 1., 1., 1., 1.],\n       [1., 1., 1., 1., 1., 1., 1.],\n       [1., 1., 1., 1., 1., 1., 1.],\n       [1., 1., 1., 1., 1., 1., 1.],\n       [1., 1., 1., 1., 1., 1., 1.],\n       [1., 1., 1., 1., 1., 1., 1.],\n       [1., 1., 1., 1., 1., 1., 1.],\n       [1., 1., 1., 1., 1., 1., 1.]], dtype=float32)>"
     },
     "execution_count": 9,
     "metadata": {},
     "output_type": "execute_result"
    }
   ],
   "source": [
    "tf.ones([10, 7])"
   ],
   "metadata": {
    "collapsed": false,
    "ExecuteTime": {
     "end_time": "2023-09-07T00:45:40.571741Z",
     "start_time": "2023-09-07T00:45:40.436192Z"
    }
   },
   "id": "58e6cc09fddf893e"
  },
  {
   "cell_type": "code",
   "execution_count": 10,
   "outputs": [
    {
     "data": {
      "text/plain": "<tf.Tensor: shape=(10, 7), dtype=float32, numpy=\narray([[0., 0., 0., 0., 0., 0., 0.],\n       [0., 0., 0., 0., 0., 0., 0.],\n       [0., 0., 0., 0., 0., 0., 0.],\n       [0., 0., 0., 0., 0., 0., 0.],\n       [0., 0., 0., 0., 0., 0., 0.],\n       [0., 0., 0., 0., 0., 0., 0.],\n       [0., 0., 0., 0., 0., 0., 0.],\n       [0., 0., 0., 0., 0., 0., 0.],\n       [0., 0., 0., 0., 0., 0., 0.],\n       [0., 0., 0., 0., 0., 0., 0.]], dtype=float32)>"
     },
     "execution_count": 10,
     "metadata": {},
     "output_type": "execute_result"
    }
   ],
   "source": [
    "tf.zeros((10, 7))"
   ],
   "metadata": {
    "collapsed": false,
    "ExecuteTime": {
     "end_time": "2023-09-07T00:45:40.596144Z",
     "start_time": "2023-09-07T00:45:40.572382Z"
    }
   },
   "id": "23991333de59ff03"
  },
  {
   "cell_type": "markdown",
   "source": [
    "### Can convert numpy arrays to tensors"
   ],
   "metadata": {
    "collapsed": false
   },
   "id": "b953823d338cedc1"
  },
  {
   "cell_type": "code",
   "execution_count": 11,
   "outputs": [
    {
     "data": {
      "text/plain": "array([ 1,  2,  3,  4,  5,  6,  7,  8,  9, 10, 11, 12, 13, 14, 15, 16, 17,\n       18, 19, 20, 21, 22, 23, 24], dtype=int32)"
     },
     "execution_count": 11,
     "metadata": {},
     "output_type": "execute_result"
    }
   ],
   "source": [
    "import numpy as np\n",
    "\n",
    "np_A = np.arange(1, 25, dtype=np.int32)\n",
    "np_A"
   ],
   "metadata": {
    "collapsed": false,
    "ExecuteTime": {
     "end_time": "2023-09-07T00:45:40.597489Z",
     "start_time": "2023-09-07T00:45:40.584174Z"
    }
   },
   "id": "bb558b85b90283ce"
  },
  {
   "cell_type": "code",
   "execution_count": 12,
   "outputs": [
    {
     "data": {
      "text/plain": "(<tf.Tensor: shape=(2, 3, 4), dtype=int32, numpy=\n array([[[ 1,  2,  3,  4],\n         [ 5,  6,  7,  8],\n         [ 9, 10, 11, 12]],\n \n        [[13, 14, 15, 16],\n         [17, 18, 19, 20],\n         [21, 22, 23, 24]]], dtype=int32)>,\n <tf.Tensor: shape=(24,), dtype=int32, numpy=\n array([ 1,  2,  3,  4,  5,  6,  7,  8,  9, 10, 11, 12, 13, 14, 15, 16, 17,\n        18, 19, 20, 21, 22, 23, 24], dtype=int32)>,\n <tf.Tensor: shape=(3, 8), dtype=int32, numpy=\n array([[ 1,  2,  3,  4,  5,  6,  7,  8],\n        [ 9, 10, 11, 12, 13, 14, 15, 16],\n        [17, 18, 19, 20, 21, 22, 23, 24]], dtype=int32)>)"
     },
     "execution_count": 12,
     "metadata": {},
     "output_type": "execute_result"
    }
   ],
   "source": [
    "A = tf.constant(np_A, shape=(2, 3, 4))\n",
    "b = tf.constant(np_A)\n",
    "C = tf.constant(np_A, shape=(3, 8))\n",
    "A, b, C"
   ],
   "metadata": {
    "collapsed": false,
    "ExecuteTime": {
     "end_time": "2023-09-07T00:45:40.686719Z",
     "start_time": "2023-09-07T00:45:40.593363Z"
    }
   },
   "id": "2ef9ef546a6caa1"
  },
  {
   "cell_type": "code",
   "execution_count": 13,
   "outputs": [
    {
     "data": {
      "text/plain": "(3, 1, 2)"
     },
     "execution_count": 13,
     "metadata": {},
     "output_type": "execute_result"
    }
   ],
   "source": [
    "A.ndim, b.ndim, C.ndim"
   ],
   "metadata": {
    "collapsed": false,
    "ExecuteTime": {
     "end_time": "2023-09-07T00:45:40.688Z",
     "start_time": "2023-09-07T00:45:40.598101Z"
    }
   },
   "id": "813b033b7c644949"
  },
  {
   "cell_type": "markdown",
   "source": [
    "#### Getting information from tensors\n",
    "\n",
    "When dealing with tensors we want to be aware of the following attributes\n",
    "* Shape\n",
    "* Rank\n",
    "* Axis or Dimension\n",
    "* Size"
   ],
   "metadata": {
    "collapsed": false
   },
   "id": "e6d6bde5dfbe88fe"
  },
  {
   "cell_type": "code",
   "execution_count": 14,
   "outputs": [
    {
     "data": {
      "text/plain": "<tf.Tensor: shape=(2, 3, 4, 5), dtype=float32, numpy=\narray([[[[0., 0., 0., 0., 0.],\n         [0., 0., 0., 0., 0.],\n         [0., 0., 0., 0., 0.],\n         [0., 0., 0., 0., 0.]],\n\n        [[0., 0., 0., 0., 0.],\n         [0., 0., 0., 0., 0.],\n         [0., 0., 0., 0., 0.],\n         [0., 0., 0., 0., 0.]],\n\n        [[0., 0., 0., 0., 0.],\n         [0., 0., 0., 0., 0.],\n         [0., 0., 0., 0., 0.],\n         [0., 0., 0., 0., 0.]]],\n\n\n       [[[0., 0., 0., 0., 0.],\n         [0., 0., 0., 0., 0.],\n         [0., 0., 0., 0., 0.],\n         [0., 0., 0., 0., 0.]],\n\n        [[0., 0., 0., 0., 0.],\n         [0., 0., 0., 0., 0.],\n         [0., 0., 0., 0., 0.],\n         [0., 0., 0., 0., 0.]],\n\n        [[0., 0., 0., 0., 0.],\n         [0., 0., 0., 0., 0.],\n         [0., 0., 0., 0., 0.],\n         [0., 0., 0., 0., 0.]]]], dtype=float32)>"
     },
     "execution_count": 14,
     "metadata": {},
     "output_type": "execute_result"
    }
   ],
   "source": [
    "rank_4_tensors = tf.zeros(shape=[2, 3, 4, 5])\n",
    "rank_4_tensors"
   ],
   "metadata": {
    "collapsed": false,
    "ExecuteTime": {
     "end_time": "2023-09-07T00:45:40.688609Z",
     "start_time": "2023-09-07T00:45:40.608998Z"
    }
   },
   "id": "6273f3bb176f4112"
  },
  {
   "cell_type": "code",
   "execution_count": 15,
   "outputs": [
    {
     "data": {
      "text/plain": "<tf.Tensor: shape=(3, 4, 5), dtype=float32, numpy=\narray([[[0., 0., 0., 0., 0.],\n        [0., 0., 0., 0., 0.],\n        [0., 0., 0., 0., 0.],\n        [0., 0., 0., 0., 0.]],\n\n       [[0., 0., 0., 0., 0.],\n        [0., 0., 0., 0., 0.],\n        [0., 0., 0., 0., 0.],\n        [0., 0., 0., 0., 0.]],\n\n       [[0., 0., 0., 0., 0.],\n        [0., 0., 0., 0., 0.],\n        [0., 0., 0., 0., 0.],\n        [0., 0., 0., 0., 0.]]], dtype=float32)>"
     },
     "execution_count": 15,
     "metadata": {},
     "output_type": "execute_result"
    }
   ],
   "source": [
    "rank_4_tensors[1]"
   ],
   "metadata": {
    "collapsed": false,
    "ExecuteTime": {
     "end_time": "2023-09-07T00:45:40.689476Z",
     "start_time": "2023-09-07T00:45:40.627068Z"
    }
   },
   "id": "8bb186bdaa24c339"
  },
  {
   "cell_type": "code",
   "execution_count": 16,
   "outputs": [
    {
     "data": {
      "text/plain": "4"
     },
     "execution_count": 16,
     "metadata": {},
     "output_type": "execute_result"
    }
   ],
   "source": [
    "rank_4_tensors.ndim"
   ],
   "metadata": {
    "collapsed": false,
    "ExecuteTime": {
     "end_time": "2023-09-07T00:45:40.689702Z",
     "start_time": "2023-09-07T00:45:40.641585Z"
    }
   },
   "id": "cb3c48e0596b92f4"
  },
  {
   "cell_type": "code",
   "execution_count": 17,
   "outputs": [
    {
     "data": {
      "text/plain": "<tf.Tensor: shape=(), dtype=int32, numpy=120>"
     },
     "execution_count": 17,
     "metadata": {},
     "output_type": "execute_result"
    }
   ],
   "source": [
    "tf.size(rank_4_tensors)"
   ],
   "metadata": {
    "collapsed": false,
    "ExecuteTime": {
     "end_time": "2023-09-07T00:45:40.700887Z",
     "start_time": "2023-09-07T00:45:40.647588Z"
    }
   },
   "id": "541ed475bd33c59f"
  },
  {
   "cell_type": "code",
   "execution_count": 18,
   "outputs": [
    {
     "name": "stdout",
     "output_type": "stream",
     "text": [
      "Datatype of every element: <dtype: 'float32'>\n",
      "Number of dimensions (rank): 4\n",
      "Shape of tensor: (2, 3, 4, 5)\n",
      "Elements along the 0 axis: 2\n",
      "Elements along the last axis: 5\n",
      "Total number of elements in our tensor: tf.Tensor(120, shape=(), dtype=int32)\n",
      "Total number of elements in our tensor as a single element: 120\n"
     ]
    }
   ],
   "source": [
    "# Get various attributes of our tensor\n",
    "print(\"Datatype of every element:\", rank_4_tensors.dtype)\n",
    "print(\"Number of dimensions (rank):\", rank_4_tensors.ndim)\n",
    "print(\"Shape of tensor:\", rank_4_tensors.shape)\n",
    "print(\"Elements along the 0 axis:\", rank_4_tensors.shape[0])\n",
    "print(\"Elements along the last axis:\", rank_4_tensors.shape[-1])\n",
    "print(\"Total number of elements in our tensor:\", tf.size(rank_4_tensors))\n",
    "print(\"Total number of elements in our tensor as a single element:\", tf.size(rank_4_tensors).numpy())"
   ],
   "metadata": {
    "collapsed": false,
    "ExecuteTime": {
     "end_time": "2023-09-07T00:45:40.701602Z",
     "start_time": "2023-09-07T00:45:40.652743Z"
    }
   },
   "id": "e6ac5ec651444f64"
  },
  {
   "cell_type": "markdown",
   "source": [
    "### Indexing tensors\n",
    "Tensors can be indexed just like lists"
   ],
   "metadata": {
    "collapsed": false
   },
   "id": "c6549d9255b98e7a"
  },
  {
   "cell_type": "code",
   "execution_count": 19,
   "outputs": [
    {
     "data": {
      "text/plain": "<tf.Tensor: shape=(2, 2, 2, 2), dtype=float32, numpy=\narray([[[[0., 0.],\n         [0., 0.]],\n\n        [[0., 0.],\n         [0., 0.]]],\n\n\n       [[[0., 0.],\n         [0., 0.]],\n\n        [[0., 0.],\n         [0., 0.]]]], dtype=float32)>"
     },
     "execution_count": 19,
     "metadata": {},
     "output_type": "execute_result"
    }
   ],
   "source": [
    "rank_4_tensors[:2, :2, :2, :2]"
   ],
   "metadata": {
    "collapsed": false,
    "ExecuteTime": {
     "end_time": "2023-09-07T00:45:40.709395Z",
     "start_time": "2023-09-07T00:45:40.657516Z"
    }
   },
   "id": "4f9a001e73870aa8"
  },
  {
   "cell_type": "code",
   "execution_count": 20,
   "outputs": [
    {
     "data": {
      "text/plain": "<tf.Tensor: shape=(1, 1, 1, 5), dtype=float32, numpy=array([[[[0., 0., 0., 0., 0.]]]], dtype=float32)>"
     },
     "execution_count": 20,
     "metadata": {},
     "output_type": "execute_result"
    }
   ],
   "source": [
    "rank_4_tensors[:1, :1, :1, :]"
   ],
   "metadata": {
    "collapsed": false,
    "ExecuteTime": {
     "end_time": "2023-09-07T00:45:41.120042Z",
     "start_time": "2023-09-07T00:45:41.102885Z"
    }
   },
   "id": "8e6bb1957f7b1b2e"
  },
  {
   "cell_type": "code",
   "execution_count": 21,
   "outputs": [
    {
     "data": {
      "text/plain": "<tf.Tensor: shape=(2, 2), dtype=int32, numpy=\narray([[10,  7],\n       [ 3,  4]], dtype=int32)>"
     },
     "execution_count": 21,
     "metadata": {},
     "output_type": "execute_result"
    }
   ],
   "source": [
    "rank_2_tensor = tf.constant([[10, 7],\n",
    "                             [3, 4]])\n",
    "rank_2_tensor"
   ],
   "metadata": {
    "collapsed": false,
    "ExecuteTime": {
     "end_time": "2023-09-07T00:45:41.740963Z",
     "start_time": "2023-09-07T00:45:41.704361Z"
    }
   },
   "id": "794ed22535ba06eb"
  },
  {
   "cell_type": "code",
   "execution_count": 22,
   "outputs": [
    {
     "data": {
      "text/plain": "<tf.Tensor: shape=(2,), dtype=int32, numpy=array([7, 4], dtype=int32)>"
     },
     "execution_count": 22,
     "metadata": {},
     "output_type": "execute_result"
    }
   ],
   "source": [
    "rank_2_tensor[:, -1]"
   ],
   "metadata": {
    "collapsed": false,
    "ExecuteTime": {
     "end_time": "2023-09-07T00:45:42.152902Z",
     "start_time": "2023-09-07T00:45:42.110430Z"
    }
   },
   "id": "a5ef6d8cf37730f9"
  },
  {
   "cell_type": "code",
   "execution_count": 23,
   "outputs": [
    {
     "data": {
      "text/plain": "<tf.Tensor: shape=(2, 2, 1), dtype=int32, numpy=\narray([[[10],\n        [ 7]],\n\n       [[ 3],\n        [ 4]]], dtype=int32)>"
     },
     "execution_count": 23,
     "metadata": {},
     "output_type": "execute_result"
    }
   ],
   "source": [
    "rank_3_tensor = rank_2_tensor[..., tf.newaxis]  # `...` means every axis of the tensor like `:, :` in this case\n",
    "rank_3_tensor"
   ],
   "metadata": {
    "collapsed": false,
    "ExecuteTime": {
     "end_time": "2023-09-07T00:45:42.682185Z",
     "start_time": "2023-09-07T00:45:42.650720Z"
    }
   },
   "id": "b9d516679d79343c"
  },
  {
   "cell_type": "code",
   "execution_count": 24,
   "outputs": [
    {
     "data": {
      "text/plain": "<tf.Tensor: shape=(2, 2, 1), dtype=int32, numpy=\narray([[[10],\n        [ 7]],\n\n       [[ 3],\n        [ 4]]], dtype=int32)>"
     },
     "execution_count": 24,
     "metadata": {},
     "output_type": "execute_result"
    }
   ],
   "source": [
    "tf.expand_dims(rank_2_tensor, axis=-1)"
   ],
   "metadata": {
    "collapsed": false,
    "ExecuteTime": {
     "end_time": "2023-09-07T00:45:43.105713Z",
     "start_time": "2023-09-07T00:45:43.086018Z"
    }
   },
   "id": "8b8024472e2998e4"
  },
  {
   "cell_type": "code",
   "execution_count": 25,
   "outputs": [
    {
     "data": {
      "text/plain": "<tf.Tensor: shape=(1, 2, 2), dtype=int32, numpy=\narray([[[10,  7],\n        [ 3,  4]]], dtype=int32)>"
     },
     "execution_count": 25,
     "metadata": {},
     "output_type": "execute_result"
    }
   ],
   "source": [
    "tf.expand_dims(rank_2_tensor, axis=0)"
   ],
   "metadata": {
    "collapsed": false,
    "ExecuteTime": {
     "end_time": "2023-09-07T00:45:43.448529Z",
     "start_time": "2023-09-07T00:45:43.423769Z"
    }
   },
   "id": "b6ffddb9f1606218"
  },
  {
   "cell_type": "markdown",
   "source": [
    "### Manipulating Tensors (tensor operations)\n",
    "\n",
    "*** Basic Operations ***\n",
    "`+`, `-`, `*`, `/`"
   ],
   "metadata": {
    "collapsed": false
   },
   "id": "3ef0cac273a361ea"
  },
  {
   "cell_type": "markdown",
   "source": [],
   "metadata": {
    "collapsed": false
   },
   "id": "ead71dc77b8f6d99"
  },
  {
   "cell_type": "code",
   "execution_count": 26,
   "outputs": [
    {
     "data": {
      "text/plain": "<tf.Tensor: shape=(2, 2), dtype=int32, numpy=\narray([[10,  7],\n       [ 3,  4]], dtype=int32)>"
     },
     "execution_count": 26,
     "metadata": {},
     "output_type": "execute_result"
    }
   ],
   "source": [
    "tensor = tf.constant([[10, 7],\n",
    "                      [3, 4]])\n",
    "tensor"
   ],
   "metadata": {
    "collapsed": false,
    "ExecuteTime": {
     "end_time": "2023-09-07T00:45:44.995145Z",
     "start_time": "2023-09-07T00:45:44.980505Z"
    }
   },
   "id": "8d8198c21c8e3d85"
  },
  {
   "cell_type": "code",
   "execution_count": 27,
   "outputs": [
    {
     "data": {
      "text/plain": "<tf.Tensor: shape=(2, 2), dtype=int32, numpy=\narray([[20, 17],\n       [13, 14]], dtype=int32)>"
     },
     "execution_count": 27,
     "metadata": {},
     "output_type": "execute_result"
    }
   ],
   "source": [
    "# Addition\n",
    "tensor + 10"
   ],
   "metadata": {
    "collapsed": false,
    "ExecuteTime": {
     "end_time": "2023-09-07T00:45:45.365376Z",
     "start_time": "2023-09-07T00:45:45.354506Z"
    }
   },
   "id": "aef927dcf2200f05"
  },
  {
   "cell_type": "code",
   "execution_count": 28,
   "outputs": [
    {
     "data": {
      "text/plain": "<tf.Tensor: shape=(2, 2), dtype=int32, numpy=\narray([[100,  70],\n       [ 30,  40]], dtype=int32)>"
     },
     "execution_count": 28,
     "metadata": {},
     "output_type": "execute_result"
    }
   ],
   "source": [
    "# Multiplication\n",
    "tensor * 10"
   ],
   "metadata": {
    "collapsed": false,
    "ExecuteTime": {
     "end_time": "2023-09-07T00:45:45.683896Z",
     "start_time": "2023-09-07T00:45:45.676168Z"
    }
   },
   "id": "1e0154c6e05cdc3a"
  },
  {
   "cell_type": "code",
   "execution_count": 29,
   "outputs": [
    {
     "data": {
      "text/plain": "<tf.Tensor: shape=(2, 2), dtype=int32, numpy=\narray([[ 0, -3],\n       [-7, -6]], dtype=int32)>"
     },
     "execution_count": 29,
     "metadata": {},
     "output_type": "execute_result"
    }
   ],
   "source": [
    "# Subtraction\n",
    "tensor - 10"
   ],
   "metadata": {
    "collapsed": false,
    "ExecuteTime": {
     "end_time": "2023-09-07T00:45:46.016559Z",
     "start_time": "2023-09-07T00:45:46.003473Z"
    }
   },
   "id": "bd98d0464fc9a61e"
  },
  {
   "cell_type": "code",
   "execution_count": 30,
   "outputs": [
    {
     "data": {
      "text/plain": "<tf.Tensor: shape=(2, 2), dtype=int32, numpy=\narray([[100,  70],\n       [ 30,  40]], dtype=int32)>"
     },
     "execution_count": 30,
     "metadata": {},
     "output_type": "execute_result"
    }
   ],
   "source": [
    "# We can use the tf in-build functions too\n",
    "tf.multiply(tensor, 10)"
   ],
   "metadata": {
    "collapsed": false,
    "ExecuteTime": {
     "end_time": "2023-09-07T00:45:46.250233Z",
     "start_time": "2023-09-07T00:45:46.237966Z"
    }
   },
   "id": "cc0a050929fbb02a"
  },
  {
   "cell_type": "code",
   "execution_count": 31,
   "outputs": [
    {
     "data": {
      "text/plain": "<tf.Tensor: shape=(2, 2), dtype=float64, numpy=\narray([[1. , 0.7],\n       [0.3, 0.4]])>"
     },
     "execution_count": 31,
     "metadata": {},
     "output_type": "execute_result"
    }
   ],
   "source": [
    "# Division\n",
    "tf.divide(tensor, 10)"
   ],
   "metadata": {
    "collapsed": false,
    "ExecuteTime": {
     "end_time": "2023-09-07T00:45:46.501008Z",
     "start_time": "2023-09-07T00:45:46.485274Z"
    }
   },
   "id": "c782754e0d4d1179"
  },
  {
   "cell_type": "code",
   "execution_count": 32,
   "outputs": [
    {
     "data": {
      "text/plain": "<tf.Tensor: shape=(2, 2), dtype=int32, numpy=\narray([[10,  7],\n       [ 3,  4]], dtype=int32)>"
     },
     "execution_count": 32,
     "metadata": {},
     "output_type": "execute_result"
    }
   ],
   "source": [
    "tensor"
   ],
   "metadata": {
    "collapsed": false,
    "ExecuteTime": {
     "end_time": "2023-09-07T00:45:46.702087Z",
     "start_time": "2023-09-07T00:45:46.685686Z"
    }
   },
   "id": "27b379c9a082deab"
  },
  {
   "cell_type": "markdown",
   "source": [
    "### ***Matrix Multiplication***\n",
    "\n",
    "In ML the most common operation is Matrix Multiplication the `.` product"
   ],
   "metadata": {
    "collapsed": false
   },
   "id": "fadf07a9f662def9"
  },
  {
   "cell_type": "code",
   "execution_count": 33,
   "outputs": [
    {
     "data": {
      "text/plain": "<tf.Tensor: shape=(2, 2), dtype=int32, numpy=\narray([[10,  7],\n       [ 3,  4]], dtype=int32)>"
     },
     "execution_count": 33,
     "metadata": {},
     "output_type": "execute_result"
    }
   ],
   "source": [
    "tensor_1 = tf.constant([[10, 7],\n",
    "                        [3, 4]])\n",
    "tensor_1"
   ],
   "metadata": {
    "collapsed": false,
    "ExecuteTime": {
     "end_time": "2023-09-07T00:45:47.169552Z",
     "start_time": "2023-09-07T00:45:47.144677Z"
    }
   },
   "id": "354bd5cf612c5fb0"
  },
  {
   "cell_type": "code",
   "execution_count": 34,
   "outputs": [
    {
     "data": {
      "text/plain": "<tf.Tensor: shape=(2, 2), dtype=int32, numpy=\narray([[ 3,  4],\n       [10,  7]], dtype=int32)>"
     },
     "execution_count": 34,
     "metadata": {},
     "output_type": "execute_result"
    }
   ],
   "source": [
    "tf.random.set_seed(42)\n",
    "tensor_2 = tf.random.shuffle(tensor_1)\n",
    "tensor_2"
   ],
   "metadata": {
    "collapsed": false,
    "ExecuteTime": {
     "end_time": "2023-09-07T00:45:47.301016Z",
     "start_time": "2023-09-07T00:45:47.295358Z"
    }
   },
   "id": "99376a04a189e82f"
  },
  {
   "cell_type": "code",
   "execution_count": 35,
   "outputs": [
    {
     "data": {
      "text/plain": "(<tf.Tensor: shape=(2, 2), dtype=int32, numpy=\n array([[10,  7],\n        [ 3,  4]], dtype=int32)>,\n <tf.Tensor: shape=(2, 2), dtype=int32, numpy=\n array([[ 3,  4],\n        [10,  7]], dtype=int32)>,\n <tf.Tensor: shape=(2, 2), dtype=int32, numpy=\n array([[30, 28],\n        [30, 28]], dtype=int32)>)"
     },
     "execution_count": 35,
     "metadata": {},
     "output_type": "execute_result"
    }
   ],
   "source": [
    "tensor_1, tensor_2, tensor_1 * tensor_2"
   ],
   "metadata": {
    "collapsed": false,
    "ExecuteTime": {
     "end_time": "2023-09-07T00:45:47.790584Z",
     "start_time": "2023-09-07T00:45:47.776266Z"
    }
   },
   "id": "61173570ea675993"
  },
  {
   "cell_type": "code",
   "execution_count": 36,
   "outputs": [
    {
     "data": {
      "text/plain": "(<tf.Tensor: shape=(3, 3), dtype=int32, numpy=\n array([[1, 2, 5],\n        [7, 2, 1],\n        [3, 3, 3]], dtype=int32)>,\n <tf.Tensor: shape=(3, 2), dtype=int32, numpy=\n array([[3, 5],\n        [6, 7],\n        [1, 8]], dtype=int32)>)"
     },
     "execution_count": 36,
     "metadata": {},
     "output_type": "execute_result"
    }
   ],
   "source": [
    "tensor_1 = tf.constant([[1, 2, 5], [7, 2, 1], [3, 3, 3]])\n",
    "tensor_2 = tf.constant([[3, 5], [6, 7], [1, 8]])\n",
    "tensor_1, tensor_2"
   ],
   "metadata": {
    "collapsed": false,
    "ExecuteTime": {
     "end_time": "2023-09-07T00:45:48.157761Z",
     "start_time": "2023-09-07T00:45:48.131965Z"
    }
   },
   "id": "95a3c5bb6e795597"
  },
  {
   "cell_type": "code",
   "execution_count": 37,
   "outputs": [
    {
     "data": {
      "text/plain": "<tf.Tensor: shape=(3, 2), dtype=int32, numpy=\narray([[20, 59],\n       [34, 57],\n       [30, 60]], dtype=int32)>"
     },
     "execution_count": 37,
     "metadata": {},
     "output_type": "execute_result"
    }
   ],
   "source": [
    "tensor_1 @ tensor_2"
   ],
   "metadata": {
    "collapsed": false,
    "ExecuteTime": {
     "end_time": "2023-09-07T00:45:48.369865Z",
     "start_time": "2023-09-07T00:45:48.361206Z"
    }
   },
   "id": "812cd512ccc5a6b5"
  },
  {
   "cell_type": "code",
   "execution_count": 38,
   "outputs": [
    {
     "data": {
      "text/plain": "<tf.Tensor: shape=(3, 2), dtype=int32, numpy=\narray([[20, 59],\n       [34, 57],\n       [30, 60]], dtype=int32)>"
     },
     "execution_count": 38,
     "metadata": {},
     "output_type": "execute_result"
    }
   ],
   "source": [
    "tf.matmul(tensor_1, tensor_2)"
   ],
   "metadata": {
    "collapsed": false,
    "ExecuteTime": {
     "end_time": "2023-09-07T00:45:48.603366Z",
     "start_time": "2023-09-07T00:45:48.597955Z"
    }
   },
   "id": "6c13eb5a4a1ae1fa"
  },
  {
   "cell_type": "markdown",
   "source": [
    "### Changing the datatype of a tensor"
   ],
   "metadata": {
    "collapsed": false
   },
   "id": "4cedd0bda7e37114"
  },
  {
   "cell_type": "code",
   "execution_count": 46,
   "outputs": [
    {
     "data": {
      "text/plain": "(<tf.Tensor: shape=(2,), dtype=float32, numpy=array([1.7, 7.4], dtype=float32)>,\n tf.float32)"
     },
     "execution_count": 46,
     "metadata": {},
     "output_type": "execute_result"
    }
   ],
   "source": [
    "# Create a new tensor with default DataType (float32)\n",
    "B = tf.constant([1.7, 7.4])\n",
    "B, B.dtype"
   ],
   "metadata": {
    "collapsed": false,
    "ExecuteTime": {
     "end_time": "2023-09-07T00:53:40.757448Z",
     "start_time": "2023-09-07T00:53:40.732807Z"
    }
   },
   "id": "784af42233018f5f"
  },
  {
   "cell_type": "code",
   "execution_count": 47,
   "outputs": [
    {
     "data": {
      "text/plain": "(<tf.Tensor: shape=(2,), dtype=int32, numpy=array([ 7, 10], dtype=int32)>,\n tf.int32)"
     },
     "execution_count": 47,
     "metadata": {},
     "output_type": "execute_result"
    }
   ],
   "source": [
    "C = tf.constant([7, 10])\n",
    "C, C.dtype"
   ],
   "metadata": {
    "collapsed": false,
    "ExecuteTime": {
     "end_time": "2023-09-07T00:53:41.528774Z",
     "start_time": "2023-09-07T00:53:41.515544Z"
    }
   },
   "id": "714726f671a72e8f"
  },
  {
   "cell_type": "markdown",
   "source": [
    "#### Reduced Precision"
   ],
   "metadata": {
    "collapsed": false
   },
   "id": "634a87e09c432897"
  },
  {
   "cell_type": "code",
   "execution_count": 48,
   "outputs": [
    {
     "data": {
      "text/plain": "(<tf.Tensor: shape=(2,), dtype=float16, numpy=array([1.7, 7.4], dtype=float16)>,\n tf.float16)"
     },
     "execution_count": 48,
     "metadata": {},
     "output_type": "execute_result"
    }
   ],
   "source": [
    "B_reduced = tf.cast(B, dtype=tf.float16)\n",
    "B_reduced, B_reduced.dtype"
   ],
   "metadata": {
    "collapsed": false,
    "ExecuteTime": {
     "end_time": "2023-09-07T00:53:44.437014Z",
     "start_time": "2023-09-07T00:53:44.100408Z"
    }
   },
   "id": "8adc24bb5ab3b57b"
  },
  {
   "cell_type": "code",
   "execution_count": 51,
   "outputs": [
    {
     "data": {
      "text/plain": "(<tf.Tensor: shape=(2,), dtype=int16, numpy=array([ 7, 10], dtype=int16)>,\n tf.int16)"
     },
     "execution_count": 51,
     "metadata": {},
     "output_type": "execute_result"
    }
   ],
   "source": [
    "C_reduced = tf.cast(C, tf.int16)\n",
    "C_reduced, C_reduced.dtype"
   ],
   "metadata": {
    "collapsed": false,
    "ExecuteTime": {
     "end_time": "2023-09-07T00:54:55.440570Z",
     "start_time": "2023-09-07T00:54:55.411554Z"
    }
   },
   "id": "db08e24bafcb0432"
  },
  {
   "cell_type": "markdown",
   "source": [
    "### Aggregating Tensors\n",
    "\n",
    "Aggregating tensors = Condensing tensors from multiple values down to smaller amount of values\n",
    "```\n",
    "Basically Stats\n",
    "```"
   ],
   "metadata": {
    "collapsed": false
   },
   "id": "cf53b1f8a7f2611f"
  },
  {
   "cell_type": "code",
   "execution_count": 53,
   "outputs": [
    {
     "data": {
      "text/plain": "(<tf.Tensor: shape=(2,), dtype=int32, numpy=array([ -7, -10], dtype=int32)>,\n <tf.Tensor: shape=(2,), dtype=int32, numpy=array([ 7, 10], dtype=int32)>)"
     },
     "execution_count": 53,
     "metadata": {},
     "output_type": "execute_result"
    }
   ],
   "source": [
    "# Get the absolute values\n",
    "D = tf.constant([-7, -10])\n",
    "D, tf.abs(D)"
   ],
   "metadata": {
    "collapsed": false,
    "ExecuteTime": {
     "end_time": "2023-09-07T01:00:06.126072Z",
     "start_time": "2023-09-07T01:00:06.072975Z"
    }
   },
   "id": "9c8ee3b9b7f1ae51"
  },
  {
   "cell_type": "markdown",
   "source": [
    "Let's go through the following forms of aggregation:\n",
    "* Minimum\n",
    "* Maximum\n",
    "* Mean\n",
    "* Sum"
   ],
   "metadata": {
    "collapsed": false
   },
   "id": "df4a08b5ba8b1f51"
  },
  {
   "cell_type": "code",
   "execution_count": 58,
   "outputs": [
    {
     "data": {
      "text/plain": "<tf.Tensor: shape=(50,), dtype=int64, numpy=\narray([34, 68,  2, 24, 70, 91, 71, 33,  4, 67, 96, 68, 40, 48, 79, 31, 50,\n       27, 85, 95,  0, 11, 61, 62, 16, 56, 18, 58, 86,  2, 26, 14, 87, 85,\n       64,  5, 91, 25, 30, 93, 60, 24, 96, 23, 76, 39, 13, 24,  8, 67])>"
     },
     "execution_count": 58,
     "metadata": {},
     "output_type": "execute_result"
    }
   ],
   "source": [
    "random_tensor = tf.random.uniform([50], maxval=100, dtype=tf.int64)\n",
    "random_tensor"
   ],
   "metadata": {
    "collapsed": false,
    "ExecuteTime": {
     "end_time": "2023-09-07T01:04:01.269482Z",
     "start_time": "2023-09-07T01:04:01.258910Z"
    }
   },
   "id": "3a1adc05485416ee"
  },
  {
   "cell_type": "code",
   "execution_count": 60,
   "outputs": [
    {
     "data": {
      "text/plain": "(<tf.Tensor: shape=(), dtype=int32, numpy=50>, TensorShape([50]), 1)"
     },
     "execution_count": 60,
     "metadata": {},
     "output_type": "execute_result"
    }
   ],
   "source": [
    "tf.size(random_tensor), random_tensor.shape, random_tensor.ndim"
   ],
   "metadata": {
    "collapsed": false,
    "ExecuteTime": {
     "end_time": "2023-09-07T01:05:11.833352Z",
     "start_time": "2023-09-07T01:05:11.806496Z"
    }
   },
   "id": "a0d53819cd981f3d"
  },
  {
   "cell_type": "code",
   "execution_count": 61,
   "outputs": [
    {
     "data": {
      "text/plain": "<tf.Tensor: shape=(), dtype=int64, numpy=0>"
     },
     "execution_count": 61,
     "metadata": {},
     "output_type": "execute_result"
    }
   ],
   "source": [
    "tf.reduce_min(random_tensor)"
   ],
   "metadata": {
    "collapsed": false,
    "ExecuteTime": {
     "end_time": "2023-09-07T01:05:36.466827Z",
     "start_time": "2023-09-07T01:05:36.358553Z"
    }
   },
   "id": "2aae0aca8bf33d65"
  },
  {
   "cell_type": "code",
   "execution_count": 64,
   "outputs": [
    {
     "data": {
      "text/plain": "<tf.Tensor: shape=(), dtype=int64, numpy=96>"
     },
     "execution_count": 64,
     "metadata": {},
     "output_type": "execute_result"
    }
   ],
   "source": [
    "tf.reduce_max(random_tensor)"
   ],
   "metadata": {
    "collapsed": false,
    "ExecuteTime": {
     "end_time": "2023-09-07T01:06:06.902358Z",
     "start_time": "2023-09-07T01:06:06.886167Z"
    }
   },
   "id": "4edb6de8c6e7fa4e"
  },
  {
   "cell_type": "code",
   "execution_count": 63,
   "outputs": [
    {
     "data": {
      "text/plain": "<tf.Tensor: shape=(), dtype=int64, numpy=48>"
     },
     "execution_count": 63,
     "metadata": {},
     "output_type": "execute_result"
    }
   ],
   "source": [
    "tf.reduce_mean(random_tensor)"
   ],
   "metadata": {
    "collapsed": false,
    "ExecuteTime": {
     "end_time": "2023-09-07T01:06:04.257395Z",
     "start_time": "2023-09-07T01:06:04.221327Z"
    }
   },
   "id": "de5208d514f9fbf9"
  },
  {
   "cell_type": "code",
   "execution_count": 65,
   "outputs": [
    {
     "data": {
      "text/plain": "<tf.Tensor: shape=(), dtype=int64, numpy=2403>"
     },
     "execution_count": 65,
     "metadata": {},
     "output_type": "execute_result"
    }
   ],
   "source": [
    "tf.reduce_sum(random_tensor)"
   ],
   "metadata": {
    "collapsed": false,
    "ExecuteTime": {
     "end_time": "2023-09-07T01:06:40.838223Z",
     "start_time": "2023-09-07T01:06:40.798081Z"
    }
   },
   "id": "33a19cc90c9f629a"
  },
  {
   "cell_type": "markdown",
   "source": [
    "***Challenge:*** Find the variance and std. deviation of the above tensor"
   ],
   "metadata": {
    "collapsed": false
   },
   "id": "f712e24cdd99e68e"
  },
  {
   "cell_type": "code",
   "execution_count": 68,
   "outputs": [],
   "source": [
    "random_tensor_float_32 = tf.cast(random_tensor, dtype=tf.float32)"
   ],
   "metadata": {
    "collapsed": false,
    "ExecuteTime": {
     "end_time": "2023-09-07T01:21:14.723545Z",
     "start_time": "2023-09-07T01:21:14.279021Z"
    }
   },
   "id": "802c843756e428b8"
  },
  {
   "cell_type": "code",
   "execution_count": 69,
   "outputs": [
    {
     "data": {
      "text/plain": "<tf.Tensor: shape=(), dtype=float32, numpy=920.7364>"
     },
     "execution_count": 69,
     "metadata": {},
     "output_type": "execute_result"
    }
   ],
   "source": [
    "tf.math.reduce_variance(random_tensor_float_32)"
   ],
   "metadata": {
    "collapsed": false,
    "ExecuteTime": {
     "end_time": "2023-09-07T01:21:34.319490Z",
     "start_time": "2023-09-07T01:21:34.085472Z"
    }
   },
   "id": "de1186bba75ad0fd"
  },
  {
   "cell_type": "code",
   "execution_count": 70,
   "outputs": [
    {
     "data": {
      "text/plain": "<tf.Tensor: shape=(), dtype=float32, numpy=30.343637>"
     },
     "execution_count": 70,
     "metadata": {},
     "output_type": "execute_result"
    }
   ],
   "source": [
    "tf.math.reduce_std(random_tensor_float_32)"
   ],
   "metadata": {
    "collapsed": false,
    "ExecuteTime": {
     "end_time": "2023-09-07T01:21:44.329699Z",
     "start_time": "2023-09-07T01:21:44.251373Z"
    }
   },
   "id": "5bee4d9ebc90ddf9"
  },
  {
   "cell_type": "markdown",
   "source": [
    "### Find the positional maximum and minimum of a tensor\n",
    "\n",
    "Useful when the neural network outputs the prediction probabilities"
   ],
   "metadata": {
    "collapsed": false
   },
   "id": "2394165680886427"
  },
  {
   "cell_type": "code",
   "execution_count": 90,
   "outputs": [
    {
     "data": {
      "text/plain": "<tf.Tensor: shape=(50,), dtype=float32, numpy=\narray([0.6645621 , 0.44100678, 0.3528825 , 0.46448255, 0.03366041,\n       0.68467236, 0.74011743, 0.8724445 , 0.22632635, 0.22319686,\n       0.3103881 , 0.7223358 , 0.13318717, 0.5480639 , 0.5746088 ,\n       0.8996835 , 0.00946367, 0.5212307 , 0.6345445 , 0.1993283 ,\n       0.72942245, 0.54583454, 0.10756552, 0.6767061 , 0.6602763 ,\n       0.33695042, 0.60141766, 0.21062577, 0.8527372 , 0.44062173,\n       0.9485276 , 0.23752594, 0.81179297, 0.5263394 , 0.494308  ,\n       0.21612847, 0.8457197 , 0.8718841 , 0.3083862 , 0.6868038 ,\n       0.23764038, 0.7817228 , 0.9671384 , 0.06870162, 0.79873943,\n       0.66028714, 0.5871513 , 0.16461694, 0.7381023 , 0.32054043],\n      dtype=float32)>"
     },
     "execution_count": 90,
     "metadata": {},
     "output_type": "execute_result"
    }
   ],
   "source": [
    "tf.random.set_seed(42)\n",
    "randon_tensor_for_pos_max = tf.random.uniform([50])\n",
    "randon_tensor_for_pos_max"
   ],
   "metadata": {
    "collapsed": false,
    "ExecuteTime": {
     "end_time": "2023-09-07T01:33:50.725667Z",
     "start_time": "2023-09-07T01:33:50.715757Z"
    }
   },
   "id": "32d996e02cb4df1a"
  },
  {
   "cell_type": "code",
   "execution_count": 91,
   "outputs": [
    {
     "data": {
      "text/plain": "TopKV2(values=<tf.Tensor: shape=(1,), dtype=float32, numpy=array([0.9671384], dtype=float32)>, indices=<tf.Tensor: shape=(1,), dtype=int32, numpy=array([42], dtype=int32)>)"
     },
     "execution_count": 91,
     "metadata": {},
     "output_type": "execute_result"
    }
   ],
   "source": [
    "tf.math.top_k(randon_tensor_for_pos_max, 1)"
   ],
   "metadata": {
    "collapsed": false,
    "ExecuteTime": {
     "end_time": "2023-09-07T01:33:51.643493Z",
     "start_time": "2023-09-07T01:33:51.621302Z"
    }
   },
   "id": "43cd15301df8ac2a"
  },
  {
   "cell_type": "code",
   "execution_count": 92,
   "outputs": [
    {
     "data": {
      "text/plain": "<tf.Tensor: shape=(), dtype=int64, numpy=42>"
     },
     "execution_count": 92,
     "metadata": {},
     "output_type": "execute_result"
    }
   ],
   "source": [
    "# For maximum\n",
    "tf.argmax(randon_tensor_for_pos_max)"
   ],
   "metadata": {
    "collapsed": false,
    "ExecuteTime": {
     "end_time": "2023-09-07T01:33:52.290841Z",
     "start_time": "2023-09-07T01:33:52.273156Z"
    }
   },
   "id": "48edb922a1305394"
  },
  {
   "cell_type": "code",
   "execution_count": 93,
   "outputs": [
    {
     "data": {
      "text/plain": "<tf.Tensor: shape=(), dtype=float32, numpy=0.9671384>"
     },
     "execution_count": 93,
     "metadata": {},
     "output_type": "execute_result"
    }
   ],
   "source": [
    "randon_tensor_for_pos_max[tf.argmax(randon_tensor_for_pos_max)]"
   ],
   "metadata": {
    "collapsed": false,
    "ExecuteTime": {
     "end_time": "2023-09-07T01:33:53.352583Z",
     "start_time": "2023-09-07T01:33:53.267144Z"
    }
   },
   "id": "1340597354d703f9"
  },
  {
   "cell_type": "code",
   "execution_count": 94,
   "outputs": [
    {
     "data": {
      "text/plain": "<tf.Tensor: shape=(), dtype=bool, numpy=True>"
     },
     "execution_count": 94,
     "metadata": {},
     "output_type": "execute_result"
    }
   ],
   "source": [
    "randon_tensor_for_pos_max[tf.argmax(randon_tensor_for_pos_max)] == tf.reduce_max(randon_tensor_for_pos_max)"
   ],
   "metadata": {
    "collapsed": false,
    "ExecuteTime": {
     "end_time": "2023-09-07T01:33:53.863248Z",
     "start_time": "2023-09-07T01:33:53.827596Z"
    }
   },
   "id": "bff5975c72d5b20a"
  },
  {
   "cell_type": "code",
   "execution_count": 95,
   "outputs": [
    {
     "data": {
      "text/plain": "<tf.Tensor: shape=(), dtype=int64, numpy=16>"
     },
     "execution_count": 95,
     "metadata": {},
     "output_type": "execute_result"
    }
   ],
   "source": [
    "# For minimum\n",
    "tf.argmin(randon_tensor_for_pos_max)"
   ],
   "metadata": {
    "collapsed": false,
    "ExecuteTime": {
     "end_time": "2023-09-07T01:33:55.354561Z",
     "start_time": "2023-09-07T01:33:55.337511Z"
    }
   },
   "id": "71c31a930dd41b6d"
  },
  {
   "cell_type": "code",
   "execution_count": 96,
   "outputs": [
    {
     "data": {
      "text/plain": "<tf.Tensor: shape=(), dtype=float32, numpy=0.009463668>"
     },
     "execution_count": 96,
     "metadata": {},
     "output_type": "execute_result"
    }
   ],
   "source": [
    "randon_tensor_for_pos_max[tf.argmin(randon_tensor_for_pos_max)]"
   ],
   "metadata": {
    "collapsed": false,
    "ExecuteTime": {
     "end_time": "2023-09-07T01:33:55.695389Z",
     "start_time": "2023-09-07T01:33:55.642861Z"
    }
   },
   "id": "20a31b7fb35a473f"
  },
  {
   "cell_type": "markdown",
   "source": [
    "### Squeezing a tensor (removing all single dimensions)"
   ],
   "metadata": {
    "collapsed": false
   },
   "id": "7f03fb3a9ac49781"
  },
  {
   "cell_type": "code",
   "execution_count": 104,
   "outputs": [
    {
     "data": {
      "text/plain": "<tf.Tensor: shape=(1, 1, 1, 50, 1), dtype=float32, numpy=\narray([[[[[0.6645621 ],\n          [0.44100678],\n          [0.3528825 ],\n          [0.46448255],\n          [0.03366041],\n          [0.68467236],\n          [0.74011743],\n          [0.8724445 ],\n          [0.22632635],\n          [0.22319686],\n          [0.3103881 ],\n          [0.7223358 ],\n          [0.13318717],\n          [0.5480639 ],\n          [0.5746088 ],\n          [0.8996835 ],\n          [0.00946367],\n          [0.5212307 ],\n          [0.6345445 ],\n          [0.1993283 ],\n          [0.72942245],\n          [0.54583454],\n          [0.10756552],\n          [0.6767061 ],\n          [0.6602763 ],\n          [0.33695042],\n          [0.60141766],\n          [0.21062577],\n          [0.8527372 ],\n          [0.44062173],\n          [0.9485276 ],\n          [0.23752594],\n          [0.81179297],\n          [0.5263394 ],\n          [0.494308  ],\n          [0.21612847],\n          [0.8457197 ],\n          [0.8718841 ],\n          [0.3083862 ],\n          [0.6868038 ],\n          [0.23764038],\n          [0.7817228 ],\n          [0.9671384 ],\n          [0.06870162],\n          [0.79873943],\n          [0.66028714],\n          [0.5871513 ],\n          [0.16461694],\n          [0.7381023 ],\n          [0.32054043]]]]], dtype=float32)>"
     },
     "execution_count": 104,
     "metadata": {},
     "output_type": "execute_result"
    }
   ],
   "source": [
    "tf.random.set_seed(42)\n",
    "tensor_to_squeeze = tf.constant(tf.random.uniform(shape=[50]), shape=[1, 1, 1, 50, 1])\n",
    "tensor_to_squeeze"
   ],
   "metadata": {
    "collapsed": false,
    "ExecuteTime": {
     "end_time": "2023-09-07T04:23:49.219918Z",
     "start_time": "2023-09-07T04:23:49.194933Z"
    }
   },
   "id": "3cc1f6e329f1968"
  },
  {
   "cell_type": "code",
   "execution_count": 105,
   "outputs": [
    {
     "data": {
      "text/plain": "TensorShape([1, 1, 1, 50, 1])"
     },
     "execution_count": 105,
     "metadata": {},
     "output_type": "execute_result"
    }
   ],
   "source": [
    "tensor_to_squeeze.shape"
   ],
   "metadata": {
    "collapsed": false,
    "ExecuteTime": {
     "end_time": "2023-09-07T04:23:50.917122Z",
     "start_time": "2023-09-07T04:23:50.903421Z"
    }
   },
   "id": "b996f4ef7dea5a92"
  },
  {
   "cell_type": "code",
   "execution_count": 106,
   "outputs": [
    {
     "data": {
      "text/plain": "(<tf.Tensor: shape=(50,), dtype=float32, numpy=\n array([0.6645621 , 0.44100678, 0.3528825 , 0.46448255, 0.03366041,\n        0.68467236, 0.74011743, 0.8724445 , 0.22632635, 0.22319686,\n        0.3103881 , 0.7223358 , 0.13318717, 0.5480639 , 0.5746088 ,\n        0.8996835 , 0.00946367, 0.5212307 , 0.6345445 , 0.1993283 ,\n        0.72942245, 0.54583454, 0.10756552, 0.6767061 , 0.6602763 ,\n        0.33695042, 0.60141766, 0.21062577, 0.8527372 , 0.44062173,\n        0.9485276 , 0.23752594, 0.81179297, 0.5263394 , 0.494308  ,\n        0.21612847, 0.8457197 , 0.8718841 , 0.3083862 , 0.6868038 ,\n        0.23764038, 0.7817228 , 0.9671384 , 0.06870162, 0.79873943,\n        0.66028714, 0.5871513 , 0.16461694, 0.7381023 , 0.32054043],\n       dtype=float32)>,\n TensorShape([50]))"
     },
     "execution_count": 106,
     "metadata": {},
     "output_type": "execute_result"
    }
   ],
   "source": [
    "squeezed_tensor = tf.squeeze(tensor_to_squeeze)\n",
    "squeezed_tensor, squeezed_tensor.shape"
   ],
   "metadata": {
    "collapsed": false,
    "ExecuteTime": {
     "end_time": "2023-09-07T04:23:52.798034Z",
     "start_time": "2023-09-07T04:23:52.768933Z"
    }
   },
   "id": "cf3800f60aeeae27"
  },
  {
   "cell_type": "markdown",
   "source": [
    "### One-Hot encoding"
   ],
   "metadata": {
    "collapsed": false
   },
   "id": "a905e597e56241f0"
  },
  {
   "cell_type": "code",
   "execution_count": 110,
   "outputs": [
    {
     "data": {
      "text/plain": "<tf.Tensor: shape=(4, 4), dtype=float32, numpy=\narray([[1., 0., 0., 0.],\n       [0., 1., 0., 0.],\n       [0., 0., 1., 0.],\n       [0., 0., 0., 1.]], dtype=float32)>"
     },
     "execution_count": 110,
     "metadata": {},
     "output_type": "execute_result"
    }
   ],
   "source": [
    "# Create a list of indices\n",
    "some_list = [0, 1, 2, 3] # i.e., read, green, blue and purple.\n",
    "\n",
    "# One-Hot encoding out list:\n",
    "tf.one_hot(some_list, depth=len(some_list))"
   ],
   "metadata": {
    "collapsed": false,
    "ExecuteTime": {
     "end_time": "2023-09-07T04:28:55.121203Z",
     "start_time": "2023-09-07T04:28:55.087903Z"
    }
   },
   "id": "e9791ef06cc58d2f"
  },
  {
   "cell_type": "code",
   "execution_count": 113,
   "outputs": [
    {
     "data": {
      "text/plain": "<tf.Tensor: shape=(4, 2), dtype=float32, numpy=\narray([[1., 0.],\n       [0., 1.],\n       [0., 0.],\n       [0., 0.]], dtype=float32)>"
     },
     "execution_count": 113,
     "metadata": {},
     "output_type": "execute_result"
    }
   ],
   "source": [
    "tf.one_hot(some_list, depth=2)"
   ],
   "metadata": {
    "collapsed": false,
    "ExecuteTime": {
     "end_time": "2023-09-07T04:31:15.357671Z",
     "start_time": "2023-09-07T04:31:15.341830Z"
    }
   },
   "id": "68be961a6f29ffe5"
  },
  {
   "cell_type": "code",
   "execution_count": 111,
   "outputs": [
    {
     "data": {
      "text/plain": "<tf.Tensor: shape=(4, 4), dtype=string, numpy=\narray([[b'Hai', b'Hola', b'Hola', b'Hola'],\n       [b'Hola', b'Hai', b'Hola', b'Hola'],\n       [b'Hola', b'Hola', b'Hai', b'Hola'],\n       [b'Hola', b'Hola', b'Hola', b'Hai']], dtype=object)>"
     },
     "execution_count": 111,
     "metadata": {},
     "output_type": "execute_result"
    }
   ],
   "source": [
    "# On and Off custom values for One-Hot encoding\n",
    "tf.one_hot(some_list, depth=4, on_value=\"Hai\", off_value=\"Hola\")"
   ],
   "metadata": {
    "collapsed": false,
    "ExecuteTime": {
     "end_time": "2023-09-07T04:30:06.057801Z",
     "start_time": "2023-09-07T04:30:06.014132Z"
    }
   },
   "id": "bcc59f3db32707ee"
  },
  {
   "cell_type": "code",
   "execution_count": 112,
   "outputs": [
    {
     "data": {
      "text/plain": "<tf.Tensor: shape=(4, 4), dtype=int32, numpy=\narray([[1024,    0,    0,    0],\n       [   0, 1024,    0,    0],\n       [   0,    0, 1024,    0],\n       [   0,    0,    0, 1024]], dtype=int32)>"
     },
     "execution_count": 112,
     "metadata": {},
     "output_type": "execute_result"
    }
   ],
   "source": [
    "tf.one_hot(some_list, depth=4, on_value=1024, off_value=0)"
   ],
   "metadata": {
    "collapsed": false,
    "ExecuteTime": {
     "end_time": "2023-09-07T04:30:50.686364Z",
     "start_time": "2023-09-07T04:30:50.644408Z"
    }
   },
   "id": "34e72abf485e33fb"
  },
  {
   "cell_type": "markdown",
   "source": [
    "### Some Math functions\n",
    "* Squaring\n",
    "* Log\n",
    "* Square Root"
   ],
   "metadata": {
    "collapsed": false
   },
   "id": "73159b402e453eae"
  },
  {
   "cell_type": "code",
   "execution_count": 115,
   "outputs": [
    {
     "data": {
      "text/plain": "<tf.Tensor: shape=(9,), dtype=int32, numpy=array([1, 2, 3, 4, 5, 6, 7, 8, 9], dtype=int32)>"
     },
     "execution_count": 115,
     "metadata": {},
     "output_type": "execute_result"
    }
   ],
   "source": [
    "H = tf.range(1, 10)\n",
    "H"
   ],
   "metadata": {
    "collapsed": false,
    "ExecuteTime": {
     "end_time": "2023-09-07T04:32:34.240048Z",
     "start_time": "2023-09-07T04:32:34.219650Z"
    }
   },
   "id": "e54f7a34f269613b"
  },
  {
   "cell_type": "code",
   "execution_count": 116,
   "outputs": [
    {
     "data": {
      "text/plain": "<tf.Tensor: shape=(9,), dtype=int32, numpy=array([ 1,  4,  9, 16, 25, 36, 49, 64, 81], dtype=int32)>"
     },
     "execution_count": 116,
     "metadata": {},
     "output_type": "execute_result"
    }
   ],
   "source": [
    "tf.square(H)"
   ],
   "metadata": {
    "collapsed": false,
    "ExecuteTime": {
     "end_time": "2023-09-07T04:32:55.398572Z",
     "start_time": "2023-09-07T04:32:55.270688Z"
    }
   },
   "id": "18e73311cee4d453"
  },
  {
   "cell_type": "code",
   "execution_count": 118,
   "outputs": [],
   "source": [
    "H_float = tf.cast(H, dtype=tf.float32)"
   ],
   "metadata": {
    "collapsed": false,
    "ExecuteTime": {
     "end_time": "2023-09-07T04:33:38.964917Z",
     "start_time": "2023-09-07T04:33:38.566240Z"
    }
   },
   "id": "f3e0f8edda933bf8"
  },
  {
   "cell_type": "code",
   "execution_count": 122,
   "outputs": [
    {
     "data": {
      "text/plain": "<tf.Tensor: shape=(9,), dtype=float32, numpy=\narray([0.       , 0.6931472, 1.0986123, 1.3862944, 1.609438 , 1.7917595,\n       1.9459102, 2.0794415, 2.1972246], dtype=float32)>"
     },
     "execution_count": 122,
     "metadata": {},
     "output_type": "execute_result"
    }
   ],
   "source": [
    "tf.math.log(H_float)"
   ],
   "metadata": {
    "collapsed": false,
    "ExecuteTime": {
     "end_time": "2023-09-07T04:34:30.622550Z",
     "start_time": "2023-09-07T04:34:30.576608Z"
    }
   },
   "id": "3abbcb22abcc9b42"
  },
  {
   "cell_type": "code",
   "execution_count": 125,
   "outputs": [
    {
     "data": {
      "text/plain": "<tf.Tensor: shape=(9,), dtype=float32, numpy=\narray([1.       , 1.4142135, 1.7320508, 2.       , 2.236068 , 2.4494898,\n       2.6457512, 2.828427 , 3.       ], dtype=float32)>"
     },
     "execution_count": 125,
     "metadata": {},
     "output_type": "execute_result"
    }
   ],
   "source": [
    "tf.sqrt(H_float)"
   ],
   "metadata": {
    "collapsed": false,
    "ExecuteTime": {
     "end_time": "2023-09-07T04:34:48.253706Z",
     "start_time": "2023-09-07T04:34:48.229244Z"
    }
   },
   "id": "9fe3ae1fb276a932"
  },
  {
   "cell_type": "markdown",
   "source": [
    "### Tensors & NumPy\n",
    "\n",
    "Tensorflow interacts beautifully with NumPy arrays.\n",
    "Tensorflow tensors can run on a GPU are TPU for faster computation."
   ],
   "metadata": {
    "collapsed": false
   },
   "id": "3932e5ab3c8715cf"
  },
  {
   "cell_type": "code",
   "execution_count": 133,
   "outputs": [
    {
     "data": {
      "text/plain": "<tf.Tensor: shape=(3,), dtype=float64, numpy=array([ 3.,  7., 10.])>"
     },
     "execution_count": 133,
     "metadata": {},
     "output_type": "execute_result"
    }
   ],
   "source": [
    "J = tf.constant(np.array([3., 7., 10.]))\n",
    "J"
   ],
   "metadata": {
    "collapsed": false,
    "ExecuteTime": {
     "end_time": "2023-09-07T04:43:33.271355Z",
     "start_time": "2023-09-07T04:43:33.246440Z"
    }
   },
   "id": "4757be1cf0c85708"
  },
  {
   "cell_type": "code",
   "execution_count": 134,
   "outputs": [
    {
     "data": {
      "text/plain": "(array([ 3.,  7., 10.]), numpy.ndarray)"
     },
     "execution_count": 134,
     "metadata": {},
     "output_type": "execute_result"
    }
   ],
   "source": [
    "J_np = np.array(J)\n",
    "J_np, type(J_np)"
   ],
   "metadata": {
    "collapsed": false,
    "ExecuteTime": {
     "end_time": "2023-09-07T04:43:33.808742Z",
     "start_time": "2023-09-07T04:43:33.784908Z"
    }
   },
   "id": "5bbeb79104acd8f9"
  },
  {
   "cell_type": "code",
   "execution_count": 135,
   "outputs": [
    {
     "data": {
      "text/plain": "(array([ 3.,  7., 10.]), numpy.ndarray)"
     },
     "execution_count": 135,
     "metadata": {},
     "output_type": "execute_result"
    }
   ],
   "source": [
    "J.numpy(), type(J.numpy())"
   ],
   "metadata": {
    "collapsed": false,
    "ExecuteTime": {
     "end_time": "2023-09-07T04:43:34.275118Z",
     "start_time": "2023-09-07T04:43:34.264897Z"
    }
   },
   "id": "65523a8551e22240"
  },
  {
   "cell_type": "code",
   "execution_count": 136,
   "outputs": [
    {
     "data": {
      "text/plain": "(tf.float64, tf.float32)"
     },
     "execution_count": 136,
     "metadata": {},
     "output_type": "execute_result"
    }
   ],
   "source": [
    "# Default types of TF and NP are slightly different\n",
    "# Numpy has higher bit and tensorflow has lower bit\n",
    "numpy_J = tf.constant(np.array([3., 7., 10.]))\n",
    "tensor_J = tf.constant([3., 7., 10.])\n",
    "numpy_J.dtype, tensor_J.dtype"
   ],
   "metadata": {
    "collapsed": false,
    "ExecuteTime": {
     "end_time": "2023-09-07T04:43:34.696741Z",
     "start_time": "2023-09-07T04:43:34.684398Z"
    }
   },
   "id": "ad18e65b5a8963b5"
  },
  {
   "cell_type": "markdown",
   "source": [
    "### Finding access to GPUs"
   ],
   "metadata": {
    "collapsed": false
   },
   "id": "6f99b7c6aec24e5d"
  },
  {
   "cell_type": "code",
   "execution_count": 146,
   "outputs": [
    {
     "data": {
      "text/plain": "[PhysicalDevice(name='/physical_device:GPU:0', device_type='GPU')]"
     },
     "execution_count": 146,
     "metadata": {},
     "output_type": "execute_result"
    }
   ],
   "source": [
    "import tensorflow as tf\n",
    "tf.config.list_physical_devices(\"GPU\")"
   ],
   "metadata": {
    "collapsed": false,
    "ExecuteTime": {
     "end_time": "2023-09-07T04:48:30.712764Z",
     "start_time": "2023-09-07T04:48:30.691796Z"
    }
   },
   "id": "364eca301a6789b9"
  },
  {
   "cell_type": "markdown",
   "source": [
    "***Note:*** If you have access to CUDA-enabled GPU, TensorFlow will automatically use it whenever possible. "
   ],
   "metadata": {
    "collapsed": false
   },
   "id": "8a9a8678cb0e526c"
  }
 ],
 "metadata": {
  "kernelspec": {
   "display_name": "Python 3",
   "language": "python",
   "name": "python3"
  },
  "language_info": {
   "codemirror_mode": {
    "name": "ipython",
    "version": 2
   },
   "file_extension": ".py",
   "mimetype": "text/x-python",
   "name": "python",
   "nbconvert_exporter": "python",
   "pygments_lexer": "ipython2",
   "version": "2.7.6"
  }
 },
 "nbformat": 4,
 "nbformat_minor": 5
}
